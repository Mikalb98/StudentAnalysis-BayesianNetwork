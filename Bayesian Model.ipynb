{
 "cells": [
  {
   "cell_type": "markdown",
   "id": "084cc398",
   "metadata": {},
   "source": [
    "# Analysis of portuguese students' habits that influence education"
   ]
  },
  {
   "cell_type": "markdown",
   "id": "a34e77e1",
   "metadata": {},
   "source": [
    "TITOLO SECONDARIO: ***How much should I study if I want to go to the bar?***\n",
    "ahahaha"
   ]
  },
  {
   "cell_type": "markdown",
   "id": "84902f31",
   "metadata": {},
   "source": [
    "Michael Albarello - michael.albarello@studio.unibo.it - 0001058648\n",
    "\n",
    "Matteo Nestola - matteo.nestola@studio.unibo.it - INSERIRE MATRICOLA MATT"
   ]
  },
  {
   "cell_type": "markdown",
   "id": "73938a44",
   "metadata": {},
   "source": [
    "In the following notebook, we will analize how students' extracurricular habits are capable to influence their school performance. <br>In particular, we selected the [Student Alcohol Consumption Dataset](https://www.kaggle.com/datasets/uciml/student-alcohol-consumption), which includes grade, demographic, social and school related informations that have been collected by using school reports and questionnaires. \n",
    "\n",
    "The dataset includes two subsets regarding the students' performances in two distinct subjects: \n",
    "- Mathematics (mat) \n",
    "- Portuguese Language (por).\n",
    "\n",
    "Here's some explanation for each column, provided by the dataset's creator:\n",
    "\n",
    "\n",
    "|Columns||Description||Type|\n",
    "|:----------||:--------------||:----|\n",
    "|**school**||student's school||binary:<br>'GP' - Gabriel Pereira<br>'MS' - Mousinho da Silveira|\n",
    "|**sex**||student's sex||binary:<br>'F' - female<br>'M' - male|\n",
    "|**age**||student's age||numeric: <br> from 15 to 22|\n",
    "|**address**||student's home address type||binary: <br> 'U' - urban <br> 'R' - rural|\n",
    "|**famsize**||family size||binary: <br> 'LE3' - less or equal to 3 <br> 'GT3' - greater than 3|\n",
    "|**Pstatus**||parent's cohabitation status||binary: <br> 'T' - living together <br> 'A' - apart|\n",
    "|**Medu**||mother's education||numeric: <br> 0 - none <br> 1 - primary education (4th grade) <br> 2 - 5th to 9th grade <br> 3 - secondary education <br> 4 - higher education|\n",
    "|**Fedu**||father's education||numeric: <br> 0 - none <br> 1 - primary education (4th grade) <br> 2 - 5th to 9th grade <br> 3 - secondary education <br> 4 - higher education|\n",
    "|**Mjob**||mother's job||nominal: <br> 'teacher' <br> 'health' care related <br> civil 'services' (e.g. administrative or police) <br> 'at_home' <br> 'other'|\n",
    "|**Fjob**||father's job||nominal: <br> 'teacher' <br> 'health' care related <br> civil 'services' (e.g. administrative or police) <br> 'at_home' <br> 'other'|\n",
    "|**reason**||reason to choose this school||nominal: <br> close to 'home' <br> school 'reputation' <br> 'course' preference <br> 'other'|\n",
    "|**guardian**||student's guardian||nominal: <br> 'mother <br> 'father' <br> 'other'|\n",
    "|**traveltime**||home to school travel time||numeric: <br> 1 - <15 min. <br> 2 - 15 to 30 min. <br> 3 - 30 min. to 1 hour <br> or 4 - >1 hour|\n",
    "|**studytime**||weekly study time||numeric: <br> 1 - <2 hours <br> 2 - 2 to 5 hours <br> 3 - 5 to 10 hours <br> or 4 - >10 hours|\n",
    "|**failures**||number of past class failures||numeric: <br> n if 1<=n<3 <br> else 4|\n",
    "|**schoolsup**||extra educational support||binary: <br> yes <br> no|\n",
    "|**famsup**||family educational support||binary: <br> yes <br> no|\n",
    "|**paid**||extra paid classes within the course subject (Math or Portuguese)||binary:<br> yes <br> no|\n",
    "|**activities**||extra-curricular activities||binary: <br> yes <br> no|\n",
    "|**nursery**||attended nursery school||binary: <br> yes <br> no|\n",
    "|**higher**||wants to take higher education||binary: <br> yes <br> no|\n",
    "|**internet**||Internet access at home||binary: <br> yes <br> no|\n",
    "|**romantic**||with a romantic relationship||binary: <br> yes <br> no)|\n",
    "|**famrel**||quality of family relationships||numeric: from 1 - very bad <br> to 5 - excellent|\n",
    "|**freetime**||free time after school||numeric: <br> from 1 - very low <br> to 5 - very high|\n",
    "|**goout**||going out with friends||numeric: <br> from 1 - very low <br> to 5 - very high|\n",
    "|**Dalc**||workday alcohol consumption||numeric: <br> from 1 - very low <br> to 5 - very high|\n",
    "|**Walc**||weekend alcohol consumption||numeric: <br> from 1 - very low <br> to 5 - very high|\n",
    "|**health**||current health status||numeric: <br> from 1 - very bad <br> to 5 - very good|\n",
    "|**absences**||number of school absences||numeric: <br> from 0 <br> to 93|\n",
    "\n",
    "\n",
    "\n",
    "These grades are related with the course subject, Math or Portuguese:\n",
    "\n",
    "|Grade|Description||Type|\n",
    "|:------|:--------||:--------|\n",
    "|G1|first period grade||numeric: <br>from 0 <br>to 20|\n",
    "|G2 |second period grade||numeric: <br>from 0 <br>to 20|\n",
    "|G3 |final grade (output target)||numeric: <br>from 0 <br>to 20)|\n",
    "\n",
    "\n",
    "The goal of the following analysis is to obtain a better understanding on how do social environments affect the  curricular career of a generic student."
   ]
  },
  {
   "cell_type": "markdown",
   "id": "83e81763",
   "metadata": {},
   "source": [
    "### Imports\n",
    "Let's start by importing the needed libraries:"
   ]
  },
  {
   "cell_type": "code",
   "execution_count": 1,
   "id": "29804e2b",
   "metadata": {},
   "outputs": [],
   "source": [
    "import os\n",
    "\n",
    "#---Data representation---\n",
    "\n",
    "import pandas as pd\n",
    "import numpy as np\n",
    "import seaborn as sns\n",
    "\n",
    "from matplotlib import pyplot\n",
    "%matplotlib inline\n",
    "\n",
    "#---Pgmpy library---\n",
    "\n",
    "from pgmpy.models import BayesianNetwork\n",
    "from pgmpy.factors.discrete import TabularCPD\n",
    "from pgmpy.inference import VariableElimination\n",
    "from pgmpy.estimators import ParameterEstimator\n",
    "from pgmpy.estimators import BayesianEstimator\n",
    "\n",
    "#---Plot Bayesian Networks---\n",
    "\n",
    "import daft\n",
    "from daft import PGM"
   ]
  },
  {
   "cell_type": "code",
   "execution_count": 4,
   "id": "3b2c5b0f",
   "metadata": {
    "scrolled": true
   },
   "outputs": [],
   "source": [
    "#paths to datasets:\n",
    "\n",
    "abs_path = os.getcwd()\n",
    "\n",
    "mat_path= f'{abs_path}/dataset/student_alcohol/student-mat.csv'\n",
    "por_path= f'{abs_path}/dataset/student_alcohol/student-por.csv'\n",
    "\n",
    "#import datasets:\n",
    "df1 = pd.read_csv(mat_path, sep=\",\")\n",
    "df2 = pd.read_csv(por_path, sep=\",\")\n",
    "\n",
    "#concatenate subsets:\n",
    "df = pd.concat([df1, df2])"
   ]
  },
  {
   "cell_type": "code",
   "execution_count": 49,
   "id": "db07a086",
   "metadata": {},
   "outputs": [
    {
     "data": {
      "text/plain": [
       "Index(['school', 'sex', 'age', 'address', 'famsize', 'Pstatus', 'Medu', 'Fedu',\n",
       "       'Mjob', 'Fjob', 'reason', 'guardian', 'traveltime', 'studytime',\n",
       "       'failures', 'schoolsup', 'famsup', 'paid', 'activities', 'nursery',\n",
       "       'higher', 'internet', 'romantic', 'famrel', 'freetime', 'goout', 'Dalc',\n",
       "       'Walc', 'health', 'absences', 'G1', 'G2', 'G3'],\n",
       "      dtype='object')"
      ]
     },
     "execution_count": 49,
     "metadata": {},
     "output_type": "execute_result"
    }
   ],
   "source": [
    "df.columns"
   ]
  },
  {
   "cell_type": "markdown",
   "id": "bdbd1ba5",
   "metadata": {},
   "source": [
    "### Data discretization and denoiseing"
   ]
  },
  {
   "cell_type": "markdown",
   "id": "6b4004b9",
   "metadata": {},
   "source": [
    "Discretization of age:\n",
    "\n",
    "- 15-17\t\n",
    "- 18-19 \n",
    "- 20-22 "
   ]
  },
  {
   "cell_type": "code",
   "execution_count": 15,
   "id": "20a8b8b9",
   "metadata": {},
   "outputs": [
    {
     "ename": "NameError",
     "evalue": "name 'df' is not defined",
     "output_type": "error",
     "traceback": [
      "\u001b[0;31m---------------------------------------------------------------------------\u001b[0m",
      "\u001b[0;31mNameError\u001b[0m                                 Traceback (most recent call last)",
      "Input \u001b[0;32mIn [15]\u001b[0m, in \u001b[0;36m<cell line: 1>\u001b[0;34m()\u001b[0m\n\u001b[0;32m----> 1\u001b[0m \u001b[38;5;28mprint\u001b[39m(\u001b[38;5;124m\"\u001b[39m\u001b[38;5;124mMin age: \u001b[39m\u001b[38;5;124m\"\u001b[39m,np\u001b[38;5;241m.\u001b[39mmin(\u001b[43mdf\u001b[49m[\u001b[38;5;124m'\u001b[39m\u001b[38;5;124mage\u001b[39m\u001b[38;5;124m'\u001b[39m]),\u001b[38;5;124m\"\u001b[39m\u001b[38;5;130;01m\\n\u001b[39;00m\u001b[38;5;124mMax age: \u001b[39m\u001b[38;5;124m\"\u001b[39m ,np\u001b[38;5;241m.\u001b[39mmax(df[\u001b[38;5;124m'\u001b[39m\u001b[38;5;124mage\u001b[39m\u001b[38;5;124m'\u001b[39m]))\n\u001b[1;32m      3\u001b[0m df_new[\u001b[38;5;124m'\u001b[39m\u001b[38;5;124mage\u001b[39m\u001b[38;5;124m'\u001b[39m]\u001b[38;5;241m=\u001b[39mpd\u001b[38;5;241m.\u001b[39mcut(x \u001b[38;5;241m=\u001b[39m df_new[\u001b[38;5;124m'\u001b[39m\u001b[38;5;124mage\u001b[39m\u001b[38;5;124m'\u001b[39m], \n\u001b[1;32m      4\u001b[0m                      bins\u001b[38;5;241m=\u001b[39m[np\u001b[38;5;241m.\u001b[39mmin(df_new[\u001b[38;5;124m'\u001b[39m\u001b[38;5;124mage\u001b[39m\u001b[38;5;124m'\u001b[39m]), \u001b[38;5;241m17\u001b[39m, \u001b[38;5;241m19\u001b[39m, np\u001b[38;5;241m.\u001b[39mmax(df_new[\u001b[38;5;124m'\u001b[39m\u001b[38;5;124mage\u001b[39m\u001b[38;5;124m'\u001b[39m])],   \u001b[38;5;66;03m#definisco i bin (intervalli)\u001b[39;00m\n\u001b[1;32m      5\u001b[0m                      labels\u001b[38;5;241m=\u001b[39m[\u001b[38;5;124m\"\u001b[39m\u001b[38;5;124m15-17\u001b[39m\u001b[38;5;124m\"\u001b[39m,\u001b[38;5;124m\"\u001b[39m\u001b[38;5;124m18-19\u001b[39m\u001b[38;5;124m\"\u001b[39m, \u001b[38;5;124m\"\u001b[39m\u001b[38;5;124m20-22 \u001b[39m\u001b[38;5;124m\"\u001b[39m] ,include_lowest\u001b[38;5;241m=\u001b[39m\u001b[38;5;28;01mTrue\u001b[39;00m)\n",
      "\u001b[0;31mNameError\u001b[0m: name 'df' is not defined"
     ]
    }
   ],
   "source": [
    "print(\"Min age: \",np.min(df['age']),\"\\nMax age: \" ,np.max(df['age']))\n",
    "\n",
    "df_new['age']=pd.cut(x = df_new['age'], \n",
    "                     bins=[np.min(df_new['age']), 17, 19, np.max(df_new['age'])],   #definisco i bin (intervalli)\n",
    "                     labels=[\"15-17\",\"18-19\", \"20-22 \"] ,include_lowest=True)   #include lowest, include gli estremi"
   ]
  },
  {
   "cell_type": "code",
   "execution_count": 6,
   "id": "afca06bb",
   "metadata": {},
   "outputs": [
    {
     "data": {
      "text/html": [
       "<div>\n",
       "<style scoped>\n",
       "    .dataframe tbody tr th:only-of-type {\n",
       "        vertical-align: middle;\n",
       "    }\n",
       "\n",
       "    .dataframe tbody tr th {\n",
       "        vertical-align: top;\n",
       "    }\n",
       "\n",
       "    .dataframe thead th {\n",
       "        text-align: right;\n",
       "    }\n",
       "</style>\n",
       "<table border=\"1\" class=\"dataframe\">\n",
       "  <thead>\n",
       "    <tr style=\"text-align: right;\">\n",
       "      <th></th>\n",
       "      <th>school</th>\n",
       "      <th>sex</th>\n",
       "      <th>age</th>\n",
       "      <th>address</th>\n",
       "      <th>famsize</th>\n",
       "      <th>Pstatus</th>\n",
       "      <th>Medu</th>\n",
       "      <th>Fedu</th>\n",
       "      <th>Mjob</th>\n",
       "      <th>Fjob</th>\n",
       "      <th>reason</th>\n",
       "      <th>guardian</th>\n",
       "      <th>traveltime</th>\n",
       "      <th>studytime</th>\n",
       "      <th>failures</th>\n",
       "      <th>schoolsup</th>\n",
       "      <th>famsup</th>\n",
       "      <th>paid</th>\n",
       "      <th>activities</th>\n",
       "      <th>nursery</th>\n",
       "      <th>higher</th>\n",
       "      <th>internet</th>\n",
       "      <th>romantic</th>\n",
       "      <th>famrel</th>\n",
       "      <th>freetime</th>\n",
       "      <th>goout</th>\n",
       "      <th>Dalc</th>\n",
       "      <th>Walc</th>\n",
       "      <th>health</th>\n",
       "      <th>absences</th>\n",
       "      <th>G1</th>\n",
       "      <th>G2</th>\n",
       "      <th>G3</th>\n",
       "    </tr>\n",
       "  </thead>\n",
       "  <tbody>\n",
       "    <tr>\n",
       "      <th>0</th>\n",
       "      <td>GP</td>\n",
       "      <td>F</td>\n",
       "      <td>18-19</td>\n",
       "      <td>U</td>\n",
       "      <td>GT3</td>\n",
       "      <td>A</td>\n",
       "      <td>4</td>\n",
       "      <td>4</td>\n",
       "      <td>at_home</td>\n",
       "      <td>teacher</td>\n",
       "      <td>course</td>\n",
       "      <td>mother</td>\n",
       "      <td>2</td>\n",
       "      <td>2</td>\n",
       "      <td>0</td>\n",
       "      <td>yes</td>\n",
       "      <td>no</td>\n",
       "      <td>no</td>\n",
       "      <td>no</td>\n",
       "      <td>yes</td>\n",
       "      <td>yes</td>\n",
       "      <td>no</td>\n",
       "      <td>no</td>\n",
       "      <td>4</td>\n",
       "      <td>3</td>\n",
       "      <td>4</td>\n",
       "      <td>1</td>\n",
       "      <td>1</td>\n",
       "      <td>3</td>\n",
       "      <td>6</td>\n",
       "      <td>5</td>\n",
       "      <td>6</td>\n",
       "      <td>6</td>\n",
       "    </tr>\n",
       "    <tr>\n",
       "      <th>1</th>\n",
       "      <td>GP</td>\n",
       "      <td>F</td>\n",
       "      <td>15-17</td>\n",
       "      <td>U</td>\n",
       "      <td>GT3</td>\n",
       "      <td>T</td>\n",
       "      <td>1</td>\n",
       "      <td>1</td>\n",
       "      <td>at_home</td>\n",
       "      <td>other</td>\n",
       "      <td>course</td>\n",
       "      <td>father</td>\n",
       "      <td>1</td>\n",
       "      <td>2</td>\n",
       "      <td>0</td>\n",
       "      <td>no</td>\n",
       "      <td>yes</td>\n",
       "      <td>no</td>\n",
       "      <td>no</td>\n",
       "      <td>no</td>\n",
       "      <td>yes</td>\n",
       "      <td>yes</td>\n",
       "      <td>no</td>\n",
       "      <td>5</td>\n",
       "      <td>3</td>\n",
       "      <td>3</td>\n",
       "      <td>1</td>\n",
       "      <td>1</td>\n",
       "      <td>3</td>\n",
       "      <td>4</td>\n",
       "      <td>5</td>\n",
       "      <td>5</td>\n",
       "      <td>6</td>\n",
       "    </tr>\n",
       "    <tr>\n",
       "      <th>2</th>\n",
       "      <td>GP</td>\n",
       "      <td>F</td>\n",
       "      <td>15-17</td>\n",
       "      <td>U</td>\n",
       "      <td>LE3</td>\n",
       "      <td>T</td>\n",
       "      <td>1</td>\n",
       "      <td>1</td>\n",
       "      <td>at_home</td>\n",
       "      <td>other</td>\n",
       "      <td>other</td>\n",
       "      <td>mother</td>\n",
       "      <td>1</td>\n",
       "      <td>2</td>\n",
       "      <td>3</td>\n",
       "      <td>yes</td>\n",
       "      <td>no</td>\n",
       "      <td>yes</td>\n",
       "      <td>no</td>\n",
       "      <td>yes</td>\n",
       "      <td>yes</td>\n",
       "      <td>yes</td>\n",
       "      <td>no</td>\n",
       "      <td>4</td>\n",
       "      <td>3</td>\n",
       "      <td>2</td>\n",
       "      <td>2</td>\n",
       "      <td>3</td>\n",
       "      <td>3</td>\n",
       "      <td>10</td>\n",
       "      <td>7</td>\n",
       "      <td>8</td>\n",
       "      <td>10</td>\n",
       "    </tr>\n",
       "    <tr>\n",
       "      <th>3</th>\n",
       "      <td>GP</td>\n",
       "      <td>F</td>\n",
       "      <td>15-17</td>\n",
       "      <td>U</td>\n",
       "      <td>GT3</td>\n",
       "      <td>T</td>\n",
       "      <td>4</td>\n",
       "      <td>2</td>\n",
       "      <td>health</td>\n",
       "      <td>services</td>\n",
       "      <td>home</td>\n",
       "      <td>mother</td>\n",
       "      <td>1</td>\n",
       "      <td>3</td>\n",
       "      <td>0</td>\n",
       "      <td>no</td>\n",
       "      <td>yes</td>\n",
       "      <td>yes</td>\n",
       "      <td>yes</td>\n",
       "      <td>yes</td>\n",
       "      <td>yes</td>\n",
       "      <td>yes</td>\n",
       "      <td>yes</td>\n",
       "      <td>3</td>\n",
       "      <td>2</td>\n",
       "      <td>2</td>\n",
       "      <td>1</td>\n",
       "      <td>1</td>\n",
       "      <td>5</td>\n",
       "      <td>2</td>\n",
       "      <td>15</td>\n",
       "      <td>14</td>\n",
       "      <td>15</td>\n",
       "    </tr>\n",
       "    <tr>\n",
       "      <th>4</th>\n",
       "      <td>GP</td>\n",
       "      <td>F</td>\n",
       "      <td>15-17</td>\n",
       "      <td>U</td>\n",
       "      <td>GT3</td>\n",
       "      <td>T</td>\n",
       "      <td>3</td>\n",
       "      <td>3</td>\n",
       "      <td>other</td>\n",
       "      <td>other</td>\n",
       "      <td>home</td>\n",
       "      <td>father</td>\n",
       "      <td>1</td>\n",
       "      <td>2</td>\n",
       "      <td>0</td>\n",
       "      <td>no</td>\n",
       "      <td>yes</td>\n",
       "      <td>yes</td>\n",
       "      <td>no</td>\n",
       "      <td>yes</td>\n",
       "      <td>yes</td>\n",
       "      <td>no</td>\n",
       "      <td>no</td>\n",
       "      <td>4</td>\n",
       "      <td>3</td>\n",
       "      <td>2</td>\n",
       "      <td>1</td>\n",
       "      <td>2</td>\n",
       "      <td>5</td>\n",
       "      <td>4</td>\n",
       "      <td>6</td>\n",
       "      <td>10</td>\n",
       "      <td>10</td>\n",
       "    </tr>\n",
       "  </tbody>\n",
       "</table>\n",
       "</div>"
      ],
      "text/plain": [
       "  school sex    age address famsize Pstatus  Medu  Fedu     Mjob      Fjob  \\\n",
       "0     GP   F  18-19       U     GT3       A     4     4  at_home   teacher   \n",
       "1     GP   F  15-17       U     GT3       T     1     1  at_home     other   \n",
       "2     GP   F  15-17       U     LE3       T     1     1  at_home     other   \n",
       "3     GP   F  15-17       U     GT3       T     4     2   health  services   \n",
       "4     GP   F  15-17       U     GT3       T     3     3    other     other   \n",
       "\n",
       "   reason guardian  traveltime  studytime  failures schoolsup famsup paid  \\\n",
       "0  course   mother           2          2         0       yes     no   no   \n",
       "1  course   father           1          2         0        no    yes   no   \n",
       "2   other   mother           1          2         3       yes     no  yes   \n",
       "3    home   mother           1          3         0        no    yes  yes   \n",
       "4    home   father           1          2         0        no    yes  yes   \n",
       "\n",
       "  activities nursery higher internet romantic  famrel  freetime  goout  Dalc  \\\n",
       "0         no     yes    yes       no       no       4         3      4     1   \n",
       "1         no      no    yes      yes       no       5         3      3     1   \n",
       "2         no     yes    yes      yes       no       4         3      2     2   \n",
       "3        yes     yes    yes      yes      yes       3         2      2     1   \n",
       "4         no     yes    yes       no       no       4         3      2     1   \n",
       "\n",
       "   Walc  health  absences  G1  G2  G3  \n",
       "0     1       3         6   5   6   6  \n",
       "1     1       3         4   5   5   6  \n",
       "2     3       3        10   7   8  10  \n",
       "3     1       5         2  15  14  15  \n",
       "4     2       5         4   6  10  10  "
      ]
     },
     "execution_count": 6,
     "metadata": {},
     "output_type": "execute_result"
    }
   ],
   "source": [
    "df_new.head()"
   ]
  },
  {
   "cell_type": "code",
   "execution_count": 5,
   "id": "92461daa",
   "metadata": {},
   "outputs": [
    {
     "ename": "NameError",
     "evalue": "name 'df_new' is not defined",
     "output_type": "error",
     "traceback": [
      "\u001b[0;31m---------------------------------------------------------------------------\u001b[0m",
      "\u001b[0;31mNameError\u001b[0m                                 Traceback (most recent call last)",
      "Input \u001b[0;32mIn [5]\u001b[0m, in \u001b[0;36m<cell line: 1>\u001b[0;34m()\u001b[0m\n\u001b[0;32m----> 1\u001b[0m \u001b[43mdf_new\u001b[49m[df_new[\u001b[38;5;124m\"\u001b[39m\u001b[38;5;124mage\u001b[39m\u001b[38;5;124m\"\u001b[39m] \u001b[38;5;241m==\u001b[39m \u001b[38;5;124m\"\u001b[39m\u001b[38;5;124m20-22\u001b[39m\u001b[38;5;124m\"\u001b[39m]\n",
      "\u001b[0;31mNameError\u001b[0m: name 'df_new' is not defined"
     ]
    }
   ],
   "source": [
    "df_new[df_new[\"age\"] == \"20-22\"]"
   ]
  },
  {
   "cell_type": "markdown",
   "id": "a525bc30",
   "metadata": {},
   "source": [
    "We can consider only G3 as output beacause G1 and G2 are intermediate evaluations\n",
    "Removing intermediate evaluation G1 and G2"
   ]
  },
  {
   "cell_type": "code",
   "execution_count": 7,
   "id": "3b66f476",
   "metadata": {},
   "outputs": [],
   "source": [
    "df_new = df_new.drop(['G1','G2',], axis=1)"
   ]
  },
  {
   "cell_type": "markdown",
   "id": "12ff5a7d",
   "metadata": {},
   "source": [
    "Removing some redundant features"
   ]
  },
  {
   "cell_type": "code",
   "execution_count": 8,
   "id": "1025883c",
   "metadata": {},
   "outputs": [],
   "source": [
    "df_new = df_new.drop(['school','romantic','famsize','guardian','nursery','goout','Walc','reason','Mjob','Fjob','address','higher','activities','internet'], axis=1)"
   ]
  },
  {
   "cell_type": "code",
   "execution_count": 7,
   "id": "9428e276",
   "metadata": {},
   "outputs": [
    {
     "ename": "NameError",
     "evalue": "name 'df_new' is not defined",
     "output_type": "error",
     "traceback": [
      "\u001b[0;31m---------------------------------------------------------------------------\u001b[0m",
      "\u001b[0;31mNameError\u001b[0m                                 Traceback (most recent call last)",
      "Input \u001b[0;32mIn [7]\u001b[0m, in \u001b[0;36m<cell line: 1>\u001b[0;34m()\u001b[0m\n\u001b[0;32m----> 1\u001b[0m \u001b[43mdf_new\u001b[49m\u001b[38;5;241m.\u001b[39msize()\n",
      "\u001b[0;31mNameError\u001b[0m: name 'df_new' is not defined"
     ]
    }
   ],
   "source": [
    "df_new.head()"
   ]
  },
  {
   "cell_type": "markdown",
   "id": "e14c2ea9",
   "metadata": {},
   "source": [
    "Discretization of grade:\n",
    "\n",
    "- 20.00\tMuito bom con distincao e louvor (Very good with distinction and honors)\n",
    "- 18.00 - 19.99\tExcelente (Excellent)\n",
    "- 16.00 - 17.99\tMuito Bom (Very Good)\n",
    "- 14.00 - 15.99\tBom (Good)\n",
    "- 10.00 - 13.99\tSuficiente (Sufficient)\n",
    "- 7.00 - 9.99\tMediocre (Poor )\n",
    "- 1.00 - 6.99\tMau (Poor)"
   ]
  },
  {
   "cell_type": "code",
   "execution_count": 10,
   "id": "f2ca4394",
   "metadata": {
    "scrolled": true
   },
   "outputs": [
    {
     "name": "stdout",
     "output_type": "stream",
     "text": [
      "Min G3:  0 \n",
      "Max G3:  20\n"
     ]
    }
   ],
   "source": [
    "print(\"Min G3: \",np.min(df['G3']),\"\\nMax G3: \" ,np.max(df['G3']))\n",
    "\n",
    "lab = [\"Mau (Poor)\",\n",
    "       \"Mediocre (Poor )\", \n",
    "       \"Suficiente (Sufficient)\",\n",
    "       \"Bom (Good)\",\n",
    "       \"Muito Bom (Very Good)\",\n",
    "       \"Excelente (Excellent)\",\n",
    "       \"Muito bom con distincao e louvor (Very good with distinction and honors)\"\n",
    "      ]\n",
    "\n",
    "df_new['G3']=pd.cut(x=df_new['G3'], \n",
    "                    bins=[np.min(df_new['G3']),6.99,9.99,13.99,15.99,17.99,19.99,np.max(df_new['G3'])], \n",
    "                    labels=lab,\n",
    "                    include_lowest=True)"
   ]
  },
  {
   "cell_type": "code",
   "execution_count": 11,
   "id": "390fa9c6",
   "metadata": {},
   "outputs": [
    {
     "data": {
      "text/plain": [
       "Index(['sex', 'age', 'Pstatus', 'Medu', 'Fedu', 'traveltime', 'studytime',\n",
       "       'failures', 'schoolsup', 'famsup', 'paid', 'famrel', 'freetime', 'Dalc',\n",
       "       'health', 'absences', 'G3'],\n",
       "      dtype='object')"
      ]
     },
     "execution_count": 11,
     "metadata": {},
     "output_type": "execute_result"
    }
   ],
   "source": [
    "df_new.columns"
   ]
  },
  {
   "cell_type": "code",
   "execution_count": 12,
   "id": "d8901074",
   "metadata": {},
   "outputs": [
    {
     "data": {
      "text/html": [
       "<div>\n",
       "<style scoped>\n",
       "    .dataframe tbody tr th:only-of-type {\n",
       "        vertical-align: middle;\n",
       "    }\n",
       "\n",
       "    .dataframe tbody tr th {\n",
       "        vertical-align: top;\n",
       "    }\n",
       "\n",
       "    .dataframe thead th {\n",
       "        text-align: right;\n",
       "    }\n",
       "</style>\n",
       "<table border=\"1\" class=\"dataframe\">\n",
       "  <thead>\n",
       "    <tr style=\"text-align: right;\">\n",
       "      <th></th>\n",
       "      <th>sex</th>\n",
       "      <th>age</th>\n",
       "      <th>Pstatus</th>\n",
       "      <th>Medu</th>\n",
       "      <th>Fedu</th>\n",
       "      <th>traveltime</th>\n",
       "      <th>studytime</th>\n",
       "      <th>failures</th>\n",
       "      <th>schoolsup</th>\n",
       "      <th>famsup</th>\n",
       "      <th>paid</th>\n",
       "      <th>famrel</th>\n",
       "      <th>freetime</th>\n",
       "      <th>Dalc</th>\n",
       "      <th>health</th>\n",
       "      <th>absences</th>\n",
       "      <th>G3</th>\n",
       "    </tr>\n",
       "  </thead>\n",
       "  <tbody>\n",
       "    <tr>\n",
       "      <th>0</th>\n",
       "      <td>F</td>\n",
       "      <td>18-19</td>\n",
       "      <td>A</td>\n",
       "      <td>4</td>\n",
       "      <td>4</td>\n",
       "      <td>2</td>\n",
       "      <td>2</td>\n",
       "      <td>0</td>\n",
       "      <td>yes</td>\n",
       "      <td>no</td>\n",
       "      <td>no</td>\n",
       "      <td>4</td>\n",
       "      <td>3</td>\n",
       "      <td>1</td>\n",
       "      <td>3</td>\n",
       "      <td>6</td>\n",
       "      <td>Mau (Poor)</td>\n",
       "    </tr>\n",
       "    <tr>\n",
       "      <th>1</th>\n",
       "      <td>F</td>\n",
       "      <td>15-17</td>\n",
       "      <td>T</td>\n",
       "      <td>1</td>\n",
       "      <td>1</td>\n",
       "      <td>1</td>\n",
       "      <td>2</td>\n",
       "      <td>0</td>\n",
       "      <td>no</td>\n",
       "      <td>yes</td>\n",
       "      <td>no</td>\n",
       "      <td>5</td>\n",
       "      <td>3</td>\n",
       "      <td>1</td>\n",
       "      <td>3</td>\n",
       "      <td>4</td>\n",
       "      <td>Mau (Poor)</td>\n",
       "    </tr>\n",
       "    <tr>\n",
       "      <th>2</th>\n",
       "      <td>F</td>\n",
       "      <td>15-17</td>\n",
       "      <td>T</td>\n",
       "      <td>1</td>\n",
       "      <td>1</td>\n",
       "      <td>1</td>\n",
       "      <td>2</td>\n",
       "      <td>3</td>\n",
       "      <td>yes</td>\n",
       "      <td>no</td>\n",
       "      <td>yes</td>\n",
       "      <td>4</td>\n",
       "      <td>3</td>\n",
       "      <td>2</td>\n",
       "      <td>3</td>\n",
       "      <td>10</td>\n",
       "      <td>Suficiente (Sufficient)</td>\n",
       "    </tr>\n",
       "    <tr>\n",
       "      <th>3</th>\n",
       "      <td>F</td>\n",
       "      <td>15-17</td>\n",
       "      <td>T</td>\n",
       "      <td>4</td>\n",
       "      <td>2</td>\n",
       "      <td>1</td>\n",
       "      <td>3</td>\n",
       "      <td>0</td>\n",
       "      <td>no</td>\n",
       "      <td>yes</td>\n",
       "      <td>yes</td>\n",
       "      <td>3</td>\n",
       "      <td>2</td>\n",
       "      <td>1</td>\n",
       "      <td>5</td>\n",
       "      <td>2</td>\n",
       "      <td>Bom (Good)</td>\n",
       "    </tr>\n",
       "    <tr>\n",
       "      <th>4</th>\n",
       "      <td>F</td>\n",
       "      <td>15-17</td>\n",
       "      <td>T</td>\n",
       "      <td>3</td>\n",
       "      <td>3</td>\n",
       "      <td>1</td>\n",
       "      <td>2</td>\n",
       "      <td>0</td>\n",
       "      <td>no</td>\n",
       "      <td>yes</td>\n",
       "      <td>yes</td>\n",
       "      <td>4</td>\n",
       "      <td>3</td>\n",
       "      <td>1</td>\n",
       "      <td>5</td>\n",
       "      <td>4</td>\n",
       "      <td>Suficiente (Sufficient)</td>\n",
       "    </tr>\n",
       "  </tbody>\n",
       "</table>\n",
       "</div>"
      ],
      "text/plain": [
       "  sex    age Pstatus  Medu  Fedu  traveltime  studytime  failures schoolsup  \\\n",
       "0   F  18-19       A     4     4           2          2         0       yes   \n",
       "1   F  15-17       T     1     1           1          2         0        no   \n",
       "2   F  15-17       T     1     1           1          2         3       yes   \n",
       "3   F  15-17       T     4     2           1          3         0        no   \n",
       "4   F  15-17       T     3     3           1          2         0        no   \n",
       "\n",
       "  famsup paid  famrel  freetime  Dalc  health  absences  \\\n",
       "0     no   no       4         3     1       3         6   \n",
       "1    yes   no       5         3     1       3         4   \n",
       "2     no  yes       4         3     2       3        10   \n",
       "3    yes  yes       3         2     1       5         2   \n",
       "4    yes  yes       4         3     1       5         4   \n",
       "\n",
       "                        G3  \n",
       "0               Mau (Poor)  \n",
       "1               Mau (Poor)  \n",
       "2  Suficiente (Sufficient)  \n",
       "3               Bom (Good)  \n",
       "4  Suficiente (Sufficient)  "
      ]
     },
     "execution_count": 12,
     "metadata": {},
     "output_type": "execute_result"
    }
   ],
   "source": [
    "df_new.head()"
   ]
  },
  {
   "cell_type": "code",
   "execution_count": 13,
   "id": "8af03638",
   "metadata": {},
   "outputs": [
    {
     "data": {
      "text/plain": [
       "<AxesSubplot:>"
      ]
     },
     "execution_count": 13,
     "metadata": {},
     "output_type": "execute_result"
    },
    {
     "data": {
      "image/png": "[encoded data removed]",
      "text/plain": [
       "<Figure size 432x288 with 1 Axes>"
      ]
     },
     "metadata": {
      "needs_background": "light"
     },
     "output_type": "display_data"
    }
   ],
   "source": [
    "df_new['absences'].hist()"
   ]
  },
  {
   "cell_type": "code",
   "execution_count": 14,
   "id": "bfc0a272",
   "metadata": {},
   "outputs": [
    {
     "name": "stdout",
     "output_type": "stream",
     "text": [
      "Min absences:  0 \n",
      "Max absences:  75\n"
     ]
    }
   ],
   "source": [
    "print(\"Min absences: \",np.min(df['absences']),\"\\nMax absences: \" ,np.max(df['absences']))\n",
    "\n",
    "lab= [\"0-10\",\"11-20\", \"21-30\", \"31-40\", \"+40\"]\n",
    "\n",
    "df_new['absences'] = pd.cut(x=df_new['absences'], \n",
    "                            bins=[np.min(df_new['absences']),10,20,30,40,np.max(df_new['absences'])], \n",
    "                            labels=lab,\n",
    "                            include_lowest=True)"
   ]
  },
  {
   "cell_type": "code",
   "execution_count": null,
   "id": "2d89dd8c",
   "metadata": {},
   "outputs": [],
   "source": [
    "print(\"Min failures: \",np.min(df['failures']),\"\\nMax failures: \" ,np.max(df['failures']))\n"
   ]
  },
  {
   "cell_type": "markdown",
   "id": "39808710",
   "metadata": {},
   "source": [
    "## DATASET after preprocessing"
   ]
  },
  {
   "cell_type": "code",
   "execution_count": 30,
   "id": "1c6d01cf",
   "metadata": {},
   "outputs": [
    {
     "data": {
      "text/html": [
       "<div>\n",
       "<style scoped>\n",
       "    .dataframe tbody tr th:only-of-type {\n",
       "        vertical-align: middle;\n",
       "    }\n",
       "\n",
       "    .dataframe tbody tr th {\n",
       "        vertical-align: top;\n",
       "    }\n",
       "\n",
       "    .dataframe thead th {\n",
       "        text-align: right;\n",
       "    }\n",
       "</style>\n",
       "<table border=\"1\" class=\"dataframe\">\n",
       "  <thead>\n",
       "    <tr style=\"text-align: right;\">\n",
       "      <th></th>\n",
       "      <th>sex</th>\n",
       "      <th>age</th>\n",
       "      <th>Pstatus</th>\n",
       "      <th>Medu</th>\n",
       "      <th>Fedu</th>\n",
       "      <th>traveltime</th>\n",
       "      <th>studytime</th>\n",
       "      <th>failures</th>\n",
       "      <th>schoolsup</th>\n",
       "      <th>famsup</th>\n",
       "      <th>paid</th>\n",
       "      <th>famrel</th>\n",
       "      <th>freetime</th>\n",
       "      <th>Dalc</th>\n",
       "      <th>health</th>\n",
       "      <th>absences</th>\n",
       "      <th>G3</th>\n",
       "    </tr>\n",
       "  </thead>\n",
       "  <tbody>\n",
       "    <tr>\n",
       "      <th>0</th>\n",
       "      <td>F</td>\n",
       "      <td>18-19</td>\n",
       "      <td>A</td>\n",
       "      <td>4</td>\n",
       "      <td>4</td>\n",
       "      <td>2</td>\n",
       "      <td>2</td>\n",
       "      <td>0</td>\n",
       "      <td>yes</td>\n",
       "      <td>no</td>\n",
       "      <td>no</td>\n",
       "      <td>4</td>\n",
       "      <td>3</td>\n",
       "      <td>1</td>\n",
       "      <td>3</td>\n",
       "      <td>0-10</td>\n",
       "      <td>Mau (Poor)</td>\n",
       "    </tr>\n",
       "    <tr>\n",
       "      <th>1</th>\n",
       "      <td>F</td>\n",
       "      <td>15-17</td>\n",
       "      <td>T</td>\n",
       "      <td>1</td>\n",
       "      <td>1</td>\n",
       "      <td>1</td>\n",
       "      <td>2</td>\n",
       "      <td>0</td>\n",
       "      <td>no</td>\n",
       "      <td>yes</td>\n",
       "      <td>no</td>\n",
       "      <td>5</td>\n",
       "      <td>3</td>\n",
       "      <td>1</td>\n",
       "      <td>3</td>\n",
       "      <td>0-10</td>\n",
       "      <td>Mau (Poor)</td>\n",
       "    </tr>\n",
       "    <tr>\n",
       "      <th>2</th>\n",
       "      <td>F</td>\n",
       "      <td>15-17</td>\n",
       "      <td>T</td>\n",
       "      <td>1</td>\n",
       "      <td>1</td>\n",
       "      <td>1</td>\n",
       "      <td>2</td>\n",
       "      <td>3</td>\n",
       "      <td>yes</td>\n",
       "      <td>no</td>\n",
       "      <td>yes</td>\n",
       "      <td>4</td>\n",
       "      <td>3</td>\n",
       "      <td>2</td>\n",
       "      <td>3</td>\n",
       "      <td>0-10</td>\n",
       "      <td>Suficiente (Sufficient)</td>\n",
       "    </tr>\n",
       "    <tr>\n",
       "      <th>3</th>\n",
       "      <td>F</td>\n",
       "      <td>15-17</td>\n",
       "      <td>T</td>\n",
       "      <td>4</td>\n",
       "      <td>2</td>\n",
       "      <td>1</td>\n",
       "      <td>3</td>\n",
       "      <td>0</td>\n",
       "      <td>no</td>\n",
       "      <td>yes</td>\n",
       "      <td>yes</td>\n",
       "      <td>3</td>\n",
       "      <td>2</td>\n",
       "      <td>1</td>\n",
       "      <td>5</td>\n",
       "      <td>0-10</td>\n",
       "      <td>Bom (Good)</td>\n",
       "    </tr>\n",
       "    <tr>\n",
       "      <th>4</th>\n",
       "      <td>F</td>\n",
       "      <td>15-17</td>\n",
       "      <td>T</td>\n",
       "      <td>3</td>\n",
       "      <td>3</td>\n",
       "      <td>1</td>\n",
       "      <td>2</td>\n",
       "      <td>0</td>\n",
       "      <td>no</td>\n",
       "      <td>yes</td>\n",
       "      <td>yes</td>\n",
       "      <td>4</td>\n",
       "      <td>3</td>\n",
       "      <td>1</td>\n",
       "      <td>5</td>\n",
       "      <td>0-10</td>\n",
       "      <td>Suficiente (Sufficient)</td>\n",
       "    </tr>\n",
       "    <tr>\n",
       "      <th>...</th>\n",
       "      <td>...</td>\n",
       "      <td>...</td>\n",
       "      <td>...</td>\n",
       "      <td>...</td>\n",
       "      <td>...</td>\n",
       "      <td>...</td>\n",
       "      <td>...</td>\n",
       "      <td>...</td>\n",
       "      <td>...</td>\n",
       "      <td>...</td>\n",
       "      <td>...</td>\n",
       "      <td>...</td>\n",
       "      <td>...</td>\n",
       "      <td>...</td>\n",
       "      <td>...</td>\n",
       "      <td>...</td>\n",
       "      <td>...</td>\n",
       "    </tr>\n",
       "    <tr>\n",
       "      <th>380</th>\n",
       "      <td>M</td>\n",
       "      <td>18-19</td>\n",
       "      <td>T</td>\n",
       "      <td>4</td>\n",
       "      <td>4</td>\n",
       "      <td>1</td>\n",
       "      <td>2</td>\n",
       "      <td>0</td>\n",
       "      <td>no</td>\n",
       "      <td>no</td>\n",
       "      <td>yes</td>\n",
       "      <td>3</td>\n",
       "      <td>2</td>\n",
       "      <td>1</td>\n",
       "      <td>2</td>\n",
       "      <td>0-10</td>\n",
       "      <td>Bom (Good)</td>\n",
       "    </tr>\n",
       "    <tr>\n",
       "      <th>381</th>\n",
       "      <td>M</td>\n",
       "      <td>18-19</td>\n",
       "      <td>T</td>\n",
       "      <td>2</td>\n",
       "      <td>1</td>\n",
       "      <td>2</td>\n",
       "      <td>1</td>\n",
       "      <td>0</td>\n",
       "      <td>no</td>\n",
       "      <td>no</td>\n",
       "      <td>no</td>\n",
       "      <td>4</td>\n",
       "      <td>4</td>\n",
       "      <td>1</td>\n",
       "      <td>5</td>\n",
       "      <td>0-10</td>\n",
       "      <td>Mediocre (Poor )</td>\n",
       "    </tr>\n",
       "    <tr>\n",
       "      <th>382</th>\n",
       "      <td>M</td>\n",
       "      <td>15-17</td>\n",
       "      <td>T</td>\n",
       "      <td>2</td>\n",
       "      <td>3</td>\n",
       "      <td>2</td>\n",
       "      <td>2</td>\n",
       "      <td>0</td>\n",
       "      <td>no</td>\n",
       "      <td>no</td>\n",
       "      <td>no</td>\n",
       "      <td>4</td>\n",
       "      <td>4</td>\n",
       "      <td>1</td>\n",
       "      <td>3</td>\n",
       "      <td>0-10</td>\n",
       "      <td>Suficiente (Sufficient)</td>\n",
       "    </tr>\n",
       "    <tr>\n",
       "      <th>383</th>\n",
       "      <td>M</td>\n",
       "      <td>18-19</td>\n",
       "      <td>T</td>\n",
       "      <td>1</td>\n",
       "      <td>1</td>\n",
       "      <td>2</td>\n",
       "      <td>1</td>\n",
       "      <td>1</td>\n",
       "      <td>no</td>\n",
       "      <td>no</td>\n",
       "      <td>no</td>\n",
       "      <td>4</td>\n",
       "      <td>3</td>\n",
       "      <td>1</td>\n",
       "      <td>5</td>\n",
       "      <td>0-10</td>\n",
       "      <td>Mau (Poor)</td>\n",
       "    </tr>\n",
       "    <tr>\n",
       "      <th>384</th>\n",
       "      <td>M</td>\n",
       "      <td>18-19</td>\n",
       "      <td>T</td>\n",
       "      <td>4</td>\n",
       "      <td>2</td>\n",
       "      <td>2</td>\n",
       "      <td>1</td>\n",
       "      <td>1</td>\n",
       "      <td>no</td>\n",
       "      <td>no</td>\n",
       "      <td>yes</td>\n",
       "      <td>5</td>\n",
       "      <td>4</td>\n",
       "      <td>4</td>\n",
       "      <td>3</td>\n",
       "      <td>11-20</td>\n",
       "      <td>Mau (Poor)</td>\n",
       "    </tr>\n",
       "  </tbody>\n",
       "</table>\n",
       "<p>385 rows × 17 columns</p>\n",
       "</div>"
      ],
      "text/plain": [
       "    sex    age Pstatus  Medu  Fedu  traveltime  studytime  failures schoolsup  \\\n",
       "0     F  18-19       A     4     4           2          2         0       yes   \n",
       "1     F  15-17       T     1     1           1          2         0        no   \n",
       "2     F  15-17       T     1     1           1          2         3       yes   \n",
       "3     F  15-17       T     4     2           1          3         0        no   \n",
       "4     F  15-17       T     3     3           1          2         0        no   \n",
       "..   ..    ...     ...   ...   ...         ...        ...       ...       ...   \n",
       "380   M  18-19       T     4     4           1          2         0        no   \n",
       "381   M  18-19       T     2     1           2          1         0        no   \n",
       "382   M  15-17       T     2     3           2          2         0        no   \n",
       "383   M  18-19       T     1     1           2          1         1        no   \n",
       "384   M  18-19       T     4     2           2          1         1        no   \n",
       "\n",
       "    famsup paid  famrel  freetime  Dalc  health absences  \\\n",
       "0       no   no       4         3     1       3     0-10   \n",
       "1      yes   no       5         3     1       3     0-10   \n",
       "2       no  yes       4         3     2       3     0-10   \n",
       "3      yes  yes       3         2     1       5     0-10   \n",
       "4      yes  yes       4         3     1       5     0-10   \n",
       "..     ...  ...     ...       ...   ...     ...      ...   \n",
       "380     no  yes       3         2     1       2     0-10   \n",
       "381     no   no       4         4     1       5     0-10   \n",
       "382     no   no       4         4     1       3     0-10   \n",
       "383     no   no       4         3     1       5     0-10   \n",
       "384     no  yes       5         4     4       3    11-20   \n",
       "\n",
       "                          G3  \n",
       "0                 Mau (Poor)  \n",
       "1                 Mau (Poor)  \n",
       "2    Suficiente (Sufficient)  \n",
       "3                 Bom (Good)  \n",
       "4    Suficiente (Sufficient)  \n",
       "..                       ...  \n",
       "380               Bom (Good)  \n",
       "381         Mediocre (Poor )  \n",
       "382  Suficiente (Sufficient)  \n",
       "383               Mau (Poor)  \n",
       "384               Mau (Poor)  \n",
       "\n",
       "[385 rows x 17 columns]"
      ]
     },
     "execution_count": 30,
     "metadata": {},
     "output_type": "execute_result"
    }
   ],
   "source": [
    "df_new.head(-10)"
   ]
  },
  {
   "cell_type": "code",
   "execution_count": 3,
   "id": "619b08fb",
   "metadata": {},
   "outputs": [
    {
     "data": {
      "image/png": "[encoded data removed]",
      "text/plain": [
       "<Figure size 1133.86x566.929 with 1 Axes>"
      ]
     },
     "metadata": {},
     "output_type": "display_data"
    }
   ],
   "source": [
    "pgm = PGM(shape=[20, 10])   #creo la matrice di posizionamento dei nodi di dimensione 20x10\n",
    "\n",
    "pgm.add_node(daft.Node('sex', r\"sex\", 1, 10))   #'sex' è il testo che verrà mostrato, r\"sex\" è l'identificativo, (1,10) sono le coordinate del nodo all'interno della matrice 20x10. \n",
    "\n",
    "#N.B. l'origine sta in basso a sinistra.\n",
    "\n",
    "pgm.add_node(daft.Node('age', r\"age\", 2, 10))\n",
    "#pgm.add_node(daft.Node('address', r\"address\", 9, 10))\n",
    "#pgm.add_node(daft.Node('Pstatus', r\"Pstatus\", 4, 10))\n",
    "pgm.add_node(daft.Node('Medu', r\"Medu\", 5, 10))\n",
    "pgm.add_node(daft.Node('Fedu', r\"Fedu\", 6, 10))\n",
    "#pgm.add_node(daft.Node('Mjob', r\"Mjob\", 7, 10))\n",
    "#pgm.add_node(daft.Node('Fjob', r\"Fjob\", 8, 10))\n",
    "#pgm.add_node(daft.Node('reason', r\"reason\", 3, 10))\n",
    "pgm.add_node(daft.Node('travelT', r\"travelT\", 10, 10))\n",
    "pgm.add_node(daft.Node('schoolSup', r\"schoolSup\", 17, 10))\n",
    "pgm.add_node(daft.Node('paid', r\"paid\", 15, 10))\n",
    "#pgm.add_node(daft.Node('activities', r\"activities\", 13, 10))\n",
    "#pgm.add_node(daft.Node('higher', r\"higher\", 14, 10))\n",
    "#pgm.add_node(daft.Node('internet', r\"internet\", 12, 10))\n",
    "pgm.add_node(daft.Node('famrel', r\"famrel\", 16, 10))\n",
    "pgm.add_node(daft.Node('freetime', r\"freetime\", 11, 10))\n",
    "pgm.add_node(daft.Node('Dalc', r\"Dalc\", 18, 10))\n",
    "pgm.add_node(daft.Node('health', r\"health\", 19, 10))\n",
    "pgm.add_node(daft.Node('absences', r\"absences\", 20, 10))\n",
    "\n",
    "pgm.add_node(daft.Node('famSup', r\"famSup\", 6, 8))\n",
    "pgm.add_node(daft.Node('studyT', r\"studyT\", 11, 7))\n",
    "pgm.add_node(daft.Node('failures', r\"failures\", 17, 6))\n",
    "\n",
    "\n",
    "pgm.add_node(daft.Node('Grade', r\"Grade\", 10, 1))\n",
    "\n",
    "\n",
    "#ora invece aggiungo le frecce:\n",
    "\n",
    "pgm.add_edge('Medu', 'famSup')   #prende l'identificativo del nodo 1 e del nodo 2 e inserisce una freccia da nodo 1 a 2\n",
    "pgm.add_edge('Fedu', 'famSup')\n",
    "#pgm.add_edge('Mjob', 'famSup')\n",
    "#pgm.add_edge('Fjob', 'famSup')\n",
    "#pgm.add_edge('Pstatus', 'famSup')\n",
    "\n",
    "\n",
    "\n",
    "\n",
    "pgm.add_edge('travelT', 'studyT')\n",
    "pgm.add_edge('famSup', 'studyT')\n",
    "#pgm.add_edge('activities', 'studyT')\n",
    "#pgm.add_edge('internet', 'studyT')\n",
    "pgm.add_edge('freetime', 'studyT')\n",
    "#pgm.add_edge('address', 'studyT')\n",
    "\n",
    "\n",
    "pgm.add_edge('studyT', 'failures')\n",
    "pgm.add_edge('schoolSup', 'failures')\n",
    "pgm.add_edge('paid', 'failures')\n",
    "#pgm.add_edge('higher', 'failures')\n",
    "pgm.add_edge('famrel', 'failures')\n",
    "pgm.add_edge('Dalc', 'failures')\n",
    "pgm.add_edge('absences', 'failures')\n",
    "pgm.add_edge('health', 'failures')\n",
    "\n",
    "\n",
    "pgm.add_edge('sex', 'Grade')\n",
    "pgm.add_edge('famSup', 'Grade')\n",
    "pgm.add_edge('studyT', 'Grade')\n",
    "pgm.add_edge('failures', 'Grade')\n",
    "pgm.add_edge('age', 'Grade')\n",
    "#pgm.add_edge('reason', 'Grade')\n",
    "\n",
    "\n",
    "\n",
    "pgm.render()\n",
    "plt.show()"
   ]
  },
  {
   "cell_type": "code",
   "execution_count": 18,
   "id": "88efc048",
   "metadata": {},
   "outputs": [
    {
     "data": {
      "text/plain": [
       "Index(['sex', 'age', 'Pstatus', 'Medu', 'Fedu', 'traveltime', 'studytime',\n",
       "       'failures', 'schoolsup', 'famsup', 'paid', 'famrel', 'freetime', 'Dalc',\n",
       "       'health', 'absences', 'G3'],\n",
       "      dtype='object')"
      ]
     },
     "execution_count": 18,
     "metadata": {},
     "output_type": "execute_result"
    }
   ],
   "source": [
    "df_new.columns"
   ]
  },
  {
   "cell_type": "markdown",
   "id": "ce39fbb6",
   "metadata": {},
   "source": [
    "## Network\n",
    "\n",
    "A graphical preliminary overview of the network:\n",
    "\n",
    "- sex  \n",
    "- age  \n",
    "- address      \n",
    "- famsize \n",
    "- Pstatus \n",
    "- Medu \n",
    "- Fedu    \n",
    "- Mjob     \n",
    "- Fjob     \n",
    "- reason     \n",
    "- guardian      \n",
    "- traveltime     \n",
    "- studytime   \n",
    "- failures     \n",
    "- schoolsup\n",
    "- famsup\n",
    "- paid    \n",
    "- activities     \n",
    "- nursery    \n",
    "- higher   \n",
    "- internet\t               \n",
    "- famrel        \n",
    "- freetime                \n",
    "- Dalc              \n",
    "- health        \n",
    "- absences\n",
    "\n"
   ]
  },
  {
   "cell_type": "code",
   "execution_count": 19,
   "id": "406efeb4",
   "metadata": {},
   "outputs": [],
   "source": [
    "model = BayesianNetwork([('sex','G3'),   #sex ---> G3\n",
    "                         ('age','G3'),\n",
    "                         #('reason','G3'),\n",
    "                         ('health','G3'),\n",
    "                         ('famsup','G3'),\n",
    "                         ('studytime','G3'),\n",
    "                         ('failures','G3'),\n",
    "                         \n",
    "                         #('Pstatus','famsup'),\n",
    "                         ('Medu','famsup'),\n",
    "                         ('Fedu','famsup'),\n",
    "                         #('Mjob','famsup'),\n",
    "                         #('Fjob','famsup'),\n",
    "                         \n",
    "                         ('famsup','studytime'),\n",
    "                         #('address','studytime'),\n",
    "                         ('traveltime','studytime'),\n",
    "                         ('freetime','studytime'),\n",
    "                         #('internet','studytime'),\n",
    "                         #('activities','studytime'),\n",
    "                         \n",
    "                         #('higher','failures'),\n",
    "                         ('paid','failures'),\n",
    "                         ('famrel','failures'),\n",
    "                         ('schoolsup','failures'),\n",
    "                         #('internet','failures'),\n",
    "                         #('activities','failures'),\n",
    "                         ('Dalc','failures'),\n",
    "                         ('absences','failures')])"
   ]
  },
  {
   "cell_type": "code",
   "execution_count": 20,
   "id": "65920840",
   "metadata": {},
   "outputs": [
    {
     "data": {
      "text/plain": [
       "NodeView(('sex', 'G3', 'age', 'health', 'famsup', 'studytime', 'failures', 'Medu', 'Fedu', 'traveltime', 'freetime', 'paid', 'famrel', 'schoolsup', 'Dalc', 'absences'))"
      ]
     },
     "execution_count": 20,
     "metadata": {},
     "output_type": "execute_result"
    }
   ],
   "source": [
    "model.nodes()  #printa tutti i nodi"
   ]
  },
  {
   "cell_type": "code",
   "execution_count": 22,
   "id": "f98f5bb3",
   "metadata": {
    "scrolled": false
   },
   "outputs": [
    {
     "name": "stdout",
     "output_type": "stream",
     "text": [
      "CPT of sex:\n",
      "+--------+---------+\n",
      "| sex(F) | 0.52625 |\n",
      "+--------+---------+\n",
      "| sex(M) | 0.47375 |\n",
      "+--------+---------+ \n",
      "\n",
      "CPT of G3:\n",
      "+-----+---------------------+---------------------+\n",
      "| ... | age(20-22 )         | age(20-22 )         |\n",
      "+-----+---------------------+---------------------+\n",
      "| ... | failures(3)         | failures(3)         |\n",
      "+-----+---------------------+---------------------+\n",
      "| ... | famsup(yes)         | famsup(yes)         |\n",
      "+-----+---------------------+---------------------+\n",
      "| ... | health(5)           | health(5)           |\n",
      "+-----+---------------------+---------------------+\n",
      "| ... | sex(M)              | sex(M)              |\n",
      "+-----+---------------------+---------------------+\n",
      "| ... | studytime(3)        | studytime(4)        |\n",
      "+-----+---------------------+---------------------+\n",
      "| ... | 0.14285714285714285 | 0.14285714285714285 |\n",
      "+-----+---------------------+---------------------+\n",
      "| ... | 0.14285714285714285 | 0.14285714285714285 |\n",
      "+-----+---------------------+---------------------+\n",
      "| ... | 0.14285714285714285 | 0.14285714285714285 |\n",
      "+-----+---------------------+---------------------+\n",
      "| ... | 0.14285714285714285 | 0.14285714285714285 |\n",
      "+-----+---------------------+---------------------+\n",
      "| ... | 0.14285714285714285 | 0.14285714285714285 |\n",
      "+-----+---------------------+---------------------+\n",
      "| ... | 0.14285714285714285 | 0.14285714285714285 |\n",
      "+-----+---------------------+---------------------+\n",
      "| ... | 0.14285714285714285 | 0.14285714285714285 |\n",
      "+-----+---------------------+---------------------+ \n",
      "\n",
      "CPT of age:\n",
      "+-------------+-----------+\n",
      "| age(15-17)  | 0.714167  |\n",
      "+-------------+-----------+\n",
      "| age(18-19)  | 0.269167  |\n",
      "+-------------+-----------+\n",
      "| age(20-22 ) | 0.0166667 |\n",
      "+-------------+-----------+ \n",
      "\n",
      "CPT of health:\n",
      "+-----------+--------+\n",
      "| health(1) | 0.12   |\n",
      "+-----------+--------+\n",
      "| health(2) | 0.115  |\n",
      "+-----------+--------+\n",
      "| health(3) | 0.23   |\n",
      "+-----------+--------+\n",
      "| health(4) | 0.1675 |\n",
      "+-----------+--------+\n",
      "| health(5) | 0.3675 |\n",
      "+-----------+--------+ \n",
      "\n",
      "CPT of famsup:\n",
      "+-------------+---------+---------------------+---------+-----+--------------------+---------------------+\n",
      "| Fedu        | Fedu(0) | Fedu(0)             | Fedu(0) | ... | Fedu(4)            | Fedu(4)             |\n",
      "+-------------+---------+---------------------+---------+-----+--------------------+---------------------+\n",
      "| Medu        | Medu(0) | Medu(1)             | Medu(2) | ... | Medu(3)            | Medu(4)             |\n",
      "+-------------+---------+---------------------+---------+-----+--------------------+---------------------+\n",
      "| famsup(no)  | 0.5     | 0.08333333333333333 | 0.5     | ... | 0.3901098901098901 | 0.22934472934472935 |\n",
      "+-------------+---------+---------------------+---------+-----+--------------------+---------------------+\n",
      "| famsup(yes) | 0.5     | 0.9166666666666666  | 0.5     | ... | 0.6098901098901099 | 0.7706552706552706  |\n",
      "+-------------+---------+---------------------+---------+-----+--------------------+---------------------+ \n",
      "\n",
      "CPT of studytime:\n",
      "+--------------+---------------------+---------------+-----+---------------+----------------------+\n",
      "| famsup       | famsup(no)          | famsup(no)    | ... | famsup(yes)   | famsup(yes)          |\n",
      "+--------------+---------------------+---------------+-----+---------------+----------------------+\n",
      "| freetime     | freetime(1)         | freetime(1)   | ... | freetime(5)   | freetime(5)          |\n",
      "+--------------+---------------------+---------------+-----+---------------+----------------------+\n",
      "| traveltime   | traveltime(1)       | traveltime(2) | ... | traveltime(3) | traveltime(4)        |\n",
      "+--------------+---------------------+---------------+-----+---------------+----------------------+\n",
      "| studytime(1) | 0.1683673469387755  | 0.33          | ... | 0.25          | 0.9166666666666666   |\n",
      "+--------------+---------------------+---------------+-----+---------------+----------------------+\n",
      "| studytime(2) | 0.49489795918367346 | 0.65          | ... | 0.25          | 0.027777777777777776 |\n",
      "+--------------+---------------------+---------------+-----+---------------+----------------------+\n",
      "| studytime(3) | 0.33163265306122447 | 0.01          | ... | 0.25          | 0.027777777777777776 |\n",
      "+--------------+---------------------+---------------+-----+---------------+----------------------+\n",
      "| studytime(4) | 0.00510204081632653 | 0.01          | ... | 0.25          | 0.027777777777777776 |\n",
      "+--------------+---------------------+---------------+-----+---------------+----------------------+ \n",
      "\n",
      "CPT of failures:\n",
      "+-------------+---------------+----------------+-----+-----------------+-----------------+-----------------+\n",
      "| Dalc        | Dalc(1)       | Dalc(1)        | ... | Dalc(5)         | Dalc(5)         | Dalc(5)         |\n",
      "+-------------+---------------+----------------+-----+-----------------+-----------------+-----------------+\n",
      "| absences    | absences(+40) | absences(+40)  | ... | absences(31-40) | absences(31-40) | absences(31-40) |\n",
      "+-------------+---------------+----------------+-----+-----------------+-----------------+-----------------+\n",
      "| famrel      | famrel(1)     | famrel(1)      | ... | famrel(5)       | famrel(5)       | famrel(5)       |\n",
      "+-------------+---------------+----------------+-----+-----------------+-----------------+-----------------+\n",
      "| paid        | paid(no)      | paid(no)       | ... | paid(no)        | paid(yes)       | paid(yes)       |\n",
      "+-------------+---------------+----------------+-----+-----------------+-----------------+-----------------+\n",
      "| schoolsup   | schoolsup(no) | schoolsup(yes) | ... | schoolsup(yes)  | schoolsup(no)   | schoolsup(yes)  |\n",
      "+-------------+---------------+----------------+-----+-----------------+-----------------+-----------------+\n",
      "| failures(0) | 0.25          | 0.25           | ... | 0.25            | 0.25            | 0.25            |\n",
      "+-------------+---------------+----------------+-----+-----------------+-----------------+-----------------+\n",
      "| failures(1) | 0.25          | 0.25           | ... | 0.25            | 0.25            | 0.25            |\n",
      "+-------------+---------------+----------------+-----+-----------------+-----------------+-----------------+\n",
      "| failures(2) | 0.25          | 0.25           | ... | 0.25            | 0.25            | 0.25            |\n",
      "+-------------+---------------+----------------+-----+-----------------+-----------------+-----------------+\n",
      "| failures(3) | 0.25          | 0.25           | ... | 0.25            | 0.25            | 0.25            |\n",
      "+-------------+---------------+----------------+-----+-----------------+-----------------+-----------------+ \n",
      "\n",
      "CPT of Medu:\n",
      "+---------+------+\n",
      "| Medu(0) | 0.01 |\n",
      "+---------+------+\n",
      "| Medu(1) | 0.15 |\n",
      "+---------+------+\n",
      "| Medu(2) | 0.26 |\n",
      "+---------+------+\n",
      "| Medu(3) | 0.25 |\n",
      "+---------+------+\n",
      "| Medu(4) | 0.33 |\n",
      "+---------+------+ \n",
      "\n",
      "CPT of Fedu:\n",
      "+---------+--------+\n",
      "| Fedu(0) | 0.0075 |\n",
      "+---------+--------+\n",
      "| Fedu(1) | 0.2075 |\n",
      "+---------+--------+\n",
      "| Fedu(2) | 0.29   |\n",
      "+---------+--------+\n",
      "| Fedu(3) | 0.2525 |\n",
      "+---------+--------+\n",
      "| Fedu(4) | 0.2425 |\n",
      "+---------+--------+ \n",
      "\n",
      "CPT of traveltime:\n",
      "+---------------+----------+\n",
      "| traveltime(1) | 0.645625 |\n",
      "+---------------+----------+\n",
      "| traveltime(2) | 0.270625 |\n",
      "+---------------+----------+\n",
      "| traveltime(3) | 0.060625 |\n",
      "+---------------+----------+\n",
      "| traveltime(4) | 0.023125 |\n",
      "+---------------+----------+ \n",
      "\n",
      "CPT of freetime:\n",
      "+-------------+--------+\n",
      "| freetime(1) | 0.05   |\n",
      "+-------------+--------+\n",
      "| freetime(2) | 0.1625 |\n",
      "+-------------+--------+\n",
      "| freetime(3) | 0.395  |\n",
      "+-------------+--------+\n",
      "| freetime(4) | 0.29   |\n",
      "+-------------+--------+\n",
      "| freetime(5) | 0.1025 |\n",
      "+-------------+--------+ \n",
      "\n",
      "CPT of paid:\n",
      "+-----------+---------+\n",
      "| paid(no)  | 0.54125 |\n",
      "+-----------+---------+\n",
      "| paid(yes) | 0.45875 |\n",
      "+-----------+---------+ \n",
      "\n",
      "CPT of famrel:\n",
      "+-----------+--------+\n",
      "| famrel(1) | 0.0225 |\n",
      "+-----------+--------+\n",
      "| famrel(2) | 0.0475 |\n",
      "+-----------+--------+\n",
      "| famrel(3) | 0.1725 |\n",
      "+-----------+--------+\n",
      "| famrel(4) | 0.49   |\n",
      "+-----------+--------+\n",
      "| famrel(5) | 0.2675 |\n",
      "+-----------+--------+ \n",
      "\n",
      "CPT of schoolsup:\n",
      "+----------------+---------+\n",
      "| schoolsup(no)  | 0.86625 |\n",
      "+----------------+---------+\n",
      "| schoolsup(yes) | 0.13375 |\n",
      "+----------------+---------+ \n",
      "\n",
      "CPT of Dalc:\n",
      "+---------+--------+\n",
      "| Dalc(1) | 0.6925 |\n",
      "+---------+--------+\n",
      "| Dalc(2) | 0.19   |\n",
      "+---------+--------+\n",
      "| Dalc(3) | 0.0675 |\n",
      "+---------+--------+\n",
      "| Dalc(4) | 0.025  |\n",
      "+---------+--------+\n",
      "| Dalc(5) | 0.025  |\n",
      "+---------+--------+ \n",
      "\n",
      "CPT of absences:\n",
      "+-----------------+--------+\n",
      "| absences(+40)   | 0.01   |\n",
      "+-----------------+--------+\n",
      "| absences(0-10)  | 0.825  |\n",
      "+-----------------+--------+\n",
      "| absences(11-20) | 0.13   |\n",
      "+-----------------+--------+\n",
      "| absences(21-30) | 0.0275 |\n",
      "+-----------------+--------+\n",
      "| absences(31-40) | 0.0075 |\n",
      "+-----------------+--------+ \n",
      "\n"
     ]
    }
   ],
   "source": [
    "model.cpds = [] #inizializzo l'array che contiene le tabular (vedere meglio)\n",
    "\n",
    "model.fit(data=df_new,                          #usa il dataframe per allenare il modello\n",
    "          estimator=BayesianEstimator, \n",
    "          prior_type=\"BDeu\")\n",
    "\n",
    "for cpd in model.get_cpds():\n",
    "    print(f'CPT of {cpd.variable}:')\n",
    "    print(cpd, '\\n')"
   ]
  },
  {
   "cell_type": "code",
   "execution_count": 23,
   "id": "c61e7dce",
   "metadata": {},
   "outputs": [
    {
     "data": {
      "text/plain": [
       "True"
      ]
     },
     "execution_count": 23,
     "metadata": {},
     "output_type": "execute_result"
    }
   ],
   "source": [
    "# Checking the validity of the model \n",
    "# This method checks if the sum of the probabilities for each state is equal to 1 (tol=0.01) and if the CPDs associated with nodes are consistent with their parents.\n",
    "model.check_model()   #per essere sicuri "
   ]
  },
  {
   "cell_type": "code",
   "execution_count": 24,
   "id": "97649ccf",
   "metadata": {},
   "outputs": [
    {
     "data": {
      "text/plain": [
       "defaultdict(int,\n",
       "            {'sex': 2,\n",
       "             'G3': 7,\n",
       "             'age': 3,\n",
       "             'health': 5,\n",
       "             'famsup': 2,\n",
       "             'studytime': 4,\n",
       "             'failures': 4,\n",
       "             'Medu': 5,\n",
       "             'Fedu': 5,\n",
       "             'traveltime': 4,\n",
       "             'freetime': 5,\n",
       "             'paid': 2,\n",
       "             'famrel': 5,\n",
       "             'schoolsup': 2,\n",
       "             'Dalc': 5,\n",
       "             'absences': 5})"
      ]
     },
     "execution_count": 24,
     "metadata": {},
     "output_type": "execute_result"
    }
   ],
   "source": [
    "#Cardinality of all model nodes\n",
    "model.get_cardinality()"
   ]
  },
  {
   "cell_type": "markdown",
   "id": "a7d1e0dc",
   "metadata": {},
   "source": [
    "### Exact Inference"
   ]
  },
  {
   "cell_type": "markdown",
   "id": "be5cc371",
   "metadata": {},
   "source": [
    "Exact Inference in pgmpy is implemented through the Variable Elimination Method and Belief Propagation rather than with simple enumeration; being one of the purpouses of this work exploring topics seen in class, the former is choosen.\n",
    "\n",
    "Causal inference analyzes the response of an effect variable when a cause of the effect variable is changed."
   ]
  },
  {
   "cell_type": "code",
   "execution_count": 25,
   "id": "bfcc3eb5",
   "metadata": {},
   "outputs": [],
   "source": [
    "from pgmpy.inference import VariableElimination\n",
    "\n",
    "infer = VariableElimination(model)  #"
   ]
  },
  {
   "cell_type": "code",
   "execution_count": 26,
   "id": "5a868acc",
   "metadata": {},
   "outputs": [
    {
     "data": {
      "application/vnd.jupyter.widget-view+json": {
       "model_id": "33ae6b3d39bd402f86f1daf8616bdeee",
       "version_major": 2,
       "version_minor": 0
      },
      "text/plain": [
       "  0%|          | 0/13 [00:00<?, ?it/s]"
      ]
     },
     "metadata": {},
     "output_type": "display_data"
    },
    {
     "data": {
      "application/vnd.jupyter.widget-view+json": {
       "model_id": "38015f7f5ef6455d8d984c0c5d65b4ae",
       "version_major": 2,
       "version_minor": 0
      },
      "text/plain": [
       "  0%|          | 0/13 [00:00<?, ?it/s]"
      ]
     },
     "metadata": {},
     "output_type": "display_data"
    },
    {
     "name": "stdout",
     "output_type": "stream",
     "text": [
      "+------------------------------------------------------------------------------+-----------+\n",
      "| G3                                                                           |   phi(G3) |\n",
      "+==============================================================================+===========+\n",
      "| G3(Bom (Good))                                                               |    0.1975 |\n",
      "+------------------------------------------------------------------------------+-----------+\n",
      "| G3(Excelente (Excellent))                                                    |    0.0565 |\n",
      "+------------------------------------------------------------------------------+-----------+\n",
      "| G3(Mau (Poor))                                                               |    0.0807 |\n",
      "+------------------------------------------------------------------------------+-----------+\n",
      "| G3(Mediocre (Poor ))                                                         |    0.2007 |\n",
      "+------------------------------------------------------------------------------+-----------+\n",
      "| G3(Muito Bom (Very Good))                                                    |    0.0882 |\n",
      "+------------------------------------------------------------------------------+-----------+\n",
      "| G3(Muito bom con distincao e louvor (Very good with distinction and honors)) |    0.0565 |\n",
      "+------------------------------------------------------------------------------+-----------+\n",
      "| G3(Suficiente (Sufficient))                                                  |    0.3199 |\n",
      "+------------------------------------------------------------------------------+-----------+\n"
     ]
    }
   ],
   "source": [
    "print(infer.query([\"G3\"],evidence={\"sex\": 'M',\"age\": '18-19'})) "
   ]
  },
  {
   "cell_type": "code",
   "execution_count": 27,
   "id": "82d4f48c",
   "metadata": {},
   "outputs": [
    {
     "data": {
      "application/vnd.jupyter.widget-view+json": {
       "model_id": "d6a6860d7ee347ec9761988f5247ba87",
       "version_major": 2,
       "version_minor": 0
      },
      "text/plain": [
       "  0%|          | 0/13 [00:00<?, ?it/s]"
      ]
     },
     "metadata": {},
     "output_type": "display_data"
    },
    {
     "data": {
      "application/vnd.jupyter.widget-view+json": {
       "model_id": "9fa13e1c9b45401aaf2d1c6b372548ce",
       "version_major": 2,
       "version_minor": 0
      },
      "text/plain": [
       "  0%|          | 0/13 [00:00<?, ?it/s]"
      ]
     },
     "metadata": {},
     "output_type": "display_data"
    },
    {
     "name": "stdout",
     "output_type": "stream",
     "text": [
      "+------------------------------------------------------------------------------+-----------+\n",
      "| G3                                                                           |   phi(G3) |\n",
      "+==============================================================================+===========+\n",
      "| G3(Bom (Good))                                                               |    0.0906 |\n",
      "+------------------------------------------------------------------------------+-----------+\n",
      "| G3(Excelente (Excellent))                                                    |    0.0802 |\n",
      "+------------------------------------------------------------------------------+-----------+\n",
      "| G3(Mau (Poor))                                                               |    0.2087 |\n",
      "+------------------------------------------------------------------------------+-----------+\n",
      "| G3(Mediocre (Poor ))                                                         |    0.1912 |\n",
      "+------------------------------------------------------------------------------+-----------+\n",
      "| G3(Muito Bom (Very Good))                                                    |    0.0697 |\n",
      "+------------------------------------------------------------------------------+-----------+\n",
      "| G3(Muito bom con distincao e louvor (Very good with distinction and honors)) |    0.0625 |\n",
      "+------------------------------------------------------------------------------+-----------+\n",
      "| G3(Suficiente (Sufficient))                                                  |    0.2971 |\n",
      "+------------------------------------------------------------------------------+-----------+\n"
     ]
    }
   ],
   "source": [
    "print(infer.query([\"G3\"],evidence={\"sex\": 'F',\"age\": '18-19'})) "
   ]
  },
  {
   "cell_type": "code",
   "execution_count": 37,
   "id": "9e8227eb",
   "metadata": {},
   "outputs": [
    {
     "data": {
      "application/vnd.jupyter.widget-view+json": {
       "model_id": "3f281ed316454d33a0d675a85ae69648",
       "version_major": 2,
       "version_minor": 0
      },
      "text/plain": [
       "  0%|          | 0/13 [00:00<?, ?it/s]"
      ]
     },
     "metadata": {},
     "output_type": "display_data"
    },
    {
     "data": {
      "application/vnd.jupyter.widget-view+json": {
       "model_id": "f55fba1ab088438eb787b56f15d9b228",
       "version_major": 2,
       "version_minor": 0
      },
      "text/plain": [
       "  0%|          | 0/13 [00:00<?, ?it/s]"
      ]
     },
     "metadata": {},
     "output_type": "display_data"
    },
    {
     "name": "stdout",
     "output_type": "stream",
     "text": [
      "+------------------------------------------------------------------------------+-----------+\n",
      "| G3                                                                           |   phi(G3) |\n",
      "+==============================================================================+===========+\n",
      "| G3(Bom (Good))                                                               |    0.1529 |\n",
      "+------------------------------------------------------------------------------+-----------+\n",
      "| G3(Excelente (Excellent))                                                    |    0.0716 |\n",
      "+------------------------------------------------------------------------------+-----------+\n",
      "| G3(Mau (Poor))                                                               |    0.1367 |\n",
      "+------------------------------------------------------------------------------+-----------+\n",
      "| G3(Mediocre (Poor ))                                                         |    0.1523 |\n",
      "+------------------------------------------------------------------------------+-----------+\n",
      "| G3(Muito Bom (Very Good))                                                    |    0.0847 |\n",
      "+------------------------------------------------------------------------------+-----------+\n",
      "| G3(Muito bom con distincao e louvor (Very good with distinction and honors)) |    0.0436 |\n",
      "+------------------------------------------------------------------------------+-----------+\n",
      "| G3(Suficiente (Sufficient))                                                  |    0.3581 |\n",
      "+------------------------------------------------------------------------------+-----------+\n"
     ]
    }
   ],
   "source": [
    "print(infer.query([\"G3\"],evidence={\"Medu\": 4,\"Fedu\": 4})) "
   ]
  },
  {
   "cell_type": "code",
   "execution_count": 38,
   "id": "0d1fa52d",
   "metadata": {},
   "outputs": [
    {
     "data": {
      "application/vnd.jupyter.widget-view+json": {
       "model_id": "8c2ffeeaf8a7483589b2c9dfb09b7705",
       "version_major": 2,
       "version_minor": 0
      },
      "text/plain": [
       "  0%|          | 0/13 [00:00<?, ?it/s]"
      ]
     },
     "metadata": {},
     "output_type": "display_data"
    },
    {
     "data": {
      "application/vnd.jupyter.widget-view+json": {
       "model_id": "b7ab5a4b9a924e9da9e2dfa76d7a14a1",
       "version_major": 2,
       "version_minor": 0
      },
      "text/plain": [
       "  0%|          | 0/13 [00:00<?, ?it/s]"
      ]
     },
     "metadata": {},
     "output_type": "display_data"
    },
    {
     "name": "stdout",
     "output_type": "stream",
     "text": [
      "+------------------------------------------------------------------------------+-----------+\n",
      "| G3                                                                           |   phi(G3) |\n",
      "+==============================================================================+===========+\n",
      "| G3(Bom (Good))                                                               |    0.1670 |\n",
      "+------------------------------------------------------------------------------+-----------+\n",
      "| G3(Excelente (Excellent))                                                    |    0.0729 |\n",
      "+------------------------------------------------------------------------------+-----------+\n",
      "| G3(Mau (Poor))                                                               |    0.1259 |\n",
      "+------------------------------------------------------------------------------+-----------+\n",
      "| G3(Mediocre (Poor ))                                                         |    0.1506 |\n",
      "+------------------------------------------------------------------------------+-----------+\n",
      "| G3(Muito Bom (Very Good))                                                    |    0.0840 |\n",
      "+------------------------------------------------------------------------------+-----------+\n",
      "| G3(Muito bom con distincao e louvor (Very good with distinction and honors)) |    0.0483 |\n",
      "+------------------------------------------------------------------------------+-----------+\n",
      "| G3(Suficiente (Sufficient))                                                  |    0.3514 |\n",
      "+------------------------------------------------------------------------------+-----------+\n"
     ]
    }
   ],
   "source": [
    "print(infer.query([\"G3\"],evidence={\"Medu\": 1,\"Fedu\": 1})) "
   ]
  },
  {
   "cell_type": "code",
   "execution_count": 40,
   "id": "363f19a1",
   "metadata": {},
   "outputs": [],
   "source": [
    "lab5= [\"Mau (Poor)\",\"Mediocre (Poor )\", \"Suficiente (Sufficient)\",\"Bom (Good)\",\"Muito Bom (Very Good)\",\"Excelente (Excellent)\",\"Muito bom con distincao e louvor (Very good with distinction and honors)\"]\n"
   ]
  },
  {
   "cell_type": "code",
   "execution_count": 41,
   "id": "081ebb1f",
   "metadata": {},
   "outputs": [
    {
     "data": {
      "application/vnd.jupyter.widget-view+json": {
       "model_id": "43adff3d074344bea743e18189e2a310",
       "version_major": 2,
       "version_minor": 0
      },
      "text/plain": [
       "  0%|          | 0/13 [00:00<?, ?it/s]"
      ]
     },
     "metadata": {},
     "output_type": "display_data"
    },
    {
     "data": {
      "application/vnd.jupyter.widget-view+json": {
       "model_id": "ce86bc5442474a5f8ea0adff9fb4a5d1",
       "version_major": 2,
       "version_minor": 0
      },
      "text/plain": [
       "  0%|          | 0/13 [00:00<?, ?it/s]"
      ]
     },
     "metadata": {},
     "output_type": "display_data"
    },
    {
     "name": "stdout",
     "output_type": "stream",
     "text": [
      "+---------+-------------+\n",
      "| Dalc    |   phi(Dalc) |\n",
      "+=========+=============+\n",
      "| Dalc(1) |      0.6142 |\n",
      "+---------+-------------+\n",
      "| Dalc(2) |      0.2281 |\n",
      "+---------+-------------+\n",
      "| Dalc(3) |      0.0828 |\n",
      "+---------+-------------+\n",
      "| Dalc(4) |      0.0409 |\n",
      "+---------+-------------+\n",
      "| Dalc(5) |      0.0340 |\n",
      "+---------+-------------+\n"
     ]
    }
   ],
   "source": [
    "print(infer.query([\"Dalc\"],evidence={\"G3\": lab5[6], \"sex\": 'M'})) "
   ]
  },
  {
   "cell_type": "code",
   "execution_count": 43,
   "id": "46de47f6",
   "metadata": {},
   "outputs": [
    {
     "data": {
      "application/vnd.jupyter.widget-view+json": {
       "model_id": "b98d41abc5b84609b24571d557d8bce2",
       "version_major": 2,
       "version_minor": 0
      },
      "text/plain": [
       "  0%|          | 0/13 [00:00<?, ?it/s]"
      ]
     },
     "metadata": {},
     "output_type": "display_data"
    },
    {
     "data": {
      "application/vnd.jupyter.widget-view+json": {
       "model_id": "26ff259a0ee24c4691077854cb091128",
       "version_major": 2,
       "version_minor": 0
      },
      "text/plain": [
       "  0%|          | 0/13 [00:00<?, ?it/s]"
      ]
     },
     "metadata": {},
     "output_type": "display_data"
    },
    {
     "name": "stdout",
     "output_type": "stream",
     "text": [
      "+---------+-------------+\n",
      "| Dalc    |   phi(Dalc) |\n",
      "+=========+=============+\n",
      "| Dalc(1) |      0.6311 |\n",
      "+---------+-------------+\n",
      "| Dalc(2) |      0.2190 |\n",
      "+---------+-------------+\n",
      "| Dalc(3) |      0.0806 |\n",
      "+---------+-------------+\n",
      "| Dalc(4) |      0.0376 |\n",
      "+---------+-------------+\n",
      "| Dalc(5) |      0.0316 |\n",
      "+---------+-------------+\n"
     ]
    }
   ],
   "source": [
    "print(infer.query([\"Dalc\"],evidence={\"G3\": lab5[6], \"sex\": 'F'})) "
   ]
  },
  {
   "cell_type": "markdown",
   "id": "02270093",
   "metadata": {},
   "source": [
    "is it important the family support for the student graduation?"
   ]
  },
  {
   "cell_type": "code",
   "execution_count": 47,
   "id": "768d7bf5",
   "metadata": {},
   "outputs": [
    {
     "data": {
      "application/vnd.jupyter.widget-view+json": {
       "model_id": "0c169a2d18114053b831dc180184cbd3",
       "version_major": 2,
       "version_minor": 0
      },
      "text/plain": [
       "  0%|          | 0/8 [00:00<?, ?it/s]"
      ]
     },
     "metadata": {},
     "output_type": "display_data"
    },
    {
     "data": {
      "application/vnd.jupyter.widget-view+json": {
       "model_id": "0d061bdf29b04761b07d613052edf8d3",
       "version_major": 2,
       "version_minor": 0
      },
      "text/plain": [
       "  0%|          | 0/8 [00:00<?, ?it/s]"
      ]
     },
     "metadata": {},
     "output_type": "display_data"
    },
    {
     "name": "stdout",
     "output_type": "stream",
     "text": [
      "+-------------+-----------------+\n",
      "| freetime    |   phi(freetime) |\n",
      "+=============+=================+\n",
      "| freetime(1) |          0.0484 |\n",
      "+-------------+-----------------+\n",
      "| freetime(2) |          0.1583 |\n",
      "+-------------+-----------------+\n",
      "| freetime(3) |          0.3984 |\n",
      "+-------------+-----------------+\n",
      "| freetime(4) |          0.2919 |\n",
      "+-------------+-----------------+\n",
      "| freetime(5) |          0.1030 |\n",
      "+-------------+-----------------+\n"
     ]
    }
   ],
   "source": [
    "print(infer.query([\"freetime\"],evidence={\"G3\" : 'Suficiente (Sufficient)', \"failures\" : 0}))"
   ]
  },
  {
   "cell_type": "markdown",
   "id": "533878cd",
   "metadata": {},
   "source": [
    "Quanta probabilità ha uno studente nella fascia d'etaà media (18-19 anni), considerando che dedica mediamente dalle 5 alle 10 ore di studio, in ottimo stato di salute sia o meno rimandato."
   ]
  },
  {
   "cell_type": "code",
   "execution_count": 54,
   "id": "6f5e3d65",
   "metadata": {},
   "outputs": [
    {
     "data": {
      "application/vnd.jupyter.widget-view+json": {
       "model_id": "86fa3c7810e0406c9ff0c7979a03fa2d",
       "version_major": 2,
       "version_minor": 0
      },
      "text/plain": [
       "  0%|          | 0/5 [00:00<?, ?it/s]"
      ]
     },
     "metadata": {},
     "output_type": "display_data"
    },
    {
     "data": {
      "application/vnd.jupyter.widget-view+json": {
       "model_id": "853ae13466714da399a80e77a6776cf6",
       "version_major": 2,
       "version_minor": 0
      },
      "text/plain": [
       "  0%|          | 0/5 [00:00<?, ?it/s]"
      ]
     },
     "metadata": {},
     "output_type": "display_data"
    },
    {
     "name": "stdout",
     "output_type": "stream",
     "text": [
      "+-------------+-----------------+\n",
      "| failures    |   phi(failures) |\n",
      "+=============+=================+\n",
      "| failures(0) |          0.7473 |\n",
      "+-------------+-----------------+\n",
      "| failures(1) |          0.1406 |\n",
      "+-------------+-----------------+\n",
      "| failures(2) |          0.0543 |\n",
      "+-------------+-----------------+\n",
      "| failures(3) |          0.0579 |\n",
      "+-------------+-----------------+\n"
     ]
    }
   ],
   "source": [
    "print(infer.query([\"failures\"],evidence={\"age\" : '18-19' , \"studytime\" : 3, \"health\" : 5}))"
   ]
  },
  {
   "cell_type": "code",
   "execution_count": null,
   "id": "6e092907",
   "metadata": {},
   "outputs": [],
   "source": [
    "print(infer.query([\"failures\"],evidence={\"age\" : '18-19' , \"studytime\" : 3, \"health\" : 5}))"
   ]
  },
  {
   "cell_type": "code",
   "execution_count": 2,
   "id": "ab115a40",
   "metadata": {},
   "outputs": [
    {
     "name": "stdout",
     "output_type": "stream",
     "text": [
      "Speriamo funzioniii\n"
     ]
    }
   ],
   "source": [
    "print(\"Speriamo funzioniii\")"
   ]
  },
  {
   "cell_type": "code",
   "execution_count": 1,
   "id": "60c6fcc3",
   "metadata": {},
   "outputs": [
    {
     "name": "stdout",
     "output_type": "stream",
     "text": [
      "ci siamo quasi\n"
     ]
    }
   ],
   "source": [
    "print(\"ci siamo quasi\")"
   ]
  },
  {
   "cell_type": "code",
   "execution_count": null,
   "id": "88f44416",
   "metadata": {},
   "outputs": [],
   "source": []
  },
  {
   "cell_type": "markdown",
   "id": "3803e2f0",
   "metadata": {},
   "source": [
    "PAPER:\n",
    "- https://degree.lamar.edu/articles/undergraduate/parents-education-level-and-childrens-success/\n",
    "- https://www.brookings.edu/blog/up-front/2021/01/12/the-unreported-gender-gap-in-high-school-graduation-rates/\n",
    "- https://hbr.org/2018/06/how-working-parents-can-manage-the-demands-of-school-age-kids\n",
    "- https://www.scholaro.com/db/Countries/Portugal/Grading-System  \n",
    "- \n",
    "- \n",
    "- "
   ]
  }
 ],
 "metadata": {
  "kernelspec": {
   "display_name": "Python 3 (ipykernel)",
   "language": "python",
   "name": "python3"
  },
  "language_info": {
   "codemirror_mode": {
    "name": "ipython",
    "version": 3
   },
   "file_extension": ".py",
   "mimetype": "text/x-python",
   "name": "python",
   "nbconvert_exporter": "python",
   "pygments_lexer": "ipython3",
   "version": "3.8.10"
  }
 },
 "nbformat": 4,
 "nbformat_minor": 5
}
