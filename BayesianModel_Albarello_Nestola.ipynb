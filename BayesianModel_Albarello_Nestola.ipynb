{
 "cells": [
  {
   "cell_type": "markdown",
   "id": "084cc398",
   "metadata": {},
   "source": [
    "# Analysis of portuguese students' habits that influence education"
   ]
  },
  {
   "cell_type": "markdown",
   "id": "a34e77e1",
   "metadata": {},
   "source": [
    "***How much should I study if I want to go to the bar?***"
   ]
  },
  {
   "cell_type": "markdown",
   "id": "84902f31",
   "metadata": {},
   "source": [
    "Michael Albarello - michael.albarello@studio.unibo.it - 0001058648\n",
    "\n",
    "Matteo Nestola - matteo.nestola@studio.unibo.it - 0001036948"
   ]
  },
  {
   "cell_type": "markdown",
   "id": "73938a44",
   "metadata": {},
   "source": [
    "In the following notebook, we will analize how students' extracurricular habits are capable to influence their school performance. <br>In particular, we selected the [Student Alcohol Consumption Dataset](https://www.kaggle.com/datasets/uciml/student-alcohol-consumption), which includes grade, demographic, social and school related informations that have been collected by using school reports and questionnaires. \n",
    "\n",
    "The dataset includes two subsets regarding the students' performances in two distinct subjects: \n",
    "- Mathematics (mat) \n",
    "- Portuguese Language (por).\n",
    "\n",
    "Here's some explanation for each column, provided by the dataset's creator:\n",
    "\n",
    "\n",
    "|Columns||Description||Type|\n",
    "|:----------||:--------------||:----|\n",
    "|**school**||student's school||binary:<br>'GP' - Gabriel Pereira<br>'MS' - Mousinho da Silveira|\n",
    "|**sex**||student's sex||binary:<br>'F' - female<br>'M' - male|\n",
    "|**age**||student's age||numeric: <br> from 15 to 22|\n",
    "|**address**||student's home address type||binary: <br> 'U' - urban <br> 'R' - rural|\n",
    "|**famsize**||family size||binary: <br> 'LE3' - less or equal to 3 <br> 'GT3' - greater than 3|\n",
    "|**Pstatus**||parent's cohabitation status||binary: <br> 'T' - living together <br> 'A' - apart|\n",
    "|**Medu**||mother's education||numeric: <br> 0 - none <br> 1 - primary education (4th grade) <br> 2 - 5th to 9th grade <br> 3 - secondary education <br> 4 - higher education|\n",
    "|**Fedu**||father's education||numeric: <br> 0 - none <br> 1 - primary education (4th grade) <br> 2 - 5th to 9th grade <br> 3 - secondary education <br> 4 - higher education|\n",
    "|**Mjob**||mother's job||nominal: <br> 'teacher' <br> 'health' care related <br> civil 'services' (e.g. administrative or police) <br> 'at_home' <br> 'other'|\n",
    "|**Fjob**||father's job||nominal: <br> 'teacher' <br> 'health' care related <br> civil 'services' (e.g. administrative or police) <br> 'at_home' <br> 'other'|\n",
    "|**reason**||reason to choose this school||nominal: <br> close to 'home' <br> school 'reputation' <br> 'course' preference <br> 'other'|\n",
    "|**guardian**||student's guardian||nominal: <br> 'mother <br> 'father' <br> 'other'|\n",
    "|**traveltime**||home to school travel time||numeric: <br> 1 - <15 min. <br> 2 - 15 to 30 min. <br> 3 - 30 min. to 1 hour <br> or 4 - >1 hour|\n",
    "|**studytime**||weekly study time||numeric: <br> 1 - <2 hours <br> 2 - 2 to 5 hours <br> 3 - 5 to 10 hours <br> or 4 - >10 hours|\n",
    "|**failures**||number of <u>***past***</u> class failures||numeric: <br> n if 1<=n<3 <br> else 4|\n",
    "|**schoolsup**||extra educational support||binary: <br> yes <br> no|\n",
    "|**famsup**||family educational support||binary: <br> yes <br> no|\n",
    "|**paid**||extra paid classes within the course subject (Math or Portuguese)||binary:<br> yes <br> no|\n",
    "|**activities**||extra-curricular activities||binary: <br> yes <br> no|\n",
    "|**nursery**||attended nursery school||binary: <br> yes <br> no|\n",
    "|**higher**||wants to take higher education||binary: <br> yes <br> no|\n",
    "|**internet**||Internet access at home||binary: <br> yes <br> no|\n",
    "|**romantic**||with a romantic relationship||binary: <br> yes <br> no|\n",
    "|**famrel**||quality of family relationships||numeric: from 1 - very bad <br> to 5 - excellent|\n",
    "|**freetime**||free time after school||numeric: <br> from 1 - very low <br> to 5 - very high|\n",
    "|**goout**||going out with friends||numeric: <br> from 1 - very low <br> to 5 - very high|\n",
    "|**Dalc**||workday alcohol consumption||numeric: <br> from 1 - very low <br> to 5 - very high|\n",
    "|**Walc**||weekend alcohol consumption||numeric: <br> from 1 - very low <br> to 5 - very high|\n",
    "|**health**||current health status||numeric: <br> from 1 - very bad <br> to 5 - very good|\n",
    "|**absences**||number of school absences||numeric: <br> from 0 <br> to 93|\n",
    "\n",
    "\n",
    "\n",
    "The following grades are related with the course subject, Math or Portuguese:\n",
    "\n",
    "|Grade|Description||Type|\n",
    "|:------|:--------||:--------|\n",
    "|G1|first period grade||numeric: <br>from 0 <br>to 20|\n",
    "|G2 |second period grade||numeric: <br>from 0 <br>to 20|\n",
    "|G3 |final grade (output target)||numeric: <br>from 0 <br>to 20)|\n",
    "\n",
    "\n",
    "The goal of the following analysis is to obtain a better understanding on how do social environments affect the  curricular career of a generic student."
   ]
  },
  {
   "cell_type": "markdown",
   "id": "83e81763",
   "metadata": {},
   "source": [
    "## 0. Imports\n",
    "Let's start by importing the needed libraries and datasets:"
   ]
  },
  {
   "cell_type": "code",
   "execution_count": 1,
   "id": "29804e2b",
   "metadata": {},
   "outputs": [],
   "source": [
    "import os\n",
    "\n",
    "#---Data representation---\n",
    "\n",
    "import pandas as pd\n",
    "import numpy as np\n",
    "import seaborn as sns\n",
    "\n",
    "from matplotlib import pyplot as plt\n",
    "%matplotlib inline\n",
    "\n",
    "#---Pgmpy library---\n",
    "\n",
    "from pgmpy.models import BayesianNetwork\n",
    "from pgmpy.factors.discrete import TabularCPD\n",
    "from pgmpy.inference import VariableElimination\n",
    "from pgmpy.estimators import ParameterEstimator\n",
    "from pgmpy.estimators import BayesianEstimator\n",
    "\n",
    "#---Plot Bayesian Networks---\n",
    "\n",
    "import networkx as nx"
   ]
  },
  {
   "cell_type": "code",
   "execution_count": 2,
   "id": "3b2c5b0f",
   "metadata": {
    "scrolled": true
   },
   "outputs": [],
   "source": [
    "#paths to datasets:\n",
    "\n",
    "abs_path = os.getcwd()\n",
    "\n",
    "mat_path= f'{abs_path}/dataset/student_alcohol/student-mat.csv'\n",
    "por_path= f'{abs_path}/dataset/student_alcohol/student-por.csv'\n",
    "\n",
    "#import datasets:\n",
    "df1 = pd.read_csv(mat_path, sep=\",\")\n",
    "df2 = pd.read_csv(por_path, sep=\",\")\n",
    "\n",
    "#concatenate subsets:\n",
    "df = pd.concat([df1, df2])"
   ]
  },
  {
   "cell_type": "markdown",
   "id": "645cc3c2",
   "metadata": {},
   "source": [
    "Given that the dataset's creator has provided two subsets, the first for students' performance in mathematics and the second in portuguese language, we decided to concatenate both in a single dataframe so that we were able to exploit the totality of the data. \n",
    "\n",
    "Let's now have a quick look at the data:"
   ]
  },
  {
   "cell_type": "code",
   "execution_count": 3,
   "id": "db07a086",
   "metadata": {},
   "outputs": [
    {
     "name": "stdout",
     "output_type": "stream",
     "text": [
      "The imported dataset has the following structure:\n",
      "\n",
      "Number of features per individual:\t33\n",
      "Number of individuals in the dataset:\t1044\n",
      "\n",
      "Columns names:\n",
      "\n",
      "0. school\n",
      "1. sex\n",
      "2. age\n",
      "3. address\n",
      "4. famsize\n",
      "5. Pstatus\n",
      "6. Medu\n",
      "7. Fedu\n",
      "8. Mjob\n",
      "9. Fjob\n",
      "10. reason\n",
      "11. guardian\n",
      "12. traveltime\n",
      "13. studytime\n",
      "14. failures\n",
      "15. schoolsup\n",
      "16. famsup\n",
      "17. paid\n",
      "18. activities\n",
      "19. nursery\n",
      "20. higher\n",
      "21. internet\n",
      "22. romantic\n",
      "23. famrel\n",
      "24. freetime\n",
      "25. goout\n",
      "26. Dalc\n",
      "27. Walc\n",
      "28. health\n",
      "29. absences\n",
      "30. G1\n",
      "31. G2\n",
      "32. G3\n",
      "\n",
      "Representation of the first five individuals of the dataset:\n"
     ]
    },
    {
     "data": {
      "text/html": [
       "<div>\n",
       "<style scoped>\n",
       "    .dataframe tbody tr th:only-of-type {\n",
       "        vertical-align: middle;\n",
       "    }\n",
       "\n",
       "    .dataframe tbody tr th {\n",
       "        vertical-align: top;\n",
       "    }\n",
       "\n",
       "    .dataframe thead th {\n",
       "        text-align: right;\n",
       "    }\n",
       "</style>\n",
       "<table border=\"1\" class=\"dataframe\">\n",
       "  <thead>\n",
       "    <tr style=\"text-align: right;\">\n",
       "      <th></th>\n",
       "      <th>school</th>\n",
       "      <th>sex</th>\n",
       "      <th>age</th>\n",
       "      <th>address</th>\n",
       "      <th>famsize</th>\n",
       "      <th>Pstatus</th>\n",
       "      <th>Medu</th>\n",
       "      <th>Fedu</th>\n",
       "      <th>Mjob</th>\n",
       "      <th>Fjob</th>\n",
       "      <th>...</th>\n",
       "      <th>famrel</th>\n",
       "      <th>freetime</th>\n",
       "      <th>goout</th>\n",
       "      <th>Dalc</th>\n",
       "      <th>Walc</th>\n",
       "      <th>health</th>\n",
       "      <th>absences</th>\n",
       "      <th>G1</th>\n",
       "      <th>G2</th>\n",
       "      <th>G3</th>\n",
       "    </tr>\n",
       "  </thead>\n",
       "  <tbody>\n",
       "    <tr>\n",
       "      <th>0</th>\n",
       "      <td>GP</td>\n",
       "      <td>F</td>\n",
       "      <td>18</td>\n",
       "      <td>U</td>\n",
       "      <td>GT3</td>\n",
       "      <td>A</td>\n",
       "      <td>4</td>\n",
       "      <td>4</td>\n",
       "      <td>at_home</td>\n",
       "      <td>teacher</td>\n",
       "      <td>...</td>\n",
       "      <td>4</td>\n",
       "      <td>3</td>\n",
       "      <td>4</td>\n",
       "      <td>1</td>\n",
       "      <td>1</td>\n",
       "      <td>3</td>\n",
       "      <td>6</td>\n",
       "      <td>5</td>\n",
       "      <td>6</td>\n",
       "      <td>6</td>\n",
       "    </tr>\n",
       "    <tr>\n",
       "      <th>1</th>\n",
       "      <td>GP</td>\n",
       "      <td>F</td>\n",
       "      <td>17</td>\n",
       "      <td>U</td>\n",
       "      <td>GT3</td>\n",
       "      <td>T</td>\n",
       "      <td>1</td>\n",
       "      <td>1</td>\n",
       "      <td>at_home</td>\n",
       "      <td>other</td>\n",
       "      <td>...</td>\n",
       "      <td>5</td>\n",
       "      <td>3</td>\n",
       "      <td>3</td>\n",
       "      <td>1</td>\n",
       "      <td>1</td>\n",
       "      <td>3</td>\n",
       "      <td>4</td>\n",
       "      <td>5</td>\n",
       "      <td>5</td>\n",
       "      <td>6</td>\n",
       "    </tr>\n",
       "    <tr>\n",
       "      <th>2</th>\n",
       "      <td>GP</td>\n",
       "      <td>F</td>\n",
       "      <td>15</td>\n",
       "      <td>U</td>\n",
       "      <td>LE3</td>\n",
       "      <td>T</td>\n",
       "      <td>1</td>\n",
       "      <td>1</td>\n",
       "      <td>at_home</td>\n",
       "      <td>other</td>\n",
       "      <td>...</td>\n",
       "      <td>4</td>\n",
       "      <td>3</td>\n",
       "      <td>2</td>\n",
       "      <td>2</td>\n",
       "      <td>3</td>\n",
       "      <td>3</td>\n",
       "      <td>10</td>\n",
       "      <td>7</td>\n",
       "      <td>8</td>\n",
       "      <td>10</td>\n",
       "    </tr>\n",
       "    <tr>\n",
       "      <th>3</th>\n",
       "      <td>GP</td>\n",
       "      <td>F</td>\n",
       "      <td>15</td>\n",
       "      <td>U</td>\n",
       "      <td>GT3</td>\n",
       "      <td>T</td>\n",
       "      <td>4</td>\n",
       "      <td>2</td>\n",
       "      <td>health</td>\n",
       "      <td>services</td>\n",
       "      <td>...</td>\n",
       "      <td>3</td>\n",
       "      <td>2</td>\n",
       "      <td>2</td>\n",
       "      <td>1</td>\n",
       "      <td>1</td>\n",
       "      <td>5</td>\n",
       "      <td>2</td>\n",
       "      <td>15</td>\n",
       "      <td>14</td>\n",
       "      <td>15</td>\n",
       "    </tr>\n",
       "    <tr>\n",
       "      <th>4</th>\n",
       "      <td>GP</td>\n",
       "      <td>F</td>\n",
       "      <td>16</td>\n",
       "      <td>U</td>\n",
       "      <td>GT3</td>\n",
       "      <td>T</td>\n",
       "      <td>3</td>\n",
       "      <td>3</td>\n",
       "      <td>other</td>\n",
       "      <td>other</td>\n",
       "      <td>...</td>\n",
       "      <td>4</td>\n",
       "      <td>3</td>\n",
       "      <td>2</td>\n",
       "      <td>1</td>\n",
       "      <td>2</td>\n",
       "      <td>5</td>\n",
       "      <td>4</td>\n",
       "      <td>6</td>\n",
       "      <td>10</td>\n",
       "      <td>10</td>\n",
       "    </tr>\n",
       "  </tbody>\n",
       "</table>\n",
       "<p>5 rows × 33 columns</p>\n",
       "</div>"
      ],
      "text/plain": [
       "  school sex  age address famsize Pstatus  Medu  Fedu     Mjob      Fjob  ...  \\\n",
       "0     GP   F   18       U     GT3       A     4     4  at_home   teacher  ...   \n",
       "1     GP   F   17       U     GT3       T     1     1  at_home     other  ...   \n",
       "2     GP   F   15       U     LE3       T     1     1  at_home     other  ...   \n",
       "3     GP   F   15       U     GT3       T     4     2   health  services  ...   \n",
       "4     GP   F   16       U     GT3       T     3     3    other     other  ...   \n",
       "\n",
       "  famrel freetime  goout  Dalc  Walc health absences  G1  G2  G3  \n",
       "0      4        3      4     1     1      3        6   5   6   6  \n",
       "1      5        3      3     1     1      3        4   5   5   6  \n",
       "2      4        3      2     2     3      3       10   7   8  10  \n",
       "3      3        2      2     1     1      5        2  15  14  15  \n",
       "4      4        3      2     1     2      5        4   6  10  10  \n",
       "\n",
       "[5 rows x 33 columns]"
      ]
     },
     "execution_count": 3,
     "metadata": {},
     "output_type": "execute_result"
    }
   ],
   "source": [
    "#Dataset's structure info:\n",
    "print(\"The imported dataset has the following structure:\\n\")\n",
    "print(f\"Number of features per individual:\\t{len(df.columns)}\")\n",
    "print(f\"Number of individuals in the dataset:\\t{len(df)}\")\n",
    "print(f\"\\nColumns names:\\n\")\n",
    "\n",
    "for i in range(len(df.columns)):\n",
    "    print(f\"{i}. {df.columns[i]}\")\n",
    "\n",
    "print(\"\\nRepresentation of the first five individuals of the dataset:\")\n",
    "df.head()"
   ]
  },
  {
   "cell_type": "markdown",
   "id": "bdbd1ba5",
   "metadata": {},
   "source": [
    "## 1. Preprocessing"
   ]
  },
  {
   "cell_type": "markdown",
   "id": "5b351ec2",
   "metadata": {},
   "source": [
    "By looking at the features of the dataset, we have seen that there is a lot of irrelevant and redundant data to drop and continuous data that has to be discretized and denoised. \n",
    "\n",
    "In particular, the following features will be dropped:\n",
    "\n",
    "- `school`:  the performance of a student doesn't depend on the choice of the school;\n",
    "\n",
    "\n",
    "- `romantic`: the performance of a student doesn't depend in wheter he has a romantic relationship or not;\n",
    "\n",
    "\n",
    "- `famsize`: the performance of a student doesn't depend whether the family has more or less than three members;\n",
    "\n",
    "\n",
    "- `guardian`: the performance of a student doesn't depend on whom his guardian is;\n",
    "\n",
    "\n",
    "- `nursery`: the performance of a student doesn't depend on whether he attended nursery school or not;\n",
    "\n",
    "\n",
    "- `goout`: the performance of a student depends on whether he goes out every night or not, but there are already other features in the dataset that influence this behavior in the same way; \n",
    "\n",
    "\n",
    "- `Walc`: the performance of a student doesn't depend whether he consumes alcohol on weekends;\n",
    "\n",
    "\n",
    "- `reason`: the performance of a student doesn't depend on the choice of the school, as we said earlier for the attribute `school`\n",
    "\n",
    "\n",
    "- `Mjob` and `Fjob`: the performance of a student doesn't depend on his parents' job;\n",
    "\n",
    "\n",
    "- `address`: the performance of a student doesn't depend on his home address;\n",
    "\n",
    "\n",
    "- `higher`: the performance of a student doesn't depend whether he wants to attend college or not; \n",
    "\n",
    "\n",
    "- `activities`: the performance of a student depends on extra-curricular activities, but in this dataset there are already other features that describe this behavior.\n",
    "\n",
    "\n",
    "- `internet`: the performance of a student doesn't depend on whether he has internet connection at home or not."
   ]
  },
  {
   "cell_type": "code",
   "execution_count": 4,
   "id": "1025883c",
   "metadata": {},
   "outputs": [],
   "source": [
    "df_new = df.drop(['school',\n",
    "                  'romantic',   \n",
    "                  'famsize',\n",
    "                  'guardian',\n",
    "                  'nursery',\n",
    "                  'goout',      \n",
    "                  'Walc',\n",
    "                  'reason',\n",
    "                  'Mjob',\n",
    "                  'Fjob',\n",
    "                  'address',\n",
    "                  'higher',\n",
    "                  'activities', \n",
    "                  'internet'],  \n",
    "                  \n",
    "                 axis=1)"
   ]
  },
  {
   "cell_type": "markdown",
   "id": "a525bc30",
   "metadata": {},
   "source": [
    "Since `G1` and `G2` are intermediate grades, we decided to consider only the final grade `G3`:"
   ]
  },
  {
   "cell_type": "code",
   "execution_count": 5,
   "id": "ce20f51a",
   "metadata": {},
   "outputs": [],
   "source": [
    "df_new = df_new.drop(['G1','G2',], axis=1)"
   ]
  },
  {
   "cell_type": "markdown",
   "id": "6b4004b9",
   "metadata": {},
   "source": [
    "Then we decided to discretize the age of the students so that we could divide them in three macrogroups:\n",
    "\n",
    "- `15-17`: students that have never failed a year;\n",
    "- `18-19`: students that have failed one year;\n",
    "- `20-22`: students that have failed many years of school."
   ]
  },
  {
   "cell_type": "code",
   "execution_count": 6,
   "id": "20a8b8b9",
   "metadata": {
    "scrolled": false
   },
   "outputs": [
    {
     "name": "stdout",
     "output_type": "stream",
     "text": [
      "The students' minimum age found in the dataset is: 15\n",
      "The students' maximum age found in the dataset is: 22\n",
      "\n",
      "\n",
      "There are: \n",
      " - 194 students that are 15 years old\n",
      " - 281 students that are 16 years old\n",
      " - 277 students that are 17 years old\n",
      "\n",
      "Meaning that the bin '15-17' should comprehend 752 students\n",
      "\n",
      "\n",
      "There are: \n",
      " - 222 students that are 18 years old\n",
      " - 56 students that are 19 years old\n",
      "\n",
      "Meaning that the bin '18-19' should comprehend 278 students\n",
      "\n",
      "\n",
      "There are: \n",
      " - 9 students that are 20 years old\n",
      " - 3 students that are 21 years old\n",
      " - 2 students that are 22 years old\n",
      "\n",
      "Meaning that the bin '20-22' should comprehend 14 students\n"
     ]
    }
   ],
   "source": [
    "min_age = np.min(df['age'])\n",
    "max_age = np.max(df['age'])\n",
    "\n",
    "print(f\"The students' minimum age found in the dataset is: {min_age}\", end = \"\")\n",
    "print(f\"\\nThe students' maximum age found in the dataset is: {max_age}\")\n",
    "\n",
    "\n",
    "#range 15-17:\n",
    "num_age15 = len(df[df['age'] == 15])\n",
    "num_age16 = len(df[df['age'] == 16])\n",
    "num_age17 = len(df[df['age'] == 17])\n",
    "\n",
    "print(f\"\\n\\nThere are: \\n - {num_age15} students that are 15 years old\", end = \"\")\n",
    "print(f\"\\n - {num_age16} students that are 16 years old\", end = \"\")\n",
    "print(f\"\\n - {num_age17} students that are 17 years old\")\n",
    "print(f\"\\nMeaning that the bin '15-17' should comprehend {num_age15 + num_age16 + num_age17} students\")\n",
    "\n",
    "#range 18-19:\n",
    "num_age18 = len(df[df['age'] == 18])\n",
    "num_age19 = len(df[df['age'] == 19])\n",
    "\n",
    "print(f\"\\n\\nThere are: \\n - {num_age18} students that are 18 years old\", end = \"\")\n",
    "print(f\"\\n - {num_age19} students that are 19 years old\")\n",
    "print(f\"\\nMeaning that the bin '18-19' should comprehend {num_age18 + num_age19} students\")\n",
    "\n",
    "#range 20-22\n",
    "num_age20 = len(df[df['age'] == 20])\n",
    "num_age21 = len(df[df['age'] == 21])\n",
    "num_age22 = len(df[df['age'] == 22])\n",
    "\n",
    "print(f\"\\n\\nThere are: \\n - {num_age20} students that are 20 years old\", end = \"\")\n",
    "print(f\"\\n - {num_age21} students that are 21 years old\", end = \"\")\n",
    "print(f\"\\n - {num_age22} students that are 22 years old\")\n",
    "print(f\"\\nMeaning that the bin '20-22' should comprehend {num_age20 + num_age21 + num_age22} students\")"
   ]
  },
  {
   "cell_type": "markdown",
   "id": "abb09f69",
   "metadata": {},
   "source": [
    "Now lets create the bins and check if some error occured by comparing the number of students in each newly created group with the numbers computed in the last cell of code:"
   ]
  },
  {
   "cell_type": "code",
   "execution_count": 7,
   "id": "5c0d285f",
   "metadata": {},
   "outputs": [
    {
     "name": "stdout",
     "output_type": "stream",
     "text": [
      "The bin counts are: \n",
      "\n",
      "15-17    752\n",
      "18-19    278\n",
      "20-22     14\n",
      "Name: age, dtype: int64\n"
     ]
    }
   ],
   "source": [
    "df_new['age'] = pd.cut(\n",
    "                       x = df_new['age'],                       #considering only the 'age' columns\n",
    "                       bins = [min_age, 17, 19, max_age],       #[15-22] becomes [15-17], [18-19], [20,21]\n",
    "                       labels = [\"15-17\",\"18-19\", \"20-22\"],     #labels to assign to above bins\n",
    "                       right = True,                            #include right most element (...]\n",
    "                       include_lowest=True                      #include left most element  [...)\n",
    "                      )\n",
    "\n",
    "df_new['age'] = df_new['age'].astype(str)\n",
    "\n",
    "print(f\"The bin counts are: \\n\\n{df_new['age'].value_counts()}\")"
   ]
  },
  {
   "cell_type": "markdown",
   "id": "e14c2ea9",
   "metadata": {},
   "source": [
    "The feauture `age` is not the only one that should be discretized. In [this article](https://www.scholaro.com/db/Countries/Portugal/Grading-System), we found out that the grade `G3` can be discretized as follows:  \n",
    "\n",
    "|Grade||Description||Translation|\n",
    "|:----------||:--------------||:-----------------|\n",
    "|20.00||Muito bom con distincao e louvor||Very good with distinction and honors|\n",
    "|18.00 - 19.99||Excelente||Excellent|\n",
    "|16.00 - 17.99||Muito Bom||Very Good|\n",
    "|14.00 - 15.99||Bom||Good|\n",
    "|10.00 - 13.99||Suficiente||Sufficient|\n",
    "|7.00 - 9.99||Mediocre||Poor|\n",
    "|0.00 - 6.99||Mau||Poor|"
   ]
  },
  {
   "cell_type": "code",
   "execution_count": 8,
   "id": "a85c76a2",
   "metadata": {},
   "outputs": [
    {
     "name": "stdout",
     "output_type": "stream",
     "text": [
      "There are 81 students that obtained Mau\n",
      "\n",
      "There are 149 students that obtained Mediocre\n",
      "\n",
      "There are 520 students that obtained Suficiente\n",
      "\n",
      "There are 172 students that obtained Bom\n",
      "\n",
      "There are 87 students that obtained Muito bom\n",
      "\n",
      "There are 34 students that obtained Excelente\n",
      "\n",
      "There are 1 students that obtained Muito bom con distincao e louvor\n"
     ]
    }
   ],
   "source": [
    "#range mau: \n",
    "num_mau = (len(df_new[df_new['G3'] == 0]) + len(df_new[df_new['G3'] == 1]) + len(df_new[df_new['G3'] == 2]) + len(df_new[df_new['G3'] == 3]) + len(df_new[df_new['G3'] == 4]) + len(df_new[df_new['G3'] == 5]) + len(df_new[df_new['G3'] == 6]))\n",
    "            \n",
    "print(f\"There are {num_mau} students that obtained Mau\")\n",
    "\n",
    "#range mediocre\n",
    "num_med = len(df_new[df_new['G3'] == 7]) + len(df_new[df_new['G3'] == 8]) + len(df_new[df_new['G3'] == 9])\n",
    "print(f\"\\nThere are {num_med} students that obtained Mediocre\")\n",
    "\n",
    "#range suficiente \n",
    "num_suf = len(df_new[df_new['G3'] == 10]) + len(df_new[df_new['G3'] == 11]) + len(df_new[df_new['G3'] == 12]) + len(df_new[df_new['G3'] == 13])\n",
    "print(f\"\\nThere are {num_suf} students that obtained Suficiente\")\n",
    "                     \n",
    "#range bom \n",
    "num_bom = len(df_new[df_new['G3'] == 14]) + len(df_new[df_new['G3'] == 15])\n",
    "print(f\"\\nThere are {num_bom} students that obtained Bom\")\n",
    "                     \n",
    "#range muito bom \n",
    "num_muitobom = len(df_new[df_new['G3'] == 16]) + len(df_new[df_new['G3'] == 17])\n",
    "print(f\"\\nThere are {num_muitobom} students that obtained Muito bom\")\n",
    "                     \n",
    "#range excelente \n",
    "num_exc = len(df_new[df_new['G3'] == 18]) + len(df_new[df_new['G3'] == 19])\n",
    "print(f\"\\nThere are {num_exc} students that obtained Excelente\")\n",
    "                     \n",
    "#range muito bom con distincao e louvor\n",
    "num_muitobomdist = len(df_new[df_new['G3'] == 20])\n",
    "print(f\"\\nThere are {num_muitobomdist} students that obtained Muito bom con distincao e louvor\")"
   ]
  },
  {
   "cell_type": "markdown",
   "id": "8903aa88",
   "metadata": {},
   "source": [
    "Now lets create the bins and check if some error occured by comparing the number of students in each newly created group with the numbers computed in the last cell of code:"
   ]
  },
  {
   "cell_type": "code",
   "execution_count": 9,
   "id": "f2ca4394",
   "metadata": {
    "scrolled": true
   },
   "outputs": [
    {
     "name": "stdout",
     "output_type": "stream",
     "text": [
      "The bin counts are: \n",
      "\n",
      "Suficiente           520\n",
      "Bom                  172\n",
      "Mediocre             149\n",
      "Muito Bom             87\n",
      "Mau                   81\n",
      "Excelente             34\n",
      "Mui bom distincao      1\n",
      "Name: G3, dtype: int64\n"
     ]
    }
   ],
   "source": [
    "ordered_labels = [\"Mau\",\n",
    "                  \"Mediocre\", \n",
    "                  \"Suficiente\",\n",
    "                  \"Bom\",\n",
    "                  \"Muito Bom\",\n",
    "                  \"Excelente\",\n",
    "                  \"Mui bom distincao\"\n",
    "                 ]\n",
    "\n",
    "\n",
    "df_new['G3'] = pd.cut(x = df_new['G3'], \n",
    "                      bins = [np.min(df_new['G3']),6.99,9.99,13.99,15.99,17.99,19.99,np.max(df_new['G3'])], \n",
    "                      labels = ordered_labels,\n",
    "                      right = True,\n",
    "                      include_lowest = True)\n",
    "\n",
    "df_new['G3'] = df_new['G3'].astype(str)\n",
    "\n",
    "print(f\"The bin counts are: \\n\\n{df_new['G3'].value_counts()}\")"
   ]
  },
  {
   "cell_type": "markdown",
   "id": "cb2afa25",
   "metadata": {},
   "source": [
    "The last feature that should be discretized is `absences`:"
   ]
  },
  {
   "cell_type": "code",
   "execution_count": 10,
   "id": "8af03638",
   "metadata": {},
   "outputs": [
    {
     "data": {
      "text/plain": [
       "<matplotlib.axes._subplots.AxesSubplot at 0x7f5dc40f5460>"
      ]
     },
     "execution_count": 10,
     "metadata": {},
     "output_type": "execute_result"
    },
    {
     "data": {
      "image/png": "[encoded data removed]",
      "text/plain": [
       "<Figure size 432x288 with 1 Axes>"
      ]
     },
     "metadata": {
      "needs_background": "light"
     },
     "output_type": "display_data"
    }
   ],
   "source": [
    "df_new['absences'].hist()"
   ]
  },
  {
   "cell_type": "markdown",
   "id": "9455ed70",
   "metadata": {},
   "source": [
    "By looking at the previous histogram, we decided to discretize the values of `absebces` as follows:\n",
    "\n",
    "- `0-10`\n",
    "- `11-20`\n",
    "- `21-30`\n",
    "- `+30`\n",
    "\n"
   ]
  },
  {
   "cell_type": "code",
   "execution_count": 11,
   "id": "bfc0a272",
   "metadata": {},
   "outputs": [],
   "source": [
    "ordered_labels = [\"0-10\",\"11-20\", \"21-30\", \"+30\"]\n",
    "\n",
    "df_new['absences'] = pd.cut(x = df_new['absences'], \n",
    "                            bins = [np.min(df_new['absences']),10,20,30,np.max(df_new['absences'])], \n",
    "                            labels = ordered_labels,\n",
    "                            right = True,\n",
    "                            include_lowest = True)\n",
    "\n",
    "df_new['absences'] = df_new['absences'].astype(str)"
   ]
  },
  {
   "cell_type": "markdown",
   "id": "9bdbb2bd",
   "metadata": {},
   "source": [
    "Let's observe the distribution of the discretized features represented on histograms and print the new dataset's structure:"
   ]
  },
  {
   "cell_type": "code",
   "execution_count": 12,
   "id": "92a57dbc",
   "metadata": {
    "scrolled": false
   },
   "outputs": [
    {
     "name": "stderr",
     "output_type": "stream",
     "text": [
      "/tmp/ipykernel_20163/2188479415.py:22: UserWarning: Matplotlib is currently using module://matplotlib_inline.backend_inline, which is a non-GUI backend, so cannot show the figure.\n",
      "  fig.show()\n"
     ]
    },
    {
     "data": {
      "image/png": "[encoded data removed]",
      "text/plain": [
       "<Figure size 1440x504 with 3 Axes>"
      ]
     },
     "metadata": {
      "needs_background": "light"
     },
     "output_type": "display_data"
    }
   ],
   "source": [
    "discretized = [df_new['age'], \n",
    "               df_new['G3'], \n",
    "               df_new['absences']]\n",
    "\n",
    "titles = [\"Age of the students\", \n",
    "          \"Final grade of the students\", \n",
    "          \"Number of absences of the students\"]\n",
    "\n",
    "bins = [[\"15-17\",\"18-19\", \"20-22\"], \n",
    "        [\"Mau\", \"Mediocre\",  \"Suficiente\", \"Bom\", \"Muito Bom\", \"Excelente\", \"Mui bom distincao\" ],\n",
    "        [\"0-10\",\"11-20\", \"21-30\", \"+30\"]]\n",
    "\n",
    "fig, x = plt.subplots(1, len(discretized), figsize=(20, 7))\n",
    "\n",
    "for i in range(len(x)):\n",
    "    x[i].bar(bins[i], discretized[i].value_counts(), width = 0.3)\n",
    "    x[i].grid(True)\n",
    "    x[i].set_title(titles[i])\n",
    "    if i == 1:\n",
    "        _ = plt.setp(x[i].get_xticklabels(), rotation=45)\n",
    "\n",
    "fig.show()"
   ]
  },
  {
   "cell_type": "code",
   "execution_count": 13,
   "id": "6caa2c97",
   "metadata": {},
   "outputs": [
    {
     "name": "stdout",
     "output_type": "stream",
     "text": [
      "The preprocessed dataset has the following structure:\n",
      "\n",
      "Number of features per individual:\t17\n",
      "Number of individuals in the dataset:\t1044\n",
      "\n",
      "Columns names:\n",
      "\n",
      "0. sex\n",
      "1. age\n",
      "2. Pstatus\n",
      "3. Medu\n",
      "4. Fedu\n",
      "5. traveltime\n",
      "6. studytime\n",
      "7. failures\n",
      "8. schoolsup\n",
      "9. famsup\n",
      "10. paid\n",
      "11. famrel\n",
      "12. freetime\n",
      "13. Dalc\n",
      "14. health\n",
      "15. absences\n",
      "16. G3\n",
      "\n",
      "Representation of the first five individuals of the dataset:\n"
     ]
    },
    {
     "data": {
      "text/html": [
       "<div>\n",
       "<style scoped>\n",
       "    .dataframe tbody tr th:only-of-type {\n",
       "        vertical-align: middle;\n",
       "    }\n",
       "\n",
       "    .dataframe tbody tr th {\n",
       "        vertical-align: top;\n",
       "    }\n",
       "\n",
       "    .dataframe thead th {\n",
       "        text-align: right;\n",
       "    }\n",
       "</style>\n",
       "<table border=\"1\" class=\"dataframe\">\n",
       "  <thead>\n",
       "    <tr style=\"text-align: right;\">\n",
       "      <th></th>\n",
       "      <th>sex</th>\n",
       "      <th>age</th>\n",
       "      <th>Pstatus</th>\n",
       "      <th>Medu</th>\n",
       "      <th>Fedu</th>\n",
       "      <th>traveltime</th>\n",
       "      <th>studytime</th>\n",
       "      <th>failures</th>\n",
       "      <th>schoolsup</th>\n",
       "      <th>famsup</th>\n",
       "      <th>paid</th>\n",
       "      <th>famrel</th>\n",
       "      <th>freetime</th>\n",
       "      <th>Dalc</th>\n",
       "      <th>health</th>\n",
       "      <th>absences</th>\n",
       "      <th>G3</th>\n",
       "    </tr>\n",
       "  </thead>\n",
       "  <tbody>\n",
       "    <tr>\n",
       "      <th>0</th>\n",
       "      <td>F</td>\n",
       "      <td>18-19</td>\n",
       "      <td>A</td>\n",
       "      <td>4</td>\n",
       "      <td>4</td>\n",
       "      <td>2</td>\n",
       "      <td>2</td>\n",
       "      <td>0</td>\n",
       "      <td>yes</td>\n",
       "      <td>no</td>\n",
       "      <td>no</td>\n",
       "      <td>4</td>\n",
       "      <td>3</td>\n",
       "      <td>1</td>\n",
       "      <td>3</td>\n",
       "      <td>0-10</td>\n",
       "      <td>Mau</td>\n",
       "    </tr>\n",
       "    <tr>\n",
       "      <th>1</th>\n",
       "      <td>F</td>\n",
       "      <td>15-17</td>\n",
       "      <td>T</td>\n",
       "      <td>1</td>\n",
       "      <td>1</td>\n",
       "      <td>1</td>\n",
       "      <td>2</td>\n",
       "      <td>0</td>\n",
       "      <td>no</td>\n",
       "      <td>yes</td>\n",
       "      <td>no</td>\n",
       "      <td>5</td>\n",
       "      <td>3</td>\n",
       "      <td>1</td>\n",
       "      <td>3</td>\n",
       "      <td>0-10</td>\n",
       "      <td>Mau</td>\n",
       "    </tr>\n",
       "    <tr>\n",
       "      <th>2</th>\n",
       "      <td>F</td>\n",
       "      <td>15-17</td>\n",
       "      <td>T</td>\n",
       "      <td>1</td>\n",
       "      <td>1</td>\n",
       "      <td>1</td>\n",
       "      <td>2</td>\n",
       "      <td>3</td>\n",
       "      <td>yes</td>\n",
       "      <td>no</td>\n",
       "      <td>yes</td>\n",
       "      <td>4</td>\n",
       "      <td>3</td>\n",
       "      <td>2</td>\n",
       "      <td>3</td>\n",
       "      <td>0-10</td>\n",
       "      <td>Suficiente</td>\n",
       "    </tr>\n",
       "    <tr>\n",
       "      <th>3</th>\n",
       "      <td>F</td>\n",
       "      <td>15-17</td>\n",
       "      <td>T</td>\n",
       "      <td>4</td>\n",
       "      <td>2</td>\n",
       "      <td>1</td>\n",
       "      <td>3</td>\n",
       "      <td>0</td>\n",
       "      <td>no</td>\n",
       "      <td>yes</td>\n",
       "      <td>yes</td>\n",
       "      <td>3</td>\n",
       "      <td>2</td>\n",
       "      <td>1</td>\n",
       "      <td>5</td>\n",
       "      <td>0-10</td>\n",
       "      <td>Bom</td>\n",
       "    </tr>\n",
       "    <tr>\n",
       "      <th>4</th>\n",
       "      <td>F</td>\n",
       "      <td>15-17</td>\n",
       "      <td>T</td>\n",
       "      <td>3</td>\n",
       "      <td>3</td>\n",
       "      <td>1</td>\n",
       "      <td>2</td>\n",
       "      <td>0</td>\n",
       "      <td>no</td>\n",
       "      <td>yes</td>\n",
       "      <td>yes</td>\n",
       "      <td>4</td>\n",
       "      <td>3</td>\n",
       "      <td>1</td>\n",
       "      <td>5</td>\n",
       "      <td>0-10</td>\n",
       "      <td>Suficiente</td>\n",
       "    </tr>\n",
       "  </tbody>\n",
       "</table>\n",
       "</div>"
      ],
      "text/plain": [
       "  sex    age Pstatus  Medu  Fedu  traveltime  studytime  failures schoolsup  \\\n",
       "0   F  18-19       A     4     4           2          2         0       yes   \n",
       "1   F  15-17       T     1     1           1          2         0        no   \n",
       "2   F  15-17       T     1     1           1          2         3       yes   \n",
       "3   F  15-17       T     4     2           1          3         0        no   \n",
       "4   F  15-17       T     3     3           1          2         0        no   \n",
       "\n",
       "  famsup paid  famrel  freetime  Dalc  health absences          G3  \n",
       "0     no   no       4         3     1       3     0-10         Mau  \n",
       "1    yes   no       5         3     1       3     0-10         Mau  \n",
       "2     no  yes       4         3     2       3     0-10  Suficiente  \n",
       "3    yes  yes       3         2     1       5     0-10         Bom  \n",
       "4    yes  yes       4         3     1       5     0-10  Suficiente  "
      ]
     },
     "execution_count": 13,
     "metadata": {},
     "output_type": "execute_result"
    }
   ],
   "source": [
    "#Preprocessed dataset's structure info:\n",
    "print(\"The preprocessed dataset has the following structure:\\n\")\n",
    "print(f\"Number of features per individual:\\t{len(df_new.columns)}\")\n",
    "print(f\"Number of individuals in the dataset:\\t{len(df_new)}\")\n",
    "print(f\"\\nColumns names:\\n\")\n",
    "\n",
    "for i in range(len(df_new.columns)):\n",
    "    print(f\"{i}. {df_new.columns[i]}\")\n",
    "\n",
    "print(\"\\nRepresentation of the first five individuals of the dataset:\")\n",
    "df_new.head()"
   ]
  },
  {
   "cell_type": "markdown",
   "id": "7e779a7f",
   "metadata": {},
   "source": [
    "## 2. Data Exploration \n",
    "\n",
    "<p id=\"data_exploration\"></p>\n",
    "\n",
    "In order to build our Bayesian Network, we must analyze the relationships between each pair of features. In this way, we are able to build a good Bayesian model and formulate correct inferences. \n",
    "\n",
    "Let's now have a look at the attributes that, in our opinion, have high influence on others:"
   ]
  },
  {
   "cell_type": "markdown",
   "id": "f441e914",
   "metadata": {},
   "source": [
    "### 2.1. Pstatus $\\rightarrow$ famrel\n",
    "\n",
    "In our opinion, the fact that parents are together or apart affects the relation with their son/daughter.  "
   ]
  },
  {
   "cell_type": "code",
   "execution_count": 14,
   "id": "ca6f249f",
   "metadata": {
    "scrolled": false
   },
   "outputs": [
    {
     "data": {
      "text/plain": [
       "<matplotlib.axes._subplots.AxesSubplot at 0x7f5d2e7d0940>"
      ]
     },
     "execution_count": 14,
     "metadata": {},
     "output_type": "execute_result"
    },
    {
     "data": {
      "image/png": "[encoded data removed]",
      "text/plain": [
       "<Figure size 1080x360 with 2 Axes>"
      ]
     },
     "metadata": {
      "needs_background": "light"
     },
     "output_type": "display_data"
    }
   ],
   "source": [
    "#parameters\n",
    "a,b = 'Pstatus', 'famrel'\n",
    "a_order = ['A','T']\n",
    "\n",
    "fig, ax = plt.subplots(1, 2, figsize=(15, 5))\n",
    "\n",
    "#countplot:\n",
    "sns.countplot(data = df_new,\n",
    "              x = a,\n",
    "              hue = b, \n",
    "              order = a_order,\n",
    "              ax = ax[0])\n",
    "\n",
    "ax[0].set_title(\"Countplot\")\n",
    "ax[0].grid = True\n",
    "\n",
    "\n",
    "#normalized countplot:\n",
    "ax[1].set_title(\"Normalized Countplot\")\n",
    "ax[1].grid = True\n",
    "\n",
    "occupation_counts = (df_new.groupby([a])[b]\n",
    "                     .value_counts(normalize = True)\n",
    "                     .rename('percentage')\n",
    "                     .mul(100)\n",
    "                     .reset_index()\n",
    "                     .sort_values(b))\n",
    "\n",
    "sns.barplot(x = a, \n",
    "            y = \"percentage\", \n",
    "            hue = b, \n",
    "            order = a_order,\n",
    "            data = occupation_counts, \n",
    "            ax = ax[1])"
   ]
  },
  {
   "cell_type": "markdown",
   "id": "81211ad9",
   "metadata": {},
   "source": [
    "Unexpectedly, the countplot shows that `famrel` has minimal changes on its trend when `Pstatus` varies. As a matter of fact, we can see that parents that are apart might still have a good family relationship with their son/daughter, meaning that:\n",
    "\n",
    "**<div align=\"center\">`Pstatus` does not influence `famrel`.</div>**"
   ]
  },
  {
   "cell_type": "markdown",
   "id": "a56aa3cd",
   "metadata": {},
   "source": [
    "### 2.2. famrel $\\rightarrow$ famsup\n",
    "Intuitively, if a student has a good relationship with his parents, he will more likely be academically supported. "
   ]
  },
  {
   "cell_type": "code",
   "execution_count": 15,
   "id": "2a93d197",
   "metadata": {},
   "outputs": [
    {
     "data": {
      "text/plain": [
       "<matplotlib.axes._subplots.AxesSubplot at 0x7f5d2e973670>"
      ]
     },
     "execution_count": 15,
     "metadata": {},
     "output_type": "execute_result"
    },
    {
     "data": {
      "image/png": "[encoded data removed]",
      "text/plain": [
       "<Figure size 1080x360 with 2 Axes>"
      ]
     },
     "metadata": {
      "needs_background": "light"
     },
     "output_type": "display_data"
    }
   ],
   "source": [
    "#parameters\n",
    "a,b = 'famrel', 'famsup'\n",
    "a_order = [1,2,3,4,5]\n",
    "\n",
    "fig, ax = plt.subplots(1, 2, figsize=(15, 5))\n",
    "\n",
    "#countplot:\n",
    "sns.countplot(data = df_new,\n",
    "              x = a,\n",
    "              hue = b, \n",
    "              order = a_order,\n",
    "              ax = ax[0])\n",
    "\n",
    "ax[0].set_title(\"Countplot\")\n",
    "ax[0].grid = True\n",
    "\n",
    "\n",
    "#normalized countplot:\n",
    "ax[1].set_title(\"Normalized Countplot\")\n",
    "ax[1].grid = True\n",
    "\n",
    "occupation_counts = (df_new.groupby([a])[b]\n",
    "                     .value_counts(normalize = True)\n",
    "                     .rename('percentage')\n",
    "                     .mul(100)\n",
    "                     .reset_index()\n",
    "                     .sort_values(b))\n",
    "\n",
    "sns.barplot(x = a, \n",
    "            y = \"percentage\", \n",
    "            hue = b, \n",
    "            order = a_order,\n",
    "            data = occupation_counts, \n",
    "            ax = ax[1])"
   ]
  },
  {
   "cell_type": "markdown",
   "id": "95fd1cab",
   "metadata": {},
   "source": [
    "In the previous plot we can see that `famrel` has minimal changes on its trend when `famsup` varies. The only case where the trend is slightly different from the others is for `famrel = 4`, indeed in this case the gap between the two coloumns is a little bit higher. In conclusion, we can say that having a good family relationship does not really imply that a student will be supported academically by his parents: \n",
    "\n",
    "**<div align=\"center\">`famrel` does not influence `famsup`.</div>**"
   ]
  },
  {
   "cell_type": "markdown",
   "id": "ccc60303",
   "metadata": {},
   "source": [
    "### 2.3. Medu/Fedu $\\rightarrow$ famsup \n",
    "\n",
    "<p id=\"famsup_block\"></p>\n",
    "\n",
    "Mother's level of education should influence the family support value."
   ]
  },
  {
   "cell_type": "code",
   "execution_count": 16,
   "id": "f8adcf41",
   "metadata": {},
   "outputs": [
    {
     "data": {
      "text/plain": [
       "<matplotlib.axes._subplots.AxesSubplot at 0x7f5d2e86d820>"
      ]
     },
     "execution_count": 16,
     "metadata": {},
     "output_type": "execute_result"
    },
    {
     "data": {
      "image/png": "[encoded data removed]",
      "text/plain": [
       "<Figure size 1080x360 with 2 Axes>"
      ]
     },
     "metadata": {
      "needs_background": "light"
     },
     "output_type": "display_data"
    }
   ],
   "source": [
    "#parameters\n",
    "a,b = 'Medu', 'famsup'\n",
    "a_order = [0,1,2,3,4]\n",
    "\n",
    "fig, ax = plt.subplots(1, 2, figsize=(15, 5))\n",
    "\n",
    "#countplot:\n",
    "sns.countplot(data = df_new,\n",
    "              x = a,\n",
    "              hue = b, \n",
    "              order = a_order,\n",
    "              ax = ax[0])\n",
    "\n",
    "ax[0].set_title(\"Countplot\")\n",
    "ax[0].grid = True\n",
    "\n",
    "\n",
    "#normalized countplot:\n",
    "ax[1].set_title(\"Normalized Countplot\")\n",
    "ax[1].grid = True\n",
    "\n",
    "occupation_counts = (df_new.groupby([a])[b]\n",
    "                     .value_counts(normalize = True)\n",
    "                     .rename('percentage')\n",
    "                     .mul(100)\n",
    "                     .reset_index()\n",
    "                     .sort_values(b))\n",
    "\n",
    "sns.barplot(x = a, \n",
    "            y = \"percentage\", \n",
    "            hue = b,\n",
    "            order = a_order,\n",
    "            data = occupation_counts, \n",
    "            ax = ax[1])"
   ]
  },
  {
   "cell_type": "markdown",
   "id": "91534714",
   "metadata": {},
   "source": [
    "As expected, higher is the mother's level of education, more likely `famsup` is equal to *'yes'*. \n",
    "This previous point is valid also for the father's level of education meaning that:\n",
    "\n",
    "**<div align=\"center\">`Medu` and `Fedu` both influence `famsup`.</div>**"
   ]
  },
  {
   "cell_type": "markdown",
   "id": "c97391df",
   "metadata": {},
   "source": [
    "### 2.4. famsup $\\rightarrow$ paid \n",
    "A student that has family support in his academic carreer, morelikely will go to extra paid lessons.  "
   ]
  },
  {
   "cell_type": "code",
   "execution_count": 17,
   "id": "0a05d9b8",
   "metadata": {},
   "outputs": [
    {
     "data": {
      "text/plain": [
       "<matplotlib.axes._subplots.AxesSubplot at 0x7f5d2a71ba60>"
      ]
     },
     "execution_count": 17,
     "metadata": {},
     "output_type": "execute_result"
    },
    {
     "data": {
      "image/png": "[encoded data removed]",
      "text/plain": [
       "<Figure size 1080x360 with 2 Axes>"
      ]
     },
     "metadata": {
      "needs_background": "light"
     },
     "output_type": "display_data"
    }
   ],
   "source": [
    "#parameters\n",
    "a,b = 'famsup', 'paid'\n",
    "a_order = ['yes', 'no']\n",
    "\n",
    "fig, ax = plt.subplots(1, 2, figsize=(15, 5))\n",
    "\n",
    "#countplot:\n",
    "sns.countplot(data = df_new,\n",
    "              x = a,\n",
    "              hue = b, \n",
    "              order = a_order,\n",
    "              ax = ax[0])\n",
    "\n",
    "ax[0].set_title(\"Countplot\")\n",
    "ax[0].grid = True\n",
    "\n",
    "\n",
    "#normalized countplot:\n",
    "ax[1].set_title(\"Normalized Countplot\")\n",
    "ax[1].grid = True\n",
    "\n",
    "occupation_counts = (df_new.groupby([a])[b]\n",
    "                     .value_counts(normalize = True)\n",
    "                     .rename('percentage')\n",
    "                     .mul(100)\n",
    "                     .reset_index()\n",
    "                     .sort_values(b))\n",
    "\n",
    "sns.barplot(x = a, \n",
    "            y = \"percentage\", \n",
    "            hue = b,\n",
    "            order = a_order,\n",
    "            data = occupation_counts, \n",
    "            ax = ax[1])"
   ]
  },
  {
   "cell_type": "markdown",
   "id": "9bb671aa",
   "metadata": {},
   "source": [
    "The countplot shows that there is a slightly higher chance that a student attends extra paid lesson if his academic career is supported by his family, meaning that:\n",
    "\n",
    "**<div align=\"center\">`famsup` influences `paid`.</div>**"
   ]
  },
  {
   "cell_type": "markdown",
   "id": "010baefc",
   "metadata": {},
   "source": [
    "### 2.5. famsup $\\rightarrow$ studytime \n",
    "\n",
    "<p id=\"studytime_block\"></p>\n",
    "\n",
    "Parents that support their son's/daughter's academic career are more likely to influence the amount of studytime of their children."
   ]
  },
  {
   "cell_type": "code",
   "execution_count": 18,
   "id": "822732dc",
   "metadata": {},
   "outputs": [
    {
     "data": {
      "text/plain": [
       "<matplotlib.axes._subplots.AxesSubplot at 0x7f5d2a6522e0>"
      ]
     },
     "execution_count": 18,
     "metadata": {},
     "output_type": "execute_result"
    },
    {
     "data": {
      "image/png": "[encoded data removed]",
      "text/plain": [
       "<Figure size 1080x360 with 2 Axes>"
      ]
     },
     "metadata": {
      "needs_background": "light"
     },
     "output_type": "display_data"
    }
   ],
   "source": [
    "#parameters\n",
    "a,b = 'famsup', 'studytime'\n",
    "a_order = ['yes','no']\n",
    "\n",
    "fig, ax = plt.subplots(1, 2, figsize=(15, 5))\n",
    "\n",
    "#countplot:\n",
    "sns.countplot(data = df_new,\n",
    "              x = a,\n",
    "              hue = b, \n",
    "              order = a_order,\n",
    "              ax = ax[0])\n",
    "\n",
    "ax[0].set_title(\"Countplot\")\n",
    "ax[0].grid = True\n",
    "\n",
    "\n",
    "#normalized countplot:\n",
    "ax[1].set_title(\"Normalized Countplot\")\n",
    "ax[1].grid = True\n",
    "\n",
    "occupation_counts = (df_new.groupby([a])[b]\n",
    "                     .value_counts(normalize = True)\n",
    "                     .rename('percentage')\n",
    "                     .mul(100)\n",
    "                     .reset_index()\n",
    "                     .sort_values(b))\n",
    "\n",
    "sns.barplot(x = a, \n",
    "            y = \"percentage\", \n",
    "            hue = b,\n",
    "            order = a_order,\n",
    "            data = occupation_counts, \n",
    "            ax = ax[1])"
   ]
  },
  {
   "cell_type": "markdown",
   "id": "728f276f",
   "metadata": {},
   "source": [
    "The countplot shows that `studytime` varies its trend while changing `famsup`. As a matter of fact, if `famsup = 'yes'` the gap between the orange bar and the blu bar is much bigger than in the case of `famsup = 'no'`. This means that not receiving parental academic support implies a greater occurrence of students who study for a shorter amount of time. For this reason we can say that:\n",
    "\n",
    "**<div align=\"center\">`famsup` influences `studytime`.</div>**"
   ]
  },
  {
   "cell_type": "markdown",
   "id": "ac9fa503",
   "metadata": {},
   "source": [
    "### 2.6. Dalc $\\rightarrow$ studytime \n",
    "\n",
    "Workday alcohol consumption should negatively affect the amount of studytime. Let's see if the data confirms this trend."
   ]
  },
  {
   "cell_type": "code",
   "execution_count": 19,
   "id": "3ce1b01f",
   "metadata": {},
   "outputs": [
    {
     "data": {
      "text/plain": [
       "<matplotlib.axes._subplots.AxesSubplot at 0x7f5d2a534820>"
      ]
     },
     "execution_count": 19,
     "metadata": {},
     "output_type": "execute_result"
    },
    {
     "data": {
      "image/png": "[encoded data removed]",
      "text/plain": [
       "<Figure size 1080x360 with 2 Axes>"
      ]
     },
     "metadata": {
      "needs_background": "light"
     },
     "output_type": "display_data"
    }
   ],
   "source": [
    "#parameters\n",
    "a,b = 'Dalc', 'studytime'\n",
    "a_order = [1,2,3,4]\n",
    "\n",
    "fig, ax = plt.subplots(1, 2, figsize=(15, 5))\n",
    "\n",
    "#countplot:\n",
    "sns.countplot(data = df_new,\n",
    "              x = a,\n",
    "              hue = b, \n",
    "              order = a_order,\n",
    "              ax = ax[0])\n",
    "\n",
    "ax[0].set_title(\"Countplot\")\n",
    "ax[0].grid = True\n",
    "\n",
    "\n",
    "#normalized countplot:\n",
    "ax[1].set_title(\"Normalized Countplot\")\n",
    "ax[1].grid = True\n",
    "\n",
    "occupation_counts = (df_new.groupby([a])[b]\n",
    "                     .value_counts(normalize = True)\n",
    "                     .rename('percentage')\n",
    "                     .mul(100)\n",
    "                     .reset_index()\n",
    "                     .sort_values(b))\n",
    "\n",
    "sns.barplot(x = a, \n",
    "            y = \"percentage\", \n",
    "            hue = b,\n",
    "            order = a_order,\n",
    "            data = occupation_counts, \n",
    "            ax = ax[1])"
   ]
  },
  {
   "cell_type": "markdown",
   "id": "3d309342",
   "metadata": {},
   "source": [
    "In the previous countplot we can see that the higher is the workday alcohol consumption, approximately the less studytime there will be, meaning that:\n",
    "\n",
    "**<div align=\"center\">`Dalc` influences `studytime`.</div>**"
   ]
  },
  {
   "cell_type": "markdown",
   "id": "92afd0ee",
   "metadata": {},
   "source": [
    "### 2.7. traveltime $\\rightarrow$ studytime "
   ]
  },
  {
   "cell_type": "markdown",
   "id": "e655484b",
   "metadata": {},
   "source": [
    "The time it takes to go to school should affect the amount of studytime of the students."
   ]
  },
  {
   "cell_type": "code",
   "execution_count": 20,
   "id": "35976d5e",
   "metadata": {},
   "outputs": [
    {
     "data": {
      "text/plain": [
       "<matplotlib.axes._subplots.AxesSubplot at 0x7f5d2a45e280>"
      ]
     },
     "execution_count": 20,
     "metadata": {},
     "output_type": "execute_result"
    },
    {
     "data": {
      "image/png": "[encoded data removed]",
      "text/plain": [
       "<Figure size 1080x360 with 2 Axes>"
      ]
     },
     "metadata": {
      "needs_background": "light"
     },
     "output_type": "display_data"
    }
   ],
   "source": [
    "#parameters\n",
    "a,b = 'traveltime', 'studytime'\n",
    "a_order = [1,2,3,4]\n",
    "\n",
    "fig, ax = plt.subplots(1, 2, figsize=(15, 5))\n",
    "\n",
    "#countplot:\n",
    "sns.countplot(data = df_new,\n",
    "              x = a,\n",
    "              hue = b, \n",
    "              order = a_order,\n",
    "              ax = ax[0])\n",
    "\n",
    "ax[0].set_title(\"Countplot\")\n",
    "ax[0].grid = True\n",
    "\n",
    "\n",
    "#normalized countplot:\n",
    "ax[1].set_title(\"Normalized Countplot\")\n",
    "ax[1].grid = True\n",
    "\n",
    "occupation_counts = (df_new.groupby([a])[b]\n",
    "                     .value_counts(normalize = True)\n",
    "                     .rename('percentage')\n",
    "                     .mul(100)\n",
    "                     .reset_index()\n",
    "                     .sort_values(b))\n",
    "\n",
    "sns.barplot(x = a, \n",
    "            y = \"percentage\", \n",
    "            hue = b,\n",
    "            order = a_order,\n",
    "            data = occupation_counts, \n",
    "            ax = ax[1])"
   ]
  },
  {
   "cell_type": "markdown",
   "id": "1c5b1001",
   "metadata": {},
   "source": [
    "As we can see from the countplot, if `traveltime` is high, `studytime` is more likely equal to `1` or `2`, meaning that if the students waste a lot of time in traveling back and forth to school, they may have less time left to study. For this reasons we can say that:\n",
    "\n",
    "**<div align=\"center\">`traveltime` influences `studytime`.</div>**"
   ]
  },
  {
   "cell_type": "markdown",
   "id": "12ae82ac",
   "metadata": {},
   "source": [
    "### 2.8. freetime $\\rightarrow$ studytime "
   ]
  },
  {
   "cell_type": "markdown",
   "id": "588f8c17",
   "metadata": {},
   "source": [
    "For the same reasons above, students that have a lot of freetime might study more than student's with a little amount of freetime."
   ]
  },
  {
   "cell_type": "code",
   "execution_count": 21,
   "id": "41fb8985",
   "metadata": {},
   "outputs": [
    {
     "data": {
      "text/plain": [
       "<matplotlib.axes._subplots.AxesSubplot at 0x7f5d2a2fe5b0>"
      ]
     },
     "execution_count": 21,
     "metadata": {},
     "output_type": "execute_result"
    },
    {
     "data": {
      "image/png": "[encoded data removed]",
      "text/plain": [
       "<Figure size 1080x360 with 2 Axes>"
      ]
     },
     "metadata": {
      "needs_background": "light"
     },
     "output_type": "display_data"
    }
   ],
   "source": [
    "#parameters\n",
    "a,b = 'freetime', 'studytime'\n",
    "a_order = [1,2,3,4]\n",
    "\n",
    "fig, ax = plt.subplots(1, 2, figsize=(15, 5))\n",
    "\n",
    "#countplot:\n",
    "sns.countplot(data = df_new,\n",
    "              x = a,\n",
    "              hue = b, \n",
    "              order = a_order,\n",
    "              ax = ax[0])\n",
    "\n",
    "ax[0].set_title(\"Countplot\")\n",
    "ax[0].grid = True\n",
    "\n",
    "\n",
    "#normalized countplot:\n",
    "ax[1].set_title(\"Normalized Countplot\")\n",
    "ax[1].grid = True\n",
    "\n",
    "occupation_counts = (df_new.groupby([a])[b]\n",
    "                     .value_counts(normalize = True)\n",
    "                     .rename('percentage')\n",
    "                     .mul(100)\n",
    "                     .reset_index()\n",
    "                     .sort_values(b))\n",
    "\n",
    "sns.barplot(x = a, \n",
    "            y = \"percentage\", \n",
    "            hue = b,\n",
    "            order = a_order,\n",
    "            data = occupation_counts, \n",
    "            ax = ax[1])"
   ]
  },
  {
   "cell_type": "markdown",
   "id": "88c56af9",
   "metadata": {},
   "source": [
    "As we can see from the countplot, higher `freetime` values correspond to a slightly higher number of `studytime = 2` and `studytime = 3` occurrences. For this reasons we can say that:\n",
    "\n",
    "**<div align=\"center\">`freetime` influences `studytime`.</div>**"
   ]
  },
  {
   "cell_type": "markdown",
   "id": "fc081d84",
   "metadata": {},
   "source": [
    "### 2.9. health $\\rightarrow$ studytime \n",
    "\n",
    "Students' health conditions should affect their studytime, as a matter of fact, if a student has severe health problems, unfortunately he might not be in the conditions to study.  "
   ]
  },
  {
   "cell_type": "code",
   "execution_count": 22,
   "id": "8d0d1df7",
   "metadata": {},
   "outputs": [
    {
     "data": {
      "text/plain": [
       "<matplotlib.legend.Legend at 0x7f5d2a31cb80>"
      ]
     },
     "execution_count": 22,
     "metadata": {},
     "output_type": "execute_result"
    },
    {
     "data": {
      "image/png": "[encoded data removed]",
      "text/plain": [
       "<Figure size 1080x360 with 2 Axes>"
      ]
     },
     "metadata": {
      "needs_background": "light"
     },
     "output_type": "display_data"
    }
   ],
   "source": [
    "#parameters\n",
    "a,b = 'health', 'studytime'\n",
    "a_order = [1,2,3,4,5]\n",
    "\n",
    "fig, ax = plt.subplots(1, 2, figsize=(15, 5))\n",
    "\n",
    "#countplot:\n",
    "sns.countplot(data = df_new,\n",
    "              x = a,\n",
    "              hue = b, \n",
    "              order = a_order,\n",
    "              ax = ax[0])\n",
    "\n",
    "ax[0].set_title(\"Countplot\")\n",
    "ax[0].grid = True\n",
    "ax[0].legend(title='studytime', ncol = 4)\n",
    "\n",
    "#normalized countplot:\n",
    "ax[1].set_title(\"Normalized Countplot\")\n",
    "ax[1].grid = True\n",
    "\n",
    "occupation_counts = (df_new.groupby([a])[b]\n",
    "                     .value_counts(normalize = True)\n",
    "                     .rename('percentage')\n",
    "                     .mul(100)\n",
    "                     .reset_index()\n",
    "                     .sort_values(b))\n",
    "\n",
    "sns.barplot(x = a, \n",
    "            y = \"percentage\", \n",
    "            hue = b,\n",
    "            order = a_order,\n",
    "            data = occupation_counts, \n",
    "            ax = ax[1])\n",
    "\n",
    "ax[1].legend(title='studytime', ncol = 4)"
   ]
  },
  {
   "cell_type": "markdown",
   "id": "663f0caa",
   "metadata": {},
   "source": [
    "This plot is a little particular. Specifically, we can see that if a student's health conditions are very bad, `studytime = 2` has still a lot of occurences, meaning that even though the health conditions are not good, a high percentage of students will still manage to study for 2-5 hours per week. Instead, if we consider `studytime = 3`, we can notice that the better the health conditions are, the higher will be the percentage of students that study 5-10 hours per week. But also, if we consider `studytime = 1`, we observe that better health conditions correspond to more occurrences of students that study less than 2 hours per week. For this previous reasons, we can say that:   \n",
    "\n",
    "**<div align=\"center\">`health` does not influences `studytime`.</div>**"
   ]
  },
  {
   "cell_type": "markdown",
   "id": "731df303",
   "metadata": {},
   "source": [
    "### 2.10. schoolsup $\\rightarrow$ studytime \n",
    "\n",
    "Intuitively, `schoolsup` should affect the amount of studytime, because students that are supported by their school might be highly motivated to succed in their classes. "
   ]
  },
  {
   "cell_type": "code",
   "execution_count": 23,
   "id": "4b9afc59",
   "metadata": {
    "scrolled": false
   },
   "outputs": [
    {
     "data": {
      "text/plain": [
       "<matplotlib.legend.Legend at 0x7f5d2a2bd190>"
      ]
     },
     "execution_count": 23,
     "metadata": {},
     "output_type": "execute_result"
    },
    {
     "data": {
      "image/png": "[encoded data removed]",
      "text/plain": [
       "<Figure size 1080x360 with 2 Axes>"
      ]
     },
     "metadata": {
      "needs_background": "light"
     },
     "output_type": "display_data"
    }
   ],
   "source": [
    "#parameters\n",
    "a,b = 'schoolsup', 'studytime'\n",
    "a_order = [\"yes\", \"no\"]\n",
    "\n",
    "fig, ax = plt.subplots(1, 2, figsize=(15, 5))\n",
    "\n",
    "#countplot:\n",
    "sns.countplot(data = df_new,\n",
    "              x = a,\n",
    "              hue = b, \n",
    "              order = a_order,\n",
    "              ax = ax[0])\n",
    "\n",
    "ax[0].set_title(\"Countplot\")\n",
    "ax[0].grid = True\n",
    "ax[0].legend(title='studytime', ncol = 4)\n",
    "\n",
    "#normalized countplot:\n",
    "ax[1].set_title(\"Normalized Countplot\")\n",
    "ax[1].grid = True\n",
    "\n",
    "occupation_counts = (df_new.groupby([a])[b]\n",
    "                     .value_counts(normalize = True)\n",
    "                     .rename('percentage')\n",
    "                     .mul(100)\n",
    "                     .reset_index()\n",
    "                     .sort_values(b))\n",
    "\n",
    "sns.barplot(x = a, \n",
    "            y = \"percentage\", \n",
    "            hue = b,\n",
    "            order = a_order,\n",
    "            data = occupation_counts, \n",
    "            ax = ax[1])\n",
    "\n",
    "ax[1].legend(title='studytime', ncol = 4)"
   ]
  },
  {
   "cell_type": "markdown",
   "id": "a1a98723",
   "metadata": {},
   "source": [
    "From the previous plot, we can comprehend that, without the support of their school, students study less hours than\n",
    "the students that receive school support, as we can see that `studytime = 1` is much higher in the case of `schoolsup = no` and inversively much lower when `schoolsup = yes`. For these previous reasons:\n",
    "\n",
    "**<div align=\"center\">`schoolsup` influences `studytime`.</div>**"
   ]
  },
  {
   "cell_type": "markdown",
   "id": "cadcd757",
   "metadata": {},
   "source": [
    "### 2.11. age $\\rightarrow$ G3\n",
    "\n",
    "<p id=\"G3_block\"></p>\n",
    "\n",
    "The students' age may affect their final grade because of the fact that we discretized in three ranges of age, separating students that never failed from students that failed one or more times."
   ]
  },
  {
   "cell_type": "code",
   "execution_count": 24,
   "id": "d0d9f987",
   "metadata": {},
   "outputs": [
    {
     "data": {
      "text/plain": [
       "<matplotlib.legend.Legend at 0x7f5d2a06d280>"
      ]
     },
     "execution_count": 24,
     "metadata": {},
     "output_type": "execute_result"
    },
    {
     "data": {
      "image/png": "[encoded data removed]",
      "text/plain": [
       "<Figure size 1080x360 with 2 Axes>"
      ]
     },
     "metadata": {
      "needs_background": "light"
     },
     "output_type": "display_data"
    }
   ],
   "source": [
    "#parameters\n",
    "a,b = 'age', 'G3'\n",
    "a_order = [\"15-17\",\"18-19\", \"20-22\"]\n",
    "hue_order = [\"Mau\",\n",
    "             \"Mediocre\", \n",
    "             \"Suficiente\",\n",
    "             \"Bom\",\n",
    "             \"Muito Bom\",\n",
    "             \"Excelente\",\n",
    "             \"Mui bom distincao\"]\n",
    "\n",
    "fig, ax = plt.subplots(1, 2, figsize=(15, 5))\n",
    "\n",
    "#countplot:\n",
    "sns.countplot(data = df_new,\n",
    "              x = a,\n",
    "              hue = b, \n",
    "              order = a_order,\n",
    "              hue_order = hue_order,\n",
    "              ax = ax[0])\n",
    "\n",
    "ax[0].set_title(\"Countplot\")\n",
    "ax[0].grid = True\n",
    "ax[0].legend(title='G3', ncol=3, bbox_to_anchor = (0.95, -0.12))\n",
    "\n",
    "\n",
    "#normalized countplot:\n",
    "occupation_counts = (df_new.groupby([a])[b]\n",
    "                     .value_counts(normalize = True)\n",
    "                     .rename('percentage')\n",
    "                     .mul(100)\n",
    "                     .reset_index()\n",
    "                     .sort_values(b))\n",
    "\n",
    "sns.barplot(x = a, \n",
    "            y = \"percentage\", \n",
    "            hue = b,\n",
    "            order = a_order,\n",
    "            hue_order = hue_order,\n",
    "            data = occupation_counts, \n",
    "            ax = ax[1])\n",
    "\n",
    "ax[1].set_title(\"Normalized Countplot\")\n",
    "ax[1].grid = True\n",
    "ax[1].legend(title='G3', ncol=3, bbox_to_anchor = (0.95, -0.12))"
   ]
  },
  {
   "cell_type": "markdown",
   "id": "608e746d",
   "metadata": {},
   "source": [
    "Approximately, we can say that the higher it gets the students' range of age, the higher is the amount of occurrencies of not sufficient final grades and oppositely the amount of occurrencies of sufficient grades decreases. For this reason we can say that:\n",
    "\n",
    "**<div align=\"center\">`age` influences `G3`.</div>**"
   ]
  },
  {
   "cell_type": "markdown",
   "id": "dd6ccddd",
   "metadata": {},
   "source": [
    "### 2.12. sex $\\rightarrow$ G3 \n",
    "\n",
    "Let's check if the sex of a student affects the final grade."
   ]
  },
  {
   "cell_type": "code",
   "execution_count": 25,
   "id": "9f820cfd",
   "metadata": {},
   "outputs": [
    {
     "data": {
      "text/plain": [
       "<matplotlib.legend.Legend at 0x7f5d29f306a0>"
      ]
     },
     "execution_count": 25,
     "metadata": {},
     "output_type": "execute_result"
    },
    {
     "data": {
      "image/png": "[encoded data removed]",
      "text/plain": [
       "<Figure size 1080x360 with 2 Axes>"
      ]
     },
     "metadata": {
      "needs_background": "light"
     },
     "output_type": "display_data"
    }
   ],
   "source": [
    "#parameters\n",
    "a,b = 'sex', 'G3'\n",
    "a_order = [\"F\", \"M\"]\n",
    "hue_order = [\"Mau\",\n",
    "             \"Mediocre\", \n",
    "             \"Suficiente\",\n",
    "             \"Bom\",\n",
    "             \"Muito Bom\",\n",
    "             \"Excelente\",\n",
    "             \"Mui bom distincao\"]\n",
    "\n",
    "fig, ax = plt.subplots(1, 2, figsize=(15, 5))\n",
    "\n",
    "#countplot:\n",
    "sns.countplot(data = df_new,\n",
    "              x = a,\n",
    "              hue = b,\n",
    "              hue_order = hue_order,\n",
    "              order = a_order,\n",
    "              ax = ax[0])\n",
    "\n",
    "ax[0].set_title(\"Countplot\")\n",
    "ax[0].grid = True\n",
    "ax[0].legend(title='G3', ncol=3, bbox_to_anchor = (0.95, -0.12))\n",
    "\n",
    "#normalized countplot:\n",
    "ax[1].set_title(\"Normalized Countplot\")\n",
    "ax[1].grid = True\n",
    "\n",
    "occupation_counts = (df_new.groupby([a])[b]\n",
    "                     .value_counts(normalize = True)\n",
    "                     .rename('percentage')\n",
    "                     .mul(100)\n",
    "                     .reset_index()\n",
    "                     .sort_values(b))\n",
    "\n",
    "sns.barplot(x = a, \n",
    "            y = \"percentage\", \n",
    "            hue = b,\n",
    "            hue_order = hue_order,\n",
    "            order = a_order,\n",
    "            data = occupation_counts, \n",
    "            ax = ax[1])\n",
    "\n",
    "ax[1].legend(title='G3', ncol=3, bbox_to_anchor = (0.95, -0.12))"
   ]
  },
  {
   "cell_type": "markdown",
   "id": "b6d19e1c",
   "metadata": {},
   "source": [
    "From the previous countplot, we can observe that female students are slightly more likely prone to get higher grades than male students. As a matter of fact, if we consider grades below *sufficient* there are more male occurrencies; oppositely for grades higher that *sufficient* there are more female occurrencies;\n",
    "The previous points show that:\n",
    "\n",
    "**<div align=\"center\">`sex` affects `G3`.</div>**"
   ]
  },
  {
   "cell_type": "markdown",
   "id": "f8603e14",
   "metadata": {},
   "source": [
    "### 2.13. absences $\\rightarrow$ G3\n",
    "\n",
    "The number of absences may influence the students' final grade. "
   ]
  },
  {
   "cell_type": "code",
   "execution_count": 26,
   "id": "c44f1fbb",
   "metadata": {},
   "outputs": [
    {
     "data": {
      "text/plain": [
       "<matplotlib.legend.Legend at 0x7f5d29e1aca0>"
      ]
     },
     "execution_count": 26,
     "metadata": {},
     "output_type": "execute_result"
    },
    {
     "data": {
      "image/png": "[encoded data removed]",
      "text/plain": [
       "<Figure size 1080x360 with 2 Axes>"
      ]
     },
     "metadata": {
      "needs_background": "light"
     },
     "output_type": "display_data"
    }
   ],
   "source": [
    "#parameters\n",
    "a,b = 'absences', 'G3'\n",
    "a_order = [\"0-10\",\"11-20\", \"21-30\", \"+30\"]\n",
    "hue_order = [\"Mau\",\n",
    "             \"Mediocre\", \n",
    "             \"Suficiente\",\n",
    "             \"Bom\",\n",
    "             \"Muito Bom\",\n",
    "             \"Excelente\",\n",
    "             \"Mui bom distincao\"]\n",
    "\n",
    "fig, ax = plt.subplots(1, 2, figsize=(15, 5))\n",
    "\n",
    "#countplot:\n",
    "sns.countplot(data = df_new,\n",
    "              x = a,\n",
    "              hue = b,\n",
    "              hue_order = hue_order,\n",
    "              order = a_order,\n",
    "              ax = ax[0])\n",
    "\n",
    "ax[0].set_title(\"Countplot\")\n",
    "ax[0].grid = True\n",
    "ax[0].legend(title='G3', ncol=3, bbox_to_anchor = (0.95, -0.12))\n",
    "\n",
    "#normalized countplot:\n",
    "ax[1].set_title(\"Normalized Countplot\")\n",
    "ax[1].grid = True\n",
    "\n",
    "occupation_counts = (df_new.groupby([a])[b]\n",
    "                     .value_counts(normalize = True)\n",
    "                     .rename('percentage')\n",
    "                     .mul(100)\n",
    "                     .reset_index()\n",
    "                     .sort_values(b))\n",
    "\n",
    "sns.barplot(x = a, \n",
    "            y = \"percentage\", \n",
    "            hue = b,\n",
    "            hue_order = hue_order,\n",
    "            order = a_order,\n",
    "            data = occupation_counts, \n",
    "            ax = ax[1])\n",
    "\n",
    "ax[1].legend(title='G3', ncol=3, bbox_to_anchor = (0.95, -0.12))"
   ]
  },
  {
   "cell_type": "markdown",
   "id": "e17451dd",
   "metadata": {},
   "source": [
    "As we can see, if the number of a student's absences gets high, the number of occurrencies of the grades below `suficiente` also gets higher. For this reason we can say that:\n",
    "\n",
    "**<div align=\"center\">`absences` influences `G3`.</div>**"
   ]
  },
  {
   "cell_type": "markdown",
   "id": "14a59c4e",
   "metadata": {},
   "source": [
    "### 2.14. paid $\\rightarrow$ G3\n",
    "Students that attended extra paid classes might get a higher final grade."
   ]
  },
  {
   "cell_type": "code",
   "execution_count": 27,
   "id": "7296a687",
   "metadata": {},
   "outputs": [
    {
     "data": {
      "text/plain": [
       "<matplotlib.legend.Legend at 0x7f5d29cd0bb0>"
      ]
     },
     "execution_count": 27,
     "metadata": {},
     "output_type": "execute_result"
    },
    {
     "data": {
      "image/png": "[encoded data removed]",
      "text/plain": [
       "<Figure size 1080x360 with 2 Axes>"
      ]
     },
     "metadata": {
      "needs_background": "light"
     },
     "output_type": "display_data"
    }
   ],
   "source": [
    "#parameters\n",
    "a,b = 'paid', 'G3'\n",
    "a_order = [\"yes\",\"no\"]\n",
    "hue_order = [\"Mau\",\n",
    "             \"Mediocre\", \n",
    "             \"Suficiente\",\n",
    "             \"Bom\",\n",
    "             \"Muito Bom\",\n",
    "             \"Excelente\",\n",
    "             \"Mui bom distincao\"]\n",
    "\n",
    "fig, ax = plt.subplots(1, 2, figsize=(15, 5))\n",
    "\n",
    "#countplot:\n",
    "sns.countplot(data = df_new,\n",
    "              x = a,\n",
    "              hue = b,\n",
    "              hue_order = hue_order,\n",
    "              order = a_order,\n",
    "              ax = ax[0])\n",
    "\n",
    "ax[0].set_title(\"Countplot\")\n",
    "ax[0].grid = True\n",
    "ax[0].legend(title='G3', ncol=3, bbox_to_anchor = (0.95, -0.12))\n",
    "\n",
    "#normalized countplot:\n",
    "ax[1].set_title(\"Normalized Countplot\")\n",
    "ax[1].grid = True\n",
    "\n",
    "occupation_counts = (df_new.groupby([a])[b]\n",
    "                     .value_counts(normalize = True)\n",
    "                     .rename('percentage')\n",
    "                     .mul(100)\n",
    "                     .reset_index()\n",
    "                     .sort_values(b))\n",
    "\n",
    "sns.barplot(x = a, \n",
    "            y = \"percentage\", \n",
    "            hue = b,\n",
    "            hue_order = hue_order,\n",
    "            order = a_order,\n",
    "            data = occupation_counts, \n",
    "            ax = ax[1])\n",
    "\n",
    "ax[1].legend(title='G3', ncol=3, bbox_to_anchor = (0.95, -0.12))"
   ]
  },
  {
   "cell_type": "markdown",
   "id": "9dad0859",
   "metadata": {},
   "source": [
    "Oppositely from what we expected, the students' paid lessons do not affect their final grade:\n",
    "\n",
    "**<div align=\"center\">`paid` does not influences `G3`.</div>**"
   ]
  },
  {
   "cell_type": "markdown",
   "id": "b4ca714d",
   "metadata": {},
   "source": [
    "### 2.15. famsup $\\rightarrow$ G3 \n",
    "A student that has a good academic support from his parents, might study with greater commitment, resulting in a better final grade. "
   ]
  },
  {
   "cell_type": "code",
   "execution_count": 28,
   "id": "82eb2032",
   "metadata": {},
   "outputs": [
    {
     "data": {
      "text/plain": [
       "<matplotlib.legend.Legend at 0x7f5d29b50a30>"
      ]
     },
     "execution_count": 28,
     "metadata": {},
     "output_type": "execute_result"
    },
    {
     "data": {
      "image/png": "[encoded data removed]",
      "text/plain": [
       "<Figure size 1080x360 with 2 Axes>"
      ]
     },
     "metadata": {
      "needs_background": "light"
     },
     "output_type": "display_data"
    }
   ],
   "source": [
    "#parameters\n",
    "a,b = 'famsup', 'G3'\n",
    "a_order = ['yes','no']\n",
    "hue_order = [\"Mau\",\n",
    "             \"Mediocre\", \n",
    "             \"Suficiente\",\n",
    "             \"Bom\",\n",
    "             \"Muito Bom\",\n",
    "             \"Excelente\",\n",
    "             \"Mui bom distincao\"]\n",
    "\n",
    "fig, ax = plt.subplots(1, 2, figsize=(15, 5))\n",
    "\n",
    "#countplot:\n",
    "sns.countplot(data = df_new,\n",
    "              x = a,\n",
    "              hue = b,\n",
    "              hue_order = hue_order,\n",
    "              order = a_order,\n",
    "              ax = ax[0])\n",
    "\n",
    "ax[0].set_title(\"Countplot\")\n",
    "ax[0].grid = True\n",
    "ax[0].legend(title='G3', ncol=3, bbox_to_anchor = (0.95, -0.12))\n",
    "\n",
    "#normalized countplot:\n",
    "ax[1].set_title(\"Normalized Countplot\")\n",
    "ax[1].grid = True\n",
    "\n",
    "occupation_counts = (df_new.groupby([a])[b]\n",
    "                     .value_counts(normalize = True)\n",
    "                     .rename('percentage')\n",
    "                     .mul(100)\n",
    "                     .reset_index()\n",
    "                     .sort_values(b))\n",
    "\n",
    "sns.barplot(x = a, \n",
    "            y = \"percentage\", \n",
    "            hue = b,\n",
    "            hue_order = hue_order,\n",
    "            order = a_order,\n",
    "            data = occupation_counts, \n",
    "            ax = ax[1])\n",
    "\n",
    "ax[1].legend(title='G3', ncol=3, bbox_to_anchor = (0.95, -0.12))"
   ]
  },
  {
   "cell_type": "markdown",
   "id": "846224f0",
   "metadata": {},
   "source": [
    "Also in this case we can observe that `famsup` doesn't really affect `G3`:\n",
    "\n",
    "**<div align=\"center\">`famsup` does not influences `G3`.</div>**"
   ]
  },
  {
   "cell_type": "markdown",
   "id": "04c03842",
   "metadata": {},
   "source": [
    "### 2.16. studytime $\\rightarrow$ G3\n",
    "\n",
    "The amount of studytime of a student should positively affect his final grade. "
   ]
  },
  {
   "cell_type": "code",
   "execution_count": 29,
   "id": "90377279",
   "metadata": {},
   "outputs": [
    {
     "data": {
      "text/plain": [
       "<matplotlib.legend.Legend at 0x7f5d29a6b4f0>"
      ]
     },
     "execution_count": 29,
     "metadata": {},
     "output_type": "execute_result"
    },
    {
     "data": {
      "image/png": "[encoded data removed]",
      "text/plain": [
       "<Figure size 1080x360 with 2 Axes>"
      ]
     },
     "metadata": {
      "needs_background": "light"
     },
     "output_type": "display_data"
    }
   ],
   "source": [
    "#parameters\n",
    "a,b = 'studytime', 'G3'\n",
    "a_order = [1,2,3,4]\n",
    "hue_order = [\"Mau\",\n",
    "             \"Mediocre\", \n",
    "             \"Suficiente\",\n",
    "             \"Bom\",\n",
    "             \"Muito Bom\",\n",
    "             \"Excelente\",\n",
    "             \"Mui bom distincao\"]\n",
    "\n",
    "fig, ax = plt.subplots(1, 2, figsize=(15, 5))\n",
    "\n",
    "#countplot:\n",
    "sns.countplot(data = df_new,\n",
    "              x = a,\n",
    "              hue = b,\n",
    "              hue_order = hue_order,\n",
    "              order = a_order,\n",
    "              ax = ax[0])\n",
    "\n",
    "ax[0].set_title(\"Countplot\")\n",
    "ax[0].grid = True\n",
    "ax[0].legend(title='G3', ncol=3, bbox_to_anchor = (0.95, -0.12))\n",
    "\n",
    "#normalized countplot:\n",
    "ax[1].set_title(\"Normalized Countplot\")\n",
    "ax[1].grid = True\n",
    "\n",
    "occupation_counts = (df_new.groupby([a])[b]\n",
    "                     .value_counts(normalize = True)\n",
    "                     .rename('percentage')\n",
    "                     .mul(100)\n",
    "                     .reset_index()\n",
    "                     .sort_values(b))\n",
    "\n",
    "sns.barplot(x = a, \n",
    "            y = \"percentage\", \n",
    "            hue = b,\n",
    "            hue_order = hue_order,\n",
    "            order = a_order,\n",
    "            data = occupation_counts, \n",
    "            ax = ax[1])\n",
    "\n",
    "ax[1].legend(title='G3', ncol=3, bbox_to_anchor = (0.95, -0.12))"
   ]
  },
  {
   "cell_type": "markdown",
   "id": "ac4953cf",
   "metadata": {},
   "source": [
    "By looking at the previous countplot, we can clearly observe that students that study for a longer amount of time obtain higher grades and oppositely students that study less obtain lower grades. For this reason we can say that:\n",
    "\n",
    "**<div align=\"center\">`studytime` influences `G3`.</div>**"
   ]
  },
  {
   "cell_type": "markdown",
   "id": "e743df64",
   "metadata": {},
   "source": [
    "Taking into account all of the previous considerations, we decided to drop the following features from the dataset:\n",
    "\n",
    "- `Pstatus`\n",
    "- `famrel`\n",
    "- `health`"
   ]
  },
  {
   "cell_type": "code",
   "execution_count": 30,
   "id": "2da18536",
   "metadata": {},
   "outputs": [
    {
     "data": {
      "text/html": [
       "<div>\n",
       "<style scoped>\n",
       "    .dataframe tbody tr th:only-of-type {\n",
       "        vertical-align: middle;\n",
       "    }\n",
       "\n",
       "    .dataframe tbody tr th {\n",
       "        vertical-align: top;\n",
       "    }\n",
       "\n",
       "    .dataframe thead th {\n",
       "        text-align: right;\n",
       "    }\n",
       "</style>\n",
       "<table border=\"1\" class=\"dataframe\">\n",
       "  <thead>\n",
       "    <tr style=\"text-align: right;\">\n",
       "      <th></th>\n",
       "      <th>sex</th>\n",
       "      <th>age</th>\n",
       "      <th>Medu</th>\n",
       "      <th>Fedu</th>\n",
       "      <th>traveltime</th>\n",
       "      <th>studytime</th>\n",
       "      <th>failures</th>\n",
       "      <th>schoolsup</th>\n",
       "      <th>famsup</th>\n",
       "      <th>paid</th>\n",
       "      <th>freetime</th>\n",
       "      <th>Dalc</th>\n",
       "      <th>absences</th>\n",
       "      <th>G3</th>\n",
       "    </tr>\n",
       "  </thead>\n",
       "  <tbody>\n",
       "    <tr>\n",
       "      <th>0</th>\n",
       "      <td>F</td>\n",
       "      <td>18-19</td>\n",
       "      <td>4</td>\n",
       "      <td>4</td>\n",
       "      <td>2</td>\n",
       "      <td>2</td>\n",
       "      <td>0</td>\n",
       "      <td>yes</td>\n",
       "      <td>no</td>\n",
       "      <td>no</td>\n",
       "      <td>3</td>\n",
       "      <td>1</td>\n",
       "      <td>0-10</td>\n",
       "      <td>Mau</td>\n",
       "    </tr>\n",
       "    <tr>\n",
       "      <th>1</th>\n",
       "      <td>F</td>\n",
       "      <td>15-17</td>\n",
       "      <td>1</td>\n",
       "      <td>1</td>\n",
       "      <td>1</td>\n",
       "      <td>2</td>\n",
       "      <td>0</td>\n",
       "      <td>no</td>\n",
       "      <td>yes</td>\n",
       "      <td>no</td>\n",
       "      <td>3</td>\n",
       "      <td>1</td>\n",
       "      <td>0-10</td>\n",
       "      <td>Mau</td>\n",
       "    </tr>\n",
       "    <tr>\n",
       "      <th>2</th>\n",
       "      <td>F</td>\n",
       "      <td>15-17</td>\n",
       "      <td>1</td>\n",
       "      <td>1</td>\n",
       "      <td>1</td>\n",
       "      <td>2</td>\n",
       "      <td>3</td>\n",
       "      <td>yes</td>\n",
       "      <td>no</td>\n",
       "      <td>yes</td>\n",
       "      <td>3</td>\n",
       "      <td>2</td>\n",
       "      <td>0-10</td>\n",
       "      <td>Suficiente</td>\n",
       "    </tr>\n",
       "    <tr>\n",
       "      <th>3</th>\n",
       "      <td>F</td>\n",
       "      <td>15-17</td>\n",
       "      <td>4</td>\n",
       "      <td>2</td>\n",
       "      <td>1</td>\n",
       "      <td>3</td>\n",
       "      <td>0</td>\n",
       "      <td>no</td>\n",
       "      <td>yes</td>\n",
       "      <td>yes</td>\n",
       "      <td>2</td>\n",
       "      <td>1</td>\n",
       "      <td>0-10</td>\n",
       "      <td>Bom</td>\n",
       "    </tr>\n",
       "    <tr>\n",
       "      <th>4</th>\n",
       "      <td>F</td>\n",
       "      <td>15-17</td>\n",
       "      <td>3</td>\n",
       "      <td>3</td>\n",
       "      <td>1</td>\n",
       "      <td>2</td>\n",
       "      <td>0</td>\n",
       "      <td>no</td>\n",
       "      <td>yes</td>\n",
       "      <td>yes</td>\n",
       "      <td>3</td>\n",
       "      <td>1</td>\n",
       "      <td>0-10</td>\n",
       "      <td>Suficiente</td>\n",
       "    </tr>\n",
       "  </tbody>\n",
       "</table>\n",
       "</div>"
      ],
      "text/plain": [
       "  sex    age  Medu  Fedu  traveltime  studytime  failures schoolsup famsup  \\\n",
       "0   F  18-19     4     4           2          2         0       yes     no   \n",
       "1   F  15-17     1     1           1          2         0        no    yes   \n",
       "2   F  15-17     1     1           1          2         3       yes     no   \n",
       "3   F  15-17     4     2           1          3         0        no    yes   \n",
       "4   F  15-17     3     3           1          2         0        no    yes   \n",
       "\n",
       "  paid  freetime  Dalc absences          G3  \n",
       "0   no         3     1     0-10         Mau  \n",
       "1   no         3     1     0-10         Mau  \n",
       "2  yes         3     2     0-10  Suficiente  \n",
       "3  yes         2     1     0-10         Bom  \n",
       "4  yes         3     1     0-10  Suficiente  "
      ]
     },
     "execution_count": 30,
     "metadata": {},
     "output_type": "execute_result"
    }
   ],
   "source": [
    "df_new = df_new.drop(['Pstatus', 'famrel', 'health'], axis=1)\n",
    "df_new.head()"
   ]
  },
  {
   "cell_type": "markdown",
   "id": "a7d074af",
   "metadata": {},
   "source": [
    "## 3. Bayesian Network Implementation and Analysis\n",
    "\n",
    "With all of the considerations made in the previous section, we are now able to build the network and analyse closely the nodes' relationships.\n",
    "\n",
    "Let's start creating the network by defining the building blocks which will later be merged."
   ]
  },
  {
   "cell_type": "markdown",
   "id": "c4e35cb7",
   "metadata": {},
   "source": [
    "### 3.1. The `famsup` block\n",
    "\n",
    "In <a href=\"#famsup_block\">*section 2.3. and 2.4*</a> we found out that:\n",
    "\n",
    "- `Medu` and `Fedu` both infuence `famsup`;\n",
    "\n",
    "\n",
    "- `famsup` influences `paid`."
   ]
  },
  {
   "cell_type": "code",
   "execution_count": 31,
   "id": "7450385c",
   "metadata": {},
   "outputs": [
    {
     "data": {
      "image/png": "[encoded data removed]",
      "text/plain": [
       "<Figure size 252x252 with 1 Axes>"
      ]
     },
     "metadata": {},
     "output_type": "display_data"
    }
   ],
   "source": [
    "#----------Definition of the building block----------\n",
    "\n",
    "block1 = BayesianNetwork([\n",
    "                         ('Medu','famsup'),\n",
    "                         ('Fedu','famsup'),\n",
    "                         ('famsup', 'paid')\n",
    "                       ])\n",
    "\n",
    "#--------Representation of the building block--------\n",
    "\n",
    "#Nodes Coordinates:\n",
    "pos1 = {\"Medu\":  (0,2),\n",
    "      \"Fedu\":   (2,2), \n",
    "      \"famsup\": (1,1),  \n",
    "      \"paid\":   (1,0),  \n",
    "      }\n",
    "\n",
    "#Options:\n",
    "options1 = {\n",
    "    'node_size': 2000,\n",
    "    'width': 1,\n",
    "    'arrowsize': 20,\n",
    "    'font_size': 10\n",
    "}     \n",
    "        \n",
    "plt.figure(figsize=(3.5, 3.5))\n",
    "nx.draw(block1, pos=pos1, node_color=\"orange\", with_labels=True, **options1)"
   ]
  },
  {
   "cell_type": "markdown",
   "id": "611b6415",
   "metadata": {},
   "source": [
    "By observing the above graph, we can spot two different types of dependencies:\n",
    "\n",
    "#### V-Structure (common cause)"
   ]
  },
  {
   "cell_type": "code",
   "execution_count": 32,
   "id": "c0cb5bbc",
   "metadata": {},
   "outputs": [
    {
     "data": {
      "image/png": "[encoded data removed]",
      "text/plain": [
       "<Figure size 252x252 with 1 Axes>"
      ]
     },
     "metadata": {},
     "output_type": "display_data"
    }
   ],
   "source": [
    "plt.figure(figsize=(3.5, 3.5))\n",
    "\n",
    "nx.draw(block1, pos=pos1, nodelist=['Medu', 'Fedu', 'famsup'], node_color=\"green\", with_labels=True, **options1)\n",
    "nx.draw(block1, pos=pos1, nodelist=['paid'], node_color=\"orange\", with_labels=True, **options1)"
   ]
  },
  {
   "cell_type": "markdown",
   "id": "c8f1e447",
   "metadata": {},
   "source": [
    "The green nodes form a ***v-structure***, so we can say that `Medu` and `Fedu` are statistically independent if `famsup` is unobserved, but in the case `famsup` is observed, we have that `Medu`and `Fedu` are statistically dependent. \n",
    "\n",
    "Also, with *v-structures*, we say that the two-edge trail X $\\rightarrow$ Z $\\leftarrow$ Y is active if X $\\not \\perp$ Y $|$ Z. \n",
    "\n",
    "|Dependencies||two-edge trail type|\n",
    "|:-------------||:--------------|\n",
    "|`Medu` $\\not \\perp$ `Fedu` $|$ `famsup`||*active two-edge trail*|\n",
    "|`Medu` $\\perp$ `Fedu`||*inactive two-edge trail*|\n",
    "\n",
    "#### Causal Trail"
   ]
  },
  {
   "cell_type": "code",
   "execution_count": 33,
   "id": "6f142c58",
   "metadata": {},
   "outputs": [
    {
     "data": {
      "image/png": "[encoded data removed]",
      "text/plain": [
       "<Figure size 252x252 with 1 Axes>"
      ]
     },
     "metadata": {},
     "output_type": "display_data"
    }
   ],
   "source": [
    "plt.figure(figsize=(3.5, 3.5))\n",
    "\n",
    "nx.draw(block1, pos=pos1, nodelist=['Medu','famsup', 'paid'], node_color=\"green\", with_labels=True, **options1)\n",
    "nx.draw(block1, pos=pos1, nodelist=['Fedu'], node_color=\"orange\", with_labels=True, **options1)"
   ]
  },
  {
   "cell_type": "markdown",
   "id": "5e461c6d",
   "metadata": {},
   "source": [
    "The above updated green nodes form a ***causal trail***, meaning that if `famsup` is observed then `Medu` and `paid` are statistically independent; contrarily if `famsup` is not observed then `Medu` and `paid` are statistically dependent. \n",
    "\n",
    "Also, with causal trails we say that the two-edge trail X $\\rightarrow$ Z $\\rightarrow$ Y is active if X $\\not \\perp$ Y. \n",
    "\n",
    "The same conclusions are valid  if we consider `Fedu` instead of `Medu`:\n",
    "\n",
    "|Dependencies||two-edge trail type|\n",
    "|:-------------||--------------:|\n",
    "|`Medu` $\\perp$ `paid` $|$ `famsup`||*inactive two-edge trail*|\n",
    "|`Medu` $\\not\\perp$ `paid`||*active two-edge trail*|\n",
    "|`Fedu` $\\perp$ `paid` $|$ `famsup`||*inactive two-edge trail*|\n",
    "|`Fedu` $\\not\\perp$ `paid`||*active two-edge trail*|"
   ]
  },
  {
   "cell_type": "markdown",
   "id": "fe3d088f",
   "metadata": {},
   "source": [
    "### 3.2. The `studytime` block\n",
    "\n",
    "In <a href=\"#studytime_block\">*section 2.5, 2.6, 2.7, 2.8*</a> we found out that`famsup`, `Dalc`, `traveltime` and `freetime` all infuence `studytime`."
   ]
  },
  {
   "cell_type": "code",
   "execution_count": 34,
   "id": "7cee072e",
   "metadata": {},
   "outputs": [
    {
     "data": {
      "image/png": "[encoded data removed]",
      "text/plain": [
       "<Figure size 324x324 with 1 Axes>"
      ]
     },
     "metadata": {},
     "output_type": "display_data"
    }
   ],
   "source": [
    "#----------Definition of the building block----------\n",
    "\n",
    "block2 = BayesianNetwork([\n",
    "                         ('schoolsup','studytime'),\n",
    "                         ('famsup','studytime'),\n",
    "                         ('Dalc','studytime'),\n",
    "                         ('traveltime', 'studytime'),\n",
    "                         ('freetime', 'studytime')\n",
    "                       ])\n",
    "\n",
    "#--------Representation of the building block--------\n",
    "\n",
    "#Nodes Coordinates:\n",
    "pos2 = {'schoolsup' : (0,1),\n",
    "       'famsup' : (1,1),\n",
    "       'studytime' : (2,0),     \n",
    "       'Dalc' : (2,1),  \n",
    "       'traveltime' : (3,1),  \n",
    "       'freetime' : (4,1)\n",
    "      }\n",
    "\n",
    "#Options:\n",
    "options2 = {\n",
    "    'node_size': 3000,\n",
    "    'width': 1,\n",
    "    'arrowsize': 20,\n",
    "    'font_size': 10\n",
    "}     \n",
    "        \n",
    "plt.figure(figsize=(4.5, 4.5))\n",
    "nx.draw(block2, pos=pos2, node_color=\"orange\", with_labels=True, **options2)"
   ]
  },
  {
   "cell_type": "markdown",
   "id": "77f432a6",
   "metadata": {},
   "source": [
    "In the above graph, there are only ***v-structures*** as all of the nodes point towards `studytime`. Because of this, we can conclude the following:\n",
    "\n",
    "<br>\n",
    "\n",
    "* `schoolsup` $\\rightarrow$ `studytime` $\\leftarrow$ `famsup`\n",
    "\n",
    "|Dependencies||two-edge trail type|\n",
    "|:-------------||--------------:|\n",
    "|`schoolsup` $\\perp$ `famsup`||*inactive two-edge trail*|\n",
    "|`schoolsup` $\\not \\perp$ `famsup` $|$ `studytime`||(*active two-edge trail*)|\n",
    "\n",
    "<br>\n",
    "\n",
    "* `schoolsup` $\\rightarrow$ `studytime` $\\leftarrow$ `Dalc`\n",
    "\n",
    "|Dependencies||two-edge trail type|\n",
    "|:-------------||--------------:|\n",
    "|`schoolsup` $\\perp$ `Dalc`||*inactive two-edge trail*|\n",
    "|`schoolsup` $\\not \\perp$ `Dalc` $|$ `studytime`||*active two-edge trail*|\n",
    "\n",
    "<br>\n",
    "\n",
    "* `schoolsup` $\\rightarrow$ `studytime` $\\leftarrow$ `traveltime`\n",
    "\n",
    "|Dependencies||two-edge trail type|\n",
    "|:-------------||--------------:|\n",
    "|`schoolsup` $\\perp$ `traveltime`||*inactive two-edge trail*|\n",
    "|`schoolsup` $\\not \\perp$ `traveltime` $|$ `studytime`||*active two-edge trail*|\n",
    "\n",
    "<br>\n",
    "\n",
    "* `schoolsup` $\\rightarrow$ `studytime` $\\leftarrow$ `freetime`\n",
    "\n",
    "|Dependencies||two-edge trail type|\n",
    "|:-------------||--------------:|\n",
    "|`schoolsup` $\\perp$ `freetime`||*inactive two-edge trail*|\n",
    "|`schoolsup` $\\not \\perp$ `freetime` $|$ `studytime`||*active two-edge trail*|\n",
    "\n",
    "\n",
    "<br>\n",
    "\n",
    "* `famsup` $\\rightarrow$ `studytime` $\\leftarrow$ `Dalc`\n",
    "\n",
    "|Dependencies||two-edge trail type|\n",
    "|:-------------||--------------:|\n",
    "|`famsup` $\\perp$ `Dalc`||*inactive two-edge trail*|\n",
    "|`famsup` $\\not \\perp$ `Dalc` $|$ `studytime`||*active two-edge trail*|\n",
    "\n",
    "<br>\n",
    "\n",
    "* `famsup` $\\rightarrow$ `studytime` $\\leftarrow$ `traveltime`\n",
    "\n",
    "|Dependencies||two-edge trail type|\n",
    "|:-------------||--------------:|\n",
    "|`famsup` $\\perp$ `traveltime`||*inactive two-edge trail*|\n",
    "|`famsup` $\\not \\perp$ `traveltime`  $|$ `studytime`||*active two-edge trail*|\n",
    "\n",
    "<br>\n",
    "\n",
    "* `famsup` $\\rightarrow$ `studytime` $\\leftarrow$ `freetime`\n",
    "\n",
    "|Dependencies||two-edge trail type|\n",
    "|:-------------||--------------:|\n",
    "|`famsup` $\\perp$ `freetime`||*inactive two-edge trail*|\n",
    "|`famsup` $\\not \\perp$ `freetime` $|$ `studytime`||*active two-edge trail*|\n",
    "\n",
    "<br>\n",
    "\n",
    "* `Dalc` $\\rightarrow$ `studytime` $\\leftarrow$ `traveltime`\n",
    "\n",
    "|Dependencies||two-edge trail type|\n",
    "|:-------------||--------------:|\n",
    "|`Dalc` $\\perp$ `traveltime`||*inactive two-edge trail*|\n",
    "|`Dalc` $\\not\\perp$ `traveltime` $|$ `studytime`||*active two-edge trail*|\n",
    "\n",
    "<br>\n",
    "\n",
    "* `Dalc` $\\rightarrow$ `studytime` $\\leftarrow$ `freetime`\n",
    "\n",
    "|Dependencies||two-edge trail type|\n",
    "|:-------------||--------------:|\n",
    "|`Dalc` $\\perp$ `freetime`||*inactive two-edge trail*|\n",
    "|`Dalc` $\\not\\perp$ `freetime` $|$ `studytime`||*active two-edge trail*|\n",
    "\n",
    "<br>\n",
    "\n",
    "* `traveltime` $\\rightarrow$ `studytime` $\\leftarrow$ `freetime`\n",
    "\n",
    "|Dependencies||two-edge trail type|\n",
    "|:-------------||--------------:|\n",
    "|`traveltime` $\\perp$ `freetime`||*inactive two-edge trail*|\n",
    "|`traveltime` $\\not\\perp$ `freetime` $|$ `studytime`||*active two-edge trail*|"
   ]
  },
  {
   "cell_type": "markdown",
   "id": "5cecff9d",
   "metadata": {},
   "source": [
    "### 3.3. The `G3` block\n",
    "\n",
    "In <a href=\"#G3_block\">*section 2.11, 2.12, 2.13, 2.14, 2.15, 2.16*</a> we found out that`studytime`, `age`, `sex` and `absences` all infuence `G3`."
   ]
  },
  {
   "cell_type": "code",
   "execution_count": 35,
   "id": "433e9106",
   "metadata": {},
   "outputs": [
    {
     "data": {
      "image/png": "[encoded data removed]",
      "text/plain": [
       "<Figure size 324x324 with 1 Axes>"
      ]
     },
     "metadata": {},
     "output_type": "display_data"
    }
   ],
   "source": [
    "#----------Definition of the building block----------\n",
    "\n",
    "block3 = BayesianNetwork([\n",
    "                         ('studytime','G3'),\n",
    "                         ('age','G3'),\n",
    "                         ('sex','G3'),\n",
    "                         ('absences','G3')\n",
    "                       ])\n",
    "\n",
    "#--------Representation of the building block--------\n",
    "\n",
    "#Nodes Coordinates:\n",
    "pos3 = {'studytime' : (0,1),\n",
    "       'G3' : (2,0),     \n",
    "       'age' : (1,1),  \n",
    "       'sex' : (3,1),  \n",
    "       'absences' : (4,1),\n",
    "      }\n",
    "\n",
    "#Options:\n",
    "options3 = {\n",
    "    'node_size': 3000,\n",
    "    'width': 1,\n",
    "    'arrowsize': 20,\n",
    "    'font_size': 10\n",
    "}     \n",
    "        \n",
    "plt.figure(figsize=(4.5, 4.5))\n",
    "nx.draw(block3, pos=pos3, node_color=\"orange\", with_labels=True, **options3)"
   ]
  },
  {
   "cell_type": "markdown",
   "id": "baaf3dc5",
   "metadata": {},
   "source": [
    "Just as it happened earlier, in the above graph there are only ***v-structures***, but differently this time all of the nodes point towards `G3`. Because of this, we can conclude the following:\n",
    "\n",
    "<br>\n",
    "\n",
    "* `studytime` $\\rightarrow$ `G3` $\\leftarrow$ `age`\n",
    "\n",
    "|Dependencies||two-edge trail type|\n",
    "|:-------------||--------------:|\n",
    "|`studytime` $\\perp$ `age`||*inactive two-edge trail*|\n",
    "|`studytime` $\\not \\perp$ `age` $|$ `G3`||*active two-edge trail*|\n",
    "\n",
    "<br>\n",
    "\n",
    "* `studytime` $\\rightarrow$ `G3` $\\leftarrow$ `sex`\n",
    "\n",
    "|Dependencies||two-edge trail type|\n",
    "|:-------------||--------------:|\n",
    "|`studytime` $\\perp$ `sex`||*inactive two-edge trail*|\n",
    "|`studytime` $\\not \\perp$ `sex`  $|$ `G3`||*active two-edge trail*|\n",
    "\n",
    "<br>\n",
    "\n",
    "* `studytime` $\\rightarrow$ `G3` $\\leftarrow$ `absences`\n",
    "\n",
    "|Dependencies||two-edge trail type|\n",
    "|:-------------||--------------:|\n",
    "|`studytime` $\\perp$ `absences`||*inactive two-edge trail*|\n",
    "|`studytime` $\\not \\perp$ `absences` $|$ `G3`||*active two-edge trail*|\n",
    "\n",
    "<br>\n",
    "\n",
    "* `age` $\\rightarrow$ `G3` $\\leftarrow$ `sex`\n",
    "\n",
    "|Dependencies||two-edge trail type|\n",
    "|:-------------||--------------:|\n",
    "|`age` $\\perp$ `sex`||*inactive two-edge trail*|\n",
    "|`age` $\\not\\perp$ `sex` $|$ `G3`||*active two-edge trail*|\n",
    "\n",
    "<br>\n",
    "\n",
    "* `age` $\\rightarrow$ `G3` $\\leftarrow$ `absences`\n",
    "\n",
    "|Dependencies||two-edge trail type|\n",
    "|:-------------||--------------:|\n",
    "|`age` $\\perp$ `absences`||*inactive two-edge trail*|\n",
    "|`age` $\\not\\perp$ `absences` $|$ `G3`||*active two-edge trail*|\n",
    "\n",
    "<br>\n",
    "\n",
    "* `sex` $\\rightarrow$ `G3` $\\leftarrow$ `absences`\n",
    "\n",
    "|Dependencies||two-edge trail type|\n",
    "|:-------------||--------------:|\n",
    "|`sex` $\\perp$ `absences`||*inactive two-edge trail*|\n",
    "|`sex` $\\not\\perp$ `absences` $|$ `G3`||*active two-edge trail*|"
   ]
  },
  {
   "cell_type": "markdown",
   "id": "449c3267",
   "metadata": {},
   "source": [
    "### 3.4. The resulting network\n",
    "Let's now put all the building blocks together:"
   ]
  },
  {
   "cell_type": "code",
   "execution_count": 36,
   "id": "017d6811",
   "metadata": {},
   "outputs": [
    {
     "data": {
      "image/png": "[encoded data removed]",
      "text/plain": [
       "<Figure size 864x576 with 1 Axes>"
      ]
     },
     "metadata": {},
     "output_type": "display_data"
    }
   ],
   "source": [
    "#----------Definition of the Bayesian Network----------\n",
    "\n",
    "model = BayesianNetwork([\n",
    "                         #nodes to famsup:\n",
    "                         ('Medu','famsup'),\n",
    "                         ('Fedu','famsup'),\n",
    "    \n",
    "                         #nodes to studytime:\n",
    "                         ('schoolsup','studytime'),\n",
    "                         ('famsup','studytime'),\n",
    "                         ('Dalc','studytime'),\n",
    "                         ('traveltime','studytime'),\n",
    "                         ('freetime','studytime'),\n",
    "                        \n",
    "                         #nodes to paid: \n",
    "                         ('famsup','paid'),\n",
    "                        \n",
    "                         #nodes to G3: \n",
    "                         ('sex','G3'),   \n",
    "                         ('age','G3'),\n",
    "                         ('studytime','G3'),\n",
    "                         ('absences','G3'),\n",
    "                       ])\n",
    "\n",
    "#--------Representation of the Bayesian Network--------\n",
    "\n",
    "#Nodes Coordinates:\n",
    "pos = {\"Medu\": (4,5),\n",
    "       \"Fedu\": (6,5),\n",
    "       \"paid\": (4,3.5),\n",
    "       \"famsup\": (5,4),\n",
    "     \n",
    "       \"schoolsup\": (3,2),\n",
    "       \"freetime\": (4,2),\n",
    "       \"Dalc\": (6,2),\n",
    "       \"traveltime\": (7,2),  \n",
    "       \"studytime\": (5,1),\n",
    "       \n",
    "     \n",
    "       \n",
    "       \"sex\": (4,0), \n",
    "       \"age\": (4,-1),  \n",
    "       \"absences\": (6,0), \n",
    "       \"G3\": (5,-1)\n",
    "      }\n",
    "\n",
    "#Options:\n",
    "options = {\n",
    "    'node_size': 3000,\n",
    "    'width': 1,\n",
    "    'arrowsize': 20,\n",
    "    'font_size': 10\n",
    "}     \n",
    "        \n",
    "plt.figure(figsize=(12, 8))\n",
    "nx.draw(model, pos=pos, node_color=\"orange\", with_labels=True, **options)"
   ]
  },
  {
   "cell_type": "markdown",
   "id": "557ff715",
   "metadata": {},
   "source": [
    "The resulting network has new dependencies, most of which are *causal trails* or *v-structures*, but in particular there is an occurrance of a new type of dependency:\n",
    "\n",
    "#### Common parent"
   ]
  },
  {
   "cell_type": "code",
   "execution_count": 37,
   "id": "dd5e7c53",
   "metadata": {},
   "outputs": [
    {
     "data": {
      "image/png": "[encoded data removed]",
      "text/plain": [
       "<Figure size 864x576 with 1 Axes>"
      ]
     },
     "metadata": {},
     "output_type": "display_data"
    }
   ],
   "source": [
    "plt.figure(figsize=(12, 8))\n",
    "\n",
    "nx.draw(model, pos=pos, nodelist=['paid','famsup', 'studytime'], node_color=\"green\", with_labels=True, **options)\n",
    "nx.draw(model, pos=pos, nodelist=['Medu','Fedu', 'schoolsup', 'freetime', 'Dalc', 'traveltime', 'sex', 'age', 'absences', 'G3'], node_color=\"orange\", with_labels=True, **options)"
   ]
  },
  {
   "cell_type": "markdown",
   "id": "f0b702e2",
   "metadata": {},
   "source": [
    "The above updated green nodes form a ***common parent structure***, meaning that if `famsup` is observed then `paid` and `studytime` are statistically independent; contrarily if `famsup` is not observed then `paid` and `studytime` are statistically dependent. Summarizing we have that:\n",
    "\n",
    "|Dependencies||two-edge trail type|\n",
    "|:-------------||--------------:|\n",
    "|`paid` $\\perp$ `studytime` $|$ `famsup`||*active two-edge trail*|\n",
    "|`paid` $\\not\\perp$ `studytime`||*inactive two-edge trail*|"
   ]
  },
  {
   "cell_type": "markdown",
   "id": "c164231e",
   "metadata": {},
   "source": [
    "### 3.6. Analysis of the resulting network: flow of probabilistic influence\n",
    "Since the network has been successfully created, let's verify the dependencies analyzed earlier by using the adequate *pgmpy* functions.\n",
    "\n",
    "#### Active trails\n",
    "A trail that has more than three edges, is considered ***active*** if all the two-edge trails that compose it are active; one inactive two-edge trail makes the entire trail inactive. \n",
    "\n",
    "Let's see how all of the active trails change if variables are observed:"
   ]
  },
  {
   "cell_type": "code",
   "execution_count": 38,
   "id": "dc675a32",
   "metadata": {
    "scrolled": false
   },
   "outputs": [
    {
     "name": "stdout",
     "output_type": "stream",
     "text": [
      "\n",
      "\n",
      "- Active trails from node 'Medu':\n",
      "\n",
      "{'studytime', 'G3', 'famsup', 'Medu', 'paid'}\n",
      "\n",
      "\n",
      "- Active trails from node 'Medu' given that 'famsup' is observed: \n",
      "\n",
      "{'Fedu', 'Medu'}\n",
      "\n",
      "-------------------------------------------------------\n",
      "\n",
      "\n",
      "- Active trails from node 'Fedu':\n",
      "\n",
      "{'studytime', 'Fedu', 'G3', 'famsup', 'paid'}\n",
      "\n",
      "\n",
      "- Active trails from node 'Fedu' given that 'famsup' is observed: \n",
      "\n",
      "{'Fedu', 'Medu'}\n",
      "\n",
      "-------------------------------------------------------\n",
      "\n",
      "\n",
      "- Active trails from node 'famsup':\n",
      "\n",
      "{'studytime', 'Fedu', 'G3', 'famsup', 'Medu', 'paid'}\n",
      "\n",
      "\n",
      "- Active trails from node 'famsup' given that 'studytime' is observed: \n",
      "\n",
      "{'Fedu', 'freetime', 'schoolsup', 'famsup', 'Dalc', 'traveltime', 'Medu', 'paid'}\n",
      "\n",
      "-------------------------------------------------------\n",
      "\n",
      "\n",
      "- Active trails from node 'paid':\n",
      "\n",
      "{'studytime', 'Fedu', 'G3', 'famsup', 'Medu', 'paid'}\n",
      "\n",
      "\n",
      "- Active trails from node 'paid' given that 'famsup' is observed: \n",
      "\n",
      "{'paid'}\n",
      "\n",
      "-------------------------------------------------------\n",
      "\n",
      "\n",
      "- Active trails from node 'schoolsup':\n",
      "\n",
      "{'studytime', 'schoolsup', 'G3'}\n",
      "\n",
      "\n",
      "- Active trails from node 'schoolsup' given that 'studytime' is observed: \n",
      "\n",
      "{'Fedu', 'schoolsup', 'freetime', 'famsup', 'Dalc', 'traveltime', 'Medu', 'paid'}\n",
      "\n",
      "-------------------------------------------------------\n",
      "\n",
      "\n",
      "- Active trails from node 'freetime':\n",
      "\n",
      "{'studytime', 'freetime', 'G3'}\n",
      "\n",
      "\n",
      "- Active trails from node 'freetime' given that 'studytime' is observed: \n",
      "\n",
      "{'Fedu', 'freetime', 'schoolsup', 'Dalc', 'famsup', 'traveltime', 'Medu', 'paid'}\n",
      "\n",
      "-------------------------------------------------------\n",
      "\n",
      "\n",
      "- Active trails from node 'Dalc':\n",
      "\n",
      "{'studytime', 'G3', 'Dalc'}\n",
      "\n",
      "\n",
      "- Active trails from node 'Dalc' given that 'studytime' is observed: \n",
      "\n",
      "{'Fedu', 'schoolsup', 'freetime', 'Dalc', 'famsup', 'traveltime', 'Medu', 'paid'}\n",
      "\n",
      "-------------------------------------------------------\n",
      "\n",
      "\n",
      "- Active trails from node 'traveltime':\n",
      "\n",
      "{'traveltime', 'studytime', 'G3'}\n",
      "\n",
      "\n",
      "- Active trails from node 'traveltime' given that 'studytime' is observed: \n",
      "\n",
      "{'Fedu', 'freetime', 'schoolsup', 'Dalc', 'famsup', 'traveltime', 'Medu', 'paid'}\n",
      "\n",
      "-------------------------------------------------------\n",
      "\n",
      "\n",
      "- Active trails from node 'studytime':\n",
      "\n",
      "{'studytime', 'Fedu', 'freetime', 'G3', 'famsup', 'Dalc', 'schoolsup', 'traveltime', 'Medu', 'paid'}\n",
      "\n",
      "\n",
      "- Active trails from node 'studytime' given that '['famsup', 'G3']' is observed: \n",
      "\n",
      "{'studytime', 'freetime', 'schoolsup', 'Dalc', 'absences', 'traveltime', 'sex', 'age'}\n",
      "\n",
      "-------------------------------------------------------\n",
      "\n",
      "\n",
      "- Active trails from node 'sex':\n",
      "\n",
      "{'sex', 'G3'}\n",
      "\n",
      "\n",
      "- Active trails from node 'sex' given that 'G3' is observed: \n",
      "\n",
      "{'studytime', 'Fedu', 'freetime', 'schoolsup', 'famsup', 'Dalc', 'absences', 'traveltime', 'age', 'sex', 'Medu', 'paid'}\n",
      "\n",
      "-------------------------------------------------------\n",
      "\n",
      "\n",
      "- Active trails from node 'age':\n",
      "\n",
      "{'age', 'G3'}\n",
      "\n",
      "\n",
      "- Active trails from node 'age' given that 'G3' is observed: \n",
      "\n",
      "{'studytime', 'Fedu', 'freetime', 'schoolsup', 'famsup', 'Dalc', 'absences', 'traveltime', 'sex', 'age', 'Medu', 'paid'}\n",
      "\n",
      "-------------------------------------------------------\n",
      "\n",
      "\n",
      "- Active trails from node 'G3':\n",
      "\n",
      "{'studytime', 'Fedu', 'freetime', 'G3', 'famsup', 'schoolsup', 'Dalc', 'absences', 'traveltime', 'age', 'sex', 'Medu', 'paid'}\n",
      "\n",
      "\n",
      "- Active trails from node 'G3' given that 'studytime' is observed: \n",
      "\n",
      "{'age', 'sex', 'G3', 'absences'}\n",
      "\n",
      "-------------------------------------------------------\n",
      "\n",
      "\n",
      "- Active trails from node 'absences':\n",
      "\n",
      "{'G3', 'absences'}\n",
      "\n",
      "\n",
      "- Active trails from node 'absences' given that 'G3' is observed: \n",
      "\n",
      "{'studytime', 'Fedu', 'freetime', 'schoolsup', 'famsup', 'Dalc', 'absences', 'traveltime', 'sex', 'age', 'Medu', 'paid'}\n",
      "\n",
      "-------------------------------------------------------\n"
     ]
    }
   ],
   "source": [
    "#nodes:\n",
    "\n",
    "nodes = ['Medu', \n",
    "         'Fedu', \n",
    "         'famsup', \n",
    "         'paid', \n",
    "         'schoolsup', \n",
    "         'freetime', \n",
    "         'Dalc', \n",
    "         'traveltime', \n",
    "         'studytime', \n",
    "         'sex', \n",
    "         'age', \n",
    "         'G3', \n",
    "         'absences']\n",
    "\n",
    "observed_nodes = ['famsup', \n",
    "                  'famsup', \n",
    "                  'studytime', \n",
    "                  'famsup', \n",
    "                  'studytime', \n",
    "                  'studytime', \n",
    "                  'studytime', \n",
    "                  'studytime', \n",
    "                  ['famsup', 'G3'],\n",
    "                  'G3', \n",
    "                  'G3', \n",
    "                  'studytime', \n",
    "                  'G3']\n",
    "\n",
    "#Active trails:\n",
    "\n",
    "for i in range(len(nodes)):\n",
    "    print(f\"\\n\\n- Active trails from node '{nodes[i]}':\\n\")\n",
    "    a = model.active_trail_nodes(nodes[i])\n",
    "    print(f\"{a[nodes[i]]}\")\n",
    "    print(f\"\\n\\n- Active trails from node '{nodes[i]}' given that '{observed_nodes[i]}' is observed: \")\n",
    "    b = model.active_trail_nodes(nodes[i], observed = observed_nodes[i])\n",
    "    print(f\"\\n{b[nodes[i]]}\\n\")\n",
    "    print(\"-\"*55)"
   ]
  },
  {
   "cell_type": "markdown",
   "id": "a12044e8",
   "metadata": {},
   "source": [
    "In the previous code, we defined as `observed_nodes` all of the nodes that theoretically are supposed to make inactive the two-edge active trails and viceversa.  \n",
    "\n",
    "As we said earlier:\n",
    "\n",
    "- with *v-structures* X $\\rightarrow$ Z $\\leftarrow$ Y, X and Y are independent (inactive two-edge trail) only if Z is <u>not</u> given;\n",
    "\n",
    "\n",
    "- with *causal trails* X $\\rightarrow$ Z $\\rightarrow$ Y, X and Y are independent (inactive two-edge trail) only if Z is given;\n",
    "\n",
    "\n",
    "- with *common parent trails* X $\\leftarrow$ Z $\\rightarrow$ Y, X and Y are independent (inactive two-edge trail) only if Z is given.\n",
    "\n",
    "Let's consider for example the *active trails* from `schoolsup` from which we can spot both *v-structures* and *causal trails* dependencies:\n",
    "\n",
    "1. given that `studytime` is <u>not</u> observed, all of the *v-structures* from `schoolsup` are inactive and oppositely the *causal trail* `schoolsup` $\\rightarrow$ `studytime` $\\rightarrow$ `G3` is active, meaning that:\n",
    "\n",
    "\n",
    "**<center>If `studytime` is not given, the active nodes are  {'schoolsup', 'studytime', 'G3'}</center>**\n",
    "\n",
    "\n",
    "2. given that `studytime` is observed, all of the *v-structures* from `schoolsup` are active and the *causal trail* `schoolsup` $\\rightarrow$ `studytime` $\\rightarrow$ `G3` is not active anymore. Moreover`famsup` is active, so we can consider also the dependencies:\n",
    "\n",
    "    - `Medu`/`Fedu` $\\rightarrow$ `famsup` $\\rightarrow$ `paid`/`studytime`, which is active given that `famsup` is not observed;\n",
    "    \n",
    "    - `paid` $\\leftarrow$ `famsup` $\\rightarrow$ `studytime`, which is also active given that `famsup` is not observed. \n",
    "\n",
    "So in this case we can state that:\n",
    "\n",
    "**<center>If `studytime` is given, the active nodes are  {'Dalc', 'traveltime', 'freetime', 'Fedu', 'schoolsup', 'Medu', 'paid', 'famsup'}</center>**"
   ]
  },
  {
   "cell_type": "markdown",
   "id": "17b943da",
   "metadata": {},
   "source": [
    "#### D-separability\n",
    "\n",
    "Two sets of nodes **X**, **Y** are *d-separated* given **Z** if there is *no active trail* between any X ∈ **X** and Y ∈ **Y** given **Z**. \n",
    "<br>Considering the same starting node we used above, we expect that all of the nodes which are part of the active trail that contains `schoolsup`, are <u>not</u> *d-separated* and viceversa.\n",
    "In the following code, we verify whether `schoolsup` is *d-separated* from other nodes in the active trail and from nodes outside of the active trail."
   ]
  },
  {
   "cell_type": "code",
   "execution_count": 59,
   "id": "f8a5b073",
   "metadata": {},
   "outputs": [
    {
     "name": "stdout",
     "output_type": "stream",
     "text": [
      "The nodes in the active trail are all d-connected to 'schoolsup'\n",
      "\n",
      "------------------------------------------------------------\n",
      "\n",
      "The nodes that are not part of the active trail are all d-separated from 'schoolsup'\n",
      "\n",
      "------------------------------------------------------------\n"
     ]
    }
   ],
   "source": [
    "#variables:\n",
    "active_trail_nodes = ['schoolsup', \n",
    "                      'studytime', \n",
    "                      'G3']\n",
    "\n",
    "inactive_trail_nodes = ['Medu', \n",
    "                        'Fedu', \n",
    "                        'famsup', \n",
    "                        'paid', \n",
    "                        'freetime', \n",
    "                        'Dalc', \n",
    "                        'traveltime', \n",
    "                        'sex', \n",
    "                        'age', \n",
    "                        'absences'\n",
    "                       ]\n",
    "\n",
    "#check if schoolsup and the rest of active trail nodes are d-connected:\n",
    "\n",
    "bool_vect1 = []\n",
    "\n",
    "for i in range(len(active_trail_nodes)):\n",
    "    \n",
    "    bool_vect1.append(model.is_dconnected('schoolsup', active_trail_nodes[i]))\n",
    "    \n",
    "#che if schoolsup and the inactive trail nodes are d-connected:\n",
    "\n",
    "bool_vect2 = []\n",
    "\n",
    "for i in range(len(inactive_trail_nodes)):\n",
    "    \n",
    "    bool_vect2.append(model.is_dconnected('schoolsup', inactive_trail_nodes[i]))\n",
    "    \n",
    "\n",
    "#prints:\n",
    "\n",
    "if all(bool_vect1):\n",
    "    print(\"The nodes in the active trail are all d-connected to 'schoolsup'\\n\")\n",
    "    print('-'*60)\n",
    "    \n",
    "else:\n",
    "    print(\"The nodes in the active trail are NOT all d-connected to 'schoolsup'\\n\")\n",
    "    print('-'*60)\n",
    "\n",
    "if not any(bool_vect2):\n",
    "    print(\"\\nThe nodes that are not part of the active trail are all d-separated from 'schoolsup'\\n\")\n",
    "    print('-'*60)\n",
    "    \n",
    "else:\n",
    "    print(\"the nodes that are not part of the active trail are NOT all d-separated from 'schoolsup'\")\n",
    "    print('-'*60)\n",
    "    "
   ]
  },
  {
   "cell_type": "markdown",
   "id": "639cfeab",
   "metadata": {},
   "source": [
    "Now instead, let's consider only `schoolsup` $\\rightarrow$ `studytime` $\\rightarrow$ `G3`. \n",
    "\n",
    "As we said earlier, these nodes are all part of the active trail, but if `studytime` is observed, we expect that `schoolsup` is now *d-separated* from `G3`.  "
   ]
  },
  {
   "cell_type": "code",
   "execution_count": 40,
   "id": "686bb19f",
   "metadata": {},
   "outputs": [
    {
     "name": "stdout",
     "output_type": "stream",
     "text": [
      "\n",
      "'schoolsup' and 'G3' are d-separated, as we expected.\n"
     ]
    }
   ],
   "source": [
    "if not model.is_dconnected('schoolsup', 'G3', observed=['studytime']):\n",
    "    print(\"\\n'schoolsup' and 'G3' are d-separated, as we expected.\")\n",
    "\n",
    "else: \n",
    "    print(\"\\n'schoolsup' and 'G3' are d-connected, contrarily from what we expected.\")"
   ]
  },
  {
   "cell_type": "markdown",
   "id": "3afe477a",
   "metadata": {},
   "source": [
    "##### Local independencies\n",
    "\n",
    "Each node is conditionally independent of its nondescendants given its parents. For example, if we consider `famsup`, we have that given the parents `Medu` and `Fedu`, `famsup` is conditionally independent of all nodes except the descendants `paid` and `studytime`. "
   ]
  },
  {
   "cell_type": "code",
   "execution_count": 41,
   "id": "c581cb78",
   "metadata": {},
   "outputs": [
    {
     "name": "stdout",
     "output_type": "stream",
     "text": [
      "As we expected, we have:\n",
      "\n",
      "(famsup ⟂ traveltime, sex, schoolsup, freetime, Dalc, age, absences | Fedu, Medu)\n"
     ]
    }
   ],
   "source": [
    "print(f\"As we expected, we have:\\n\\n{model.local_independencies('famsup')}\")"
   ]
  },
  {
   "cell_type": "markdown",
   "id": "761cf42d",
   "metadata": {},
   "source": [
    "##### Markov blanket\n",
    "\n",
    "Each node is conditionally independent of all others given its Markov blanket, which consists of the node's parents, children and children's parents. For example, the Markov blanket of `famsup`, should be composed by:\n",
    "\n",
    "- parent nodes: `Medu` and `Fedu`;\n",
    "\n",
    "- children nodes: `paid` and `studytime`;\n",
    "\n",
    "- children's parent nodes: `schoolsup`, `freetime`, `Dalc` and `traveltime`.\n",
    "\n",
    "Given the Markov blanket of `famsup`, we expect that `famsup` is conditionally independent of `sex`, `age` , `absences` and `G3`."
   ]
  },
  {
   "cell_type": "code",
   "execution_count": 63,
   "id": "47e6a1ce",
   "metadata": {
    "scrolled": false
   },
   "outputs": [
    {
     "name": "stdout",
     "output_type": "stream",
     "text": [
      "The Markov blanket of 'famsup' (green nodes) is:\n",
      "\n"
     ]
    },
    {
     "data": {
      "image/png": "[encoded data removed]",
      "text/plain": [
       "<Figure size 864x576 with 1 Axes>"
      ]
     },
     "metadata": {},
     "output_type": "display_data"
    }
   ],
   "source": [
    "print(\"The Markov blanket of 'famsup' (green nodes) is:\\n\")\n",
    "plt.figure(figsize=(12, 8))\n",
    "\n",
    "\n",
    "nx.draw(model, \n",
    "        pos=pos, \n",
    "        nodelist = model.get_markov_blanket('famsup'), \n",
    "        node_color=\"green\", \n",
    "        with_labels=True, \n",
    "        **options)\n",
    "\n",
    "nx.draw(model, \n",
    "        pos=pos, \n",
    "        nodelist= (model.nodes() - model.get_markov_blanket('famsup')), \n",
    "        node_color=\"orange\", \n",
    "        with_labels=True, \n",
    "        **options)\n",
    "\n",
    "nx.draw(model, \n",
    "        pos=pos, \n",
    "        nodelist = ['famsup'], \n",
    "        node_color=\"lightgray\", \n",
    "        with_labels=True, \n",
    "        **options)"
   ]
  },
  {
   "cell_type": "markdown",
   "id": "4295d945",
   "metadata": {},
   "source": [
    "As expected, the Markov blanket of `famsup` is composed by the above green nodes. Given the green nodes, we have that `famsup` is conditionally independent of the yellow nodes. "
   ]
  },
  {
   "cell_type": "markdown",
   "id": "51758291",
   "metadata": {},
   "source": [
    "##### Irrelevant variables\n",
    "\n",
    "Given the query $P(X|E)$, we will say that a node $Y$ *is irrelevant to the query* if $Y \\not\\in AncestralTree(X)$ or if $Y$ is d-separated from $X$ by $E$.\n",
    "In particular, we define $AncestralTree(X)$ as $Ancestors(\\{X\\} \\cup E)$.\n",
    "\n",
    "Due to the fact that in *pgmpy* there are no functions able to find irrelevant variables to a given query, we will graphically find the irrelevant variables and we will verify them by checking whether $Y$ is *d-connected* to $X$ by $E$.\n",
    "<br>\n",
    "\n",
    "\n",
    "Let's consider the query $P(studytime | freetime)$:"
   ]
  },
  {
   "cell_type": "code",
   "execution_count": 43,
   "id": "daa6d659",
   "metadata": {},
   "outputs": [
    {
     "name": "stdout",
     "output_type": "stream",
     "text": [
      "The AncestralTree of 'studytime' (green nodes) is:\n",
      "\n"
     ]
    },
    {
     "data": {
      "image/png": "[encoded data removed]",
      "text/plain": [
       "<Figure size 864x576 with 1 Axes>"
      ]
     },
     "metadata": {},
     "output_type": "display_data"
    }
   ],
   "source": [
    "print(\"The AncestralTree of 'studytime' (green nodes) is:\\n\")\n",
    "\n",
    "plt.figure(figsize=(12, 8))\n",
    "\n",
    "nx.draw(model, \n",
    "        pos=pos, \n",
    "        nodelist = model.get_ancestral_graph('studytime'), \n",
    "        node_color=\"green\", \n",
    "        with_labels=True, \n",
    "        **options)\n",
    "\n",
    "nx.draw(model, \n",
    "        pos=pos, \n",
    "        nodelist= (model.nodes() - model.get_ancestral_graph('studytime')), \n",
    "        node_color=\"orange\", \n",
    "        with_labels=True, \n",
    "        **options)"
   ]
  },
  {
   "cell_type": "markdown",
   "id": "c71222a5",
   "metadata": {},
   "source": [
    "From the previous plot, we can graphically see that all of the yellow nodes are **irrelevant variables** to the given query. Now let's confirm this by checking whether the yellow variables and `studytime` are *d-separated* or not, given that `famsup` is observed. "
   ]
  },
  {
   "cell_type": "code",
   "execution_count": 44,
   "id": "c3d0313d",
   "metadata": {},
   "outputs": [
    {
     "name": "stdout",
     "output_type": "stream",
     "text": [
      "False\n",
      "False\n",
      "False\n"
     ]
    }
   ],
   "source": [
    "irr_var = list(model.nodes() - model.get_ancestral_graph('studytime'))\n",
    "\n",
    "print(model.is_dconnected('absences', 'studytime', observed='freetime'))\n",
    "print(model.is_dconnected('sex', 'studytime', observed='freetime'))\n",
    "print(model.is_dconnected('age', 'studytime', observed='freetime'))"
   ]
  },
  {
   "cell_type": "markdown",
   "id": "4ae86eb2",
   "metadata": {},
   "source": [
    "As we expected, the results are verified."
   ]
  },
  {
   "cell_type": "markdown",
   "id": "b0047dfb",
   "metadata": {},
   "source": [
    "## 4. Parameter Estimation\n",
    "\n",
    "Since the bayesian network has been created successfully, we can now proceed estimating the *Conditional Probability Distributions* (**CPDs**).\n",
    "\n",
    "Parameter learning can be accomplished by using *pgmpy*'s `.fit()` method, which, given a model, a dataframe and an estimator, is able to  \n",
    "compute the CPDs. \n",
    "The two most commonly used estimators are:\n",
    "\n",
    "- ***Maximum Likelihood Estimator*** (*MLE*), which exploits the relative frequencies of the variables occurrencies to compute the CPDs that maximises $P(data | model)$;\n",
    "\n",
    "\n",
    "- ***Bayesian Estimator***, which uses already existing prior conditional probability tables in order to compute the CPDs.\n",
    "\n",
    "We decided to use a Bayesian Estimator, because the dataset we are using comprehends well defined priors which contain relevant insight to the scope of this project work.\n",
    "\n",
    "Once the *CPDs* have been computed correctly, we can represent them in *Conditional Probability Distributions*."
   ]
  },
  {
   "cell_type": "code",
   "execution_count": 45,
   "id": "f98f5bb3",
   "metadata": {
    "scrolled": false
   },
   "outputs": [
    {
     "name": "stdout",
     "output_type": "stream",
     "text": [
      "The CPDs have been computed correctly.\n",
      "\n",
      "Conditional Probability Table of 'Medu':\n",
      "+---------+------------+\n",
      "| Medu(0) | 0.00953289 |\n",
      "+---------+------------+\n",
      "| Medu(1) | 0.193518   |\n",
      "+---------+------------+\n",
      "| Medu(2) | 0.276454   |\n",
      "+---------+------------+\n",
      "| Medu(3) | 0.227836   |\n",
      "+---------+------------+\n",
      "| Medu(4) | 0.29266    |\n",
      "+---------+------------+ \n",
      "\n",
      "Conditional Probability Table of 'famsup':\n",
      "+-------------+---------------------+-----+---------------------+\n",
      "| Fedu        | Fedu(0)             | ... | Fedu(4)             |\n",
      "+-------------+---------------------+-----+---------------------+\n",
      "| Medu        | Medu(0)             | ... | Medu(4)             |\n",
      "+-------------+---------------------+-----+---------------------+\n",
      "| famsup(no)  | 0.08333333333333333 | ... | 0.24273607748184023 |\n",
      "+-------------+---------------------+-----+---------------------+\n",
      "| famsup(yes) | 0.9166666666666666  | ... | 0.7572639225181598  |\n",
      "+-------------+---------------------+-----+---------------------+ \n",
      "\n",
      "Conditional Probability Table of 'Fedu':\n",
      "+---------+------------+\n",
      "| Fedu(0) | 0.00953289 |\n",
      "+---------+------------+\n",
      "| Fedu(1) | 0.244995   |\n",
      "+---------+------------+\n",
      "| Fedu(2) | 0.309819   |\n",
      "+---------+------------+\n",
      "| Fedu(3) | 0.221163   |\n",
      "+---------+------------+\n",
      "| Fedu(4) | 0.21449    |\n",
      "+---------+------------+ \n",
      "\n",
      "Conditional Probability Table of 'schoolsup':\n",
      "+----------------+----------+\n",
      "| schoolsup(no)  | 0.884175 |\n",
      "+----------------+----------+\n",
      "| schoolsup(yes) | 0.115825 |\n",
      "+----------------+----------+ \n",
      "\n",
      "Conditional Probability Table of 'studytime':\n",
      "+--------------+-----+-----------------------+\n",
      "| Dalc         | ... | Dalc(5)               |\n",
      "+--------------+-----+-----------------------+\n",
      "| famsup       | ... | famsup(yes)           |\n",
      "+--------------+-----+-----------------------+\n",
      "| freetime     | ... | freetime(5)           |\n",
      "+--------------+-----+-----------------------+\n",
      "| schoolsup    | ... | schoolsup(yes)        |\n",
      "+--------------+-----+-----------------------+\n",
      "| traveltime   | ... | traveltime(4)         |\n",
      "+--------------+-----+-----------------------+\n",
      "| studytime(1) | ... | 0.9953416149068326    |\n",
      "+--------------+-----+-----------------------+\n",
      "| studytime(2) | ... | 0.0015527950310559012 |\n",
      "+--------------+-----+-----------------------+\n",
      "| studytime(3) | ... | 0.0015527950310559012 |\n",
      "+--------------+-----+-----------------------+\n",
      "| studytime(4) | ... | 0.0015527950310559012 |\n",
      "+--------------+-----+-----------------------+ \n",
      "\n",
      "Conditional Probability Table of 'Dalc':\n",
      "+---------+-----------+\n",
      "| Dalc(1) | 0.693994  |\n",
      "+---------+-----------+\n",
      "| Dalc(2) | 0.187798  |\n",
      "+---------+-----------+\n",
      "| Dalc(3) | 0.0667302 |\n",
      "+---------+-----------+\n",
      "| Dalc(4) | 0.0257388 |\n",
      "+---------+-----------+\n",
      "| Dalc(5) | 0.0257388 |\n",
      "+---------+-----------+ \n",
      "\n",
      "Conditional Probability Table of 'traveltime':\n",
      "+---------------+-----------+\n",
      "| traveltime(1) | 0.595091  |\n",
      "+---------------+-----------+\n",
      "| traveltime(2) | 0.306244  |\n",
      "+---------------+-----------+\n",
      "| traveltime(3) | 0.0745949 |\n",
      "+---------------+-----------+\n",
      "| traveltime(4) | 0.0240705 |\n",
      "+---------------+-----------+ \n",
      "\n",
      "Conditional Probability Table of 'freetime':\n",
      "+-------------+-----------+\n",
      "| freetime(1) | 0.0619638 |\n",
      "+-------------+-----------+\n",
      "| freetime(2) | 0.163966  |\n",
      "+-------------+-----------+\n",
      "| freetime(3) | 0.389895  |\n",
      "+-------------+-----------+\n",
      "| freetime(4) | 0.280267  |\n",
      "+-------------+-----------+\n",
      "| freetime(5) | 0.103908  |\n",
      "+-------------+-----------+ \n",
      "\n",
      "Conditional Probability Table of 'paid':\n",
      "+-----------+---------------------+---------------------+\n",
      "| famsup    | famsup(no)          | famsup(yes)         |\n",
      "+-----------+---------------------+---------------------+\n",
      "| paid(no)  | 0.8739237392373924  | 0.7334630350194552  |\n",
      "+-----------+---------------------+---------------------+\n",
      "| paid(yes) | 0.12607626076260764 | 0.26653696498054474 |\n",
      "+-----------+---------------------+---------------------+ \n",
      "\n",
      "Conditional Probability Table of 'sex':\n",
      "+--------+----------+\n",
      "| sex(F) | 0.565777 |\n",
      "+--------+----------+\n",
      "| sex(M) | 0.434223 |\n",
      "+--------+----------+ \n",
      "\n",
      "Conditional Probability Table of 'G3':\n",
      "+-----------------------+-----+---------------------+\n",
      "| absences              | ... | absences(21-30)     |\n",
      "+-----------------------+-----+---------------------+\n",
      "| age                   | ... | age(20-22)          |\n",
      "+-----------------------+-----+---------------------+\n",
      "| sex                   | ... | sex(M)              |\n",
      "+-----------------------+-----+---------------------+\n",
      "| studytime             | ... | studytime(4)        |\n",
      "+-----------------------+-----+---------------------+\n",
      "| G3(Bom)               | ... | 0.14285714285714285 |\n",
      "+-----------------------+-----+---------------------+\n",
      "| G3(Excelente)         | ... | 0.14285714285714285 |\n",
      "+-----------------------+-----+---------------------+\n",
      "| G3(Mau)               | ... | 0.14285714285714285 |\n",
      "+-----------------------+-----+---------------------+\n",
      "| G3(Mediocre)          | ... | 0.14285714285714285 |\n",
      "+-----------------------+-----+---------------------+\n",
      "| G3(Mui bom distincao) | ... | 0.14285714285714285 |\n",
      "+-----------------------+-----+---------------------+\n",
      "| G3(Muito Bom)         | ... | 0.14285714285714285 |\n",
      "+-----------------------+-----+---------------------+\n",
      "| G3(Suficiente)        | ... | 0.14285714285714285 |\n",
      "+-----------------------+-----+---------------------+ \n",
      "\n",
      "Conditional Probability Table of 'age':\n",
      "+------------+-----------+\n",
      "| age(15-17) | 0.718462  |\n",
      "+------------+-----------+\n",
      "| age(18-19) | 0.266603  |\n",
      "+------------+-----------+\n",
      "| age(20-22) | 0.0149349 |\n",
      "+------------+-----------+ \n",
      "\n",
      "Conditional Probability Table of 'absences':\n",
      "+-----------------+------------+\n",
      "| absences(+30)   | 0.00691134 |\n",
      "+-----------------+------------+\n",
      "| absences(0-10)  | 0.886797   |\n",
      "+-----------------+------------+\n",
      "| absences(11-20) | 0.0888942  |\n",
      "+-----------------+------------+\n",
      "| absences(21-30) | 0.0173975  |\n",
      "+-----------------+------------+ \n",
      "\n"
     ]
    }
   ],
   "source": [
    "#Initialize CPDs list:\n",
    "model.cpds = []\n",
    "\n",
    "\n",
    "#Estimante parameters:\n",
    "model.fit(data = df_new,\n",
    "          estimator = BayesianEstimator,\n",
    "          prior_type = \"BDeu\")\n",
    "\n",
    "\n",
    "#Verify integrity of the CPDs:\n",
    "if model.check_model():\n",
    "    print('The CPDs have been computed correctly.\\n')\n",
    "    \n",
    "    #Represent CPDs in CPTs:\n",
    "    for cpd in model.get_cpds():\n",
    "        print(f\"Conditional Probability Table of '{cpd.variable}':\")\n",
    "        print(cpd, '\\n')\n",
    "        \n",
    "else:\n",
    "    print('Parameter estimation failed to be consistent.\\n')"
   ]
  },
  {
   "cell_type": "markdown",
   "id": "1550fee2",
   "metadata": {},
   "source": [
    "## 5. Inferences\n",
    "\n",
    "Since the model has been created successfully and the CPDs have been computed correctly, we have finally generated a bayesian network that represents a complex *Joint Probability Function*, to which we can compute inferences that take into account all of the random variables and their possible instances. \n",
    "\n",
    "There are two types of bayesian inferences:\n",
    "\n",
    "1. ***exact inference***, with which we analytically compute the CPDs over some arbitrarily choosen random variables;\n",
    "\n",
    "\n",
    "2. ***approximate inference***, with which the CPDs are computed exploiting approximation techniques based on statistical sampling.\n",
    "\n",
    "<br>\n",
    "<img src=\"images/graph.png \" width=\"210\" align = \"right\"/>\n",
    "\n",
    "Also, in bayesian inferences there are different reasoning patterns:\n",
    "\n",
    "\n",
    "\n",
    "* ***predictive (or causal) reasoning***, when the inference flows from cause to effect, e.g. $P(Y | X_1)$. \n",
    "<br>\n",
    "\n",
    "* ***diagnostic (or evidential) reasoning***, when the inference flows from effect to cause, e.g. $P(X_1 | Y)$.  \n",
    "<br>\n",
    "\n",
    "* ***intercausal reasoning***, when the inference flows from a cause to another, both with a common effect, e.g. $P(X_1 | X_2, Y)$ or $P(X_2 | X_1, Y)$. \n",
    "\n",
    "\n",
    "<br>\n",
    "In the following sections, we will see both exact and aproximate inference queries that are based on each of the above reasoning patterns."
   ]
  },
  {
   "cell_type": "markdown",
   "id": "a7d1e0dc",
   "metadata": {},
   "source": [
    "### 5.1. Exact Inference\n",
    "In general, exact inference can be done by *enumeration* or by *variable elimination*. However, inference by enumeration typically is computationally slow, that is the reason why we have choosen the **Variable Elimination algorithm**."
   ]
  },
  {
   "cell_type": "code",
   "execution_count": 46,
   "id": "d3ddebb3",
   "metadata": {},
   "outputs": [],
   "source": [
    "from pgmpy.inference import VariableElimination\n",
    "\n",
    "infer = VariableElimination(model)  "
   ]
  },
  {
   "cell_type": "markdown",
   "id": "0bde64cf",
   "metadata": {},
   "source": [
    "In order to represent graphically each query, we implemented the following python functions. "
   ]
  },
  {
   "cell_type": "code",
   "execution_count": 47,
   "id": "4b904edb",
   "metadata": {},
   "outputs": [],
   "source": [
    "def plot_pdf(rows, cols, titles, pdf_legends, figsize, x_ticklabels, diz):\n",
    "    \n",
    "    #define subplots structure:\n",
    "    f, ax = plt.subplots(rows, cols, figsize = figsize)    \n",
    "    \n",
    "    \n",
    "    #define axis' labels and values:\n",
    "    x_axis = np.arange(len(x_ticklabels))\n",
    "   \n",
    "    y_labels = []  \n",
    "    max_height = []\n",
    "    \n",
    "    for k in range(len(diz)):\n",
    "        y_labels.append(diz[k].values())\n",
    "        \n",
    "        max_height.append(max(list(diz[k].values())))\n",
    "    \n",
    "    max_height = max(max_height)+10                      \n",
    "    #iteratively create subplots:\n",
    "    index = 0\n",
    "    \n",
    "    if rows == 1:\n",
    "        for i in range(cols):\n",
    "            ax[i].bar(x_axis, y_labels[index], tick_label = x_ticklabels, label = pdf_legends[index], width = 0.1)\n",
    "            ax[i].set_ylim(top=max_height)\n",
    "            ax[i].grid()\n",
    "            ax[i].legend()\n",
    "            ax[i].set_title(titles[index])\n",
    "            \n",
    "            index = index + 1\n",
    "            \n",
    "    else:        \n",
    "        for j in range(cols):\n",
    "            for i in range(rows):\n",
    "                ax[i,j].bar(x_axis, y_labels[index], tick_label = x_ticklabels, label = pdf_legends[index], width = 0.1)\n",
    "                ax[i,j].set_ylim(top=max_height)\n",
    "                ax[i,j].grid()\n",
    "                ax[i,j].legend()\n",
    "                ax[i,j].set_title(titles[index])\n",
    "\n",
    "                index = index + 1\n",
    "    \n",
    "    plt.show()"
   ]
  },
  {
   "cell_type": "markdown",
   "id": "92ff6b6f",
   "metadata": {},
   "source": [
    "### 5.1.1. Causal Inference Queries"
   ]
  },
  {
   "cell_type": "markdown",
   "id": "0a12732f",
   "metadata": {},
   "source": [
    "* **What is the probability of each possible instance of <u>Grade</u> given the <u>Age</u> and <u>Sex</u> of the student?**"
   ]
  },
  {
   "cell_type": "code",
   "execution_count": 48,
   "id": "d455ef85",
   "metadata": {
    "scrolled": false
   },
   "outputs": [
    {
     "name": "stdout",
     "output_type": "stream",
     "text": [
      "** First case: \tAge between 15 and 17:\n",
      "\n",
      "- Male students\n",
      "\n",
      " +-----------------------+-----------+\n",
      "| G3                    |   phi(G3) |\n",
      "+=======================+===========+\n",
      "| G3(Bom)               |    0.1708 |\n",
      "+-----------------------+-----------+\n",
      "| G3(Excelente)         |    0.0492 |\n",
      "+-----------------------+-----------+\n",
      "| G3(Mau)               |    0.0516 |\n",
      "+-----------------------+-----------+\n",
      "| G3(Mediocre)          |    0.1242 |\n",
      "+-----------------------+-----------+\n",
      "| G3(Mui bom distincao) |    0.0092 |\n",
      "+-----------------------+-----------+\n",
      "| G3(Muito Bom)         |    0.0856 |\n",
      "+-----------------------+-----------+\n",
      "| G3(Suficiente)        |    0.5095 |\n",
      "+-----------------------+-----------+\n",
      "\n",
      "- Female students\n",
      "\n",
      "+-----------------------+-----------+\n",
      "| G3                    |   phi(G3) |\n",
      "+=======================+===========+\n",
      "| G3(Bom)               |    0.1697 |\n",
      "+-----------------------+-----------+\n",
      "| G3(Excelente)         |    0.0298 |\n",
      "+-----------------------+-----------+\n",
      "| G3(Mau)               |    0.0651 |\n",
      "+-----------------------+-----------+\n",
      "| G3(Mediocre)          |    0.1255 |\n",
      "+-----------------------+-----------+\n",
      "| G3(Mui bom distincao) |    0.0010 |\n",
      "+-----------------------+-----------+\n",
      "| G3(Muito Bom)         |    0.0985 |\n",
      "+-----------------------+-----------+\n",
      "| G3(Suficiente)        |    0.5105 |\n",
      "+-----------------------+-----------+\n",
      "\n",
      "PDFs in percentage format:\n"
     ]
    },
    {
     "data": {
      "image/png": "[encoded data removed]",
      "text/plain": [
       "<Figure size 1080x504 with 2 Axes>"
      ]
     },
     "metadata": {
      "needs_background": "light"
     },
     "output_type": "display_data"
    }
   ],
   "source": [
    "#--------Inference CPT representations--------\n",
    "\n",
    "print(\"** First case: \\tAge between 15 and 17:\\n\")\n",
    "\n",
    "\n",
    "#Inferences:\n",
    "q1_1 = infer.query([\"G3\"], evidence = {\"sex\": 'M',\"age\": '15-17'})\n",
    "q1_2 = infer.query([\"G3\"], evidence = {\"sex\": 'F',\"age\": '15-17'})\n",
    "\n",
    "\n",
    "#Print CPTs:\n",
    "print(f\"- Male students\\n\\n {q1_1}\")\n",
    "print(f\"\\n- Female students\\n\\n{q1_2}\")\n",
    "\n",
    "\n",
    "\n",
    "#------------Plotting the PDFs------------\n",
    "\n",
    "#x axis ticklabels:\n",
    "x_ticklabels = [\"Mau\",\n",
    "                \"Med\", \n",
    "                \"Suf\",\n",
    "                \"Bom\",\n",
    "                \"Muito Bom\",\n",
    "                \"Exc\",\n",
    "                \"Mui bom dist\"]\n",
    "\n",
    "#Setting y values of first dictionary:\n",
    "diz1 = dict({\"Bom\": q1_1.values[0]*100,\n",
    "             \"Exc\": q1_1.values[1]*100,\n",
    "             \"Mau\": q1_1.values[2]*100,\n",
    "             \"Med\": q1_1.values[3]*100,\n",
    "             \"Mui bom dist\": q1_1.values[4]*100,\n",
    "             \"Muito Bom\": q1_1.values[5]*100,\n",
    "             \"Suf\": q1_1.values[6]*100\n",
    "            })\n",
    "\n",
    "#Reordering first dictionary:\n",
    "diz1 = {k: diz1[k] for k in x_ticklabels}\n",
    "\n",
    "#Setting y values of second dictionary:\n",
    "diz2 = dict({\"Bom\": q1_2.values[0]*100,\n",
    "             \"Exc\": q1_2.values[1]*100,\n",
    "             \"Mau\": q1_2.values[2]*100,\n",
    "             \"Med\": q1_2.values[3]*100,\n",
    "             \"Mui bom dist\": q1_2.values[4]*100,\n",
    "             \"Muito Bom\": q1_2.values[5]*100,\n",
    "             \"Suf\": q1_2.values[6]*100\n",
    "            })\n",
    "\n",
    "#Reordering second dictionary:\n",
    "diz2 = {k: diz2[k] for k in x_ticklabels}\n",
    "\n",
    "#Variables to plot PDFs:\n",
    "rows = 1\n",
    "cols = 2\n",
    "titles = [\"Male Students\", \"Female Students\"]\n",
    "pdf_legends = ['age: 15-17', 'age: 15-17']\n",
    "figsize = (15,7)\n",
    "diz = [diz1, diz2]\n",
    "\n",
    "\n",
    "#plot all the pdf:\n",
    "print(\"\\nPDFs in percentage format:\")\n",
    "plot_pdf(rows = rows,\n",
    "         cols = cols,\n",
    "         titles = titles,\n",
    "         pdf_legends = pdf_legends,\n",
    "         figsize = figsize,\n",
    "         x_ticklabels = x_ticklabels, \n",
    "         diz = diz)"
   ]
  },
  {
   "cell_type": "code",
   "execution_count": 49,
   "id": "fb08ff15",
   "metadata": {
    "scrolled": false
   },
   "outputs": [
    {
     "name": "stdout",
     "output_type": "stream",
     "text": [
      "** Second case: \tAge between 18 and 19:\n",
      "\n",
      "- Male students\n",
      "\n",
      " +-----------------------+-----------+\n",
      "| G3                    |   phi(G3) |\n",
      "+=======================+===========+\n",
      "| G3(Bom)               |    0.1525 |\n",
      "+-----------------------+-----------+\n",
      "| G3(Excelente)         |    0.0169 |\n",
      "+-----------------------+-----------+\n",
      "| G3(Mau)               |    0.1289 |\n",
      "+-----------------------+-----------+\n",
      "| G3(Mediocre)          |    0.1657 |\n",
      "+-----------------------+-----------+\n",
      "| G3(Mui bom distincao) |    0.0060 |\n",
      "+-----------------------+-----------+\n",
      "| G3(Muito Bom)         |    0.1099 |\n",
      "+-----------------------+-----------+\n",
      "| G3(Suficiente)        |    0.4201 |\n",
      "+-----------------------+-----------+\n",
      "\n",
      "- Female students\n",
      "\n",
      "+-----------------------+-----------+\n",
      "| G3                    |   phi(G3) |\n",
      "+=======================+===========+\n",
      "| G3(Bom)               |    0.1488 |\n",
      "+-----------------------+-----------+\n",
      "| G3(Excelente)         |    0.0359 |\n",
      "+-----------------------+-----------+\n",
      "| G3(Mau)               |    0.1346 |\n",
      "+-----------------------+-----------+\n",
      "| G3(Mediocre)          |    0.1478 |\n",
      "+-----------------------+-----------+\n",
      "| G3(Mui bom distincao) |    0.0031 |\n",
      "+-----------------------+-----------+\n",
      "| G3(Muito Bom)         |    0.0637 |\n",
      "+-----------------------+-----------+\n",
      "| G3(Suficiente)        |    0.4661 |\n",
      "+-----------------------+-----------+\n",
      "\n",
      "PDFs in percentage format:\n"
     ]
    },
    {
     "data": {
      "image/png": "[encoded data removed]",
      "text/plain": [
       "<Figure size 1080x504 with 2 Axes>"
      ]
     },
     "metadata": {
      "needs_background": "light"
     },
     "output_type": "display_data"
    }
   ],
   "source": [
    "#--------Inference CPT representations--------\n",
    "\n",
    "print(\"** Second case: \\tAge between 18 and 19:\\n\")\n",
    "\n",
    "\n",
    "#Inferences:\n",
    "q2_1 = infer.query([\"G3\"],evidence={\"sex\": 'M',\"age\": '18-19'})\n",
    "q2_2 = infer.query([\"G3\"], evidence = {\"sex\": 'F',\"age\": '18-19'})\n",
    "\n",
    "\n",
    "#Print CPTs:\n",
    "print(f\"- Male students\\n\\n {q2_1}\")\n",
    "print(f\"\\n- Female students\\n\\n{q2_2}\")\n",
    "\n",
    "\n",
    "\n",
    "#------------Plotting the PDFs------------\n",
    "\n",
    "\n",
    "#x axis ticklabels:\n",
    "x_ticklabels = [\"Mau\",\n",
    "                \"Med\", \n",
    "                \"Suf\",\n",
    "                \"Bom\",\n",
    "                \"Muito Bom\",\n",
    "                \"Exc\",\n",
    "                \"Mui bom dist\"]\n",
    "\n",
    "#Setting y values of first dictionary:\n",
    "diz1 = dict({\"Bom\": q2_1.values[0]*100,\n",
    "             \"Exc\": q2_1.values[1]*100,\n",
    "             \"Mau\": q2_1.values[2]*100,\n",
    "             \"Med\": q2_1.values[3]*100,\n",
    "             \"Mui bom dist\": q2_1.values[4]*100,\n",
    "             \"Muito Bom\": q2_1.values[5]*100,\n",
    "             \"Suf\": q2_1.values[6]*100\n",
    "            })\n",
    "\n",
    "\n",
    "#Reordering first dictionary:\n",
    "diz1 = {k: diz1[k] for k in x_ticklabels}\n",
    "\n",
    "\n",
    "#Setting y values of second dictionary:\n",
    "diz2 = dict({\"Bom\": q2_2.values[0]*100,\n",
    "             \"Exc\": q2_2.values[1]*100,\n",
    "             \"Mau\": q2_2.values[2]*100,\n",
    "             \"Med\": q2_2.values[3]*100,\n",
    "             \"Mui bom dist\": q2_2.values[4]*100,\n",
    "             \"Muito Bom\": q2_2.values[5]*100,\n",
    "             \"Suf\": q2_2.values[6]*100\n",
    "            })\n",
    "\n",
    "\n",
    "#Reordering second dictionary:\n",
    "diz2 = {k: diz2[k] for k in x_ticklabels}\n",
    "\n",
    "\n",
    "#Variables to plot PDFs:\n",
    "rows = 1\n",
    "cols = 2\n",
    "titles = [\"Male Students\", \"Female Students\"]\n",
    "pdf_legends = ['age: 18-19', 'age: 18-19']\n",
    "figsize = (15,7)\n",
    "diz = [diz1, diz2]\n",
    "\n",
    "\n",
    "#plot all the pdf:\n",
    "print(\"\\nPDFs in percentage format:\")\n",
    "plot_pdf(rows = rows,\n",
    "         cols = cols,\n",
    "         titles = titles,\n",
    "         pdf_legends = pdf_legends,\n",
    "         figsize = figsize,\n",
    "         x_ticklabels = x_ticklabels, \n",
    "         diz = diz)"
   ]
  },
  {
   "cell_type": "code",
   "execution_count": 50,
   "id": "dc2d267c",
   "metadata": {
    "scrolled": false
   },
   "outputs": [
    {
     "name": "stdout",
     "output_type": "stream",
     "text": [
      "** Third case: \tAge between 20 and 22:\n",
      "\n",
      "- Male students\n",
      "\n",
      " +-----------------------+-----------+\n",
      "| G3                    |   phi(G3) |\n",
      "+=======================+===========+\n",
      "| G3(Bom)               |    0.1810 |\n",
      "+-----------------------+-----------+\n",
      "| G3(Excelente)         |    0.1810 |\n",
      "+-----------------------+-----------+\n",
      "| G3(Mau)               |    0.1045 |\n",
      "+-----------------------+-----------+\n",
      "| G3(Mediocre)          |    0.2292 |\n",
      "+-----------------------+-----------+\n",
      "| G3(Mui bom distincao) |    0.0960 |\n",
      "+-----------------------+-----------+\n",
      "| G3(Muito Bom)         |    0.0960 |\n",
      "+-----------------------+-----------+\n",
      "| G3(Suficiente)        |    0.1123 |\n",
      "+-----------------------+-----------+\n",
      "\n",
      "- Female students\n",
      "\n",
      "+-----------------------+-----------+\n",
      "| G3                    |   phi(G3) |\n",
      "+=======================+===========+\n",
      "| G3(Bom)               |    0.1232 |\n",
      "+-----------------------+-----------+\n",
      "| G3(Excelente)         |    0.0296 |\n",
      "+-----------------------+-----------+\n",
      "| G3(Mau)               |    0.0296 |\n",
      "+-----------------------+-----------+\n",
      "| G3(Mediocre)          |    0.0296 |\n",
      "+-----------------------+-----------+\n",
      "| G3(Mui bom distincao) |    0.0296 |\n",
      "+-----------------------+-----------+\n",
      "| G3(Muito Bom)         |    0.0296 |\n",
      "+-----------------------+-----------+\n",
      "| G3(Suficiente)        |    0.7287 |\n",
      "+-----------------------+-----------+\n",
      "\n",
      "PDFs in percentage format:\n"
     ]
    },
    {
     "data": {
      "image/png": "[encoded data removed]",
      "text/plain": [
       "<Figure size 1080x504 with 2 Axes>"
      ]
     },
     "metadata": {
      "needs_background": "light"
     },
     "output_type": "display_data"
    }
   ],
   "source": [
    "#--------Inference CPT representations--------\n",
    "\n",
    "print(\"** Third case: \\tAge between 20 and 22:\\n\")\n",
    "\n",
    "\n",
    "#Inferences:\n",
    "q3_1 = infer.query([\"G3\"],evidence={\"sex\": 'M',\"age\": '20-22'})\n",
    "q3_2 = infer.query([\"G3\"], evidence = {\"sex\": 'F',\"age\": '20-22'})\n",
    "\n",
    "\n",
    "#Print CPTs:\n",
    "print(f\"- Male students\\n\\n {q3_1}\")\n",
    "print(f\"\\n- Female students\\n\\n{q3_2}\")\n",
    "\n",
    "\n",
    "\n",
    "#------------Plotting the PDFs------------\n",
    "\n",
    "#x axis ticklabels:\n",
    "x_ticklabels = [\"Mau\",\n",
    "                \"Med\", \n",
    "                \"Suf\",\n",
    "                \"Bom\",\n",
    "                \"Muito Bom\",\n",
    "                \"Exc\",\n",
    "                \"Mui bom dist\"]\n",
    "\n",
    "#Setting y values of first dictionary:\n",
    "diz1 = dict({\"Bom\": q3_1.values[0]*100,\n",
    "             \"Exc\": q3_1.values[1]*100,\n",
    "             \"Mau\": q3_1.values[2]*100,\n",
    "             \"Med\": q3_1.values[3]*100,\n",
    "             \"Mui bom dist\": q3_1.values[4]*100,\n",
    "             \"Muito Bom\": q3_1.values[5]*100,\n",
    "             \"Suf\": q3_1.values[6]*100\n",
    "            })\n",
    "\n",
    "#Reordering first dictionary:\n",
    "diz1 = {k: diz1[k] for k in x_ticklabels}\n",
    "\n",
    "\n",
    "#Setting y values of second dictionary:\n",
    "diz2 = dict({\"Bom\": q3_2.values[0]*100,\n",
    "             \"Exc\": q3_2.values[1]*100,\n",
    "             \"Mau\": q3_2.values[2]*100,\n",
    "             \"Med\": q3_2.values[3]*100,\n",
    "             \"Mui bom dist\": q3_2.values[4]*100,\n",
    "             \"Muito Bom\": q3_2.values[5]*100,\n",
    "             \"Suf\": q3_2.values[6]*100\n",
    "            })\n",
    "\n",
    "#Reordering second dictionary:\n",
    "diz2 = {k: diz2[k] for k in x_ticklabels}\n",
    "\n",
    "#Variables to plot PDFs:\n",
    "rows = 1\n",
    "cols = 2\n",
    "titles = [\"Male Students\", \"Female Students\"]\n",
    "pdf_legends = ['age: 20-22', 'age: 20-22']\n",
    "figsize = (15,7)\n",
    "diz = [diz1, diz2]\n",
    "\n",
    "\n",
    "#plot all the pdf:\n",
    "print(\"\\nPDFs in percentage format:\")\n",
    "plot_pdf(rows = rows,\n",
    "         cols = cols,\n",
    "         titles = titles,\n",
    "         pdf_legends = pdf_legends,\n",
    "         figsize = figsize,\n",
    "         x_ticklabels = x_ticklabels, \n",
    "         diz = diz)"
   ]
  },
  {
   "cell_type": "markdown",
   "id": "b5675e3d",
   "metadata": {},
   "source": [
    "* **What is the probability of all instances of <u>final grade</u> given the amount of <u>studytime</u>?**"
   ]
  },
  {
   "cell_type": "code",
   "execution_count": 51,
   "id": "0bbec64b",
   "metadata": {},
   "outputs": [
    {
     "name": "stdout",
     "output_type": "stream",
     "text": [
      "** Third case: \tAge between 20 and 22:\n",
      "\n",
      "- CPT of studytime = 1:\n",
      "\n",
      " +-----------------------+-----------+\n",
      "| G3                    |   phi(G3) |\n",
      "+=======================+===========+\n",
      "| G3(Bom)               |    0.1199 |\n",
      "+-----------------------+-----------+\n",
      "| G3(Excelente)         |    0.0212 |\n",
      "+-----------------------+-----------+\n",
      "| G3(Mau)               |    0.0989 |\n",
      "+-----------------------+-----------+\n",
      "| G3(Mediocre)          |    0.1601 |\n",
      "+-----------------------+-----------+\n",
      "| G3(Mui bom distincao) |    0.0018 |\n",
      "+-----------------------+-----------+\n",
      "| G3(Muito Bom)         |    0.0519 |\n",
      "+-----------------------+-----------+\n",
      "| G3(Suficiente)        |    0.5462 |\n",
      "+-----------------------+-----------+\n",
      "\n",
      "- CPT of studytime = 4:\n",
      "\n",
      "+-----------------------+-----------+\n",
      "| G3                    |   phi(G3) |\n",
      "+=======================+===========+\n",
      "| G3(Bom)               |    0.1394 |\n",
      "+-----------------------+-----------+\n",
      "| G3(Excelente)         |    0.0967 |\n",
      "+-----------------------+-----------+\n",
      "| G3(Mau)               |    0.1003 |\n",
      "+-----------------------+-----------+\n",
      "| G3(Mediocre)          |    0.0860 |\n",
      "+-----------------------+-----------+\n",
      "| G3(Mui bom distincao) |    0.0268 |\n",
      "+-----------------------+-----------+\n",
      "| G3(Muito Bom)         |    0.1089 |\n",
      "+-----------------------+-----------+\n",
      "| G3(Suficiente)        |    0.4418 |\n",
      "+-----------------------+-----------+\n",
      "\n",
      "PDFs in percentage format:\n"
     ]
    },
    {
     "data": {
      "image/png": "[encoded data removed]",
      "text/plain": [
       "<Figure size 1080x504 with 2 Axes>"
      ]
     },
     "metadata": {
      "needs_background": "light"
     },
     "output_type": "display_data"
    }
   ],
   "source": [
    "#--------Inference CPT representations--------\n",
    "\n",
    "print(\"** Third case: \\tAge between 20 and 22:\\n\")\n",
    "\n",
    "\n",
    "#Inferences:\n",
    "q3_1 = infer.query([\"G3\"],evidence={\"studytime\": 1})\n",
    "q3_2 = infer.query([\"G3\"], evidence = {\"studytime\": 4})\n",
    "\n",
    "\n",
    "#Print CPTs:\n",
    "print(f\"- CPT of studytime = 1:\\n\\n {q3_1}\")\n",
    "print(f\"\\n- CPT of studytime = 4:\\n\\n{q3_2}\")\n",
    "\n",
    "\n",
    "\n",
    "#------------Plotting the PDFs------------\n",
    "\n",
    "#x axis ticklabels:\n",
    "x_ticklabels = [\"Mau\",\n",
    "                \"Med\", \n",
    "                \"Suf\",\n",
    "                \"Bom\",\n",
    "                \"Muito Bom\",\n",
    "                \"Exc\",\n",
    "                \"Mui bom dist\"]\n",
    "\n",
    "#Setting y values of first dictionary:\n",
    "diz1 = dict({\"Bom\": q3_1.values[0]*100,\n",
    "             \"Exc\": q3_1.values[1]*100,\n",
    "             \"Mau\": q3_1.values[2]*100,\n",
    "             \"Med\": q3_1.values[3]*100,\n",
    "             \"Mui bom dist\": q3_1.values[4]*100,\n",
    "             \"Muito Bom\": q3_1.values[5]*100,\n",
    "             \"Suf\": q3_1.values[6]*100\n",
    "            })\n",
    "\n",
    "#Reordering first dictionary:\n",
    "diz1 = {k: diz1[k] for k in x_ticklabels}\n",
    "\n",
    "\n",
    "#Setting y values of second dictionary:\n",
    "diz2 = dict({\"Bom\": q3_2.values[0]*100,\n",
    "             \"Exc\": q3_2.values[1]*100,\n",
    "             \"Mau\": q3_2.values[2]*100,\n",
    "             \"Med\": q3_2.values[3]*100,\n",
    "             \"Mui bom dist\": q3_2.values[4]*100,\n",
    "             \"Muito Bom\": q3_2.values[5]*100,\n",
    "             \"Suf\": q3_2.values[6]*100\n",
    "            })\n",
    "\n",
    "#Reordering second dictionary:\n",
    "diz2 = {k: diz2[k] for k in x_ticklabels}\n",
    "\n",
    "#Variables to plot PDFs:\n",
    "rows = 1\n",
    "cols = 2\n",
    "titles = [\"Low value of studytime\", \"high value of studytime\"]\n",
    "pdf_legends = ['studytime = 1', 'studytime = 4']\n",
    "figsize = (15,7)\n",
    "diz = [diz1, diz2]\n",
    "\n",
    "\n",
    "#plot all the pdf:\n",
    "print(\"\\nPDFs in percentage format:\")\n",
    "plot_pdf(rows = rows,\n",
    "         cols = cols,\n",
    "         titles = titles,\n",
    "         pdf_legends = pdf_legends,\n",
    "         figsize = figsize,\n",
    "         x_ticklabels = x_ticklabels, \n",
    "         diz = diz)"
   ]
  },
  {
   "cell_type": "markdown",
   "id": "4401825c",
   "metadata": {},
   "source": [
    "* **What is the chance that a student receives <u>family support</u> given the <u>parental level of education</u>?**"
   ]
  },
  {
   "cell_type": "code",
   "execution_count": 52,
   "id": "9fff4cec",
   "metadata": {
    "scrolled": false
   },
   "outputs": [
    {
     "name": "stdout",
     "output_type": "stream",
     "text": [
      "- Case 1: \tMedu = 4 & Fedu = 4\n",
      "\n",
      " +-------------+---------------+\n",
      "| famsup      |   phi(famsup) |\n",
      "+=============+===============+\n",
      "| famsup(no)  |        0.2427 |\n",
      "+-------------+---------------+\n",
      "| famsup(yes) |        0.7573 |\n",
      "+-------------+---------------+\n",
      "\n",
      "\n",
      "- Case 2: \tMedu = 1 & Fedu = 1\n",
      "\n",
      " +-------------+---------------+\n",
      "| famsup      |   phi(famsup) |\n",
      "+=============+===============+\n",
      "| famsup(no)  |        0.4187 |\n",
      "+-------------+---------------+\n",
      "| famsup(yes) |        0.5813 |\n",
      "+-------------+---------------+\n",
      "\n",
      "\n",
      "- Case 3: \tMedu = 4 & Fedu = 1\n",
      "\n",
      " +-------------+---------------+\n",
      "| famsup      |   phi(famsup) |\n",
      "+=============+===============+\n",
      "| famsup(no)  |        0.5543 |\n",
      "+-------------+---------------+\n",
      "| famsup(yes) |        0.4457 |\n",
      "+-------------+---------------+\n",
      "\n",
      "\n",
      "- Case 4: \tMedu = 1 & Fedu = 4\n",
      "\n",
      " +-------------+---------------+\n",
      "| famsup      |   phi(famsup) |\n",
      "+=============+===============+\n",
      "| famsup(no)  |        0.3438 |\n",
      "+-------------+---------------+\n",
      "| famsup(yes) |        0.6562 |\n",
      "+-------------+---------------+\n",
      "\n",
      "PDFs in percentage format:\n"
     ]
    },
    {
     "data": {
      "image/png": "[encoded data removed]",
      "text/plain": [
       "<Figure size 1080x720 with 4 Axes>"
      ]
     },
     "metadata": {
      "needs_background": "light"
     },
     "output_type": "display_data"
    }
   ],
   "source": [
    "#--------Inference CPT representations--------\n",
    "\n",
    "#Inferences:\n",
    "q4_1 = infer.query([\"famsup\"], evidence={\"Medu\": 4,\"Fedu\": 4}) \n",
    "q4_2 = infer.query([\"famsup\"], evidence={\"Medu\": 1,\"Fedu\": 1})\n",
    "q4_3 = infer.query([\"famsup\"], evidence={\"Medu\": 4,\"Fedu\": 1}) \n",
    "q4_4 = infer.query([\"famsup\"], evidence={\"Medu\": 1,\"Fedu\": 4})\n",
    "\n",
    "\n",
    "#Print CPTs:\n",
    "print(f\"- Case 1: \\tMedu = 4 & Fedu = 4\\n\\n {q4_1}\")\n",
    "print(f\"\\n\\n- Case 2: \\tMedu = 1 & Fedu = 1\\n\\n {q4_2}\")\n",
    "print(f\"\\n\\n- Case 3: \\tMedu = 4 & Fedu = 1\\n\\n {q4_3}\")\n",
    "print(f\"\\n\\n- Case 4: \\tMedu = 1 & Fedu = 4\\n\\n {q4_4}\")\n",
    "\n",
    "\n",
    "\n",
    "#------------Plotting the PDFs------------\n",
    "\n",
    "\n",
    "#Setting y values of first dictionary:\n",
    "diz1 = dict({\" \": 0,\n",
    "             \"no\": q4_1.values[0]*100,\n",
    "             \"yes\": q4_1.values[1]*100,\n",
    "             \"\": 0\n",
    "            })\n",
    "\n",
    "\n",
    "#Setting y values of second dictionary:\n",
    "diz2 = dict({\" \": 0,\n",
    "             \"no\": q4_2.values[0]*100,\n",
    "             \"yes\": q4_2.values[1]*100,\n",
    "             \"\": 0\n",
    "            })\n",
    "\n",
    "\n",
    "#Setting y values of third dictionary:\n",
    "diz3 = dict({\" \": 0,\n",
    "             \"no\": q4_3.values[0]*100,\n",
    "             \"yes\": q4_3.values[1]*100,\n",
    "             \"\": 0\n",
    "            })\n",
    "\n",
    "\n",
    "#Setting y values of fourth dictionary:\n",
    "diz4 = dict({\" \": 0,\n",
    "             \"no\": q4_4.values[0]*100,\n",
    "             \"yes\": q4_4.values[1]*100,\n",
    "             \"\": 0\n",
    "            })\n",
    "\n",
    "#Variables to plot PDFs:\n",
    "rows = 2\n",
    "cols = 2\n",
    "titles = ['Parents with very high education level',\n",
    "          'Parents with very low education level',\n",
    "          'Parents with unbalance education level (Medu >>Fedu)',\n",
    "          'Parents with unbalance education level (Fedu >>Medu)'\n",
    "         ]\n",
    "\n",
    "pdf_legends = ['Medu = 4 & Fedu = 4', \n",
    "              'Medu = 1 & Fedu = 1', \n",
    "              'Medu = 4 & Fedu = 1', \n",
    "              'Medu = 1 & Fedu = 4',]\n",
    "\n",
    "figsize = (15,10)\n",
    "diz = [diz1, diz2, diz3, diz4]\n",
    "x_ticklabels = [\" \",\n",
    "                \"No\", \n",
    "                \"Yes\",\n",
    "                \" \"\n",
    "               ]\n",
    "\n",
    "\n",
    "#plot all the PDFs:\n",
    "print(\"\\nPDFs in percentage format:\")\n",
    "plot_pdf(rows = rows,\n",
    "         cols = cols,\n",
    "         titles = titles,\n",
    "         pdf_legends = pdf_legends,\n",
    "         figsize = figsize,\n",
    "         x_ticklabels = x_ticklabels, \n",
    "         diz = diz)"
   ]
  },
  {
   "cell_type": "markdown",
   "id": "86bf5e11",
   "metadata": {},
   "source": [
    "<p id=\"query\"></p>\n",
    "\n",
    "### 5.1.2. Evidential Inference Queries\n",
    "\n",
    "* **What is a student's <u>studytime</u> given his <u>final grade</u>?**"
   ]
  },
  {
   "cell_type": "code",
   "execution_count": 53,
   "id": "3ca599ae",
   "metadata": {
    "scrolled": false
   },
   "outputs": [
    {
     "name": "stdout",
     "output_type": "stream",
     "text": [
      "- Case 1: \tFinal Grade = 'Mau'\n",
      "\n",
      " +--------------+------------------+\n",
      "| studytime    |   phi(studytime) |\n",
      "+==============+==================+\n",
      "| studytime(1) |           0.3674 |\n",
      "+--------------+------------------+\n",
      "| studytime(2) |           0.4635 |\n",
      "+--------------+------------------+\n",
      "| studytime(3) |           0.0710 |\n",
      "+--------------+------------------+\n",
      "| studytime(4) |           0.0981 |\n",
      "+--------------+------------------+\n",
      "\n",
      "\n",
      "- Case 2: \tFinal Grade = 'Suficiente'\n",
      "\n",
      " +--------------+------------------+\n",
      "| studytime    |   phi(studytime) |\n",
      "+==============+==================+\n",
      "| studytime(1) |           0.3243 |\n",
      "+--------------+------------------+\n",
      "| studytime(2) |           0.4790 |\n",
      "+--------------+------------------+\n",
      "| studytime(3) |           0.1277 |\n",
      "+--------------+------------------+\n",
      "| studytime(4) |           0.0690 |\n",
      "+--------------+------------------+\n",
      "\n",
      "\n",
      "- Case 3: \tFinal Grade = 'Mediocre'\n",
      "\n",
      " +--------------+------------------+\n",
      "| studytime    |   phi(studytime) |\n",
      "+==============+==================+\n",
      "| studytime(1) |           0.3518 |\n",
      "+--------------+------------------+\n",
      "| studytime(2) |           0.4727 |\n",
      "+--------------+------------------+\n",
      "| studytime(3) |           0.1257 |\n",
      "+--------------+------------------+\n",
      "| studytime(4) |           0.0497 |\n",
      "+--------------+------------------+\n",
      "\n",
      "\n",
      "- Case 4: \tFinal Grade = 'Mui bom distincao'\n",
      "\n",
      " +--------------+------------------+\n",
      "| studytime    |   phi(studytime) |\n",
      "+==============+==================+\n",
      "| studytime(1) |           0.0971 |\n",
      "+--------------+------------------+\n",
      "| studytime(2) |           0.2332 |\n",
      "+--------------+------------------+\n",
      "| studytime(3) |           0.2793 |\n",
      "+--------------+------------------+\n",
      "| studytime(4) |           0.3904 |\n",
      "+--------------+------------------+\n",
      "\n",
      "PDFs in percentage format:\n"
     ]
    },
    {
     "data": {
      "image/png": "[encoded data removed]",
      "text/plain": [
       "<Figure size 1080x720 with 4 Axes>"
      ]
     },
     "metadata": {
      "needs_background": "light"
     },
     "output_type": "display_data"
    }
   ],
   "source": [
    "#--------Inference CPT representations--------\n",
    "\n",
    "\n",
    "#Inferences:\n",
    "q5_1 = infer.query([\"studytime\"],evidence={\"G3\": \"Mau\"})\n",
    "q5_2 = infer.query([\"studytime\"],evidence={\"G3\": \"Suficiente\"})\n",
    "q5_3 = infer.query([\"studytime\"],evidence={\"G3\": \"Mediocre\"})\n",
    "q5_4 = infer.query([\"studytime\"],evidence={\"G3\": \"Mui bom distincao\"})\n",
    "\n",
    "\n",
    "#Print CPTs:\n",
    "print(f\"- Case 1: \\tFinal Grade = 'Mau'\\n\\n {q5_1}\")\n",
    "print(f\"\\n\\n- Case 2: \\tFinal Grade = 'Suficiente'\\n\\n {q5_2}\")\n",
    "print(f\"\\n\\n- Case 3: \\tFinal Grade = 'Mediocre'\\n\\n {q5_3}\")\n",
    "print(f\"\\n\\n- Case 4: \\tFinal Grade = 'Mui bom distincao'\\n\\n {q5_4}\")\n",
    "\n",
    "\n",
    "\n",
    "#------------Plotting the PDFs------------\n",
    "\n",
    "\n",
    "#Setting y values of first dictionary:\n",
    "diz1 = dict({1: q5_1.values[0]*100,\n",
    "             2: q5_1.values[1]*100,\n",
    "             3: q5_1.values[2]*100,\n",
    "             4: q5_1.values[3]*100\n",
    "            })\n",
    "\n",
    "\n",
    "#Setting y values of second dictionary:\n",
    "diz2 = dict({1: q5_2.values[0]*100,\n",
    "             2: q5_2.values[1]*100,\n",
    "             3: q5_2.values[2]*100,\n",
    "             4: q5_2.values[3]*100\n",
    "            })\n",
    "\n",
    "\n",
    "#Setting y values of third dictionary:\n",
    "diz3 = dict({1: q5_3.values[0]*100,\n",
    "             2: q5_3.values[1]*100,\n",
    "             3: q5_3.values[2]*100,\n",
    "             4: q5_3.values[3]*100\n",
    "            })\n",
    "\n",
    "\n",
    "#Setting y values of fourth dictionary:\n",
    "diz4 = dict({1: q5_4.values[0]*100,\n",
    "             2: q5_4.values[1]*100,\n",
    "             3: q5_4.values[2]*100,\n",
    "             4: q5_4.values[3]*100\n",
    "            })\n",
    "\n",
    "#Variables to plot PDFs:\n",
    "rows = 2\n",
    "cols = 2\n",
    "titles = [' ',\n",
    "          ' ',\n",
    "          ' ',\n",
    "          ' '\n",
    "         ]\n",
    "\n",
    "pdf_legends = ['Final Grade = \"Mau\"',\n",
    "               'Final Grade = \"Suficiente\"',\n",
    "               'Final Grade = \"Mediocre\"',\n",
    "               'Final Grade = \"Mui bom distincao\"']\n",
    "\n",
    "figsize = (15,10)\n",
    "diz = [diz1, diz2, diz3, diz4]\n",
    "x_ticklabels = ['1',\n",
    "                '2', \n",
    "                '3', \n",
    "                '4'\n",
    "               ]\n",
    "\n",
    "\n",
    "#plot all the PDFs:\n",
    "print(\"\\nPDFs in percentage format:\")\n",
    "plot_pdf(rows = rows,\n",
    "         cols = cols,\n",
    "         titles = titles,\n",
    "         pdf_legends = pdf_legends,\n",
    "         figsize = figsize,\n",
    "         x_ticklabels = x_ticklabels, \n",
    "         diz = diz)"
   ]
  },
  {
   "cell_type": "markdown",
   "id": "d8061ad1",
   "metadata": {},
   "source": [
    "### 5.1.3. Intercausal Inference Queries\n",
    "\n",
    "* **What is the chance that a student receives <u>family support</u> given <u>school support</u> and <u>studytime</u>?**"
   ]
  },
  {
   "cell_type": "code",
   "execution_count": 54,
   "id": "2b0f623f",
   "metadata": {},
   "outputs": [
    {
     "name": "stdout",
     "output_type": "stream",
     "text": [
      "- Case 1: \tstudytime = 1 & schoolsup = 'yes'\n",
      "\n",
      " +-------------+---------------+\n",
      "| famsup      |   phi(famsup) |\n",
      "+=============+===============+\n",
      "| famsup(no)  |        0.2772 |\n",
      "+-------------+---------------+\n",
      "| famsup(yes) |        0.7228 |\n",
      "+-------------+---------------+\n",
      "\n",
      "\n",
      "- Case 2: \tstudytime = 1 & schoolsup = 'no'\n",
      "\n",
      " +-------------+---------------+\n",
      "| famsup      |   phi(famsup) |\n",
      "+=============+===============+\n",
      "| famsup(no)  |        0.5068 |\n",
      "+-------------+---------------+\n",
      "| famsup(yes) |        0.4932 |\n",
      "+-------------+---------------+\n",
      "\n",
      "\n",
      "- Case 3: \tstudytime = 2 & schoolsup = 'yes'\n",
      "\n",
      " +-------------+---------------+\n",
      "| famsup      |   phi(famsup) |\n",
      "+=============+===============+\n",
      "| famsup(no)  |        0.4607 |\n",
      "+-------------+---------------+\n",
      "| famsup(yes) |        0.5393 |\n",
      "+-------------+---------------+\n",
      "\n",
      "\n",
      "- Case 4: \tstudytime = 2 & schoolsup = 'no'\n",
      "\n",
      " +-------------+---------------+\n",
      "| famsup      |   phi(famsup) |\n",
      "+=============+===============+\n",
      "| famsup(no)  |        0.3582 |\n",
      "+-------------+---------------+\n",
      "| famsup(yes) |        0.6418 |\n",
      "+-------------+---------------+\n",
      "\n",
      "PDFs in percentage format:\n"
     ]
    },
    {
     "data": {
      "image/png": "[encoded data removed]",
      "text/plain": [
       "<Figure size 1080x720 with 4 Axes>"
      ]
     },
     "metadata": {
      "needs_background": "light"
     },
     "output_type": "display_data"
    }
   ],
   "source": [
    "#--------Inference CPT representations--------\n",
    "\n",
    "#Inferences:\n",
    "q6_1 = infer.query([\"famsup\"], evidence={\"studytime\": 1,\"schoolsup\": 'yes'})\n",
    "q6_2 = infer.query([\"famsup\"], evidence={\"studytime\": 1,\"schoolsup\": 'no'})\n",
    "q6_3 = infer.query([\"famsup\"], evidence={\"studytime\": 2,\"schoolsup\": 'yes'})\n",
    "q6_4 = infer.query([\"famsup\"], evidence={\"studytime\": 2,\"schoolsup\": 'no'})\n",
    "\n",
    "\n",
    "#Print CPTs:\n",
    "print(f\"- Case 1: \\tstudytime = 1 & schoolsup = 'yes'\\n\\n {q6_1}\")\n",
    "print(f\"\\n\\n- Case 2: \\tstudytime = 1 & schoolsup = 'no'\\n\\n {q6_2}\")\n",
    "print(f\"\\n\\n- Case 3: \\tstudytime = 2 & schoolsup = 'yes'\\n\\n {q6_3}\")\n",
    "print(f\"\\n\\n- Case 4: \\tstudytime = 2 & schoolsup = 'no'\\n\\n {q6_4}\")\n",
    "\n",
    "\n",
    "\n",
    "#------------Plotting the PDFs------------\n",
    "\n",
    "\n",
    "#Setting y values of first dictionary:\n",
    "diz1 = dict({\"\": 0,\n",
    "             \"no\": q6_1.values[0]*100,\n",
    "             \"yes\": q6_1.values[1]*100,\n",
    "             \" \": 0\n",
    "            })\n",
    "\n",
    "\n",
    "#Setting y values of second dictionary:\n",
    "diz2 = dict({\"\": 0,\n",
    "             \"no\": q6_2.values[0]*100,\n",
    "             \"yes\": q6_2.values[1]*100,\n",
    "             \" \": 0\n",
    "            })\n",
    "\n",
    "\n",
    "#Setting y values of third dictionary:\n",
    "diz3 = dict({\"\": 0,\n",
    "             \"no\": q6_3.values[0]*100,\n",
    "             \"yes\": q6_3.values[1]*100,\n",
    "             \" \": 0\n",
    "            })\n",
    "\n",
    "\n",
    "#Setting y values of fourth dictionary:\n",
    "diz4 = dict({\"\": 0,\n",
    "             \"no\": q6_4.values[0]*100,\n",
    "             \"yes\": q6_4.values[1]*100,\n",
    "             \" \": 0\n",
    "             \n",
    "            })\n",
    "\n",
    "#Variables to plot PDFs:\n",
    "rows = 2\n",
    "cols = 2\n",
    "titles = [' ',\n",
    "          ' ',\n",
    "          ' ',\n",
    "          ' '\n",
    "         ]\n",
    "\n",
    "pdf_legends = ['studytime = 1 & schoolsup = \"yes\"',\n",
    "               'studytime = 1 & schoolsup = \"no\"',\n",
    "               'studytime = 2 & schoolsup = \"yes\"',\n",
    "               'studytime = 2 & schoolsup = \"no\"'\n",
    "              ]\n",
    "\n",
    "figsize = (15,10)\n",
    "diz = [diz1, diz2, diz3, diz4]\n",
    "x_ticklabels = [\" \", \n",
    "                \"No\", \n",
    "                \"Yes\", \n",
    "                \" \"\n",
    "               ]\n",
    "\n",
    "\n",
    "#plot all the PDFs:\n",
    "print(\"\\nPDFs in percentage format:\")\n",
    "plot_pdf(rows = rows,\n",
    "         cols = cols,\n",
    "         titles = titles,\n",
    "         pdf_legends = pdf_legends,\n",
    "         figsize = figsize,\n",
    "         x_ticklabels = x_ticklabels, \n",
    "         diz = diz)"
   ]
  },
  {
   "cell_type": "markdown",
   "id": "fdc2f2bb",
   "metadata": {},
   "source": [
    "* **What is the probability distribution of the <u>absences</u> given the <u>studytime</u> and the <u>final grade</u>?**"
   ]
  },
  {
   "cell_type": "code",
   "execution_count": 55,
   "id": "1c3bbf3e",
   "metadata": {
    "scrolled": false
   },
   "outputs": [
    {
     "name": "stdout",
     "output_type": "stream",
     "text": [
      "- Case 1: \tG3 = 'Suficiente' & studytime = 1\n",
      "\n",
      " +-----------------+-----------------+\n",
      "| absences        |   phi(absences) |\n",
      "+=================+=================+\n",
      "| absences(+30)   |          0.0016 |\n",
      "+-----------------+-----------------+\n",
      "| absences(0-10)  |          0.9103 |\n",
      "+-----------------+-----------------+\n",
      "| absences(11-20) |          0.0798 |\n",
      "+-----------------+-----------------+\n",
      "| absences(21-30) |          0.0083 |\n",
      "+-----------------+-----------------+\n",
      "\n",
      "\n",
      "- Case 2: \tG3 = 'Suficiente' & studytime = 4\n",
      "\n",
      " +-----------------+-----------------+\n",
      "| absences        |   phi(absences) |\n",
      "+=================+=================+\n",
      "| absences(+30)   |          0.0022 |\n",
      "+-----------------+-----------------+\n",
      "| absences(0-10)  |          0.9745 |\n",
      "+-----------------+-----------------+\n",
      "| absences(11-20) |          0.0176 |\n",
      "+-----------------+-----------------+\n",
      "| absences(21-30) |          0.0056 |\n",
      "+-----------------+-----------------+\n",
      "\n",
      "\n",
      "- Case 3: \tG3 = 'Excelente' & studytime = 1\n",
      "\n",
      " +-----------------+-----------------+\n",
      "| absences        |   phi(absences) |\n",
      "+=================+=================+\n",
      "| absences(+30)   |          0.0415 |\n",
      "+-----------------+-----------------+\n",
      "| absences(0-10)  |          0.8168 |\n",
      "+-----------------+-----------------+\n",
      "| absences(11-20) |          0.0111 |\n",
      "+-----------------+-----------------+\n",
      "| absences(21-30) |          0.1306 |\n",
      "+-----------------+-----------------+\n",
      "\n",
      "\n",
      "- Case 4: \tG3 = 'Excelente' & studytime = 4\n",
      "\n",
      " +-----------------+-----------------+\n",
      "| absences        |   phi(absences) |\n",
      "+=================+=================+\n",
      "| absences(+30)   |          0.0102 |\n",
      "+-----------------+-----------------+\n",
      "| absences(0-10)  |          0.8835 |\n",
      "+-----------------+-----------------+\n",
      "| absences(11-20) |          0.0806 |\n",
      "+-----------------+-----------------+\n",
      "| absences(21-30) |          0.0257 |\n",
      "+-----------------+-----------------+\n",
      "\n",
      "PDFs in percentage format:\n"
     ]
    },
    {
     "data": {
      "image/png": "[encoded data removed]",
      "text/plain": [
       "<Figure size 1080x720 with 4 Axes>"
      ]
     },
     "metadata": {
      "needs_background": "light"
     },
     "output_type": "display_data"
    }
   ],
   "source": [
    "#--------Inference CPT representations--------\n",
    "\n",
    "#Inferences:\n",
    "q7_1 = infer.query([\"absences\"], evidence={\"G3\": 'Suficiente', \"studytime\": 1}, show_progress = False)\n",
    "q7_2 = infer.query([\"absences\"], evidence={\"G3\": 'Suficiente', \"studytime\": 4}, show_progress = False)\n",
    "q7_3 = infer.query([\"absences\"], evidence={\"G3\": 'Excelente', \"studytime\": 1}, show_progress = False)\n",
    "q7_4 = infer.query([\"absences\"], evidence={\"G3\": 'Excelente', \"studytime\": 4}, show_progress = False)\n",
    "\n",
    "\n",
    "#Print CPTs:\n",
    "print(f\"- Case 1: \\tG3 = 'Suficiente' & studytime = 1\\n\\n {q7_1}\")\n",
    "print(f\"\\n\\n- Case 2: \\tG3 = 'Suficiente' & studytime = 4\\n\\n {q7_2}\")\n",
    "print(f\"\\n\\n- Case 3: \\tG3 = 'Excelente' & studytime = 1\\n\\n {q7_3}\")\n",
    "print(f\"\\n\\n- Case 4: \\tG3 = 'Excelente' & studytime = 4\\n\\n {q7_4}\")\n",
    "\n",
    "\n",
    "\n",
    "#------------Plotting the PDFs------------\n",
    "\n",
    "#x axis tick labels:\n",
    "x_ticklabels = [\"0-10\",\n",
    "                \"11-20\", \n",
    "                \"21-30\", \n",
    "                \"+30\"\n",
    "               ]\n",
    "\n",
    "#Setting y values of first dictionary:\n",
    "diz1 = dict({\"+30\" : q7_1.values[0]*100,\n",
    "             \"0-10\" : q7_1.values[1]*100,\n",
    "             \"11-20\" : q7_1.values[2]*100,\n",
    "             \"21-30\" : q7_1.values[3]*100             \n",
    "            })\n",
    "\n",
    "\n",
    "#Reordering first dictionary:\n",
    "diz1 = {k: diz1[k] for k in x_ticklabels}\n",
    "\n",
    "\n",
    "#Setting y values of second dictionary:\n",
    "diz2 = dict({\"+30\" : q7_2.values[0]*100,\n",
    "             \"0-10\" : q7_2.values[1]*100,\n",
    "             \"11-20\" : q7_2.values[2]*100,\n",
    "             \"21-30\" : q7_2.values[3]*100             \n",
    "            })\n",
    "\n",
    "\n",
    "#Reordering first dictionary:\n",
    "diz2 = {k: diz2[k] for k in x_ticklabels}\n",
    "\n",
    "\n",
    "#Setting y values of third dictionary:\n",
    "diz3 = dict({\"+30\" : q7_3.values[0]*100,\n",
    "             \"0-10\" : q7_3.values[1]*100,\n",
    "             \"11-20\" : q7_3.values[2]*100,\n",
    "             \"21-30\" : q7_3.values[3]*100             \n",
    "            })\n",
    "\n",
    "\n",
    "#Reordering first dictionary:\n",
    "diz3 = {k: diz3[k] for k in x_ticklabels}\n",
    "\n",
    "\n",
    "#Setting y values of fourth dictionary:\n",
    "diz4 = dict({\"+30\" : q7_4.values[0]*100,\n",
    "             \"0-10\" : q7_4.values[1]*100,\n",
    "             \"11-20\" : q7_4.values[2]*100,\n",
    "             \"21-30\" : q7_4.values[3]*100             \n",
    "            })\n",
    "            \n",
    "\n",
    "#Reordering first dictionary:\n",
    "diz4 = {k: diz4[k] for k in x_ticklabels}\n",
    "\n",
    "            \n",
    "#Variables to plot PDFs:\n",
    "rows = 2\n",
    "cols = 2\n",
    "titles = [' ',\n",
    "          ' ',\n",
    "          ' ',\n",
    "          ' '\n",
    "         ]\n",
    "\n",
    "pdf_legends = [\"G3 = 'Suficiente' & studytime = 1\",\n",
    "               \"G3 = 'Suficiente' & studytime = 4\",\n",
    "               \"G3 = 'Excelente' & studytime = 1\",\n",
    "               \"G3 = 'Excelente' & studytime = 4\"\n",
    "              ]\n",
    "\n",
    "figsize = (15,10)\n",
    "diz = [diz1, diz2, diz3, diz4]\n",
    "\n",
    "#plot all the PDFs:\n",
    "print(\"\\nPDFs in percentage format:\")\n",
    "plot_pdf(rows = rows,\n",
    "         cols = cols,\n",
    "         titles = titles,\n",
    "         pdf_legends = pdf_legends,\n",
    "         figsize = figsize,\n",
    "         x_ticklabels = x_ticklabels, \n",
    "         diz = diz)"
   ]
  },
  {
   "cell_type": "markdown",
   "id": "6c75a335",
   "metadata": {},
   "source": [
    "* **What is the probability distribution of <u>Dalc</u> given <u>studytime</u> and <u>famsup</u>?**\n",
    "\n",
    "<p id=\"DalcQuery\"></p>"
   ]
  },
  {
   "cell_type": "code",
   "execution_count": 56,
   "id": "f7620104",
   "metadata": {},
   "outputs": [
    {
     "name": "stdout",
     "output_type": "stream",
     "text": [
      "\n",
      "\n",
      "- Case 1: \tstudytime = 1 & famsup = 'no'\n",
      "\n",
      " +---------+-------------+\n",
      "| Dalc    |   phi(Dalc) |\n",
      "+=========+=============+\n",
      "| Dalc(1) |      0.5661 |\n",
      "+---------+-------------+\n",
      "| Dalc(2) |      0.2509 |\n",
      "+---------+-------------+\n",
      "| Dalc(3) |      0.1221 |\n",
      "+---------+-------------+\n",
      "| Dalc(4) |      0.0395 |\n",
      "+---------+-------------+\n",
      "| Dalc(5) |      0.0214 |\n",
      "+---------+-------------+\n",
      "\n",
      "\n",
      "- Case 2: \tstudytime = 3 & famsup = 'yes'\n",
      "\n",
      " +---------+-------------+\n",
      "| Dalc    |   phi(Dalc) |\n",
      "+=========+=============+\n",
      "| Dalc(1) |      0.7431 |\n",
      "+---------+-------------+\n",
      "| Dalc(2) |      0.1645 |\n",
      "+---------+-------------+\n",
      "| Dalc(3) |      0.0475 |\n",
      "+---------+-------------+\n",
      "| Dalc(4) |      0.0210 |\n",
      "+---------+-------------+\n",
      "| Dalc(5) |      0.0240 |\n",
      "+---------+-------------+\n",
      "\n",
      "PDFs in percentage format:\n"
     ]
    },
    {
     "data": {
      "image/png": "[encoded data removed]",
      "text/plain": [
       "<Figure size 1080x720 with 2 Axes>"
      ]
     },
     "metadata": {
      "needs_background": "light"
     },
     "output_type": "display_data"
    }
   ],
   "source": [
    "#--------Inference CPT representations--------\n",
    "\n",
    "#Inferences:\n",
    "q6_2 = infer.query([\"Dalc\"], evidence={\"studytime\": 1,\"famsup\": 'no'})\n",
    "q6_3 = infer.query([\"Dalc\"], evidence={\"studytime\": 3,\"famsup\": 'yes'})\n",
    "\n",
    "\n",
    "\n",
    "#Print CPTs:\n",
    "\n",
    "print(f\"\\n\\n- Case 1: \\tstudytime = 1 & famsup = 'no'\\n\\n {q6_2}\")\n",
    "print(f\"\\n\\n- Case 2: \\tstudytime = 3 & famsup = 'yes'\\n\\n {q6_3}\")\n",
    "\n",
    "\n",
    "#------------Plotting the PDFs------------\n",
    "\n",
    "\n",
    "\n",
    "#Setting y values of second dictionary:\n",
    "diz2 = dict({\"Dalc(1)\": q6_2.values[0]*100,\n",
    "             \"Dalc(2)\": q6_2.values[1]*100,\n",
    "             \"Dalc(3)\": q6_2.values[2]*100,\n",
    "             \"Dalc(4)\": q6_2.values[3]*100,\n",
    "             \"Dalc(5)\": q6_2.values[4]*100,\n",
    "            })\n",
    "\n",
    "\n",
    "#Setting y values of third dictionary:\n",
    "diz3 = dict({\"Dalc(1)\": q6_3.values[0]*100,\n",
    "             \"Dalc(2)\": q6_3.values[1]*100,\n",
    "             \"Dalc(3)\": q6_3.values[2]*100,\n",
    "             \"Dalc(4)\": q6_3.values[3]*100,\n",
    "             \"Dalc(5)\": q6_3.values[4]*100,\n",
    "            })\n",
    "\n",
    "\n",
    "\n",
    "#Variables to plot PDFs:\n",
    "rows = 1\n",
    "cols = 2\n",
    "titles = [' ',\n",
    "          ' ',\n",
    "          ' ',\n",
    "          ' '\n",
    "         ]\n",
    "\n",
    "pdf_legends = [\n",
    "               'studytime = 1 & famsup = \"no\"',\n",
    "               'studytime = 3 & famsup = \"yes\"',\n",
    "              ]\n",
    "\n",
    "figsize = (15,10)\n",
    "diz = [ diz2, diz3]\n",
    "x_ticklabels = [\n",
    "                 \"Dalc(1)\",\n",
    "                 \"Dalc(2)\",\n",
    "                 \"Dalc(3)\",\n",
    "                 \"Dalc(4)\",\n",
    "                 \"Dalc(5)\"\n",
    "               ]\n",
    "\n",
    "\n",
    "#plot all the PDFs:\n",
    "print(\"\\nPDFs in percentage format:\")\n",
    "plot_pdf(rows = rows,\n",
    "         cols = cols,\n",
    "         titles = titles,\n",
    "         pdf_legends = pdf_legends,\n",
    "         figsize = figsize,\n",
    "         x_ticklabels = x_ticklabels, \n",
    "         diz = diz)"
   ]
  },
  {
   "cell_type": "markdown",
   "id": "23d5be10",
   "metadata": {},
   "source": [
    "### 5.2. Approximate Inference\n",
    "\n",
    "As we said above, exact inference is not the only way to compute inference queries, but sometimes it is advisable to compute an approximate result by considering only a restricted number of samples. As a matter of fact, the more samples we consider, the more accurate the result will be. \n",
    "\n",
    "In the following we will consider some of the previous queries, but this time we will compute the *Probability Density Functions* by using approximate inference.  "
   ]
  },
  {
   "cell_type": "code",
   "execution_count": 57,
   "id": "ff3e7bca",
   "metadata": {},
   "outputs": [],
   "source": [
    "from pgmpy.inference import ApproxInference\n",
    "\n",
    "approx_infer = ApproxInference(model)\n",
    "\n",
    "samples_num = range(44, 1045, 100)    #[44, 144, 244,..., 944, 1044] (total of df_new's rows)"
   ]
  },
  {
   "cell_type": "markdown",
   "id": "73688090",
   "metadata": {},
   "source": [
    "#### 5.2.1. Causal Inference Queries\n",
    "\n",
    "* What is the chance that a student receives <u>family support</u> given the <u>parental level of education</u>?"
   ]
  },
  {
   "cell_type": "code",
   "execution_count": 58,
   "id": "a23c5a17",
   "metadata": {
    "scrolled": false
   },
   "outputs": [
    {
     "ename": "AttributeError",
     "evalue": "type object 'object' has no attribute 'dtype'",
     "output_type": "error",
     "traceback": [
      "\u001b[0;31m---------------------------------------------------------------------------\u001b[0m",
      "\u001b[0;31mAttributeError\u001b[0m                            Traceback (most recent call last)",
      "Input \u001b[0;32mIn [58]\u001b[0m, in \u001b[0;36m<cell line: 6>\u001b[0;34m()\u001b[0m\n\u001b[1;32m      5\u001b[0m \u001b[38;5;66;03m#Approximate inference:\u001b[39;00m\n\u001b[1;32m      6\u001b[0m \u001b[38;5;28;01mfor\u001b[39;00m i \u001b[38;5;129;01min\u001b[39;00m samples_num:\n\u001b[0;32m----> 7\u001b[0m     q \u001b[38;5;241m=\u001b[39m \u001b[43mapprox_infer\u001b[49m\u001b[38;5;241;43m.\u001b[39;49m\u001b[43mquery\u001b[49m\u001b[43m(\u001b[49m\u001b[43mquery_variable\u001b[49m\u001b[43m,\u001b[49m\u001b[43m \u001b[49m\n\u001b[1;32m      8\u001b[0m \u001b[43m                           \u001b[49m\u001b[43mi\u001b[49m\u001b[43m,\u001b[49m\u001b[43m \u001b[49m\n\u001b[1;32m      9\u001b[0m \u001b[43m                           \u001b[49m\u001b[43mevidence_variables\u001b[49m\u001b[43m,\u001b[49m\n\u001b[1;32m     10\u001b[0m \u001b[43m                           \u001b[49m\u001b[43mshow_progress\u001b[49m\u001b[43m \u001b[49m\u001b[38;5;241;43m=\u001b[39;49m\u001b[43m \u001b[49m\u001b[38;5;28;43;01mFalse\u001b[39;49;00m\u001b[43m)\u001b[49m\n\u001b[1;32m     12\u001b[0m     \u001b[38;5;28mprint\u001b[39m(\u001b[38;5;124mf\u001b[39m\u001b[38;5;124m'\u001b[39m\u001b[38;5;130;01m\\n\u001b[39;00m\u001b[38;5;130;01m\\n\u001b[39;00m\u001b[38;5;124mConditional Probability Table of variable \u001b[39m\u001b[38;5;124m\"\u001b[39m\u001b[38;5;132;01m{\u001b[39;00mquery_variable\u001b[38;5;132;01m}\u001b[39;00m\u001b[38;5;124m\"\u001b[39m\u001b[38;5;124m given that \u001b[39m\u001b[38;5;124m\"\u001b[39m\u001b[38;5;132;01m{\u001b[39;00mevidence_variables\u001b[38;5;132;01m}\u001b[39;00m\u001b[38;5;124m\"\u001b[39m\u001b[38;5;124m are observed:\u001b[39m\u001b[38;5;124m'\u001b[39m)\n\u001b[1;32m     13\u001b[0m     \u001b[38;5;28mprint\u001b[39m(\u001b[38;5;124mf\u001b[39m\u001b[38;5;124m'\u001b[39m\u001b[38;5;130;01m\\n\u001b[39;00m\u001b[38;5;124mNumber of samples used to compute the approximate inference:\u001b[39m\u001b[38;5;130;01m\\t\u001b[39;00m\u001b[38;5;132;01m{\u001b[39;00mi\u001b[38;5;132;01m}\u001b[39;00m\u001b[38;5;124m'\u001b[39m)\n",
      "File \u001b[0;32m~/.local/lib/python3.8/site-packages/pgmpy/inference/ApproxInference.py:123\u001b[0m, in \u001b[0;36mApproxInference.query\u001b[0;34m(self, variables, n_samples, evidence, virtual_evidence, joint, show_progress)\u001b[0m\n\u001b[1;32m     80\u001b[0m \u001b[38;5;124;03m\"\"\"\u001b[39;00m\n\u001b[1;32m     81\u001b[0m \u001b[38;5;124;03mMethod for doing approximate inference based on sampling in Bayesian\u001b[39;00m\n\u001b[1;32m     82\u001b[0m \u001b[38;5;124;03mNetworks and Dynamic Bayesian Networks.\u001b[39;00m\n\u001b[0;32m   (...)\u001b[0m\n\u001b[1;32m    120\u001b[0m \u001b[38;5;124;03m 'CVP': <DiscreteFactor representing phi(CVP:3) at 0x7f92d915ec40>}\u001b[39;00m\n\u001b[1;32m    121\u001b[0m \u001b[38;5;124;03m\"\"\"\u001b[39;00m\n\u001b[1;32m    122\u001b[0m \u001b[38;5;66;03m# Step 1: Generate samples for the query\u001b[39;00m\n\u001b[0;32m--> 123\u001b[0m samples \u001b[38;5;241m=\u001b[39m \u001b[38;5;28;43mself\u001b[39;49m\u001b[38;5;241;43m.\u001b[39;49m\u001b[43mmodel\u001b[49m\u001b[38;5;241;43m.\u001b[39;49m\u001b[43msimulate\u001b[49m\u001b[43m(\u001b[49m\n\u001b[1;32m    124\u001b[0m \u001b[43m    \u001b[49m\u001b[43mn_samples\u001b[49m\u001b[38;5;241;43m=\u001b[39;49m\u001b[43mn_samples\u001b[49m\u001b[43m,\u001b[49m\n\u001b[1;32m    125\u001b[0m \u001b[43m    \u001b[49m\u001b[43mevidence\u001b[49m\u001b[38;5;241;43m=\u001b[39;49m\u001b[43mevidence\u001b[49m\u001b[43m,\u001b[49m\n\u001b[1;32m    126\u001b[0m \u001b[43m    \u001b[49m\u001b[43mvirtual_evidence\u001b[49m\u001b[38;5;241;43m=\u001b[39;49m\u001b[43mvirtual_evidence\u001b[49m\u001b[43m,\u001b[49m\n\u001b[1;32m    127\u001b[0m \u001b[43m    \u001b[49m\u001b[43mshow_progress\u001b[49m\u001b[38;5;241;43m=\u001b[39;49m\u001b[43mshow_progress\u001b[49m\u001b[43m,\u001b[49m\n\u001b[1;32m    128\u001b[0m \u001b[43m\u001b[49m\u001b[43m)\u001b[49m\n\u001b[1;32m    130\u001b[0m \u001b[38;5;66;03m# Step 2: Compute the distributions and return it.\u001b[39;00m\n\u001b[1;32m    131\u001b[0m \u001b[38;5;28;01mreturn\u001b[39;00m \u001b[38;5;28mself\u001b[39m\u001b[38;5;241m.\u001b[39mget_distribution(samples, variables\u001b[38;5;241m=\u001b[39mvariables, joint\u001b[38;5;241m=\u001b[39mjoint)\n",
      "File \u001b[0;32m~/.local/lib/python3.8/site-packages/pgmpy/models/BayesianNetwork.py:1263\u001b[0m, in \u001b[0;36mBayesianNetwork.simulate\u001b[0;34m(self, n_samples, do, evidence, virtual_evidence, virtual_intervention, include_latents, partial_samples, seed, show_progress)\u001b[0m\n\u001b[1;32m   1253\u001b[0m     samples \u001b[38;5;241m=\u001b[39m BayesianModelSampling(model)\u001b[38;5;241m.\u001b[39mforward_sample(\n\u001b[1;32m   1254\u001b[0m         size\u001b[38;5;241m=\u001b[39mn_samples,\n\u001b[1;32m   1255\u001b[0m         include_latents\u001b[38;5;241m=\u001b[39minclude_latents,\n\u001b[0;32m   (...)\u001b[0m\n\u001b[1;32m   1258\u001b[0m         partial_samples\u001b[38;5;241m=\u001b[39mpartial_samples,\n\u001b[1;32m   1259\u001b[0m     )\n\u001b[1;32m   1261\u001b[0m \u001b[38;5;66;03m# Step 4: If evidence; do a rejection sampling\u001b[39;00m\n\u001b[1;32m   1262\u001b[0m \u001b[38;5;28;01melse\u001b[39;00m:\n\u001b[0;32m-> 1263\u001b[0m     samples \u001b[38;5;241m=\u001b[39m \u001b[43mBayesianModelSampling\u001b[49m\u001b[43m(\u001b[49m\u001b[43mmodel\u001b[49m\u001b[43m)\u001b[49m\u001b[38;5;241;43m.\u001b[39;49m\u001b[43mrejection_sample\u001b[49m\u001b[43m(\u001b[49m\n\u001b[1;32m   1264\u001b[0m \u001b[43m        \u001b[49m\u001b[43msize\u001b[49m\u001b[38;5;241;43m=\u001b[39;49m\u001b[43mn_samples\u001b[49m\u001b[43m,\u001b[49m\n\u001b[1;32m   1265\u001b[0m \u001b[43m        \u001b[49m\u001b[43mevidence\u001b[49m\u001b[38;5;241;43m=\u001b[39;49m\u001b[43m[\u001b[49m\u001b[43m(\u001b[49m\u001b[43mk\u001b[49m\u001b[43m,\u001b[49m\u001b[43m \u001b[49m\u001b[43mv\u001b[49m\u001b[43m)\u001b[49m\u001b[43m \u001b[49m\u001b[38;5;28;43;01mfor\u001b[39;49;00m\u001b[43m \u001b[49m\u001b[43mk\u001b[49m\u001b[43m,\u001b[49m\u001b[43m \u001b[49m\u001b[43mv\u001b[49m\u001b[43m \u001b[49m\u001b[38;5;129;43;01min\u001b[39;49;00m\u001b[43m \u001b[49m\u001b[43mevidence\u001b[49m\u001b[38;5;241;43m.\u001b[39;49m\u001b[43mitems\u001b[49m\u001b[43m(\u001b[49m\u001b[43m)\u001b[49m\u001b[43m]\u001b[49m\u001b[43m,\u001b[49m\n\u001b[1;32m   1266\u001b[0m \u001b[43m        \u001b[49m\u001b[43minclude_latents\u001b[49m\u001b[38;5;241;43m=\u001b[39;49m\u001b[43minclude_latents\u001b[49m\u001b[43m,\u001b[49m\n\u001b[1;32m   1267\u001b[0m \u001b[43m        \u001b[49m\u001b[43mseed\u001b[49m\u001b[38;5;241;43m=\u001b[39;49m\u001b[43mseed\u001b[49m\u001b[43m,\u001b[49m\n\u001b[1;32m   1268\u001b[0m \u001b[43m        \u001b[49m\u001b[43mshow_progress\u001b[49m\u001b[38;5;241;43m=\u001b[39;49m\u001b[43mshow_progress\u001b[49m\u001b[43m,\u001b[49m\n\u001b[1;32m   1269\u001b[0m \u001b[43m        \u001b[49m\u001b[43mpartial_samples\u001b[49m\u001b[38;5;241;43m=\u001b[39;49m\u001b[43mpartial_samples\u001b[49m\u001b[43m,\u001b[49m\n\u001b[1;32m   1270\u001b[0m \u001b[43m    \u001b[49m\u001b[43m)\u001b[49m\n\u001b[1;32m   1272\u001b[0m \u001b[38;5;66;03m# Step 5: Postprocess and return\u001b[39;00m\n\u001b[1;32m   1273\u001b[0m \u001b[38;5;28;01mif\u001b[39;00m include_latents:\n",
      "File \u001b[0;32m~/.local/lib/python3.8/site-packages/pgmpy/sampling/Sampling.py:215\u001b[0m, in \u001b[0;36mBayesianModelSampling.rejection_sample\u001b[0;34m(self, evidence, size, include_latents, seed, show_progress, partial_samples)\u001b[0m\n\u001b[1;32m    212\u001b[0m \u001b[38;5;28;01mif\u001b[39;00m partial_samples \u001b[38;5;129;01mis\u001b[39;00m \u001b[38;5;129;01mnot\u001b[39;00m \u001b[38;5;28;01mNone\u001b[39;00m:\n\u001b[1;32m    213\u001b[0m     _size \u001b[38;5;241m=\u001b[39m partial_samples\u001b[38;5;241m.\u001b[39mshape[\u001b[38;5;241m0\u001b[39m]\n\u001b[0;32m--> 215\u001b[0m _sampled \u001b[38;5;241m=\u001b[39m \u001b[38;5;28;43mself\u001b[39;49m\u001b[38;5;241;43m.\u001b[39;49m\u001b[43mforward_sample\u001b[49m\u001b[43m(\u001b[49m\n\u001b[1;32m    216\u001b[0m \u001b[43m    \u001b[49m\u001b[43msize\u001b[49m\u001b[38;5;241;43m=\u001b[39;49m\u001b[43m_size\u001b[49m\u001b[43m,\u001b[49m\n\u001b[1;32m    217\u001b[0m \u001b[43m    \u001b[49m\u001b[43minclude_latents\u001b[49m\u001b[38;5;241;43m=\u001b[39;49m\u001b[38;5;28;43;01mTrue\u001b[39;49;00m\u001b[43m,\u001b[49m\n\u001b[1;32m    218\u001b[0m \u001b[43m    \u001b[49m\u001b[43mshow_progress\u001b[49m\u001b[38;5;241;43m=\u001b[39;49m\u001b[38;5;28;43;01mFalse\u001b[39;49;00m\u001b[43m,\u001b[49m\n\u001b[1;32m    219\u001b[0m \u001b[43m    \u001b[49m\u001b[43mpartial_samples\u001b[49m\u001b[38;5;241;43m=\u001b[39;49m\u001b[43mpartial_samples\u001b[49m\u001b[43m,\u001b[49m\n\u001b[1;32m    220\u001b[0m \u001b[43m\u001b[49m\u001b[43m)\u001b[49m\n\u001b[1;32m    222\u001b[0m \u001b[38;5;28;01mfor\u001b[39;00m var, state \u001b[38;5;129;01min\u001b[39;00m evidence:\n\u001b[1;32m    223\u001b[0m     _sampled \u001b[38;5;241m=\u001b[39m _sampled[_sampled[var] \u001b[38;5;241m==\u001b[39m state]\n",
      "File \u001b[0;32m~/.local/lib/python3.8/site-packages/pgmpy/sampling/Sampling.py:84\u001b[0m, in \u001b[0;36mBayesianModelSampling.forward_sample\u001b[0;34m(self, size, include_latents, seed, show_progress, partial_samples)\u001b[0m\n\u001b[1;32m     33\u001b[0m \u001b[38;5;28;01mdef\u001b[39;00m \u001b[38;5;21mforward_sample\u001b[39m(\n\u001b[1;32m     34\u001b[0m     \u001b[38;5;28mself\u001b[39m,\n\u001b[1;32m     35\u001b[0m     size\u001b[38;5;241m=\u001b[39m\u001b[38;5;241m1\u001b[39m,\n\u001b[0;32m   (...)\u001b[0m\n\u001b[1;32m     39\u001b[0m     partial_samples\u001b[38;5;241m=\u001b[39m\u001b[38;5;28;01mNone\u001b[39;00m,\n\u001b[1;32m     40\u001b[0m ):\n\u001b[1;32m     41\u001b[0m     \u001b[38;5;124;03m\"\"\"\u001b[39;00m\n\u001b[1;32m     42\u001b[0m \u001b[38;5;124;03m    Generates sample(s) from joint distribution of the bayesian network.\u001b[39;00m\n\u001b[1;32m     43\u001b[0m \n\u001b[0;32m   (...)\u001b[0m\n\u001b[1;32m     82\u001b[0m \u001b[38;5;124;03m              [('diff', '<i8'), ('intel', '<i8'), ('grade', '<i8')])\u001b[39;00m\n\u001b[1;32m     83\u001b[0m \u001b[38;5;124;03m    \"\"\"\u001b[39;00m\n\u001b[0;32m---> 84\u001b[0m     sampled \u001b[38;5;241m=\u001b[39m \u001b[43mpd\u001b[49m\u001b[38;5;241;43m.\u001b[39;49m\u001b[43mDataFrame\u001b[49m\u001b[43m(\u001b[49m\u001b[43mcolumns\u001b[49m\u001b[38;5;241;43m=\u001b[39;49m\u001b[38;5;28;43mlist\u001b[39;49m\u001b[43m(\u001b[49m\u001b[38;5;28;43mself\u001b[39;49m\u001b[38;5;241;43m.\u001b[39;49m\u001b[43mmodel\u001b[49m\u001b[38;5;241;43m.\u001b[39;49m\u001b[43mnodes\u001b[49m\u001b[43m(\u001b[49m\u001b[43m)\u001b[49m\u001b[43m)\u001b[49m\u001b[43m)\u001b[49m\n\u001b[1;32m     86\u001b[0m     \u001b[38;5;28;01mif\u001b[39;00m show_progress \u001b[38;5;129;01mand\u001b[39;00m SHOW_PROGRESS:\n\u001b[1;32m     87\u001b[0m         pbar \u001b[38;5;241m=\u001b[39m tqdm(\u001b[38;5;28mself\u001b[39m\u001b[38;5;241m.\u001b[39mtopological_order)\n",
      "File \u001b[0;32m/usr/lib/python3/dist-packages/pandas/core/frame.py:411\u001b[0m, in \u001b[0;36mDataFrame.__init__\u001b[0;34m(self, data, index, columns, dtype, copy)\u001b[0m\n\u001b[1;32m    407\u001b[0m     mgr \u001b[38;5;241m=\u001b[39m \u001b[38;5;28mself\u001b[39m\u001b[38;5;241m.\u001b[39m_init_mgr(\n\u001b[1;32m    408\u001b[0m         data, axes\u001b[38;5;241m=\u001b[39m\u001b[38;5;28mdict\u001b[39m(index\u001b[38;5;241m=\u001b[39mindex, columns\u001b[38;5;241m=\u001b[39mcolumns), dtype\u001b[38;5;241m=\u001b[39mdtype, copy\u001b[38;5;241m=\u001b[39mcopy\n\u001b[1;32m    409\u001b[0m     )\n\u001b[1;32m    410\u001b[0m \u001b[38;5;28;01melif\u001b[39;00m \u001b[38;5;28misinstance\u001b[39m(data, \u001b[38;5;28mdict\u001b[39m):\n\u001b[0;32m--> 411\u001b[0m     mgr \u001b[38;5;241m=\u001b[39m \u001b[43minit_dict\u001b[49m\u001b[43m(\u001b[49m\u001b[43mdata\u001b[49m\u001b[43m,\u001b[49m\u001b[43m \u001b[49m\u001b[43mindex\u001b[49m\u001b[43m,\u001b[49m\u001b[43m \u001b[49m\u001b[43mcolumns\u001b[49m\u001b[43m,\u001b[49m\u001b[43m \u001b[49m\u001b[43mdtype\u001b[49m\u001b[38;5;241;43m=\u001b[39;49m\u001b[43mdtype\u001b[49m\u001b[43m)\u001b[49m\n\u001b[1;32m    412\u001b[0m \u001b[38;5;28;01melif\u001b[39;00m \u001b[38;5;28misinstance\u001b[39m(data, ma\u001b[38;5;241m.\u001b[39mMaskedArray):\n\u001b[1;32m    413\u001b[0m     \u001b[38;5;28;01mimport\u001b[39;00m \u001b[38;5;21;01mnumpy\u001b[39;00m\u001b[38;5;21;01m.\u001b[39;00m\u001b[38;5;21;01mma\u001b[39;00m\u001b[38;5;21;01m.\u001b[39;00m\u001b[38;5;21;01mmrecords\u001b[39;00m \u001b[38;5;28;01mas\u001b[39;00m \u001b[38;5;21;01mmrecords\u001b[39;00m\n",
      "File \u001b[0;32m/usr/lib/python3/dist-packages/pandas/core/internals/construction.py:242\u001b[0m, in \u001b[0;36minit_dict\u001b[0;34m(data, index, columns, dtype)\u001b[0m\n\u001b[1;32m    240\u001b[0m         \u001b[38;5;28;01melse\u001b[39;00m:\n\u001b[1;32m    241\u001b[0m             nan_dtype \u001b[38;5;241m=\u001b[39m dtype\n\u001b[0;32m--> 242\u001b[0m         val \u001b[38;5;241m=\u001b[39m \u001b[43mconstruct_1d_arraylike_from_scalar\u001b[49m\u001b[43m(\u001b[49m\u001b[43mnp\u001b[49m\u001b[38;5;241;43m.\u001b[39;49m\u001b[43mnan\u001b[49m\u001b[43m,\u001b[49m\u001b[43m \u001b[49m\u001b[38;5;28;43mlen\u001b[39;49m\u001b[43m(\u001b[49m\u001b[43mindex\u001b[49m\u001b[43m)\u001b[49m\u001b[43m,\u001b[49m\u001b[43m \u001b[49m\u001b[43mnan_dtype\u001b[49m\u001b[43m)\u001b[49m\n\u001b[1;32m    243\u001b[0m         arrays\u001b[38;5;241m.\u001b[39mloc[missing] \u001b[38;5;241m=\u001b[39m [val] \u001b[38;5;241m*\u001b[39m missing\u001b[38;5;241m.\u001b[39msum()\n\u001b[1;32m    245\u001b[0m \u001b[38;5;28;01melse\u001b[39;00m:\n",
      "File \u001b[0;32m/usr/lib/python3/dist-packages/pandas/core/dtypes/cast.py:1229\u001b[0m, in \u001b[0;36mconstruct_1d_arraylike_from_scalar\u001b[0;34m(value, length, dtype)\u001b[0m\n\u001b[1;32m   1227\u001b[0m \u001b[38;5;28;01melse\u001b[39;00m:\n\u001b[1;32m   1228\u001b[0m     \u001b[38;5;28;01mif\u001b[39;00m \u001b[38;5;129;01mnot\u001b[39;00m \u001b[38;5;28misinstance\u001b[39m(dtype, (np\u001b[38;5;241m.\u001b[39mdtype, \u001b[38;5;28mtype\u001b[39m(np\u001b[38;5;241m.\u001b[39mdtype))):\n\u001b[0;32m-> 1229\u001b[0m         dtype \u001b[38;5;241m=\u001b[39m \u001b[43mdtype\u001b[49m\u001b[38;5;241;43m.\u001b[39;49m\u001b[43mdtype\u001b[49m\n\u001b[1;32m   1231\u001b[0m     \u001b[38;5;28;01mif\u001b[39;00m length \u001b[38;5;129;01mand\u001b[39;00m is_integer_dtype(dtype) \u001b[38;5;129;01mand\u001b[39;00m isna(value):\n\u001b[1;32m   1232\u001b[0m         \u001b[38;5;66;03m# coerce if we have nan for an integer dtype\u001b[39;00m\n\u001b[1;32m   1233\u001b[0m         dtype \u001b[38;5;241m=\u001b[39m np\u001b[38;5;241m.\u001b[39mdtype(\u001b[38;5;124m\"\u001b[39m\u001b[38;5;124mfloat64\u001b[39m\u001b[38;5;124m\"\u001b[39m)\n",
      "\u001b[0;31mAttributeError\u001b[0m: type object 'object' has no attribute 'dtype'"
     ]
    }
   ],
   "source": [
    "#variables:\n",
    "query_variable = 'famsup'\n",
    "evidence_variables = dict({\"Medu\": 4,\"Fedu\": 4})\n",
    "\n",
    "#Approximate inference:\n",
    "for i in samples_num:\n",
    "    q = approx_infer.query(query_variable, \n",
    "                           i, \n",
    "                           evidence_variables,\n",
    "                           show_progress = False)\n",
    "    \n",
    "    print(f'\\n\\nConditional Probability Table of variable \"{query_variable}\" given that \"{evidence_variables}\" are observed:')\n",
    "    print(f'\\nNumber of samples used to compute the approximate inference:\\t{i}')\n",
    "    print(f'\\nConditional Probability Table:\\n\\t{q}')    "
   ]
  },
  {
   "cell_type": "markdown",
   "id": "7d0345b1",
   "metadata": {},
   "source": [
    "### 5.2.2. Intercausal Inference Queries\n",
    "\n",
    "* What is the probability distribution of the <u>absences</u> given the <u>studytime</u> and the <u>final grade</u>?"
   ]
  },
  {
   "cell_type": "code",
   "execution_count": null,
   "id": "a3ea5cf7",
   "metadata": {},
   "outputs": [],
   "source": [
    "#variables:\n",
    "query_variable = 'absences'\n",
    "evidence_variables = dict({\"G3\": 'Suficiente', \"studytime\": 1})\n",
    "\n",
    "#Approximate inference:\n",
    "for i in samples_num:\n",
    "    q = approx_infer.query([query_variable], \n",
    "                            i, \n",
    "                            evidence_variables)\n",
    "    \n",
    "    print(f'Conditional Probability Table of variable \"{query_variable}\" given that \"{evidence_variables}\" are observed:')\n",
    "    print(f'\\n\\tNumber of samples used to compute the approximate inference:\\t{i}')\n",
    "    print(f'\\n\\tConditional Probability Table:\\n\\t{q}')    "
   ]
  },
  {
   "cell_type": "markdown",
   "id": "4a1d0a61",
   "metadata": {},
   "source": [
    "### 5.2.3 Evidential Inference Queries\n",
    "\n",
    "* What is a student's <u>studytime</u> given his <u>final grade</u>?"
   ]
  },
  {
   "cell_type": "code",
   "execution_count": null,
   "id": "d7553eba",
   "metadata": {
    "scrolled": false
   },
   "outputs": [],
   "source": [
    "#variables:\n",
    "query_variable = 'studytime'\n",
    "evidence_variables = dict({\"G3\": \"Suficiente\"})\n",
    "\n",
    "#Approximate inference:\n",
    "for i in samples_num:\n",
    "    q = approx_infer.query([query_variable], \n",
    "                            i, \n",
    "                            evidence_variables)\n",
    "    \n",
    "    print(f'Conditional Probability Table of variable \"{query_variable}\" given that \"{evidence_variables}\" are observed:')\n",
    "    print(f'\\n\\tNumber of samples used to compute the approximate inference:\\t{i}')\n",
    "    print(f'\\n\\tConditional Probability Table:\\n\\t{q}') "
   ]
  },
  {
   "cell_type": "code",
   "execution_count": null,
   "id": "45aa77c0",
   "metadata": {},
   "outputs": [],
   "source": [
    "#variables:\n",
    "query_variable = 'studytime'\n",
    "evidence_variables = dict({\"G3\": \"Suficiente\"})\n",
    "\n",
    "#Approximate inference:\n",
    "for i in [100,200,300]:\n",
    "    q = approx_infer.query([query_variable], \n",
    "                            i, \n",
    "                            evidence_variables)\n",
    "    \n",
    "    print(f'Conditional Probability Table of variable \"{query_variable}\" given that \"{evidence_variables}\" are observed:')\n",
    "    print(f'\\n\\tNumber of samples used to compute the approximate inference:\\t{i}')\n",
    "    print(f'\\n\\tConditional Probability Table:\\n\\t{q}') "
   ]
  },
  {
   "cell_type": "markdown",
   "id": "84e3f096",
   "metadata": {},
   "source": [
    "## 6. Conclusions \n",
    "\n",
    "\n",
    "What can be inferred from our Bayesian model is that the feature that most affects a student's grade (`G3`) is the amount of `studytime`. As we can see in <a href=\"#query\"><u>*this query*</u></a>, if the value of `studytime` is low, then the grades below 'sufficient' have higher probabilities and inversively the grades above 'sufficient' have lower probabilities, all w.r.t. the case of high value of `studytime`. \n",
    "\n",
    "Another noteworthy consideration involves the student's alcohol consumption that, as we can see in <a href = \"#DalcQuery\"><u>*this query*</u></a>, when `studytime` has a low value (e.g. when `studytime = 1`), we can observe in the *pdf* plot that the probability of high alcohol consumptions (e.g. `Dalc = 3` and `Dalc=4`) are higher w.r.t. the case where `studytime` has a high value (`studytime = 3`). Unexpectedly, in the case of `studytime = 3`, we can see an increment in the probability of high alcohol consuption (e.g when `Dalc(5)`). \n",
    "\n",
    "In conclusion, we can say that drinking to much alcohol negatively affects the amount of studytime and consequently the final grade. Although studying too much corresponds to the risk of higher consumption of alcohol due to mental health issues, or at list this is what we would like to think."
   ]
  },
  {
   "cell_type": "markdown",
   "id": "3803e2f0",
   "metadata": {},
   "source": [
    "## 7. Bibliography\n",
    "\n",
    "- https://degree.lamar.edu/articles/undergraduate/parents-education-level-and-childrens-success/\n",
    "- https://www.brookings.edu/blog/up-front/2021/01/12/the-unreported-gender-gap-in-high-school-graduation-rates/\n",
    "- https://hbr.org/2018/06/how-working-parents-can-manage-the-demands-of-school-age-kids\n",
    "- https://www.scholaro.com/db/Countries/Portugal/Grading-System"
   ]
  }
 ],
 "metadata": {
  "kernelspec": {
   "display_name": "Python 3 (ipykernel)",
   "language": "python",
   "name": "python3"
  },
  "language_info": {
   "codemirror_mode": {
    "name": "ipython",
    "version": 3
   },
   "file_extension": ".py",
   "mimetype": "text/x-python",
   "name": "python",
   "nbconvert_exporter": "python",
   "pygments_lexer": "ipython3",
   "version": "3.8.10"
  }
 },
 "nbformat": 4,
 "nbformat_minor": 5
}
