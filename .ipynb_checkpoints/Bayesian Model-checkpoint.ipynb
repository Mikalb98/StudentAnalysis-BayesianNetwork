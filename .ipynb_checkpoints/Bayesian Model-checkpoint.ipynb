{
 "cells": [
  {
   "cell_type": "markdown",
   "id": "084cc398",
   "metadata": {},
   "source": [
    "# Analysis of portuguese students' habits that influence education"
   ]
  },
  {
   "cell_type": "markdown",
   "id": "a34e77e1",
   "metadata": {},
   "source": [
    "TITOLO SECONDARIO: ***How much should I study if I want to go to the bar?***\n",
    "ahahaha"
   ]
  },
  {
   "cell_type": "markdown",
   "id": "84902f31",
   "metadata": {},
   "source": [
    "Michael Albarello - michael.albarello@studio.unibo.it - 0001058648\n",
    "\n",
    "Matteo Nestola - matteo.nestola@studio.unibo.it - 0001036948"
   ]
  },
  {
   "cell_type": "markdown",
   "id": "73938a44",
   "metadata": {},
   "source": [
    "In the following notebook, we will analize how students' extracurricular habits are capable to influence their school performance. <br>In particular, we selected the [Student Alcohol Consumption Dataset](https://www.kaggle.com/datasets/uciml/student-alcohol-consumption), which includes grade, demographic, social and school related informations that have been collected by using school reports and questionnaires. \n",
    "\n",
    "The dataset includes two subsets regarding the students' performances in two distinct subjects: \n",
    "- Mathematics (mat) \n",
    "- Portuguese Language (por).\n",
    "\n",
    "Here's some explanation for each column, provided by the dataset's creator:\n",
    "\n",
    "\n",
    "|Columns||Description||Type|\n",
    "|:----------||:--------------||:----|\n",
    "|**school**||student's school||binary:<br>'GP' - Gabriel Pereira<br>'MS' - Mousinho da Silveira|\n",
    "|**sex**||student's sex||binary:<br>'F' - female<br>'M' - male|\n",
    "|**age**||student's age||numeric: <br> from 15 to 22|\n",
    "|**address**||student's home address type||binary: <br> 'U' - urban <br> 'R' - rural|\n",
    "|**famsize**||family size||binary: <br> 'LE3' - less or equal to 3 <br> 'GT3' - greater than 3|\n",
    "|**Pstatus**||parent's cohabitation status||binary: <br> 'T' - living together <br> 'A' - apart|\n",
    "|**Medu**||mother's education||numeric: <br> 0 - none <br> 1 - primary education (4th grade) <br> 2 - 5th to 9th grade <br> 3 - secondary education <br> 4 - higher education|\n",
    "|**Fedu**||father's education||numeric: <br> 0 - none <br> 1 - primary education (4th grade) <br> 2 - 5th to 9th grade <br> 3 - secondary education <br> 4 - higher education|\n",
    "|**Mjob**||mother's job||nominal: <br> 'teacher' <br> 'health' care related <br> civil 'services' (e.g. administrative or police) <br> 'at_home' <br> 'other'|\n",
    "|**Fjob**||father's job||nominal: <br> 'teacher' <br> 'health' care related <br> civil 'services' (e.g. administrative or police) <br> 'at_home' <br> 'other'|\n",
    "|**reason**||reason to choose this school||nominal: <br> close to 'home' <br> school 'reputation' <br> 'course' preference <br> 'other'|\n",
    "|**guardian**||student's guardian||nominal: <br> 'mother <br> 'father' <br> 'other'|\n",
    "|**traveltime**||home to school travel time||numeric: <br> 1 - <15 min. <br> 2 - 15 to 30 min. <br> 3 - 30 min. to 1 hour <br> or 4 - >1 hour|\n",
    "|**studytime**||weekly study time||numeric: <br> 1 - <2 hours <br> 2 - 2 to 5 hours <br> 3 - 5 to 10 hours <br> or 4 - >10 hours|\n",
    "|**failures**||number of <u>***past***</u> class failures||numeric: <br> n if 1<=n<3 <br> else 4|\n",
    "|**schoolsup**||extra educational support||binary: <br> yes <br> no|\n",
    "|**famsup**||family educational support||binary: <br> yes <br> no|\n",
    "|**paid**||extra paid classes within the course subject (Math or Portuguese)||binary:<br> yes <br> no|\n",
    "|**activities**||extra-curricular activities||binary: <br> yes <br> no|\n",
    "|**nursery**||attended nursery school||binary: <br> yes <br> no|\n",
    "|**higher**||wants to take higher education||binary: <br> yes <br> no|\n",
    "|**internet**||Internet access at home||binary: <br> yes <br> no|\n",
    "|**romantic**||with a romantic relationship||binary: <br> yes <br> no|\n",
    "|**famrel**||quality of family relationships||numeric: from 1 - very bad <br> to 5 - excellent|\n",
    "|**freetime**||free time after school||numeric: <br> from 1 - very low <br> to 5 - very high|\n",
    "|**goout**||going out with friends||numeric: <br> from 1 - very low <br> to 5 - very high|\n",
    "|**Dalc**||workday alcohol consumption||numeric: <br> from 1 - very low <br> to 5 - very high|\n",
    "|**Walc**||weekend alcohol consumption||numeric: <br> from 1 - very low <br> to 5 - very high|\n",
    "|**health**||current health status||numeric: <br> from 1 - very bad <br> to 5 - very good|\n",
    "|**absences**||number of school absences||numeric: <br> from 0 <br> to 93|\n",
    "\n",
    "\n",
    "\n",
    "These grades are related with the course subject, Math or Portuguese:\n",
    "\n",
    "|Grade|Description||Type|\n",
    "|:------|:--------||:--------|\n",
    "|G1|first period grade||numeric: <br>from 0 <br>to 20|\n",
    "|G2 |second period grade||numeric: <br>from 0 <br>to 20|\n",
    "|G3 |final grade (output target)||numeric: <br>from 0 <br>to 20)|\n",
    "\n",
    "\n",
    "The goal of the following analysis is to obtain a better understanding on how do social environments affect the  curricular career of a generic student."
   ]
  },
  {
   "cell_type": "markdown",
   "id": "83e81763",
   "metadata": {},
   "source": [
    "## 0. Imports\n",
    "Let's start by importing the needed libraries and datasets:"
   ]
  },
  {
   "cell_type": "code",
   "execution_count": 1,
   "id": "29804e2b",
   "metadata": {},
   "outputs": [],
   "source": [
    "import os\n",
    "\n",
    "#---Data representation---\n",
    "\n",
    "import pandas as pd\n",
    "import numpy as np\n",
    "import seaborn as sns\n",
    "\n",
    "from matplotlib import pyplot as plt\n",
    "%matplotlib inline\n",
    "\n",
    "#---Pgmpy library---\n",
    "\n",
    "from pgmpy.models import BayesianNetwork\n",
    "from pgmpy.factors.discrete import TabularCPD\n",
    "from pgmpy.inference import VariableElimination\n",
    "from pgmpy.estimators import ParameterEstimator\n",
    "from pgmpy.estimators import BayesianEstimator\n",
    "\n",
    "#---Plot Bayesian Networks---\n",
    "\n",
    "import networkx as nx\n",
    "import daft\n",
    "from daft import PGM"
   ]
  },
  {
   "cell_type": "code",
   "execution_count": 2,
   "id": "3b2c5b0f",
   "metadata": {
    "scrolled": true
   },
   "outputs": [],
   "source": [
    "#paths to datasets:\n",
    "\n",
    "abs_path = os.getcwd()\n",
    "\n",
    "mat_path= f'{abs_path}/dataset/student_alcohol/student-mat.csv'\n",
    "por_path= f'{abs_path}/dataset/student_alcohol/student-por.csv'\n",
    "\n",
    "#import datasets:\n",
    "df1 = pd.read_csv(mat_path, sep=\",\")\n",
    "df2 = pd.read_csv(por_path, sep=\",\")\n",
    "\n",
    "#concatenate subsets:\n",
    "df = pd.concat([df1, df2])"
   ]
  },
  {
   "cell_type": "markdown",
   "id": "645cc3c2",
   "metadata": {},
   "source": [
    "Given that the dataset's creator has provided two subsets, the first for students' performance in mathematics and the second in portuguese language, we desided to concatenate both in a single dataframe so that we were able to exploit the totality of the data. \n",
    "\n",
    "Let's now have a quick look at the data:"
   ]
  },
  {
   "cell_type": "code",
   "execution_count": 3,
   "id": "db07a086",
   "metadata": {},
   "outputs": [
    {
     "name": "stdout",
     "output_type": "stream",
     "text": [
      "The imported dataset has the following structure:\n",
      "\n",
      "Number of features per individual:\t33\n",
      "Number of individuals in the dataset:\t1044\n",
      "\n",
      "Columns names:\n",
      "\n",
      "0. school\n",
      "1. sex\n",
      "2. age\n",
      "3. address\n",
      "4. famsize\n",
      "5. Pstatus\n",
      "6. Medu\n",
      "7. Fedu\n",
      "8. Mjob\n",
      "9. Fjob\n",
      "10. reason\n",
      "11. guardian\n",
      "12. traveltime\n",
      "13. studytime\n",
      "14. failures\n",
      "15. schoolsup\n",
      "16. famsup\n",
      "17. paid\n",
      "18. activities\n",
      "19. nursery\n",
      "20. higher\n",
      "21. internet\n",
      "22. romantic\n",
      "23. famrel\n",
      "24. freetime\n",
      "25. goout\n",
      "26. Dalc\n",
      "27. Walc\n",
      "28. health\n",
      "29. absences\n",
      "30. G1\n",
      "31. G2\n",
      "32. G3\n",
      "\n",
      "Representation of the first five individuals of the dataset:\n"
     ]
    },
    {
     "data": {
      "text/html": [
       "<div>\n",
       "<style scoped>\n",
       "    .dataframe tbody tr th:only-of-type {\n",
       "        vertical-align: middle;\n",
       "    }\n",
       "\n",
       "    .dataframe tbody tr th {\n",
       "        vertical-align: top;\n",
       "    }\n",
       "\n",
       "    .dataframe thead th {\n",
       "        text-align: right;\n",
       "    }\n",
       "</style>\n",
       "<table border=\"1\" class=\"dataframe\">\n",
       "  <thead>\n",
       "    <tr style=\"text-align: right;\">\n",
       "      <th></th>\n",
       "      <th>school</th>\n",
       "      <th>sex</th>\n",
       "      <th>age</th>\n",
       "      <th>address</th>\n",
       "      <th>famsize</th>\n",
       "      <th>Pstatus</th>\n",
       "      <th>Medu</th>\n",
       "      <th>Fedu</th>\n",
       "      <th>Mjob</th>\n",
       "      <th>Fjob</th>\n",
       "      <th>...</th>\n",
       "      <th>famrel</th>\n",
       "      <th>freetime</th>\n",
       "      <th>goout</th>\n",
       "      <th>Dalc</th>\n",
       "      <th>Walc</th>\n",
       "      <th>health</th>\n",
       "      <th>absences</th>\n",
       "      <th>G1</th>\n",
       "      <th>G2</th>\n",
       "      <th>G3</th>\n",
       "    </tr>\n",
       "  </thead>\n",
       "  <tbody>\n",
       "    <tr>\n",
       "      <th>0</th>\n",
       "      <td>GP</td>\n",
       "      <td>F</td>\n",
       "      <td>18</td>\n",
       "      <td>U</td>\n",
       "      <td>GT3</td>\n",
       "      <td>A</td>\n",
       "      <td>4</td>\n",
       "      <td>4</td>\n",
       "      <td>at_home</td>\n",
       "      <td>teacher</td>\n",
       "      <td>...</td>\n",
       "      <td>4</td>\n",
       "      <td>3</td>\n",
       "      <td>4</td>\n",
       "      <td>1</td>\n",
       "      <td>1</td>\n",
       "      <td>3</td>\n",
       "      <td>6</td>\n",
       "      <td>5</td>\n",
       "      <td>6</td>\n",
       "      <td>6</td>\n",
       "    </tr>\n",
       "    <tr>\n",
       "      <th>1</th>\n",
       "      <td>GP</td>\n",
       "      <td>F</td>\n",
       "      <td>17</td>\n",
       "      <td>U</td>\n",
       "      <td>GT3</td>\n",
       "      <td>T</td>\n",
       "      <td>1</td>\n",
       "      <td>1</td>\n",
       "      <td>at_home</td>\n",
       "      <td>other</td>\n",
       "      <td>...</td>\n",
       "      <td>5</td>\n",
       "      <td>3</td>\n",
       "      <td>3</td>\n",
       "      <td>1</td>\n",
       "      <td>1</td>\n",
       "      <td>3</td>\n",
       "      <td>4</td>\n",
       "      <td>5</td>\n",
       "      <td>5</td>\n",
       "      <td>6</td>\n",
       "    </tr>\n",
       "    <tr>\n",
       "      <th>2</th>\n",
       "      <td>GP</td>\n",
       "      <td>F</td>\n",
       "      <td>15</td>\n",
       "      <td>U</td>\n",
       "      <td>LE3</td>\n",
       "      <td>T</td>\n",
       "      <td>1</td>\n",
       "      <td>1</td>\n",
       "      <td>at_home</td>\n",
       "      <td>other</td>\n",
       "      <td>...</td>\n",
       "      <td>4</td>\n",
       "      <td>3</td>\n",
       "      <td>2</td>\n",
       "      <td>2</td>\n",
       "      <td>3</td>\n",
       "      <td>3</td>\n",
       "      <td>10</td>\n",
       "      <td>7</td>\n",
       "      <td>8</td>\n",
       "      <td>10</td>\n",
       "    </tr>\n",
       "    <tr>\n",
       "      <th>3</th>\n",
       "      <td>GP</td>\n",
       "      <td>F</td>\n",
       "      <td>15</td>\n",
       "      <td>U</td>\n",
       "      <td>GT3</td>\n",
       "      <td>T</td>\n",
       "      <td>4</td>\n",
       "      <td>2</td>\n",
       "      <td>health</td>\n",
       "      <td>services</td>\n",
       "      <td>...</td>\n",
       "      <td>3</td>\n",
       "      <td>2</td>\n",
       "      <td>2</td>\n",
       "      <td>1</td>\n",
       "      <td>1</td>\n",
       "      <td>5</td>\n",
       "      <td>2</td>\n",
       "      <td>15</td>\n",
       "      <td>14</td>\n",
       "      <td>15</td>\n",
       "    </tr>\n",
       "    <tr>\n",
       "      <th>4</th>\n",
       "      <td>GP</td>\n",
       "      <td>F</td>\n",
       "      <td>16</td>\n",
       "      <td>U</td>\n",
       "      <td>GT3</td>\n",
       "      <td>T</td>\n",
       "      <td>3</td>\n",
       "      <td>3</td>\n",
       "      <td>other</td>\n",
       "      <td>other</td>\n",
       "      <td>...</td>\n",
       "      <td>4</td>\n",
       "      <td>3</td>\n",
       "      <td>2</td>\n",
       "      <td>1</td>\n",
       "      <td>2</td>\n",
       "      <td>5</td>\n",
       "      <td>4</td>\n",
       "      <td>6</td>\n",
       "      <td>10</td>\n",
       "      <td>10</td>\n",
       "    </tr>\n",
       "  </tbody>\n",
       "</table>\n",
       "<p>5 rows × 33 columns</p>\n",
       "</div>"
      ],
      "text/plain": [
       "  school sex  age address famsize Pstatus  Medu  Fedu     Mjob      Fjob  ...  \\\n",
       "0     GP   F   18       U     GT3       A     4     4  at_home   teacher  ...   \n",
       "1     GP   F   17       U     GT3       T     1     1  at_home     other  ...   \n",
       "2     GP   F   15       U     LE3       T     1     1  at_home     other  ...   \n",
       "3     GP   F   15       U     GT3       T     4     2   health  services  ...   \n",
       "4     GP   F   16       U     GT3       T     3     3    other     other  ...   \n",
       "\n",
       "  famrel freetime  goout  Dalc  Walc health absences  G1  G2  G3  \n",
       "0      4        3      4     1     1      3        6   5   6   6  \n",
       "1      5        3      3     1     1      3        4   5   5   6  \n",
       "2      4        3      2     2     3      3       10   7   8  10  \n",
       "3      3        2      2     1     1      5        2  15  14  15  \n",
       "4      4        3      2     1     2      5        4   6  10  10  \n",
       "\n",
       "[5 rows x 33 columns]"
      ]
     },
     "execution_count": 3,
     "metadata": {},
     "output_type": "execute_result"
    }
   ],
   "source": [
    "#Dataset's structure info\n",
    "print(\"The imported dataset has the following structure:\\n\")\n",
    "print(f\"Number of features per individual:\\t{len(df.columns)}\")\n",
    "print(f\"Number of individuals in the dataset:\\t{len(df)}\")\n",
    "print(f\"\\nColumns names:\\n\")\n",
    "\n",
    "for i in range(len(df.columns)):\n",
    "    print(f\"{i}. {df.columns[i]}\")\n",
    "\n",
    "print(\"\\nRepresentation of the first five individuals of the dataset:\")\n",
    "df.head()"
   ]
  },
  {
   "cell_type": "markdown",
   "id": "bdbd1ba5",
   "metadata": {},
   "source": [
    "## 1. Preprocessing"
   ]
  },
  {
   "cell_type": "markdown",
   "id": "5b351ec2",
   "metadata": {},
   "source": [
    "By looking at the features of the dataset, we have seen that there is a lot of irrelevant and redundant data to drop and continuous data that has to be discretized and denoised. \n",
    "\n",
    "In particular, the following features will be dropped:\n",
    "\n",
    "- `school`:  the performance of a student doesn't depend on the choice of the school;\n",
    "\n",
    "\n",
    "- `romantic`: PERO' avere la ragazza toglie un sacco di tempo allo studio a quell'età (CAPIRE CON MATT)\n",
    "\n",
    "\n",
    "- `famsize`: the performance of a student doesn't depend whether the family has more or less than three members;\n",
    "\n",
    "\n",
    "- `guardian`: the performance of a student doesn't depend on whom his guardian is;\n",
    "\n",
    "\n",
    "- `nursery`: the performance of a student doesn't depend on whether he attended nursery school or not;\n",
    "\n",
    "\n",
    "- `goout`: USCIRE TUTTE LE SERE INFLUENZA IL RENDIMENTO SCOLASTICO the performance of a student doesn't depend on\n",
    "\n",
    "\n",
    "- `Walc`: the performance of a student doesn't depend whether he consumes alcohol on weekends;\n",
    "\n",
    "\n",
    "- `reason`: the performance of a student doesn't depend on the choice of the school, as we said earlier for the attribute `school`\n",
    "\n",
    "\n",
    "- `Mjob` and `Fjob`: the performance of a student doesn't depend on his parents' job;\n",
    "\n",
    "\n",
    "- `address`: the performance of a student doesn't depend on his home address;\n",
    "\n",
    "\n",
    "- `higher`: the performance of a student doesn't depend whether he wants to attend college or not; \n",
    "\n",
    "\n",
    "- `activities`: the performance of a student doesn't depend on extra-curricular activities SI INVECE!! Se fai sport agonistico hai la metà del tempo.\n",
    "\n",
    "\n",
    "- `internet`: the performance of a student doesn't depend on whether he has internet connection at home or not. BEH AVVOCATO...\n",
    " "
   ]
  },
  {
   "cell_type": "code",
   "execution_count": 4,
   "id": "1025883c",
   "metadata": {},
   "outputs": [],
   "source": [
    "df_new = df.drop(['school',\n",
    "                  'romantic',    #!\n",
    "                  'famsize',\n",
    "                  'guardian',\n",
    "                  'nursery',\n",
    "                  'goout',       #!\n",
    "                  'Walc',\n",
    "                  'reason',\n",
    "                  'Mjob',\n",
    "                  'Fjob',\n",
    "                  'address',\n",
    "                  'higher',\n",
    "                  'activities',  #!\n",
    "                  'internet'],   #!\n",
    "                  #IO TOGLIEREI ANCHE 'famrel'\n",
    "                 axis=1)"
   ]
  },
  {
   "cell_type": "markdown",
   "id": "a525bc30",
   "metadata": {},
   "source": [
    "Since `G1` and `G2` are intermediate grades, we decided to consider only the final grade `G3`:"
   ]
  },
  {
   "cell_type": "code",
   "execution_count": 5,
   "id": "ce20f51a",
   "metadata": {},
   "outputs": [],
   "source": [
    "df_new = df_new.drop(['G1','G2',], axis=1)"
   ]
  },
  {
   "cell_type": "markdown",
   "id": "6b4004b9",
   "metadata": {},
   "source": [
    "Then we decided to discretize the age of the students so that we could divide them in three macrogroups:\n",
    "\n",
    "- `15-17`: students that have never failed a year;\n",
    "- `18-19`: students that have failed one year;\n",
    "- `20-22`: students that have failed many years of school."
   ]
  },
  {
   "cell_type": "code",
   "execution_count": 6,
   "id": "20a8b8b9",
   "metadata": {},
   "outputs": [
    {
     "name": "stdout",
     "output_type": "stream",
     "text": [
      "The students' minimum age found in the dataset is: 15\n",
      "The students' maximum age found in the dataset is: 22\n",
      "\n",
      "\n",
      "There are: \n",
      " - 194 students that are 15 years old\n",
      " - 281 students that are 16 years old\n",
      " - 277 students that are 17 years old\n",
      "\n",
      "Meaning that the bin '15-17' should comprehend 752 students\n",
      "\n",
      "\n",
      "There are: \n",
      " - 222 students that are 18 years old\n",
      " - 56 students that are 19 years old\n",
      "\n",
      "Meaning that the bin '20-22' should comprehend 278 students\n",
      "\n",
      "\n",
      "There are: \n",
      " - 9 students that are 20 years old\n",
      " - 3 students that are 21 years old\n",
      " - 2 students that are 22 years old\n",
      "\n",
      "Meaning that the bin '20-22' should comprehend 14 students\n"
     ]
    }
   ],
   "source": [
    "min_age = np.min(df['age'])\n",
    "max_age = np.max(df['age'])\n",
    "\n",
    "print(f\"The students' minimum age found in the dataset is: {min_age}\", end = \"\")\n",
    "print(f\"\\nThe students' maximum age found in the dataset is: {max_age}\")\n",
    "\n",
    "\n",
    "#range 15-17:\n",
    "num_age15 = len(df[df['age'] == 15])\n",
    "num_age16 = len(df[df['age'] == 16])\n",
    "num_age17 = len(df[df['age'] == 17])\n",
    "\n",
    "print(f\"\\n\\nThere are: \\n - {num_age15} students that are 15 years old\", end = \"\")\n",
    "print(f\"\\n - {num_age16} students that are 16 years old\", end = \"\")\n",
    "print(f\"\\n - {num_age17} students that are 17 years old\")\n",
    "print(f\"\\nMeaning that the bin '15-17' should comprehend {num_age15 + num_age16 + num_age17} students\")\n",
    "\n",
    "#range 18-19:\n",
    "num_age18 = len(df[df['age'] == 18])\n",
    "num_age19 = len(df[df['age'] == 19])\n",
    "\n",
    "print(f\"\\n\\nThere are: \\n - {num_age18} students that are 18 years old\", end = \"\")\n",
    "print(f\"\\n - {num_age19} students that are 19 years old\")\n",
    "print(f\"\\nMeaning that the bin '20-22' should comprehend {num_age18 + num_age19} students\")\n",
    "\n",
    "#range 20-22\n",
    "num_age20 = len(df[df['age'] == 20])\n",
    "num_age21 = len(df[df['age'] == 21])\n",
    "num_age22 = len(df[df['age'] == 22])\n",
    "\n",
    "print(f\"\\n\\nThere are: \\n - {num_age20} students that are 20 years old\", end = \"\")\n",
    "print(f\"\\n - {num_age21} students that are 21 years old\", end = \"\")\n",
    "print(f\"\\n - {num_age22} students that are 22 years old\")\n",
    "print(f\"\\nMeaning that the bin '20-22' should comprehend {num_age20 + num_age21 + num_age22} students\")"
   ]
  },
  {
   "cell_type": "markdown",
   "id": "abb09f69",
   "metadata": {},
   "source": [
    "Now lets create the bins and check if some error occured by comparing the number of students in each newly created macrogroup with the numbers computed in the last cell of code:"
   ]
  },
  {
   "cell_type": "code",
   "execution_count": 7,
   "id": "5c0d285f",
   "metadata": {},
   "outputs": [],
   "source": [
    "df_new['age'] = pd.cut(\n",
    "                       x = df_new['age'],                       #considering only the 'age' columns\n",
    "                       bins = [min_age, 17, 19, max_age],       #[15-22] becomes [15-17], [18-19], [20,21]\n",
    "                       labels = [\"15-17\",\"18-19\", \"20-22\"],     #labels to assign to above bins\n",
    "                       right = True,                            #include right most element (...]\n",
    "                       include_lowest=True                      #include left most element  [...)\n",
    "                      )\n",
    "\n",
    "df_new['age'] = df_new['age'].astype(str)"
   ]
  },
  {
   "cell_type": "code",
   "execution_count": 8,
   "id": "d9ea4efe",
   "metadata": {},
   "outputs": [
    {
     "name": "stdout",
     "output_type": "stream",
     "text": [
      "\n",
      "The first bin has been created correctly.\n",
      "\n",
      "The second bin has been created correctly.\n",
      "\n",
      "The third bin has been created correctly.\n"
     ]
    }
   ],
   "source": [
    "#First bin check:\n",
    "num_age1517 = len(df_new[df_new['age'] == \"15-17\"])\n",
    "\n",
    "if num_age1517 == (num_age15 + num_age16 + num_age17):\n",
    "    print(\"\\nThe first bin has been created correctly.\")\n",
    "    \n",
    "else:\n",
    "    print(\"\\nThe first bin has not been created correctly:\")\n",
    "    print(f\"\\n\\tnum_age1517 = {num_age1517}\\n\\tnum_age15 + num_age16 + num_age17 = {num_age15 + num_age16 + num_age17}\")\n",
    "    \n",
    "    \n",
    "#Second bin check:\n",
    "num_age1819 = len(df_new[df_new['age'] == \"18-19\"])\n",
    "\n",
    "if num_age1819 == (num_age18 + num_age19):\n",
    "    print(\"\\nThe second bin has been created correctly.\")\n",
    "    \n",
    "else:\n",
    "    print(\"\\nThe second bin has not been created correctly:\")\n",
    "    print(f\"\\n\\tnum_age1819 = {num_age1819}\\n\\tnum_age18 + num_age19 = {num_age18 + num_age19 }\")\n",
    "    \n",
    "#Third bin check:\n",
    "num_age2022 = len(df_new[df_new['age'] == \"20-22\"])\n",
    "\n",
    "if num_age2022 == (num_age20 + num_age21 + num_age22):\n",
    "    print(\"\\nThe third bin has been created correctly.\")\n",
    "    \n",
    "else:\n",
    "    print(\"\\nThe third bin has not been created correctly:\")\n",
    "    print(f\"\\n\\tnum_age2022 = {num_age2022}\\n\\tnum_age20 + num_age21 + num_age22 = {num_age20 + num_age21 + num_age22}\")"
   ]
  },
  {
   "cell_type": "markdown",
   "id": "e14c2ea9",
   "metadata": {},
   "source": [
    "The feauture `age` is not the only one that should be discretized. In [this article](https://www.scholaro.com/db/Countries/Portugal/Grading-System), we found out that the grade `G3` can be discretized as follows:  \n",
    "\n",
    "|Grade||Description||Translation|\n",
    "|:----------||:--------------||:-----------------|\n",
    "|20.00||Muito bom con distincao e louvor||Very good with distinction and honors|\n",
    "|18.00 - 19.99||Excelente||Excellent|\n",
    "|16.00 - 17.99||Muito Bom||Very Good|\n",
    "|14.00 - 15.99||Bom||Good|\n",
    "|10.00 - 13.99||Suficiente||Sufficient|\n",
    "|7.00 - 9.99||Mediocre||Poor|\n",
    "|0.00 - 6.99||Mau||Poor|"
   ]
  },
  {
   "cell_type": "code",
   "execution_count": 9,
   "id": "a85c76a2",
   "metadata": {},
   "outputs": [
    {
     "name": "stdout",
     "output_type": "stream",
     "text": [
      "There are 81 students that obtained Mau\n",
      "\n",
      "There are 149 students that obtained Mediocre\n",
      "\n",
      "There are 520 students that obtained Suficiente\n",
      "\n",
      "There are 172 students that obtained Bom\n",
      "\n",
      "There are 87 students that obtained Muito bom\n",
      "\n",
      "There are 34 students that obtained Excelente\n",
      "\n",
      "There are 1 students that obtained Muito bom con distincao e louvor\n"
     ]
    }
   ],
   "source": [
    "#range mau: \n",
    "num_mau = (len(df_new[df_new['G3'] == 0]) + len(df_new[df_new['G3'] == 1]) + len(df_new[df_new['G3'] == 2]) + len(df_new[df_new['G3'] == 3]) + len(df_new[df_new['G3'] == 4]) + len(df_new[df_new['G3'] == 5]) + len(df_new[df_new['G3'] == 6]))\n",
    "            \n",
    "print(f\"There are {num_mau} students that obtained Mau\")\n",
    "\n",
    "#range mediocre\n",
    "num_med = len(df_new[df_new['G3'] == 7]) + len(df_new[df_new['G3'] == 8]) + len(df_new[df_new['G3'] == 9])\n",
    "print(f\"\\nThere are {num_med} students that obtained Mediocre\")\n",
    "\n",
    "#range suficiente \n",
    "num_suf = len(df_new[df_new['G3'] == 10]) + len(df_new[df_new['G3'] == 11]) + len(df_new[df_new['G3'] == 12]) + len(df_new[df_new['G3'] == 13])\n",
    "print(f\"\\nThere are {num_suf} students that obtained Suficiente\")\n",
    "                     \n",
    "#range bom \n",
    "num_bom = len(df_new[df_new['G3'] == 14]) + len(df_new[df_new['G3'] == 15])\n",
    "print(f\"\\nThere are {num_bom} students that obtained Bom\")\n",
    "                     \n",
    "#range muito bom \n",
    "num_muitobom = len(df_new[df_new['G3'] == 16]) + len(df_new[df_new['G3'] == 17])\n",
    "print(f\"\\nThere are {num_muitobom} students that obtained Muito bom\")\n",
    "                     \n",
    "#range excelente \n",
    "num_exc = len(df_new[df_new['G3'] == 18]) + len(df_new[df_new['G3'] == 19])\n",
    "print(f\"\\nThere are {num_exc} students that obtained Excelente\")\n",
    "                     \n",
    "#range muito bom con distincao e louvor\n",
    "num_muitobomdist = len(df_new[df_new['G3'] == 20])\n",
    "print(f\"\\nThere are {num_muitobomdist} students that obtained Muito bom con distincao e louvor\")"
   ]
  },
  {
   "cell_type": "markdown",
   "id": "8903aa88",
   "metadata": {},
   "source": [
    "Now lets create the bins and check if some error occured by comparing the number of students in each newly created group with the numbers computed in the last cell of code:"
   ]
  },
  {
   "cell_type": "code",
   "execution_count": 10,
   "id": "f2ca4394",
   "metadata": {
    "scrolled": true
   },
   "outputs": [],
   "source": [
    "'''ordered_labels = [\"Mau|Poor\",\n",
    "                  \"Mediocre|Poor\", \n",
    "                  \"Suficiente|sufficient\",\n",
    "                  \"Bom|Good\",\n",
    "                  \"Muito Bom|Very Good\",\n",
    "                  \"Excelente|Excellent\",\n",
    "                  \"Muito bom con distincao e louvor|very good with distinction and honors\"\n",
    "                 ]'''\n",
    "\n",
    "ordered_labels = [\"Mau\",\n",
    "                  \"Med\", \n",
    "                  \"Suf\",\n",
    "                  \"Bom\",\n",
    "                  \"Mui\",\n",
    "                  \"Exc\",\n",
    "                  \"Mui Dist\"\n",
    "                 ]\n",
    "\n",
    "df_new['G3'] = pd.cut(x = df_new['G3'], \n",
    "                      bins = [np.min(df_new['G3']),6.99,9.99,13.99,15.99,17.99,19.99,np.max(df_new['G3'])], \n",
    "                      labels = ordered_labels,\n",
    "                      right = True,\n",
    "                      include_lowest = True)\n",
    "\n",
    "df_new['G3'] = df_new['G3'].astype(str)"
   ]
  },
  {
   "cell_type": "code",
   "execution_count": 11,
   "id": "390fa9c6",
   "metadata": {
    "scrolled": false
   },
   "outputs": [
    {
     "name": "stdout",
     "output_type": "stream",
     "text": [
      "The first bin has been created correctly.\n",
      "\n",
      "The second bin has been created correctly.\n",
      "\n",
      "The third bin has been created correctly.\n",
      "\n",
      "The fourth bin has been created correctly.\n",
      "\n",
      "The fifth bin has been created correctly.\n",
      "\n",
      "The sixth bin has been created correctly.\n",
      "\n",
      "The seventh bin has been created correctly.\n"
     ]
    }
   ],
   "source": [
    "mau = len(df_new[df_new['G3'] == \"Mau\"])                         #|Poor\"])\n",
    "med = len(df_new[df_new['G3'] == \"Med\"])                         #iocre|Poor\"])\n",
    "suf = len(df_new[df_new['G3'] == \"Suf\"])                         #iciente|sufficient\"])\n",
    "bom = len(df_new[df_new['G3'] == \"Bom\"])                         #|Good\"])\n",
    "muitobom = len(df_new[df_new['G3'] == \"Mui\"])                    #to Bom|Very Good\"])\n",
    "exc = len(df_new[df_new['G3'] == \"Exc\"])                         #elente|Excellent\"])\n",
    "muitobomdist = len(df_new[df_new['G3'] == \"Mui Dist\"])           #to bom con distincao e louvor|very good with distinction and honors\"])\n",
    "\n",
    "if(mau == num_mau):\n",
    "    print(\"The first bin has been created correctly.\")\n",
    "else:\n",
    "    print(\"The first bin has not been created correctly:\")\n",
    "    print(f\"mau = {mau}\\nnum_mau = {num_mau}\")\n",
    "    \n",
    "if(med == num_med):\n",
    "    print(\"\\nThe second bin has been created correctly.\")\n",
    "else:\n",
    "    print(\"\\nThe second bin has not been created correctly:\")\n",
    "    print(f\"med = {med}\\nnum_med = {num_med}\")\n",
    "    \n",
    "if(suf == num_suf):\n",
    "    print(\"\\nThe third bin has been created correctly.\")\n",
    "else:\n",
    "    print(\"\\nThe third bin has not been created correctly:\")\n",
    "    print(f\"suf = {suf}\\nnum_suf = {num_suf}\")\n",
    "    \n",
    "if(bom == num_bom):\n",
    "    print(\"\\nThe fourth bin has been created correctly.\")\n",
    "else:\n",
    "    print(\"\\nThe fourth bin has not been created correctly:\")\n",
    "    print(f\"bom = {bom}\\nnum_bom = {num_bom}\")\n",
    "    \n",
    "if(muitobom == num_muitobom):\n",
    "    print(\"\\nThe fifth bin has been created correctly.\")\n",
    "else:\n",
    "    print(\"\\nThe fifth bin has not been created correctly:\")\n",
    "    print(f\"muitobom = {muitobom}\\nnum_muitobom = {num_muitobom}\")\n",
    "    \n",
    "if(exc == num_exc):\n",
    "    print(\"\\nThe sixth bin has been created correctly.\")\n",
    "else:\n",
    "    print(\"\\nThe sixth bin has not been created correctly:\")\n",
    "    print(f\"exc = {exc}\\nnum_exc = {num_exc}\")\n",
    "    \n",
    "if(muitobomdist == num_muitobomdist):\n",
    "    print(\"\\nThe seventh bin has been created correctly.\")\n",
    "else:\n",
    "    print(\"\\nThe seventh bin has not been created correctly:\")\n",
    "    print(f\"muitobomdist = {muitobomdist}\\nnum_muitobomdist = {num_muitobomdist}\")"
   ]
  },
  {
   "cell_type": "markdown",
   "id": "cb2afa25",
   "metadata": {},
   "source": [
    "The last feature that should be discretized is `absences`:"
   ]
  },
  {
   "cell_type": "code",
   "execution_count": 12,
   "id": "8af03638",
   "metadata": {},
   "outputs": [
    {
     "data": {
      "text/plain": [
       "<AxesSubplot:>"
      ]
     },
     "execution_count": 12,
     "metadata": {},
     "output_type": "execute_result"
    },
    {
     "data": {
      "image/png": "[encoded data removed]",
      "text/plain": [
       "<Figure size 432x288 with 1 Axes>"
      ]
     },
     "metadata": {
      "needs_background": "light"
     },
     "output_type": "display_data"
    }
   ],
   "source": [
    "df_new['absences'].hist()"
   ]
  },
  {
   "cell_type": "markdown",
   "id": "9455ed70",
   "metadata": {},
   "source": [
    "By looking at the previous histogram, we decided to discretize the values of `absebces` as follows:\n",
    "\n",
    "- `0-10`\n",
    "- `11-20`\n",
    "- `21-30`\n",
    "- `+30`\n",
    "\n"
   ]
  },
  {
   "cell_type": "code",
   "execution_count": 13,
   "id": "bfc0a272",
   "metadata": {},
   "outputs": [],
   "source": [
    "ordered_labels = [\"0-10\",\"11-20\", \"21-30\", \"+30\"]\n",
    "\n",
    "df_new['absences'] = pd.cut(x = df_new['absences'], \n",
    "                            bins = [np.min(df_new['absences']),10,20,30,np.max(df_new['absences'])], \n",
    "                            labels = ordered_labels,\n",
    "                            right = True,\n",
    "                            include_lowest = True)\n",
    "\n",
    "df_new['absences'] = df_new['absences'].astype(str)\n",
    "\n"
   ]
  },
  {
   "cell_type": "markdown",
   "id": "9bdbb2bd",
   "metadata": {},
   "source": [
    "Let's observe the distribution of the discretized features represented on histograms and print the new dataset's structure:"
   ]
  },
  {
   "cell_type": "code",
   "execution_count": 14,
   "id": "92a57dbc",
   "metadata": {
    "scrolled": false
   },
   "outputs": [
    {
     "name": "stderr",
     "output_type": "stream",
     "text": [
      "<ipython-input-14-a64104267708>:11: UserWarning: Matplotlib is currently using module://ipykernel.pylab.backend_inline, which is a non-GUI backend, so cannot show the figure.\n",
      "  fig.show()\n"
     ]
    },
    {
     "data": {
      "image/png": "[encoded data removed]",
      "text/plain": [
       "<Figure size 1440x504 with 3 Axes>"
      ]
     },
     "metadata": {
      "needs_background": "light"
     },
     "output_type": "display_data"
    }
   ],
   "source": [
    "discretized = [df_new['age'], df_new['G3'], df_new['absences']]\n",
    "titles = [\"Age of the students\", \"Final grade of the students\", \"Number of absences of the students\"]\n",
    "\n",
    "fig, x = plt.subplots(1, len(discretized), figsize=(20, 7))\n",
    "\n",
    "for i in range(len(x)):\n",
    "    x[i].hist(discretized[i])\n",
    "    x[i].grid(True)\n",
    "    x[i].set_title(titles[i])\n",
    "\n",
    "fig.show()"
   ]
  },
  {
   "cell_type": "code",
   "execution_count": 15,
   "id": "6caa2c97",
   "metadata": {},
   "outputs": [
    {
     "name": "stdout",
     "output_type": "stream",
     "text": [
      "The preprocessed dataset has the following structure:\n",
      "\n",
      "Number of features per individual:\t17\n",
      "Number of individuals in the dataset:\t1044\n",
      "\n",
      "Columns names:\n",
      "\n",
      "0. sex\n",
      "1. age\n",
      "2. Pstatus\n",
      "3. Medu\n",
      "4. Fedu\n",
      "5. traveltime\n",
      "6. studytime\n",
      "7. failures\n",
      "8. schoolsup\n",
      "9. famsup\n",
      "10. paid\n",
      "11. famrel\n",
      "12. freetime\n",
      "13. Dalc\n",
      "14. health\n",
      "15. absences\n",
      "16. G3\n",
      "\n",
      "Representation of the first five individuals of the dataset:\n"
     ]
    },
    {
     "data": {
      "text/html": [
       "<div>\n",
       "<style scoped>\n",
       "    .dataframe tbody tr th:only-of-type {\n",
       "        vertical-align: middle;\n",
       "    }\n",
       "\n",
       "    .dataframe tbody tr th {\n",
       "        vertical-align: top;\n",
       "    }\n",
       "\n",
       "    .dataframe thead th {\n",
       "        text-align: right;\n",
       "    }\n",
       "</style>\n",
       "<table border=\"1\" class=\"dataframe\">\n",
       "  <thead>\n",
       "    <tr style=\"text-align: right;\">\n",
       "      <th></th>\n",
       "      <th>sex</th>\n",
       "      <th>age</th>\n",
       "      <th>Pstatus</th>\n",
       "      <th>Medu</th>\n",
       "      <th>Fedu</th>\n",
       "      <th>traveltime</th>\n",
       "      <th>studytime</th>\n",
       "      <th>failures</th>\n",
       "      <th>schoolsup</th>\n",
       "      <th>famsup</th>\n",
       "      <th>paid</th>\n",
       "      <th>famrel</th>\n",
       "      <th>freetime</th>\n",
       "      <th>Dalc</th>\n",
       "      <th>health</th>\n",
       "      <th>absences</th>\n",
       "      <th>G3</th>\n",
       "    </tr>\n",
       "  </thead>\n",
       "  <tbody>\n",
       "    <tr>\n",
       "      <th>0</th>\n",
       "      <td>F</td>\n",
       "      <td>18-19</td>\n",
       "      <td>A</td>\n",
       "      <td>4</td>\n",
       "      <td>4</td>\n",
       "      <td>2</td>\n",
       "      <td>2</td>\n",
       "      <td>0</td>\n",
       "      <td>yes</td>\n",
       "      <td>no</td>\n",
       "      <td>no</td>\n",
       "      <td>4</td>\n",
       "      <td>3</td>\n",
       "      <td>1</td>\n",
       "      <td>3</td>\n",
       "      <td>0-10</td>\n",
       "      <td>Mau</td>\n",
       "    </tr>\n",
       "    <tr>\n",
       "      <th>1</th>\n",
       "      <td>F</td>\n",
       "      <td>15-17</td>\n",
       "      <td>T</td>\n",
       "      <td>1</td>\n",
       "      <td>1</td>\n",
       "      <td>1</td>\n",
       "      <td>2</td>\n",
       "      <td>0</td>\n",
       "      <td>no</td>\n",
       "      <td>yes</td>\n",
       "      <td>no</td>\n",
       "      <td>5</td>\n",
       "      <td>3</td>\n",
       "      <td>1</td>\n",
       "      <td>3</td>\n",
       "      <td>0-10</td>\n",
       "      <td>Mau</td>\n",
       "    </tr>\n",
       "    <tr>\n",
       "      <th>2</th>\n",
       "      <td>F</td>\n",
       "      <td>15-17</td>\n",
       "      <td>T</td>\n",
       "      <td>1</td>\n",
       "      <td>1</td>\n",
       "      <td>1</td>\n",
       "      <td>2</td>\n",
       "      <td>3</td>\n",
       "      <td>yes</td>\n",
       "      <td>no</td>\n",
       "      <td>yes</td>\n",
       "      <td>4</td>\n",
       "      <td>3</td>\n",
       "      <td>2</td>\n",
       "      <td>3</td>\n",
       "      <td>0-10</td>\n",
       "      <td>Suf</td>\n",
       "    </tr>\n",
       "    <tr>\n",
       "      <th>3</th>\n",
       "      <td>F</td>\n",
       "      <td>15-17</td>\n",
       "      <td>T</td>\n",
       "      <td>4</td>\n",
       "      <td>2</td>\n",
       "      <td>1</td>\n",
       "      <td>3</td>\n",
       "      <td>0</td>\n",
       "      <td>no</td>\n",
       "      <td>yes</td>\n",
       "      <td>yes</td>\n",
       "      <td>3</td>\n",
       "      <td>2</td>\n",
       "      <td>1</td>\n",
       "      <td>5</td>\n",
       "      <td>0-10</td>\n",
       "      <td>Bom</td>\n",
       "    </tr>\n",
       "    <tr>\n",
       "      <th>4</th>\n",
       "      <td>F</td>\n",
       "      <td>15-17</td>\n",
       "      <td>T</td>\n",
       "      <td>3</td>\n",
       "      <td>3</td>\n",
       "      <td>1</td>\n",
       "      <td>2</td>\n",
       "      <td>0</td>\n",
       "      <td>no</td>\n",
       "      <td>yes</td>\n",
       "      <td>yes</td>\n",
       "      <td>4</td>\n",
       "      <td>3</td>\n",
       "      <td>1</td>\n",
       "      <td>5</td>\n",
       "      <td>0-10</td>\n",
       "      <td>Suf</td>\n",
       "    </tr>\n",
       "  </tbody>\n",
       "</table>\n",
       "</div>"
      ],
      "text/plain": [
       "  sex    age Pstatus  Medu  Fedu  traveltime  studytime  failures schoolsup  \\\n",
       "0   F  18-19       A     4     4           2          2         0       yes   \n",
       "1   F  15-17       T     1     1           1          2         0        no   \n",
       "2   F  15-17       T     1     1           1          2         3       yes   \n",
       "3   F  15-17       T     4     2           1          3         0        no   \n",
       "4   F  15-17       T     3     3           1          2         0        no   \n",
       "\n",
       "  famsup paid  famrel  freetime  Dalc  health absences   G3  \n",
       "0     no   no       4         3     1       3     0-10  Mau  \n",
       "1    yes   no       5         3     1       3     0-10  Mau  \n",
       "2     no  yes       4         3     2       3     0-10  Suf  \n",
       "3    yes  yes       3         2     1       5     0-10  Bom  \n",
       "4    yes  yes       4         3     1       5     0-10  Suf  "
      ]
     },
     "execution_count": 15,
     "metadata": {},
     "output_type": "execute_result"
    }
   ],
   "source": [
    "#Preprocessed dataset's structure info:\n",
    "print(\"The preprocessed dataset has the following structure:\\n\")\n",
    "print(f\"Number of features per individual:\\t{len(df_new.columns)}\")\n",
    "print(f\"Number of individuals in the dataset:\\t{len(df_new)}\")\n",
    "print(f\"\\nColumns names:\\n\")\n",
    "\n",
    "for i in range(len(df_new.columns)):\n",
    "    print(f\"{i}. {df_new.columns[i]}\")\n",
    "\n",
    "print(\"\\nRepresentation of the first five individuals of the dataset:\")\n",
    "df_new.head()"
   ]
  },
  {
   "cell_type": "markdown",
   "id": "7e779a7f",
   "metadata": {},
   "source": [
    "## 2. Data Exploration\n",
    "\n",
    "In order to build our Bayesian Network, we must analyze the relationships between each pair of features. In this way, we are able to formulate the correct inferences. \n",
    "\n",
    "\n",
    "In our opinion, the features that directly influence the curricular performance of a students are the following:\n",
    "\n"
   ]
  },
  {
   "cell_type": "markdown",
   "id": "39808710",
   "metadata": {},
   "source": [
    "## 3. Bayesian Network\n",
    "\n",
    "Given the considerations made in the previous section, we are now able to build our Bayesian network with the correct relations."
   ]
  },
  {
   "cell_type": "code",
   "execution_count": 46,
   "id": "619b08fb",
   "metadata": {},
   "outputs": [
    {
     "data": {
      "text/plain": [
       "'\\n\\n\\npgm = PGM(shape=[15, 8],aspect=1.25, node_unit=1.5)\\n\\npgm.add_node(daft.Node(\\'sex\\', r\"sex\", 1, 8))\\npgm.add_node(daft.Node(\\'age\\', r\"age\", 2, 8))\\npgm.add_node(daft.Node(\\'Medu\\', r\"Medu\", 4, 8))\\npgm.add_node(daft.Node(\\'Fedu\\', r\"Fedu\", 5, 8))\\npgm.add_node(daft.Node(\\'travelT\\', r\"travelT\", 7, 8))\\npgm.add_node(daft.Node(\\'freetime\\', r\"freetime\", 8, 8))\\npgm.add_node(daft.Node(\\'paid\\', r\"paid\", 10, 8))\\npgm.add_node(daft.Node(\\'famrel\\', r\"famrel\", 11, 8))\\npgm.add_node(daft.Node(\\'schoolSup\\', r\"schoolSup\", 12, 8))\\npgm.add_node(daft.Node(\\'Dalc\\', r\"Dalc\", 13, 8))\\npgm.add_node(daft.Node(\\'health\\', r\"health\", 14, 8))\\npgm.add_node(daft.Node(\\'absences\\', r\"absences\", 15, 8))\\n\\n\\npgm.add_node(daft.Node(\\'famSup\\', r\"famSup\", 5, 6))\\n\\npgm.add_node(daft.Node(\\'studyT\\', r\"studyT\", 8, 5))\\n\\npgm.add_node(daft.Node(\\'failures\\', r\"failures\", 12, 4))\\n\\n\\npgm.add_node(daft.Node(\\'Grade\\', r\"Grade\", 8, 1))\\n\\npgm.add_edge(\\'Medu\\', \\'famSup\\')\\npgm.add_edge(\\'Fedu\\', \\'famSup\\')\\n\\n\\n\\n\\n\\npgm.add_edge(\\'travelT\\', \\'studyT\\')\\npgm.add_edge(\\'famSup\\', \\'studyT\\')\\n\\npgm.add_edge(\\'freetime\\', \\'studyT\\')\\n\\n\\n\\npgm.add_edge(\\'studyT\\', \\'failures\\')\\npgm.add_edge(\\'schoolSup\\', \\'failures\\')\\npgm.add_edge(\\'paid\\', \\'failures\\')\\npgm.add_edge(\\'health\\', \\'failures\\')\\npgm.add_edge(\\'famrel\\', \\'failures\\')\\npgm.add_edge(\\'Dalc\\', \\'failures\\')\\npgm.add_edge(\\'absences\\', \\'failures\\')\\n\\n\\n\\npgm.add_edge(\\'sex\\', \\'Grade\\')\\npgm.add_edge(\\'famSup\\', \\'Grade\\')\\npgm.add_edge(\\'studyT\\', \\'Grade\\')\\npgm.add_edge(\\'failures\\', \\'Grade\\')\\npgm.add_edge(\\'age\\', \\'Grade\\')\\n\\n\\n\\n\\npgm.render()\\nplt.show()\\n\\n\\n'"
      ]
     },
     "execution_count": 46,
     "metadata": {},
     "output_type": "execute_result"
    }
   ],
   "source": [
    "'''\n",
    "\n",
    "\n",
    "pgm = PGM(shape=[15, 8],aspect=1.25, node_unit=1.5)\n",
    "\n",
    "pgm.add_node(daft.Node('sex', r\"sex\", 1, 8))\n",
    "pgm.add_node(daft.Node('age', r\"age\", 2, 8))\n",
    "pgm.add_node(daft.Node('Medu', r\"Medu\", 4, 8))\n",
    "pgm.add_node(daft.Node('Fedu', r\"Fedu\", 5, 8))\n",
    "pgm.add_node(daft.Node('travelT', r\"travelT\", 7, 8))\n",
    "pgm.add_node(daft.Node('freetime', r\"freetime\", 8, 8))\n",
    "pgm.add_node(daft.Node('paid', r\"paid\", 10, 8))\n",
    "pgm.add_node(daft.Node('famrel', r\"famrel\", 11, 8))\n",
    "pgm.add_node(daft.Node('schoolSup', r\"schoolSup\", 12, 8))\n",
    "pgm.add_node(daft.Node('Dalc', r\"Dalc\", 13, 8))\n",
    "pgm.add_node(daft.Node('health', r\"health\", 14, 8))\n",
    "pgm.add_node(daft.Node('absences', r\"absences\", 15, 8))\n",
    "\n",
    "\n",
    "pgm.add_node(daft.Node('famSup', r\"famSup\", 5, 6))\n",
    "\n",
    "pgm.add_node(daft.Node('studyT', r\"studyT\", 8, 5))\n",
    "\n",
    "pgm.add_node(daft.Node('failures', r\"failures\", 12, 4))\n",
    "\n",
    "\n",
    "pgm.add_node(daft.Node('Grade', r\"Grade\", 8, 1))\n",
    "\n",
    "pgm.add_edge('Medu', 'famSup')\n",
    "pgm.add_edge('Fedu', 'famSup')\n",
    "\n",
    "\n",
    "\n",
    "\n",
    "\n",
    "pgm.add_edge('travelT', 'studyT')\n",
    "pgm.add_edge('famSup', 'studyT')\n",
    "\n",
    "pgm.add_edge('freetime', 'studyT')\n",
    "\n",
    "\n",
    "\n",
    "pgm.add_edge('studyT', 'failures')\n",
    "pgm.add_edge('schoolSup', 'failures')\n",
    "pgm.add_edge('paid', 'failures')\n",
    "pgm.add_edge('health', 'failures')\n",
    "pgm.add_edge('famrel', 'failures')\n",
    "pgm.add_edge('Dalc', 'failures')\n",
    "pgm.add_edge('absences', 'failures')\n",
    "\n",
    "\n",
    "\n",
    "pgm.add_edge('sex', 'Grade')\n",
    "pgm.add_edge('famSup', 'Grade')\n",
    "pgm.add_edge('studyT', 'Grade')\n",
    "pgm.add_edge('failures', 'Grade')\n",
    "pgm.add_edge('age', 'Grade')\n",
    "\n",
    "\n",
    "\n",
    "\n",
    "pgm.render()\n",
    "plt.show()\n",
    "\n",
    "\n",
    "'''"
   ]
  },
  {
   "cell_type": "markdown",
   "id": "ce39fbb6",
   "metadata": {},
   "source": [
    "## Network\n",
    "\n",
    "A graphical preliminary overview of the network:\n",
    "\n",
    "- sex  \n",
    "- age  \n",
    "- address      \n",
    "- famsize \n",
    "- Pstatus \n",
    "- Medu \n",
    "- Fedu    \n",
    "- Mjob     \n",
    "- Fjob     \n",
    "- reason     \n",
    "- guardian      \n",
    "- traveltime     \n",
    "- studytime   \n",
    "- failures     \n",
    "- schoolsup\n",
    "- famsup\n",
    "- paid    \n",
    "- activities     \n",
    "- nursery    \n",
    "- higher   \n",
    "- internet\t               \n",
    "- famrel        \n",
    "- freetime                \n",
    "- Dalc              \n",
    "- health        \n",
    "- absences\n",
    "\n"
   ]
  },
  {
   "cell_type": "code",
   "execution_count": 47,
   "id": "406efeb4",
   "metadata": {},
   "outputs": [
    {
     "data": {
      "image/png": "[encoded data removed]",
      "text/plain": [
       "<Figure size 1080x576 with 1 Axes>"
      ]
     },
     "metadata": {},
     "output_type": "display_data"
    }
   ],
   "source": [
    "model = BayesianNetwork([\n",
    "                        # node to famrel\n",
    "                         ('Pstatus','famrel'),\n",
    "    \n",
    "                          # node to famsup\n",
    "                         ('famrel','famsup'),\n",
    "                         ('Medu','famsup'),\n",
    "                         ('Fedu','famsup'),\n",
    "    \n",
    "                         # node to studytime\n",
    "                         ('Dalc','studytime'),\n",
    "                         ('famsup','studytime'),\n",
    "                         ('traveltime','studytime'),\n",
    "                         ('freetime','studytime'),\n",
    "                         ('health','studytime'),\n",
    "                        \n",
    "                         # node to paid \n",
    "                         ('famsup','paid'),\n",
    "                        \n",
    "                        # node to G3 \n",
    "                         ('sex','G3'),   \n",
    "                         ('age','G3'),\n",
    "                         ('paid','G3'),\n",
    "                         ('famsup','G3'),\n",
    "                         ('studytime','G3'),\n",
    "                         ('absences','G3'),\n",
    "                        \n",
    "\n",
    "])\n",
    "\n",
    "\n",
    "#Nodes Coordinates:\n",
    "\n",
    "pos={\"sex\": (1,4), \n",
    "     \"age\": (1,5),  \n",
    "     \"Pstatus\": (3,6),   #Non c'è nel network\n",
    "     \"Medu\": (4,6),\n",
    "     \"Fedu\": (5,6), \n",
    "     \n",
    "     \"Dalc\": (6,6),\n",
    "     \"traveltime\": (7,6),  \n",
    "     \"studytime\": (7,5),\n",
    "     \"freetime\": (8,6),\n",
    "     \"health\": (9,6),\n",
    "     \n",
    "     \"famsup\": (5,5),  \n",
    "     \"paid\": (4,4),  \n",
    "     \"famrel\": (3,5),  \n",
    "     \"schoolsup\": (2,4),\n",
    "   \n",
    "       \n",
    "      \n",
    "     \"absences\": (1,3), \n",
    "     \"G3\": (5,0)\n",
    "     }\n",
    "\n",
    "# Graphical options\n",
    "options = {\n",
    "    'node_color': 'orange',\n",
    "    'node_size': 3700,\n",
    "    'width': 2,\n",
    "    \n",
    "    \n",
    "}     \n",
    "        \n",
    "plt.figure(figsize=(15,8))\n",
    "nx.draw(model, pos=pos, with_labels=True, **options)\n",
    "\n",
    "\n",
    "plt.show()"
   ]
  },
  {
   "cell_type": "code",
   "execution_count": 18,
   "id": "65920840",
   "metadata": {},
   "outputs": [
    {
     "data": {
      "text/plain": [
       "NodeView(('Pstatus', 'famrel', 'famsup', 'Medu', 'Fedu', 'studytime', 'traveltime', 'freetime', 'health', 'paid', 'sex', 'G3', 'age', 'absences'))"
      ]
     },
     "execution_count": 18,
     "metadata": {},
     "output_type": "execute_result"
    }
   ],
   "source": [
    "model.nodes()  #printa tutti i nodi"
   ]
  },
  {
   "cell_type": "code",
   "execution_count": 19,
   "id": "f98f5bb3",
   "metadata": {
    "scrolled": false
   },
   "outputs": [
    {
     "name": "stdout",
     "output_type": "stream",
     "text": [
      "CPT of Pstatus:\n",
      "+------------+----------+\n",
      "| Pstatus(A) | 0.117731 |\n",
      "+------------+----------+\n",
      "| Pstatus(T) | 0.882269 |\n",
      "+------------+----------+ \n",
      "\n",
      "CPT of famrel:\n",
      "+-----------+---------------------+----------------------+\n",
      "| Pstatus   | Pstatus(A)          | Pstatus(T)           |\n",
      "+-----------+---------------------+----------------------+\n",
      "| famrel(1) | 0.06072874493927125 | 0.025391680172879523 |\n",
      "+-----------+---------------------+----------------------+\n",
      "| famrel(2) | 0.07692307692307693 | 0.041599135602377095 |\n",
      "+-----------+---------------------+----------------------+\n",
      "| famrel(3) | 0.1417004048582996  | 0.1647757968665586   |\n",
      "+-----------+---------------------+----------------------+\n",
      "| famrel(4) | 0.4331983805668016  | 0.49648838465694217  |\n",
      "+-----------+---------------------+----------------------+\n",
      "| famrel(5) | 0.2874493927125506  | 0.2717450027012426   |\n",
      "+-----------+---------------------+----------------------+ \n",
      "\n",
      "CPT of famsup:\n",
      "+-------------+-----------+-----------+-----------+-----+---------------------+--------------------+\n",
      "| Fedu        | Fedu(0)   | Fedu(0)   | Fedu(0)   | ... | Fedu(4)             | Fedu(4)            |\n",
      "+-------------+-----------+-----------+-----------+-----+---------------------+--------------------+\n",
      "| Medu        | Medu(0)   | Medu(0)   | Medu(0)   | ... | Medu(4)             | Medu(4)            |\n",
      "+-------------+-----------+-----------+-----------+-----+---------------------+--------------------+\n",
      "| famrel      | famrel(1) | famrel(2) | famrel(3) | ... | famrel(4)           | famrel(5)          |\n",
      "+-------------+-----------+-----------+-----------+-----+---------------------+--------------------+\n",
      "| famsup(no)  | 0.5       | 0.5       | 0.5       | ... | 0.23090722706304456 | 0.2956403269754768 |\n",
      "+-------------+-----------+-----------+-----------+-----+---------------------+--------------------+\n",
      "| famsup(yes) | 0.5       | 0.5       | 0.5       | ... | 0.7690927729369554  | 0.7043596730245232 |\n",
      "+-------------+-----------+-----------+-----------+-----+---------------------+--------------------+ \n",
      "\n",
      "CPT of Medu:\n",
      "+---------+------------+\n",
      "| Medu(0) | 0.00953289 |\n",
      "+---------+------------+\n",
      "| Medu(1) | 0.193518   |\n",
      "+---------+------------+\n",
      "| Medu(2) | 0.276454   |\n",
      "+---------+------------+\n",
      "| Medu(3) | 0.227836   |\n",
      "+---------+------------+\n",
      "| Medu(4) | 0.29266    |\n",
      "+---------+------------+ \n",
      "\n",
      "CPT of Fedu:\n",
      "+---------+------------+\n",
      "| Fedu(0) | 0.00953289 |\n",
      "+---------+------------+\n",
      "| Fedu(1) | 0.244995   |\n",
      "+---------+------------+\n",
      "| Fedu(2) | 0.309819   |\n",
      "+---------+------------+\n",
      "| Fedu(3) | 0.221163   |\n",
      "+---------+------------+\n",
      "| Fedu(4) | 0.21449    |\n",
      "+---------+------------+ \n",
      "\n",
      "CPT of studytime:\n",
      "+--------------+----------------------+-----+----------------------+----------------------+\n",
      "| famsup       | famsup(no)           | ... | famsup(yes)          | famsup(yes)          |\n",
      "+--------------+----------------------+-----+----------------------+----------------------+\n",
      "| freetime     | freetime(1)          | ... | freetime(5)          | freetime(5)          |\n",
      "+--------------+----------------------+-----+----------------------+----------------------+\n",
      "| health       | health(1)            | ... | health(5)            | health(5)            |\n",
      "+--------------+----------------------+-----+----------------------+----------------------+\n",
      "| traveltime   | traveltime(1)        | ... | traveltime(3)        | traveltime(4)        |\n",
      "+--------------+----------------------+-----+----------------------+----------------------+\n",
      "| studytime(1) | 0.33264462809917356  | ... | 0.006097560975609755 | 0.993801652892562    |\n",
      "+--------------+----------------------+-----+----------------------+----------------------+\n",
      "| studytime(2) | 0.6632231404958677   | ... | 0.9817073170731705   | 0.002066115702479339 |\n",
      "+--------------+----------------------+-----+----------------------+----------------------+\n",
      "| studytime(3) | 0.002066115702479339 | ... | 0.006097560975609755 | 0.002066115702479339 |\n",
      "+--------------+----------------------+-----+----------------------+----------------------+\n",
      "| studytime(4) | 0.002066115702479339 | ... | 0.006097560975609755 | 0.002066115702479339 |\n",
      "+--------------+----------------------+-----+----------------------+----------------------+ \n",
      "\n",
      "CPT of traveltime:\n",
      "+---------------+-----------+\n",
      "| traveltime(1) | 0.595091  |\n",
      "+---------------+-----------+\n",
      "| traveltime(2) | 0.306244  |\n",
      "+---------------+-----------+\n",
      "| traveltime(3) | 0.0745949 |\n",
      "+---------------+-----------+\n",
      "| traveltime(4) | 0.0240705 |\n",
      "+---------------+-----------+ \n",
      "\n",
      "CPT of freetime:\n",
      "+-------------+-----------+\n",
      "| freetime(1) | 0.0619638 |\n",
      "+-------------+-----------+\n",
      "| freetime(2) | 0.163966  |\n",
      "+-------------+-----------+\n",
      "| freetime(3) | 0.389895  |\n",
      "+-------------+-----------+\n",
      "| freetime(4) | 0.280267  |\n",
      "+-------------+-----------+\n",
      "| freetime(5) | 0.103908  |\n",
      "+-------------+-----------+ \n",
      "\n",
      "CPT of health:\n",
      "+-----------+----------+\n",
      "| health(1) | 0.131554 |\n",
      "+-----------+----------+\n",
      "| health(2) | 0.118208 |\n",
      "+-----------+----------+\n",
      "| health(3) | 0.20591  |\n",
      "+-----------+----------+\n",
      "| health(4) | 0.166826 |\n",
      "+-----------+----------+\n",
      "| health(5) | 0.377502 |\n",
      "+-----------+----------+ \n",
      "\n",
      "CPT of paid:\n",
      "+-----------+---------------------+---------------------+\n",
      "| famsup    | famsup(no)          | famsup(yes)         |\n",
      "+-----------+---------------------+---------------------+\n",
      "| paid(no)  | 0.8739237392373924  | 0.7334630350194552  |\n",
      "+-----------+---------------------+---------------------+\n",
      "| paid(yes) | 0.12607626076260764 | 0.26653696498054474 |\n",
      "+-----------+---------------------+---------------------+ \n",
      "\n",
      "CPT of sex:\n",
      "+--------+----------+\n",
      "| sex(F) | 0.565777 |\n",
      "+--------+----------+\n",
      "| sex(M) | 0.434223 |\n",
      "+--------+----------+ \n",
      "\n",
      "CPT of G3:\n",
      "+--------------+---------------------+-----+---------------------+---------------------+\n",
      "| absences     | absences(+30)       | ... | absences(21-30)     | absences(21-30)     |\n",
      "+--------------+---------------------+-----+---------------------+---------------------+\n",
      "| age          | age(15-17)          | ... | age(20-22)          | age(20-22)          |\n",
      "+--------------+---------------------+-----+---------------------+---------------------+\n",
      "| famsup       | famsup(no)          | ... | famsup(yes)         | famsup(yes)         |\n",
      "+--------------+---------------------+-----+---------------------+---------------------+\n",
      "| paid         | paid(no)            | ... | paid(yes)           | paid(yes)           |\n",
      "+--------------+---------------------+-----+---------------------+---------------------+\n",
      "| sex          | sex(F)              | ... | sex(M)              | sex(M)              |\n",
      "+--------------+---------------------+-----+---------------------+---------------------+\n",
      "| studytime    | studytime(1)        | ... | studytime(3)        | studytime(4)        |\n",
      "+--------------+---------------------+-----+---------------------+---------------------+\n",
      "| G3(Bom)      | 0.14285714285714285 | ... | 0.14285714285714285 | 0.14285714285714285 |\n",
      "+--------------+---------------------+-----+---------------------+---------------------+\n",
      "| G3(Exc)      | 0.14285714285714285 | ... | 0.14285714285714285 | 0.14285714285714285 |\n",
      "+--------------+---------------------+-----+---------------------+---------------------+\n",
      "| G3(Mau)      | 0.14285714285714285 | ... | 0.14285714285714285 | 0.14285714285714285 |\n",
      "+--------------+---------------------+-----+---------------------+---------------------+\n",
      "| G3(Med)      | 0.14285714285714285 | ... | 0.14285714285714285 | 0.14285714285714285 |\n",
      "+--------------+---------------------+-----+---------------------+---------------------+\n",
      "| G3(Mui)      | 0.14285714285714285 | ... | 0.14285714285714285 | 0.14285714285714285 |\n",
      "+--------------+---------------------+-----+---------------------+---------------------+\n",
      "| G3(Mui Dist) | 0.14285714285714285 | ... | 0.14285714285714285 | 0.14285714285714285 |\n",
      "+--------------+---------------------+-----+---------------------+---------------------+\n",
      "| G3(Suf)      | 0.14285714285714285 | ... | 0.14285714285714285 | 0.14285714285714285 |\n",
      "+--------------+---------------------+-----+---------------------+---------------------+ \n",
      "\n",
      "CPT of age:\n",
      "+------------+-----------+\n",
      "| age(15-17) | 0.718462  |\n",
      "+------------+-----------+\n",
      "| age(18-19) | 0.266603  |\n",
      "+------------+-----------+\n",
      "| age(20-22) | 0.0149349 |\n",
      "+------------+-----------+ \n",
      "\n",
      "CPT of absences:\n",
      "+-----------------+------------+\n",
      "| absences(+30)   | 0.00691134 |\n",
      "+-----------------+------------+\n",
      "| absences(0-10)  | 0.886797   |\n",
      "+-----------------+------------+\n",
      "| absences(11-20) | 0.0888942  |\n",
      "+-----------------+------------+\n",
      "| absences(21-30) | 0.0173975  |\n",
      "+-----------------+------------+ \n",
      "\n"
     ]
    }
   ],
   "source": [
    "model.cpds = [] #inizializzo l'array che contiene le tabular (vedere meglio)\n",
    "\n",
    "model.fit(data=df_new,                          #usa il dataframe per allenare il modello\n",
    "          estimator=BayesianEstimator, \n",
    "          prior_type=\"BDeu\")\n",
    "\n",
    "for cpd in model.get_cpds():\n",
    "    print(f'CPT of {cpd.variable}:')\n",
    "    print(cpd, '\\n')"
   ]
  },
  {
   "cell_type": "code",
   "execution_count": 20,
   "id": "c61e7dce",
   "metadata": {},
   "outputs": [
    {
     "data": {
      "text/plain": [
       "True"
      ]
     },
     "execution_count": 20,
     "metadata": {},
     "output_type": "execute_result"
    }
   ],
   "source": [
    "# Checking the validity of the model \n",
    "# This method checks if the sum of the probabilities for each state is equal to 1 (tol=0.01) and if the CPDs associated with nodes are consistent with their parents.\n",
    "model.check_model()   #per essere sicuri "
   ]
  },
  {
   "cell_type": "code",
   "execution_count": 21,
   "id": "97649ccf",
   "metadata": {},
   "outputs": [
    {
     "data": {
      "text/plain": [
       "defaultdict(int,\n",
       "            {'Pstatus': 2,\n",
       "             'famrel': 5,\n",
       "             'famsup': 2,\n",
       "             'Medu': 5,\n",
       "             'Fedu': 5,\n",
       "             'studytime': 4,\n",
       "             'traveltime': 4,\n",
       "             'freetime': 5,\n",
       "             'health': 5,\n",
       "             'paid': 2,\n",
       "             'sex': 2,\n",
       "             'G3': 7,\n",
       "             'age': 3,\n",
       "             'absences': 4})"
      ]
     },
     "execution_count": 21,
     "metadata": {},
     "output_type": "execute_result"
    }
   ],
   "source": [
    "#Cardinality of all model nodes\n",
    "model.get_cardinality()"
   ]
  },
  {
   "cell_type": "markdown",
   "id": "a7d1e0dc",
   "metadata": {},
   "source": [
    "### Exact Inference"
   ]
  },
  {
   "cell_type": "markdown",
   "id": "be5cc371",
   "metadata": {},
   "source": [
    "Exact Inference in pgmpy is implemented through the Variable Elimination Method and Belief Propagation rather than with simple enumeration; being one of the purpouses of this work exploring topics seen in class, the former is choosen.\n",
    "\n",
    "Causal inference analyzes the response of an effect variable when a cause of the effect variable is changed."
   ]
  },
  {
   "cell_type": "code",
   "execution_count": 22,
   "id": "bfcc3eb5",
   "metadata": {},
   "outputs": [],
   "source": [
    "from pgmpy.inference import VariableElimination\n",
    "\n",
    "infer = VariableElimination(model)  #"
   ]
  },
  {
   "cell_type": "code",
   "execution_count": 23,
   "id": "5a868acc",
   "metadata": {},
   "outputs": [
    {
     "data": {
      "application/vnd.jupyter.widget-view+json": {
       "model_id": "156af182d04b450cbffc9a33d97b88c1",
       "version_major": 2,
       "version_minor": 0
      },
      "text/plain": [
       "  0%|          | 0/11 [00:00<?, ?it/s]"
      ]
     },
     "metadata": {},
     "output_type": "display_data"
    },
    {
     "data": {
      "application/vnd.jupyter.widget-view+json": {
       "model_id": "3fba947521404bb38906bbdfa908d9ea",
       "version_major": 2,
       "version_minor": 0
      },
      "text/plain": [
       "  0%|          | 0/11 [00:00<?, ?it/s]"
      ]
     },
     "metadata": {},
     "output_type": "display_data"
    },
    {
     "name": "stdout",
     "output_type": "stream",
     "text": [
      "+--------------+-----------+\n",
      "| G3           |   phi(G3) |\n",
      "+==============+===========+\n",
      "| G3(Bom)      |    0.2034 |\n",
      "+--------------+-----------+\n",
      "| G3(Exc)      |    0.0212 |\n",
      "+--------------+-----------+\n",
      "| G3(Mau)      |    0.1153 |\n",
      "+--------------+-----------+\n",
      "| G3(Med)      |    0.1467 |\n",
      "+--------------+-----------+\n",
      "| G3(Mui)      |    0.1066 |\n",
      "+--------------+-----------+\n",
      "| G3(Mui Dist) |    0.0109 |\n",
      "+--------------+-----------+\n",
      "| G3(Suf)      |    0.3959 |\n",
      "+--------------+-----------+\n"
     ]
    }
   ],
   "source": [
    "print(infer.query([\"G3\"],evidence={\"sex\": 'M',\"age\": '18-19'})) "
   ]
  },
  {
   "cell_type": "code",
   "execution_count": 24,
   "id": "82d4f48c",
   "metadata": {},
   "outputs": [
    {
     "data": {
      "application/vnd.jupyter.widget-view+json": {
       "model_id": "c9b0ee037b484c1dbf73a4411edbaf76",
       "version_major": 2,
       "version_minor": 0
      },
      "text/plain": [
       "  0%|          | 0/11 [00:00<?, ?it/s]"
      ]
     },
     "metadata": {},
     "output_type": "display_data"
    },
    {
     "data": {
      "application/vnd.jupyter.widget-view+json": {
       "model_id": "ecb31f38076542e7a40a61768ce11d11",
       "version_major": 2,
       "version_minor": 0
      },
      "text/plain": [
       "  0%|          | 0/11 [00:00<?, ?it/s]"
      ]
     },
     "metadata": {},
     "output_type": "display_data"
    },
    {
     "name": "stdout",
     "output_type": "stream",
     "text": [
      "+--------------+-----------+\n",
      "| G3           |   phi(G3) |\n",
      "+==============+===========+\n",
      "| G3(Bom)      |    0.1343 |\n",
      "+--------------+-----------+\n",
      "| G3(Exc)      |    0.0379 |\n",
      "+--------------+-----------+\n",
      "| G3(Mau)      |    0.1772 |\n",
      "+--------------+-----------+\n",
      "| G3(Med)      |    0.1416 |\n",
      "+--------------+-----------+\n",
      "| G3(Mui)      |    0.0663 |\n",
      "+--------------+-----------+\n",
      "| G3(Mui Dist) |    0.0107 |\n",
      "+--------------+-----------+\n",
      "| G3(Suf)      |    0.4319 |\n",
      "+--------------+-----------+\n"
     ]
    }
   ],
   "source": [
    "print(infer.query([\"G3\"],evidence={\"sex\": 'F',\"age\": '18-19'})) "
   ]
  },
  {
   "cell_type": "code",
   "execution_count": 25,
   "id": "9e8227eb",
   "metadata": {},
   "outputs": [
    {
     "data": {
      "application/vnd.jupyter.widget-view+json": {
       "model_id": "4b7a4be02b9d4a72aeb9902af1a11ae4",
       "version_major": 2,
       "version_minor": 0
      },
      "text/plain": [
       "  0%|          | 0/11 [00:00<?, ?it/s]"
      ]
     },
     "metadata": {},
     "output_type": "display_data"
    },
    {
     "data": {
      "application/vnd.jupyter.widget-view+json": {
       "model_id": "5fc05e806be84b72a3c7224d15f2053b",
       "version_major": 2,
       "version_minor": 0
      },
      "text/plain": [
       "  0%|          | 0/11 [00:00<?, ?it/s]"
      ]
     },
     "metadata": {},
     "output_type": "display_data"
    },
    {
     "name": "stdout",
     "output_type": "stream",
     "text": [
      "+--------------+-----------+\n",
      "| G3           |   phi(G3) |\n",
      "+==============+===========+\n",
      "| G3(Bom)      |    0.1673 |\n",
      "+--------------+-----------+\n",
      "| G3(Exc)      |    0.0395 |\n",
      "+--------------+-----------+\n",
      "| G3(Mau)      |    0.0826 |\n",
      "+--------------+-----------+\n",
      "| G3(Med)      |    0.1293 |\n",
      "+--------------+-----------+\n",
      "| G3(Mui)      |    0.0922 |\n",
      "+--------------+-----------+\n",
      "| G3(Mui Dist) |    0.0093 |\n",
      "+--------------+-----------+\n",
      "| G3(Suf)      |    0.4798 |\n",
      "+--------------+-----------+\n"
     ]
    }
   ],
   "source": [
    "print(infer.query([\"G3\"],evidence={\"Medu\": 4,\"Fedu\": 4})) "
   ]
  },
  {
   "cell_type": "code",
   "execution_count": 26,
   "id": "0d1fa52d",
   "metadata": {},
   "outputs": [
    {
     "data": {
      "application/vnd.jupyter.widget-view+json": {
       "model_id": "28a0c146c32a41cebd80c1c004c87d60",
       "version_major": 2,
       "version_minor": 0
      },
      "text/plain": [
       "  0%|          | 0/11 [00:00<?, ?it/s]"
      ]
     },
     "metadata": {},
     "output_type": "display_data"
    },
    {
     "data": {
      "application/vnd.jupyter.widget-view+json": {
       "model_id": "eb83cc7de5e94629aa4359eb4cd96a35",
       "version_major": 2,
       "version_minor": 0
      },
      "text/plain": [
       "  0%|          | 0/11 [00:00<?, ?it/s]"
      ]
     },
     "metadata": {},
     "output_type": "display_data"
    },
    {
     "name": "stdout",
     "output_type": "stream",
     "text": [
      "+--------------+-----------+\n",
      "| G3           |   phi(G3) |\n",
      "+==============+===========+\n",
      "| G3(Bom)      |    0.1711 |\n",
      "+--------------+-----------+\n",
      "| G3(Exc)      |    0.0392 |\n",
      "+--------------+-----------+\n",
      "| G3(Mau)      |    0.0827 |\n",
      "+--------------+-----------+\n",
      "| G3(Med)      |    0.1267 |\n",
      "+--------------+-----------+\n",
      "| G3(Mui)      |    0.0899 |\n",
      "+--------------+-----------+\n",
      "| G3(Mui Dist) |    0.0097 |\n",
      "+--------------+-----------+\n",
      "| G3(Suf)      |    0.4807 |\n",
      "+--------------+-----------+\n"
     ]
    }
   ],
   "source": [
    "print(infer.query([\"G3\"],evidence={\"Medu\": 1,\"Fedu\": 1})) "
   ]
  },
  {
   "cell_type": "code",
   "execution_count": 27,
   "id": "363f19a1",
   "metadata": {},
   "outputs": [],
   "source": [
    "lab5= [\"Mau (Poor)\",\"Mediocre (Poor )\", \"Suficiente (Sufficient)\",\"Bom (Good)\",\"Muito Bom (Very Good)\",\"Excelente (Excellent)\",\"Muito bom con distincao e louvor (Very good with distinction and honors)\"]\n"
   ]
  },
  {
   "cell_type": "code",
   "execution_count": 28,
   "id": "081ebb1f",
   "metadata": {},
   "outputs": [
    {
     "ename": "NetworkXError",
     "evalue": "The node Dalc is not in the digraph.",
     "output_type": "error",
     "traceback": [
      "\u001b[1;31m---------------------------------------------------------------------------\u001b[0m",
      "\u001b[1;31mKeyError\u001b[0m                                  Traceback (most recent call last)",
      "\u001b[1;32m~\\anaconda3\\lib\\site-packages\\networkx\\classes\\digraph.py\u001b[0m in \u001b[0;36mpredecessors\u001b[1;34m(self, n)\u001b[0m\n\u001b[0;32m    832\u001b[0m         \u001b[1;32mtry\u001b[0m\u001b[1;33m:\u001b[0m\u001b[1;33m\u001b[0m\u001b[1;33m\u001b[0m\u001b[0m\n\u001b[1;32m--> 833\u001b[1;33m             \u001b[1;32mreturn\u001b[0m \u001b[0miter\u001b[0m\u001b[1;33m(\u001b[0m\u001b[0mself\u001b[0m\u001b[1;33m.\u001b[0m\u001b[0m_pred\u001b[0m\u001b[1;33m[\u001b[0m\u001b[0mn\u001b[0m\u001b[1;33m]\u001b[0m\u001b[1;33m)\u001b[0m\u001b[1;33m\u001b[0m\u001b[1;33m\u001b[0m\u001b[0m\n\u001b[0m\u001b[0;32m    834\u001b[0m         \u001b[1;32mexcept\u001b[0m \u001b[0mKeyError\u001b[0m \u001b[1;32mas\u001b[0m \u001b[0me\u001b[0m\u001b[1;33m:\u001b[0m\u001b[1;33m\u001b[0m\u001b[1;33m\u001b[0m\u001b[0m\n",
      "\u001b[1;31mKeyError\u001b[0m: 'Dalc'",
      "\nThe above exception was the direct cause of the following exception:\n",
      "\u001b[1;31mNetworkXError\u001b[0m                             Traceback (most recent call last)",
      "\u001b[1;32m<ipython-input-28-3c4cea592de6>\u001b[0m in \u001b[0;36m<module>\u001b[1;34m\u001b[0m\n\u001b[1;32m----> 1\u001b[1;33m \u001b[0mprint\u001b[0m\u001b[1;33m(\u001b[0m\u001b[0minfer\u001b[0m\u001b[1;33m.\u001b[0m\u001b[0mquery\u001b[0m\u001b[1;33m(\u001b[0m\u001b[1;33m[\u001b[0m\u001b[1;34m\"Dalc\"\u001b[0m\u001b[1;33m]\u001b[0m\u001b[1;33m,\u001b[0m\u001b[0mevidence\u001b[0m\u001b[1;33m=\u001b[0m\u001b[1;33m{\u001b[0m\u001b[1;34m\"G3\"\u001b[0m\u001b[1;33m:\u001b[0m \u001b[0mlab5\u001b[0m\u001b[1;33m[\u001b[0m\u001b[1;36m6\u001b[0m\u001b[1;33m]\u001b[0m\u001b[1;33m,\u001b[0m \u001b[1;34m\"sex\"\u001b[0m\u001b[1;33m:\u001b[0m \u001b[1;34m'M'\u001b[0m\u001b[1;33m}\u001b[0m\u001b[1;33m)\u001b[0m\u001b[1;33m)\u001b[0m\u001b[1;33m\u001b[0m\u001b[1;33m\u001b[0m\u001b[0m\n\u001b[0m",
      "\u001b[1;32m~\\anaconda3\\lib\\site-packages\\pgmpy\\inference\\ExactInference.py\u001b[0m in \u001b[0;36mquery\u001b[1;34m(self, variables, evidence, virtual_evidence, elimination_order, joint, show_progress)\u001b[0m\n\u001b[0;32m    299\u001b[0m         \u001b[1;31m# Make a copy of the original model as it will be replaced during pruning.\u001b[0m\u001b[1;33m\u001b[0m\u001b[1;33m\u001b[0m\u001b[1;33m\u001b[0m\u001b[0m\n\u001b[0;32m    300\u001b[0m         \u001b[1;32mif\u001b[0m \u001b[0misinstance\u001b[0m\u001b[1;33m(\u001b[0m\u001b[0mself\u001b[0m\u001b[1;33m.\u001b[0m\u001b[0mmodel\u001b[0m\u001b[1;33m,\u001b[0m \u001b[0mBayesianNetwork\u001b[0m\u001b[1;33m)\u001b[0m\u001b[1;33m:\u001b[0m\u001b[1;33m\u001b[0m\u001b[1;33m\u001b[0m\u001b[0m\n\u001b[1;32m--> 301\u001b[1;33m             \u001b[0mself\u001b[0m\u001b[1;33m.\u001b[0m\u001b[0mmodel\u001b[0m\u001b[1;33m,\u001b[0m \u001b[0mevidence\u001b[0m \u001b[1;33m=\u001b[0m \u001b[0mself\u001b[0m\u001b[1;33m.\u001b[0m\u001b[0m_prune_bayesian_model\u001b[0m\u001b[1;33m(\u001b[0m\u001b[0mvariables\u001b[0m\u001b[1;33m,\u001b[0m \u001b[0mevidence\u001b[0m\u001b[1;33m)\u001b[0m\u001b[1;33m\u001b[0m\u001b[1;33m\u001b[0m\u001b[0m\n\u001b[0m\u001b[0;32m    302\u001b[0m         \u001b[0mself\u001b[0m\u001b[1;33m.\u001b[0m\u001b[0m_initialize_structures\u001b[0m\u001b[1;33m(\u001b[0m\u001b[1;33m)\u001b[0m\u001b[1;33m\u001b[0m\u001b[1;33m\u001b[0m\u001b[0m\n\u001b[0;32m    303\u001b[0m \u001b[1;33m\u001b[0m\u001b[0m\n",
      "\u001b[1;32m~\\anaconda3\\lib\\site-packages\\pgmpy\\inference\\base.py\u001b[0m in \u001b[0;36m_prune_bayesian_model\u001b[1;34m(self, variables, evidence)\u001b[0m\n\u001b[0;32m    149\u001b[0m         \u001b[1;31m# Step 1: Remove all the variables that are d-separated from `variables` when conditioned\u001b[0m\u001b[1;33m\u001b[0m\u001b[1;33m\u001b[0m\u001b[1;33m\u001b[0m\u001b[0m\n\u001b[0;32m    150\u001b[0m         \u001b[1;31m#         on `evidence`\u001b[0m\u001b[1;33m\u001b[0m\u001b[1;33m\u001b[0m\u001b[1;33m\u001b[0m\u001b[0m\n\u001b[1;32m--> 151\u001b[1;33m         d_connected = bn.active_trail_nodes(\n\u001b[0m\u001b[0;32m    152\u001b[0m             \u001b[0mvariables\u001b[0m\u001b[1;33m=\u001b[0m\u001b[0mvariables\u001b[0m\u001b[1;33m,\u001b[0m \u001b[0mobserved\u001b[0m\u001b[1;33m=\u001b[0m\u001b[0mlist\u001b[0m\u001b[1;33m(\u001b[0m\u001b[0mevidence\u001b[0m\u001b[1;33m.\u001b[0m\u001b[0mkeys\u001b[0m\u001b[1;33m(\u001b[0m\u001b[1;33m)\u001b[0m\u001b[1;33m)\u001b[0m\u001b[1;33m,\u001b[0m \u001b[0minclude_latents\u001b[0m\u001b[1;33m=\u001b[0m\u001b[1;32mTrue\u001b[0m\u001b[1;33m\u001b[0m\u001b[1;33m\u001b[0m\u001b[0m\n\u001b[0;32m    153\u001b[0m         )\n",
      "\u001b[1;32m~\\anaconda3\\lib\\site-packages\\pgmpy\\base\\DAG.py\u001b[0m in \u001b[0;36mactive_trail_nodes\u001b[1;34m(self, variables, observed, include_latents)\u001b[0m\n\u001b[0;32m    736\u001b[0m                     \u001b[0mtraversed_list\u001b[0m\u001b[1;33m.\u001b[0m\u001b[0madd\u001b[0m\u001b[1;33m(\u001b[0m\u001b[1;33m(\u001b[0m\u001b[0mnode\u001b[0m\u001b[1;33m,\u001b[0m \u001b[0mdirection\u001b[0m\u001b[1;33m)\u001b[0m\u001b[1;33m)\u001b[0m\u001b[1;33m\u001b[0m\u001b[1;33m\u001b[0m\u001b[0m\n\u001b[0;32m    737\u001b[0m                     \u001b[1;32mif\u001b[0m \u001b[0mdirection\u001b[0m \u001b[1;33m==\u001b[0m \u001b[1;34m\"up\"\u001b[0m \u001b[1;32mand\u001b[0m \u001b[0mnode\u001b[0m \u001b[1;32mnot\u001b[0m \u001b[1;32min\u001b[0m \u001b[0mobserved_list\u001b[0m\u001b[1;33m:\u001b[0m\u001b[1;33m\u001b[0m\u001b[1;33m\u001b[0m\u001b[0m\n\u001b[1;32m--> 738\u001b[1;33m                         \u001b[1;32mfor\u001b[0m \u001b[0mparent\u001b[0m \u001b[1;32min\u001b[0m \u001b[0mself\u001b[0m\u001b[1;33m.\u001b[0m\u001b[0mpredecessors\u001b[0m\u001b[1;33m(\u001b[0m\u001b[0mnode\u001b[0m\u001b[1;33m)\u001b[0m\u001b[1;33m:\u001b[0m\u001b[1;33m\u001b[0m\u001b[1;33m\u001b[0m\u001b[0m\n\u001b[0m\u001b[0;32m    739\u001b[0m                             \u001b[0mvisit_list\u001b[0m\u001b[1;33m.\u001b[0m\u001b[0madd\u001b[0m\u001b[1;33m(\u001b[0m\u001b[1;33m(\u001b[0m\u001b[0mparent\u001b[0m\u001b[1;33m,\u001b[0m \u001b[1;34m\"up\"\u001b[0m\u001b[1;33m)\u001b[0m\u001b[1;33m)\u001b[0m\u001b[1;33m\u001b[0m\u001b[1;33m\u001b[0m\u001b[0m\n\u001b[0;32m    740\u001b[0m                         \u001b[1;32mfor\u001b[0m \u001b[0mchild\u001b[0m \u001b[1;32min\u001b[0m \u001b[0mself\u001b[0m\u001b[1;33m.\u001b[0m\u001b[0msuccessors\u001b[0m\u001b[1;33m(\u001b[0m\u001b[0mnode\u001b[0m\u001b[1;33m)\u001b[0m\u001b[1;33m:\u001b[0m\u001b[1;33m\u001b[0m\u001b[1;33m\u001b[0m\u001b[0m\n",
      "\u001b[1;32m~\\anaconda3\\lib\\site-packages\\networkx\\classes\\digraph.py\u001b[0m in \u001b[0;36mpredecessors\u001b[1;34m(self, n)\u001b[0m\n\u001b[0;32m    833\u001b[0m             \u001b[1;32mreturn\u001b[0m \u001b[0miter\u001b[0m\u001b[1;33m(\u001b[0m\u001b[0mself\u001b[0m\u001b[1;33m.\u001b[0m\u001b[0m_pred\u001b[0m\u001b[1;33m[\u001b[0m\u001b[0mn\u001b[0m\u001b[1;33m]\u001b[0m\u001b[1;33m)\u001b[0m\u001b[1;33m\u001b[0m\u001b[1;33m\u001b[0m\u001b[0m\n\u001b[0;32m    834\u001b[0m         \u001b[1;32mexcept\u001b[0m \u001b[0mKeyError\u001b[0m \u001b[1;32mas\u001b[0m \u001b[0me\u001b[0m\u001b[1;33m:\u001b[0m\u001b[1;33m\u001b[0m\u001b[1;33m\u001b[0m\u001b[0m\n\u001b[1;32m--> 835\u001b[1;33m             \u001b[1;32mraise\u001b[0m \u001b[0mNetworkXError\u001b[0m\u001b[1;33m(\u001b[0m\u001b[1;34mf\"The node {n} is not in the digraph.\"\u001b[0m\u001b[1;33m)\u001b[0m \u001b[1;32mfrom\u001b[0m \u001b[0me\u001b[0m\u001b[1;33m\u001b[0m\u001b[1;33m\u001b[0m\u001b[0m\n\u001b[0m\u001b[0;32m    836\u001b[0m \u001b[1;33m\u001b[0m\u001b[0m\n\u001b[0;32m    837\u001b[0m     \u001b[1;33m@\u001b[0m\u001b[0mproperty\u001b[0m\u001b[1;33m\u001b[0m\u001b[1;33m\u001b[0m\u001b[0m\n",
      "\u001b[1;31mNetworkXError\u001b[0m: The node Dalc is not in the digraph."
     ]
    }
   ],
   "source": [
    "print(infer.query([\"Dalc\"],evidence={\"G3\": lab5[6], \"sex\": 'M'})) "
   ]
  },
  {
   "cell_type": "code",
   "execution_count": null,
   "id": "46de47f6",
   "metadata": {},
   "outputs": [],
   "source": [
    "print(infer.query([\"Dalc\"],evidence={\"G3\": lab5[6], \"sex\": 'F'})) "
   ]
  },
  {
   "cell_type": "markdown",
   "id": "02270093",
   "metadata": {},
   "source": [
    "is it important the family support for the student graduation?"
   ]
  },
  {
   "cell_type": "code",
   "execution_count": null,
   "id": "768d7bf5",
   "metadata": {},
   "outputs": [],
   "source": [
    "print(infer.query([\"freetime\"],evidence={\"G3\" : 'Suficiente (Sufficient)', \"failures\" : 0}))"
   ]
  },
  {
   "cell_type": "markdown",
   "id": "533878cd",
   "metadata": {},
   "source": [
    "Quanta probabilità ha uno studente nella fascia d'etaà media (18-19 anni), considerando che dedica mediamente dalle 5 alle 10 ore di studio, in ottimo stato di salute sia o meno rimandato."
   ]
  },
  {
   "cell_type": "code",
   "execution_count": null,
   "id": "6f5e3d65",
   "metadata": {},
   "outputs": [],
   "source": [
    "print(infer.query([\"failures\"],evidence={\"age\" : '18-19' , \"studytime\" : 3, \"health\" : 5}))"
   ]
  },
  {
   "cell_type": "code",
   "execution_count": null,
   "id": "6e092907",
   "metadata": {},
   "outputs": [],
   "source": [
    "print(infer.query([\"failures\"],evidence={\"age\" : '18-19' , \"studytime\" : 3, \"health\" : 5}))"
   ]
  },
  {
   "cell_type": "code",
   "execution_count": null,
   "id": "ab115a40",
   "metadata": {},
   "outputs": [],
   "source": [
    "print(\"Speriamo funzioniii\")"
   ]
  },
  {
   "cell_type": "code",
   "execution_count": null,
   "id": "60c6fcc3",
   "metadata": {},
   "outputs": [],
   "source": [
    "print(\"ci siamo quasi\")"
   ]
  },
  {
   "cell_type": "code",
   "execution_count": null,
   "id": "88f44416",
   "metadata": {},
   "outputs": [],
   "source": []
  },
  {
   "cell_type": "markdown",
   "id": "3803e2f0",
   "metadata": {},
   "source": [
    "PAPER:\n",
    "- https://degree.lamar.edu/articles/undergraduate/parents-education-level-and-childrens-success/\n",
    "- https://www.brookings.edu/blog/up-front/2021/01/12/the-unreported-gender-gap-in-high-school-graduation-rates/\n",
    "- https://hbr.org/2018/06/how-working-parents-can-manage-the-demands-of-school-age-kids\n",
    "- https://www.scholaro.com/db/Countries/Portugal/Grading-System  \n",
    "- \n",
    "- \n",
    "- "
   ]
  }
 ],
 "metadata": {
  "kernelspec": {
   "display_name": "Python 3",
   "language": "python",
   "name": "python3"
  },
  "language_info": {
   "codemirror_mode": {
    "name": "ipython",
    "version": 3
   },
   "file_extension": ".py",
   "mimetype": "text/x-python",
   "name": "python",
   "nbconvert_exporter": "python",
   "pygments_lexer": "ipython3",
   "version": "3.8.8"
  }
 },
 "nbformat": 4,
 "nbformat_minor": 5
}
